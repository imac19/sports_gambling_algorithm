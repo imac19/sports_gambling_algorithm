{
 "cells": [
  {
   "cell_type": "code",
   "execution_count": 1,
   "metadata": {},
   "outputs": [
    {
     "name": "stderr",
     "output_type": "stream",
     "text": [
      "C:\\Users\\imacd_0odruq3\\anaconda3\\lib\\site-packages\\xgboost\\compat.py:36: FutureWarning: pandas.Int64Index is deprecated and will be removed from pandas in a future version. Use pandas.Index with the appropriate dtype instead.\n",
      "  from pandas import MultiIndex, Int64Index\n"
     ]
    }
   ],
   "source": [
    "# Import packages\n",
    "\n",
    "import pandas as pd \n",
    "import numpy as np \n",
    "import os\n",
    "from bs4 import BeautifulSoup\n",
    "import time\n",
    "import requests\n",
    "import nfl_data_py as nfl\n",
    "import matplotlib.pyplot as plt\n",
    "import plotly\n",
    "import plotly.express as px\n",
    "import random\n",
    "import scipy\n",
    "\n",
    "from sklearn.model_selection import train_test_split\n",
    "from sklearn.metrics import accuracy_score\n",
    "from sklearn.metrics import mean_squared_error\n",
    "from sklearn.linear_model import LogisticRegression\n",
    "from sklearn.ensemble import RandomForestClassifier\n",
    "from sklearn.tree import DecisionTreeClassifier\n",
    "import xgboost as xgb\n",
    "\n",
    "import pickle\n",
    "from joblib import dump, load\n",
    "\n",
    "import warnings\n",
    "\n",
    "# Set certain settings for the notebook\n",
    "pd.set_option(\"display.max_columns\", None)\n",
    "\n",
    "warnings.filterwarnings(\"ignore\")"
   ]
  },
  {
   "cell_type": "code",
   "execution_count": 2,
   "metadata": {},
   "outputs": [
    {
     "data": {
      "text/plain": [
       "'C:\\\\Users\\\\imacd_0odruq3\\\\Documents\\\\sports_gambling\\\\sports_gambling_algorithm'"
      ]
     },
     "execution_count": 2,
     "metadata": {},
     "output_type": "execute_result"
    }
   ],
   "source": [
    "# Check current directory\n",
    "os.getcwd()"
   ]
  },
  {
   "cell_type": "code",
   "execution_count": 3,
   "metadata": {},
   "outputs": [],
   "source": [
    "# Read in data files\n",
    "\n",
    "betting_lines = pd.read_csv('../data/betting_data_final')\n",
    "game_spreads = pd.read_csv('../data/games_with_spread_preds.csv')"
   ]
  },
  {
   "cell_type": "code",
   "execution_count": 4,
   "metadata": {},
   "outputs": [],
   "source": [
    "# Function to get returns from over/under bets \n",
    "\n",
    "def calculate_return_using_ml(line, wager, is_win, return_includes_wager=False):\n",
    "    if return_includes_wager:\n",
    "        add_on = wager\n",
    "    else:\n",
    "        add_on = 0\n",
    "    if is_win == 'Win':\n",
    "        if line > 0:\n",
    "            return np.round(((line/100)*wager + add_on), 2)\n",
    "        else:\n",
    "            return np.round(((100/abs(line))*wager + add_on), 2)\n",
    "    elif is_win == 'Push':\n",
    "        return add_on\n",
    "    else:\n",
    "        return np.round(-wager, 2)\n",
    "\n",
    "def get_return_over_under_100(game, bet_over=True):\n",
    "    if bet_over:\n",
    "        if game['Open Over/Under Result'] == 'Over': \n",
    "            result = 'Win'\n",
    "        elif game['Open Over/Under Result'] == 'Under':\n",
    "            result = 'Loss'\n",
    "        else:\n",
    "            result = 'Push'\n",
    "            \n",
    "    if not bet_over:\n",
    "        if game['Open Over/Under Result'] == 'Over': \n",
    "            result = 'Loss'\n",
    "        elif game['Open Over/Under Result'] == 'Under':\n",
    "            result = 'Win'\n",
    "        else:\n",
    "            result = 'Push'\n",
    "    \n",
    "    \n",
    "    return calculate_return_using_ml(game['Total Score Over ML Open'], 100, is_win=result)"
   ]
  },
  {
   "cell_type": "code",
   "execution_count": 5,
   "metadata": {},
   "outputs": [
    {
     "data": {
      "text/html": [
       "<div>\n",
       "<style scoped>\n",
       "    .dataframe tbody tr th:only-of-type {\n",
       "        vertical-align: middle;\n",
       "    }\n",
       "\n",
       "    .dataframe tbody tr th {\n",
       "        vertical-align: top;\n",
       "    }\n",
       "\n",
       "    .dataframe thead th {\n",
       "        text-align: right;\n",
       "    }\n",
       "</style>\n",
       "<table border=\"1\" class=\"dataframe\">\n",
       "  <thead>\n",
       "    <tr style=\"text-align: right;\">\n",
       "      <th></th>\n",
       "      <th>Unnamed: 0_x</th>\n",
       "      <th>Date</th>\n",
       "      <th>Home Team</th>\n",
       "      <th>Away Team</th>\n",
       "      <th>Home Score</th>\n",
       "      <th>Away Score</th>\n",
       "      <th>Overtime?</th>\n",
       "      <th>Playoff Game?</th>\n",
       "      <th>Neutral Venue?</th>\n",
       "      <th>Home Line Open</th>\n",
       "      <th>Home Line Close</th>\n",
       "      <th>Away Line Open</th>\n",
       "      <th>Away Line Close</th>\n",
       "      <th>Total Score Open</th>\n",
       "      <th>Total Score Close</th>\n",
       "      <th>Home Odds ML Open</th>\n",
       "      <th>Home Odds ML Close</th>\n",
       "      <th>Away Odds ML Open</th>\n",
       "      <th>Away Odds ML Close</th>\n",
       "      <th>Home Line Odds ML Open</th>\n",
       "      <th>Home Line Odds ML Close</th>\n",
       "      <th>Away Line Odds ML Open</th>\n",
       "      <th>Away Line Odds ML Close</th>\n",
       "      <th>Total Score Over ML Open</th>\n",
       "      <th>Total Score Over ML Close</th>\n",
       "      <th>Total Score Under ML Open</th>\n",
       "      <th>Total Score Under ML Close</th>\n",
       "      <th>Total Score</th>\n",
       "      <th>Open Over/Under Result</th>\n",
       "      <th>Closing Over/Under Result</th>\n",
       "      <th>Home Score Actual Line</th>\n",
       "      <th>Away Score Actual Line</th>\n",
       "      <th>Opening Winner</th>\n",
       "      <th>Closing Winner</th>\n",
       "      <th>Opening Winner Specific</th>\n",
       "      <th>Closing Winner Specific</th>\n",
       "      <th>Winner HA</th>\n",
       "      <th>Line Open Cover</th>\n",
       "      <th>Line Close Cover</th>\n",
       "      <th>Line Open Cover HA</th>\n",
       "      <th>Line Close Cover HA</th>\n",
       "      <th>Home ML Bet Return</th>\n",
       "      <th>Away ML Bet Return</th>\n",
       "      <th>Home Spread Bet Return</th>\n",
       "      <th>Away Spread Bet Return</th>\n",
       "      <th>Favorite ML Bet Return</th>\n",
       "      <th>Underdog ML Bet Return</th>\n",
       "      <th>Favorite Spread Bet Return</th>\n",
       "      <th>Underdog Spread Bet Return</th>\n",
       "      <th>implied_prob_home_open</th>\n",
       "      <th>implied_prob_away_open</th>\n",
       "      <th>implied_prob_home_close</th>\n",
       "      <th>implied_prob_away_close</th>\n",
       "      <th>total_implied_prob_open</th>\n",
       "      <th>total_implied_prob_close</th>\n",
       "      <th>week</th>\n",
       "      <th>season</th>\n",
       "      <th>Unnamed: 0_y</th>\n",
       "      <th>home_x</th>\n",
       "      <th>away_x</th>\n",
       "      <th>home_score</th>\n",
       "      <th>away_score</th>\n",
       "      <th>total_score</th>\n",
       "      <th>winner</th>\n",
       "      <th>home_win</th>\n",
       "      <th>home_score_pred</th>\n",
       "      <th>away_score_pred</th>\n",
       "      <th>total_score_pred</th>\n",
       "      <th>home_spread_algo</th>\n",
       "      <th>away_spread_algo</th>\n",
       "      <th>home_spread_elo</th>\n",
       "      <th>away_spread_elo</th>\n",
       "      <th>over_bet_return</th>\n",
       "      <th>under_bet_return</th>\n",
       "      <th>home_line_diff_algo</th>\n",
       "      <th>away_line_diff_algo</th>\n",
       "      <th>home_line_diff_elo</th>\n",
       "      <th>away_line_diff_elo</th>\n",
       "      <th>total_score_diff_algo</th>\n",
       "    </tr>\n",
       "  </thead>\n",
       "  <tbody>\n",
       "    <tr>\n",
       "      <th>0</th>\n",
       "      <td>0</td>\n",
       "      <td>2022-01-17</td>\n",
       "      <td>Los Angeles Rams</td>\n",
       "      <td>Arizona Cardinals</td>\n",
       "      <td>34</td>\n",
       "      <td>11</td>\n",
       "      <td>False</td>\n",
       "      <td>True</td>\n",
       "      <td>False</td>\n",
       "      <td>-4.5</td>\n",
       "      <td>-3.5</td>\n",
       "      <td>4.5</td>\n",
       "      <td>3.5</td>\n",
       "      <td>50.5</td>\n",
       "      <td>49.0</td>\n",
       "      <td>-200.0</td>\n",
       "      <td>-172.0</td>\n",
       "      <td>170.0</td>\n",
       "      <td>150.0</td>\n",
       "      <td>-111.0</td>\n",
       "      <td>100.0</td>\n",
       "      <td>-111.0</td>\n",
       "      <td>-120.0</td>\n",
       "      <td>-111.0</td>\n",
       "      <td>-111.0</td>\n",
       "      <td>-111.0</td>\n",
       "      <td>-111.0</td>\n",
       "      <td>45</td>\n",
       "      <td>Under</td>\n",
       "      <td>Under</td>\n",
       "      <td>-23</td>\n",
       "      <td>23</td>\n",
       "      <td>Favorite</td>\n",
       "      <td>Favorite</td>\n",
       "      <td>Home Favorite</td>\n",
       "      <td>Home Favorite</td>\n",
       "      <td>Home</td>\n",
       "      <td>Favorite</td>\n",
       "      <td>Favorite</td>\n",
       "      <td>Home</td>\n",
       "      <td>Home</td>\n",
       "      <td>50.00</td>\n",
       "      <td>-100.00</td>\n",
       "      <td>90.09</td>\n",
       "      <td>-100.00</td>\n",
       "      <td>50.00</td>\n",
       "      <td>-100.0</td>\n",
       "      <td>90.09</td>\n",
       "      <td>-100.00</td>\n",
       "      <td>0.666667</td>\n",
       "      <td>0.370370</td>\n",
       "      <td>0.632353</td>\n",
       "      <td>0.400000</td>\n",
       "      <td>1.037037</td>\n",
       "      <td>1.032353</td>\n",
       "      <td>19</td>\n",
       "      <td>2021</td>\n",
       "      <td>0</td>\n",
       "      <td>Los Angeles Rams</td>\n",
       "      <td>Arizona Cardinals</td>\n",
       "      <td>34</td>\n",
       "      <td>11</td>\n",
       "      <td>45</td>\n",
       "      <td>Home</td>\n",
       "      <td>1</td>\n",
       "      <td>25.336177</td>\n",
       "      <td>22.903473</td>\n",
       "      <td>48.668136</td>\n",
       "      <td>-2.432703</td>\n",
       "      <td>2.432703</td>\n",
       "      <td>-3.300755</td>\n",
       "      <td>3.300755</td>\n",
       "      <td>-100.00</td>\n",
       "      <td>90.09</td>\n",
       "      <td>-2.067297</td>\n",
       "      <td>2.067297</td>\n",
       "      <td>-1.199245</td>\n",
       "      <td>1.199245</td>\n",
       "      <td>-1.831864</td>\n",
       "    </tr>\n",
       "    <tr>\n",
       "      <th>1</th>\n",
       "      <td>1</td>\n",
       "      <td>2022-01-16</td>\n",
       "      <td>Kansas City Chiefs</td>\n",
       "      <td>Pittsburgh Steelers</td>\n",
       "      <td>42</td>\n",
       "      <td>21</td>\n",
       "      <td>False</td>\n",
       "      <td>True</td>\n",
       "      <td>False</td>\n",
       "      <td>-13.5</td>\n",
       "      <td>-12.5</td>\n",
       "      <td>13.5</td>\n",
       "      <td>12.5</td>\n",
       "      <td>46.5</td>\n",
       "      <td>47.0</td>\n",
       "      <td>-714.0</td>\n",
       "      <td>-833.0</td>\n",
       "      <td>500.0</td>\n",
       "      <td>550.0</td>\n",
       "      <td>-111.0</td>\n",
       "      <td>-111.0</td>\n",
       "      <td>-111.0</td>\n",
       "      <td>-111.0</td>\n",
       "      <td>-111.0</td>\n",
       "      <td>-111.0</td>\n",
       "      <td>-111.0</td>\n",
       "      <td>-111.0</td>\n",
       "      <td>63</td>\n",
       "      <td>Over</td>\n",
       "      <td>Over</td>\n",
       "      <td>-21</td>\n",
       "      <td>21</td>\n",
       "      <td>Favorite</td>\n",
       "      <td>Favorite</td>\n",
       "      <td>Home Favorite</td>\n",
       "      <td>Home Favorite</td>\n",
       "      <td>Home</td>\n",
       "      <td>Favorite</td>\n",
       "      <td>Favorite</td>\n",
       "      <td>Home</td>\n",
       "      <td>Home</td>\n",
       "      <td>14.01</td>\n",
       "      <td>-100.00</td>\n",
       "      <td>90.09</td>\n",
       "      <td>-100.00</td>\n",
       "      <td>14.01</td>\n",
       "      <td>-100.0</td>\n",
       "      <td>90.09</td>\n",
       "      <td>-100.00</td>\n",
       "      <td>0.877150</td>\n",
       "      <td>0.166667</td>\n",
       "      <td>0.892819</td>\n",
       "      <td>0.153846</td>\n",
       "      <td>1.043817</td>\n",
       "      <td>1.046665</td>\n",
       "      <td>19</td>\n",
       "      <td>2021</td>\n",
       "      <td>1</td>\n",
       "      <td>Kansas City Chiefs</td>\n",
       "      <td>Pittsburgh Steelers</td>\n",
       "      <td>42</td>\n",
       "      <td>21</td>\n",
       "      <td>63</td>\n",
       "      <td>Home</td>\n",
       "      <td>1</td>\n",
       "      <td>29.034506</td>\n",
       "      <td>20.149831</td>\n",
       "      <td>49.473663</td>\n",
       "      <td>-8.884675</td>\n",
       "      <td>8.884675</td>\n",
       "      <td>-6.687744</td>\n",
       "      <td>6.687744</td>\n",
       "      <td>90.09</td>\n",
       "      <td>-100.00</td>\n",
       "      <td>-4.615325</td>\n",
       "      <td>4.615325</td>\n",
       "      <td>-6.812256</td>\n",
       "      <td>6.812256</td>\n",
       "      <td>2.973663</td>\n",
       "    </tr>\n",
       "    <tr>\n",
       "      <th>2</th>\n",
       "      <td>2</td>\n",
       "      <td>2022-01-16</td>\n",
       "      <td>Dallas Cowboys</td>\n",
       "      <td>San Francisco 49ers</td>\n",
       "      <td>17</td>\n",
       "      <td>23</td>\n",
       "      <td>False</td>\n",
       "      <td>True</td>\n",
       "      <td>False</td>\n",
       "      <td>-3.0</td>\n",
       "      <td>-3.5</td>\n",
       "      <td>3.0</td>\n",
       "      <td>3.5</td>\n",
       "      <td>50.5</td>\n",
       "      <td>51.0</td>\n",
       "      <td>-161.0</td>\n",
       "      <td>-185.0</td>\n",
       "      <td>140.0</td>\n",
       "      <td>165.0</td>\n",
       "      <td>-111.0</td>\n",
       "      <td>-111.0</td>\n",
       "      <td>-111.0</td>\n",
       "      <td>-111.0</td>\n",
       "      <td>-111.0</td>\n",
       "      <td>-111.0</td>\n",
       "      <td>-111.0</td>\n",
       "      <td>-111.0</td>\n",
       "      <td>40</td>\n",
       "      <td>Under</td>\n",
       "      <td>Under</td>\n",
       "      <td>6</td>\n",
       "      <td>-6</td>\n",
       "      <td>Underdog</td>\n",
       "      <td>Underdog</td>\n",
       "      <td>Away Underdog</td>\n",
       "      <td>Away Underdog</td>\n",
       "      <td>Away</td>\n",
       "      <td>Underdog</td>\n",
       "      <td>Underdog</td>\n",
       "      <td>Away</td>\n",
       "      <td>Away</td>\n",
       "      <td>-100.00</td>\n",
       "      <td>140.00</td>\n",
       "      <td>-100.00</td>\n",
       "      <td>90.09</td>\n",
       "      <td>-100.00</td>\n",
       "      <td>140.0</td>\n",
       "      <td>-100.00</td>\n",
       "      <td>90.09</td>\n",
       "      <td>0.616858</td>\n",
       "      <td>0.416667</td>\n",
       "      <td>0.649123</td>\n",
       "      <td>0.377358</td>\n",
       "      <td>1.033525</td>\n",
       "      <td>1.026481</td>\n",
       "      <td>19</td>\n",
       "      <td>2021</td>\n",
       "      <td>2</td>\n",
       "      <td>Dallas Cowboys</td>\n",
       "      <td>San Francisco 49ers</td>\n",
       "      <td>17</td>\n",
       "      <td>23</td>\n",
       "      <td>40</td>\n",
       "      <td>Away</td>\n",
       "      <td>0</td>\n",
       "      <td>29.204910</td>\n",
       "      <td>20.528647</td>\n",
       "      <td>49.783347</td>\n",
       "      <td>-8.676262</td>\n",
       "      <td>8.676262</td>\n",
       "      <td>-1.883657</td>\n",
       "      <td>1.883657</td>\n",
       "      <td>-100.00</td>\n",
       "      <td>90.09</td>\n",
       "      <td>5.676262</td>\n",
       "      <td>-5.676262</td>\n",
       "      <td>-1.116343</td>\n",
       "      <td>1.116343</td>\n",
       "      <td>-0.716653</td>\n",
       "    </tr>\n",
       "    <tr>\n",
       "      <th>3</th>\n",
       "      <td>3</td>\n",
       "      <td>2022-01-16</td>\n",
       "      <td>Tampa Bay Buccaneers</td>\n",
       "      <td>Philadelphia Eagles</td>\n",
       "      <td>31</td>\n",
       "      <td>15</td>\n",
       "      <td>False</td>\n",
       "      <td>True</td>\n",
       "      <td>False</td>\n",
       "      <td>-8.5</td>\n",
       "      <td>-7.0</td>\n",
       "      <td>8.5</td>\n",
       "      <td>7.0</td>\n",
       "      <td>49.0</td>\n",
       "      <td>47.0</td>\n",
       "      <td>-400.0</td>\n",
       "      <td>-370.0</td>\n",
       "      <td>320.0</td>\n",
       "      <td>280.0</td>\n",
       "      <td>-111.0</td>\n",
       "      <td>-116.0</td>\n",
       "      <td>-111.0</td>\n",
       "      <td>-105.0</td>\n",
       "      <td>-111.0</td>\n",
       "      <td>-111.0</td>\n",
       "      <td>-111.0</td>\n",
       "      <td>-111.0</td>\n",
       "      <td>46</td>\n",
       "      <td>Under</td>\n",
       "      <td>Under</td>\n",
       "      <td>-16</td>\n",
       "      <td>16</td>\n",
       "      <td>Favorite</td>\n",
       "      <td>Favorite</td>\n",
       "      <td>Home Favorite</td>\n",
       "      <td>Home Favorite</td>\n",
       "      <td>Home</td>\n",
       "      <td>Favorite</td>\n",
       "      <td>Favorite</td>\n",
       "      <td>Home</td>\n",
       "      <td>Home</td>\n",
       "      <td>25.00</td>\n",
       "      <td>-100.00</td>\n",
       "      <td>90.09</td>\n",
       "      <td>-100.00</td>\n",
       "      <td>25.00</td>\n",
       "      <td>-100.0</td>\n",
       "      <td>90.09</td>\n",
       "      <td>-100.00</td>\n",
       "      <td>0.800000</td>\n",
       "      <td>0.238095</td>\n",
       "      <td>0.787234</td>\n",
       "      <td>0.263158</td>\n",
       "      <td>1.038095</td>\n",
       "      <td>1.050392</td>\n",
       "      <td>19</td>\n",
       "      <td>2021</td>\n",
       "      <td>3</td>\n",
       "      <td>Tampa Bay Buccaneers</td>\n",
       "      <td>Philadelphia Eagles</td>\n",
       "      <td>31</td>\n",
       "      <td>15</td>\n",
       "      <td>46</td>\n",
       "      <td>Home</td>\n",
       "      <td>1</td>\n",
       "      <td>24.252277</td>\n",
       "      <td>21.560780</td>\n",
       "      <td>46.149105</td>\n",
       "      <td>-2.691497</td>\n",
       "      <td>2.691497</td>\n",
       "      <td>-5.634525</td>\n",
       "      <td>5.634525</td>\n",
       "      <td>-100.00</td>\n",
       "      <td>90.09</td>\n",
       "      <td>-5.808503</td>\n",
       "      <td>5.808503</td>\n",
       "      <td>-2.865475</td>\n",
       "      <td>2.865475</td>\n",
       "      <td>-2.850895</td>\n",
       "    </tr>\n",
       "    <tr>\n",
       "      <th>4</th>\n",
       "      <td>4</td>\n",
       "      <td>2022-01-15</td>\n",
       "      <td>Buffalo Bills</td>\n",
       "      <td>New England Patriots</td>\n",
       "      <td>47</td>\n",
       "      <td>17</td>\n",
       "      <td>False</td>\n",
       "      <td>True</td>\n",
       "      <td>False</td>\n",
       "      <td>-4.5</td>\n",
       "      <td>-4.5</td>\n",
       "      <td>4.5</td>\n",
       "      <td>4.5</td>\n",
       "      <td>43.5</td>\n",
       "      <td>43.0</td>\n",
       "      <td>-213.0</td>\n",
       "      <td>-222.0</td>\n",
       "      <td>175.0</td>\n",
       "      <td>180.0</td>\n",
       "      <td>-111.0</td>\n",
       "      <td>-111.0</td>\n",
       "      <td>-111.0</td>\n",
       "      <td>-111.0</td>\n",
       "      <td>-111.0</td>\n",
       "      <td>-111.0</td>\n",
       "      <td>-111.0</td>\n",
       "      <td>-111.0</td>\n",
       "      <td>64</td>\n",
       "      <td>Over</td>\n",
       "      <td>Over</td>\n",
       "      <td>-30</td>\n",
       "      <td>30</td>\n",
       "      <td>Favorite</td>\n",
       "      <td>Favorite</td>\n",
       "      <td>Home Favorite</td>\n",
       "      <td>Home Favorite</td>\n",
       "      <td>Home</td>\n",
       "      <td>Favorite</td>\n",
       "      <td>Favorite</td>\n",
       "      <td>Home</td>\n",
       "      <td>Home</td>\n",
       "      <td>46.95</td>\n",
       "      <td>-100.00</td>\n",
       "      <td>90.09</td>\n",
       "      <td>-100.00</td>\n",
       "      <td>46.95</td>\n",
       "      <td>-100.0</td>\n",
       "      <td>90.09</td>\n",
       "      <td>-100.00</td>\n",
       "      <td>0.680511</td>\n",
       "      <td>0.363636</td>\n",
       "      <td>0.689441</td>\n",
       "      <td>0.357143</td>\n",
       "      <td>1.044148</td>\n",
       "      <td>1.046584</td>\n",
       "      <td>19</td>\n",
       "      <td>2021</td>\n",
       "      <td>4</td>\n",
       "      <td>Buffalo Bills</td>\n",
       "      <td>New England Patriots</td>\n",
       "      <td>47</td>\n",
       "      <td>17</td>\n",
       "      <td>64</td>\n",
       "      <td>Home</td>\n",
       "      <td>1</td>\n",
       "      <td>27.971527</td>\n",
       "      <td>18.806254</td>\n",
       "      <td>46.979024</td>\n",
       "      <td>-9.165272</td>\n",
       "      <td>9.165272</td>\n",
       "      <td>-2.775093</td>\n",
       "      <td>2.775093</td>\n",
       "      <td>90.09</td>\n",
       "      <td>-100.00</td>\n",
       "      <td>4.665272</td>\n",
       "      <td>-4.665272</td>\n",
       "      <td>-1.724907</td>\n",
       "      <td>1.724907</td>\n",
       "      <td>3.479024</td>\n",
       "    </tr>\n",
       "    <tr>\n",
       "      <th>...</th>\n",
       "      <td>...</td>\n",
       "      <td>...</td>\n",
       "      <td>...</td>\n",
       "      <td>...</td>\n",
       "      <td>...</td>\n",
       "      <td>...</td>\n",
       "      <td>...</td>\n",
       "      <td>...</td>\n",
       "      <td>...</td>\n",
       "      <td>...</td>\n",
       "      <td>...</td>\n",
       "      <td>...</td>\n",
       "      <td>...</td>\n",
       "      <td>...</td>\n",
       "      <td>...</td>\n",
       "      <td>...</td>\n",
       "      <td>...</td>\n",
       "      <td>...</td>\n",
       "      <td>...</td>\n",
       "      <td>...</td>\n",
       "      <td>...</td>\n",
       "      <td>...</td>\n",
       "      <td>...</td>\n",
       "      <td>...</td>\n",
       "      <td>...</td>\n",
       "      <td>...</td>\n",
       "      <td>...</td>\n",
       "      <td>...</td>\n",
       "      <td>...</td>\n",
       "      <td>...</td>\n",
       "      <td>...</td>\n",
       "      <td>...</td>\n",
       "      <td>...</td>\n",
       "      <td>...</td>\n",
       "      <td>...</td>\n",
       "      <td>...</td>\n",
       "      <td>...</td>\n",
       "      <td>...</td>\n",
       "      <td>...</td>\n",
       "      <td>...</td>\n",
       "      <td>...</td>\n",
       "      <td>...</td>\n",
       "      <td>...</td>\n",
       "      <td>...</td>\n",
       "      <td>...</td>\n",
       "      <td>...</td>\n",
       "      <td>...</td>\n",
       "      <td>...</td>\n",
       "      <td>...</td>\n",
       "      <td>...</td>\n",
       "      <td>...</td>\n",
       "      <td>...</td>\n",
       "      <td>...</td>\n",
       "      <td>...</td>\n",
       "      <td>...</td>\n",
       "      <td>...</td>\n",
       "      <td>...</td>\n",
       "      <td>...</td>\n",
       "      <td>...</td>\n",
       "      <td>...</td>\n",
       "      <td>...</td>\n",
       "      <td>...</td>\n",
       "      <td>...</td>\n",
       "      <td>...</td>\n",
       "      <td>...</td>\n",
       "      <td>...</td>\n",
       "      <td>...</td>\n",
       "      <td>...</td>\n",
       "      <td>...</td>\n",
       "      <td>...</td>\n",
       "      <td>...</td>\n",
       "      <td>...</td>\n",
       "      <td>...</td>\n",
       "      <td>...</td>\n",
       "      <td>...</td>\n",
       "      <td>...</td>\n",
       "      <td>...</td>\n",
       "      <td>...</td>\n",
       "      <td>...</td>\n",
       "    </tr>\n",
       "    <tr>\n",
       "      <th>259</th>\n",
       "      <td>271</td>\n",
       "      <td>2021-09-12</td>\n",
       "      <td>Detroit Lions</td>\n",
       "      <td>San Francisco 49ers</td>\n",
       "      <td>33</td>\n",
       "      <td>41</td>\n",
       "      <td>False</td>\n",
       "      <td>False</td>\n",
       "      <td>False</td>\n",
       "      <td>7.5</td>\n",
       "      <td>7.5</td>\n",
       "      <td>-7.5</td>\n",
       "      <td>-7.5</td>\n",
       "      <td>46.0</td>\n",
       "      <td>46.0</td>\n",
       "      <td>325.0</td>\n",
       "      <td>290.0</td>\n",
       "      <td>-435.0</td>\n",
       "      <td>-370.0</td>\n",
       "      <td>-111.0</td>\n",
       "      <td>-116.0</td>\n",
       "      <td>-111.0</td>\n",
       "      <td>-105.0</td>\n",
       "      <td>-111.0</td>\n",
       "      <td>-111.0</td>\n",
       "      <td>-111.0</td>\n",
       "      <td>-111.0</td>\n",
       "      <td>74</td>\n",
       "      <td>Over</td>\n",
       "      <td>Over</td>\n",
       "      <td>8</td>\n",
       "      <td>-8</td>\n",
       "      <td>Favorite</td>\n",
       "      <td>Favorite</td>\n",
       "      <td>Away Favorite</td>\n",
       "      <td>Away Favorite</td>\n",
       "      <td>Away</td>\n",
       "      <td>Favorite</td>\n",
       "      <td>Favorite</td>\n",
       "      <td>Away</td>\n",
       "      <td>Away</td>\n",
       "      <td>-100.00</td>\n",
       "      <td>22.99</td>\n",
       "      <td>-100.00</td>\n",
       "      <td>90.09</td>\n",
       "      <td>22.99</td>\n",
       "      <td>-100.0</td>\n",
       "      <td>90.09</td>\n",
       "      <td>-100.00</td>\n",
       "      <td>0.235294</td>\n",
       "      <td>0.813084</td>\n",
       "      <td>0.256410</td>\n",
       "      <td>0.787234</td>\n",
       "      <td>1.048378</td>\n",
       "      <td>1.043644</td>\n",
       "      <td>1</td>\n",
       "      <td>2021</td>\n",
       "      <td>259</td>\n",
       "      <td>Detroit Lions</td>\n",
       "      <td>San Francisco 49ers</td>\n",
       "      <td>33</td>\n",
       "      <td>41</td>\n",
       "      <td>74</td>\n",
       "      <td>Away</td>\n",
       "      <td>0</td>\n",
       "      <td>22.345221</td>\n",
       "      <td>24.252518</td>\n",
       "      <td>47.006921</td>\n",
       "      <td>1.907297</td>\n",
       "      <td>-1.907297</td>\n",
       "      <td>7.140008</td>\n",
       "      <td>-7.140008</td>\n",
       "      <td>90.09</td>\n",
       "      <td>-100.00</td>\n",
       "      <td>5.592703</td>\n",
       "      <td>-5.592703</td>\n",
       "      <td>0.359992</td>\n",
       "      <td>-0.359992</td>\n",
       "      <td>1.006921</td>\n",
       "    </tr>\n",
       "    <tr>\n",
       "      <th>260</th>\n",
       "      <td>273</td>\n",
       "      <td>2021-09-12</td>\n",
       "      <td>Indianapolis Colts</td>\n",
       "      <td>Seattle Seahawks</td>\n",
       "      <td>16</td>\n",
       "      <td>28</td>\n",
       "      <td>False</td>\n",
       "      <td>False</td>\n",
       "      <td>False</td>\n",
       "      <td>-3.0</td>\n",
       "      <td>2.5</td>\n",
       "      <td>3.0</td>\n",
       "      <td>-2.5</td>\n",
       "      <td>52.0</td>\n",
       "      <td>48.5</td>\n",
       "      <td>-147.0</td>\n",
       "      <td>130.0</td>\n",
       "      <td>125.0</td>\n",
       "      <td>-152.0</td>\n",
       "      <td>105.0</td>\n",
       "      <td>100.0</td>\n",
       "      <td>-125.0</td>\n",
       "      <td>-120.0</td>\n",
       "      <td>-111.0</td>\n",
       "      <td>-111.0</td>\n",
       "      <td>-111.0</td>\n",
       "      <td>-111.0</td>\n",
       "      <td>44</td>\n",
       "      <td>Under</td>\n",
       "      <td>Under</td>\n",
       "      <td>12</td>\n",
       "      <td>-12</td>\n",
       "      <td>Underdog</td>\n",
       "      <td>Favorite</td>\n",
       "      <td>Away Underdog</td>\n",
       "      <td>Away Favorite</td>\n",
       "      <td>Away</td>\n",
       "      <td>Underdog</td>\n",
       "      <td>Favorite</td>\n",
       "      <td>Away</td>\n",
       "      <td>Away</td>\n",
       "      <td>-100.00</td>\n",
       "      <td>125.00</td>\n",
       "      <td>-100.00</td>\n",
       "      <td>80.00</td>\n",
       "      <td>-100.00</td>\n",
       "      <td>125.0</td>\n",
       "      <td>-100.00</td>\n",
       "      <td>80.00</td>\n",
       "      <td>0.595142</td>\n",
       "      <td>0.444444</td>\n",
       "      <td>0.434783</td>\n",
       "      <td>0.603175</td>\n",
       "      <td>1.039586</td>\n",
       "      <td>1.037957</td>\n",
       "      <td>1</td>\n",
       "      <td>2021</td>\n",
       "      <td>260</td>\n",
       "      <td>Indianapolis Colts</td>\n",
       "      <td>Seattle Seahawks</td>\n",
       "      <td>16</td>\n",
       "      <td>28</td>\n",
       "      <td>44</td>\n",
       "      <td>Away</td>\n",
       "      <td>0</td>\n",
       "      <td>15.851038</td>\n",
       "      <td>22.663891</td>\n",
       "      <td>38.963053</td>\n",
       "      <td>6.812853</td>\n",
       "      <td>-6.812853</td>\n",
       "      <td>1.023249</td>\n",
       "      <td>-1.023249</td>\n",
       "      <td>-100.00</td>\n",
       "      <td>90.09</td>\n",
       "      <td>-9.812853</td>\n",
       "      <td>9.812853</td>\n",
       "      <td>-4.023249</td>\n",
       "      <td>4.023249</td>\n",
       "      <td>-13.036947</td>\n",
       "    </tr>\n",
       "    <tr>\n",
       "      <th>261</th>\n",
       "      <td>274</td>\n",
       "      <td>2021-09-12</td>\n",
       "      <td>Tennessee Titans</td>\n",
       "      <td>Arizona Cardinals</td>\n",
       "      <td>13</td>\n",
       "      <td>38</td>\n",
       "      <td>False</td>\n",
       "      <td>False</td>\n",
       "      <td>False</td>\n",
       "      <td>-3.0</td>\n",
       "      <td>-3.0</td>\n",
       "      <td>3.0</td>\n",
       "      <td>3.0</td>\n",
       "      <td>51.0</td>\n",
       "      <td>51.5</td>\n",
       "      <td>-141.0</td>\n",
       "      <td>-156.0</td>\n",
       "      <td>120.0</td>\n",
       "      <td>135.0</td>\n",
       "      <td>100.0</td>\n",
       "      <td>-105.0</td>\n",
       "      <td>-120.0</td>\n",
       "      <td>-116.0</td>\n",
       "      <td>-111.0</td>\n",
       "      <td>-111.0</td>\n",
       "      <td>-111.0</td>\n",
       "      <td>-111.0</td>\n",
       "      <td>51</td>\n",
       "      <td>Push</td>\n",
       "      <td>Under</td>\n",
       "      <td>25</td>\n",
       "      <td>-25</td>\n",
       "      <td>Underdog</td>\n",
       "      <td>Underdog</td>\n",
       "      <td>Away Underdog</td>\n",
       "      <td>Away Underdog</td>\n",
       "      <td>Away</td>\n",
       "      <td>Underdog</td>\n",
       "      <td>Underdog</td>\n",
       "      <td>Away</td>\n",
       "      <td>Away</td>\n",
       "      <td>-100.00</td>\n",
       "      <td>120.00</td>\n",
       "      <td>-100.00</td>\n",
       "      <td>83.33</td>\n",
       "      <td>-100.00</td>\n",
       "      <td>120.0</td>\n",
       "      <td>-100.00</td>\n",
       "      <td>83.33</td>\n",
       "      <td>0.585062</td>\n",
       "      <td>0.454545</td>\n",
       "      <td>0.609375</td>\n",
       "      <td>0.425532</td>\n",
       "      <td>1.039608</td>\n",
       "      <td>1.034907</td>\n",
       "      <td>1</td>\n",
       "      <td>2021</td>\n",
       "      <td>261</td>\n",
       "      <td>Tennessee Titans</td>\n",
       "      <td>Arizona Cardinals</td>\n",
       "      <td>13</td>\n",
       "      <td>38</td>\n",
       "      <td>51</td>\n",
       "      <td>Away</td>\n",
       "      <td>0</td>\n",
       "      <td>23.469574</td>\n",
       "      <td>24.807407</td>\n",
       "      <td>47.488239</td>\n",
       "      <td>1.337834</td>\n",
       "      <td>-1.337834</td>\n",
       "      <td>-2.062961</td>\n",
       "      <td>2.062961</td>\n",
       "      <td>0.00</td>\n",
       "      <td>0.00</td>\n",
       "      <td>-4.337834</td>\n",
       "      <td>4.337834</td>\n",
       "      <td>-0.937039</td>\n",
       "      <td>0.937039</td>\n",
       "      <td>-3.511761</td>\n",
       "    </tr>\n",
       "    <tr>\n",
       "      <th>262</th>\n",
       "      <td>275</td>\n",
       "      <td>2021-09-12</td>\n",
       "      <td>Washington Football Team</td>\n",
       "      <td>Los Angeles Chargers</td>\n",
       "      <td>16</td>\n",
       "      <td>20</td>\n",
       "      <td>False</td>\n",
       "      <td>False</td>\n",
       "      <td>False</td>\n",
       "      <td>1.0</td>\n",
       "      <td>1.0</td>\n",
       "      <td>-1.0</td>\n",
       "      <td>-1.0</td>\n",
       "      <td>44.5</td>\n",
       "      <td>44.5</td>\n",
       "      <td>105.0</td>\n",
       "      <td>100.0</td>\n",
       "      <td>-125.0</td>\n",
       "      <td>-120.0</td>\n",
       "      <td>-111.0</td>\n",
       "      <td>-111.0</td>\n",
       "      <td>-111.0</td>\n",
       "      <td>-111.0</td>\n",
       "      <td>-111.0</td>\n",
       "      <td>-111.0</td>\n",
       "      <td>-111.0</td>\n",
       "      <td>-111.0</td>\n",
       "      <td>36</td>\n",
       "      <td>Under</td>\n",
       "      <td>Under</td>\n",
       "      <td>4</td>\n",
       "      <td>-4</td>\n",
       "      <td>Favorite</td>\n",
       "      <td>Favorite</td>\n",
       "      <td>Away Favorite</td>\n",
       "      <td>Away Favorite</td>\n",
       "      <td>Away</td>\n",
       "      <td>Favorite</td>\n",
       "      <td>Favorite</td>\n",
       "      <td>Away</td>\n",
       "      <td>Away</td>\n",
       "      <td>-100.00</td>\n",
       "      <td>80.00</td>\n",
       "      <td>-100.00</td>\n",
       "      <td>90.09</td>\n",
       "      <td>80.00</td>\n",
       "      <td>-100.0</td>\n",
       "      <td>90.09</td>\n",
       "      <td>-100.00</td>\n",
       "      <td>0.487805</td>\n",
       "      <td>0.555556</td>\n",
       "      <td>0.500000</td>\n",
       "      <td>0.545455</td>\n",
       "      <td>1.043360</td>\n",
       "      <td>1.045455</td>\n",
       "      <td>1</td>\n",
       "      <td>2021</td>\n",
       "      <td>262</td>\n",
       "      <td>Washington Football Team</td>\n",
       "      <td>Los Angeles Chargers</td>\n",
       "      <td>16</td>\n",
       "      <td>20</td>\n",
       "      <td>36</td>\n",
       "      <td>Away</td>\n",
       "      <td>0</td>\n",
       "      <td>27.242985</td>\n",
       "      <td>20.840780</td>\n",
       "      <td>48.333764</td>\n",
       "      <td>-6.402205</td>\n",
       "      <td>6.402205</td>\n",
       "      <td>1.124565</td>\n",
       "      <td>-1.124565</td>\n",
       "      <td>-100.00</td>\n",
       "      <td>90.09</td>\n",
       "      <td>7.402205</td>\n",
       "      <td>-7.402205</td>\n",
       "      <td>-0.124565</td>\n",
       "      <td>0.124565</td>\n",
       "      <td>3.833764</td>\n",
       "    </tr>\n",
       "    <tr>\n",
       "      <th>263</th>\n",
       "      <td>276</td>\n",
       "      <td>2021-09-09</td>\n",
       "      <td>Tampa Bay Buccaneers</td>\n",
       "      <td>Dallas Cowboys</td>\n",
       "      <td>31</td>\n",
       "      <td>29</td>\n",
       "      <td>False</td>\n",
       "      <td>False</td>\n",
       "      <td>False</td>\n",
       "      <td>-6.5</td>\n",
       "      <td>-7.5</td>\n",
       "      <td>6.5</td>\n",
       "      <td>7.5</td>\n",
       "      <td>51.5</td>\n",
       "      <td>51.5</td>\n",
       "      <td>-270.0</td>\n",
       "      <td>-357.0</td>\n",
       "      <td>220.0</td>\n",
       "      <td>275.0</td>\n",
       "      <td>-111.0</td>\n",
       "      <td>-111.0</td>\n",
       "      <td>-111.0</td>\n",
       "      <td>-111.0</td>\n",
       "      <td>-111.0</td>\n",
       "      <td>-111.0</td>\n",
       "      <td>-111.0</td>\n",
       "      <td>-111.0</td>\n",
       "      <td>60</td>\n",
       "      <td>Over</td>\n",
       "      <td>Over</td>\n",
       "      <td>-2</td>\n",
       "      <td>2</td>\n",
       "      <td>Favorite</td>\n",
       "      <td>Favorite</td>\n",
       "      <td>Home Favorite</td>\n",
       "      <td>Home Favorite</td>\n",
       "      <td>Home</td>\n",
       "      <td>Underdog</td>\n",
       "      <td>Underdog</td>\n",
       "      <td>Away</td>\n",
       "      <td>Away</td>\n",
       "      <td>37.04</td>\n",
       "      <td>-100.00</td>\n",
       "      <td>-100.00</td>\n",
       "      <td>90.09</td>\n",
       "      <td>37.04</td>\n",
       "      <td>-100.0</td>\n",
       "      <td>-100.00</td>\n",
       "      <td>90.09</td>\n",
       "      <td>0.729730</td>\n",
       "      <td>0.312500</td>\n",
       "      <td>0.781182</td>\n",
       "      <td>0.266667</td>\n",
       "      <td>1.042230</td>\n",
       "      <td>1.047848</td>\n",
       "      <td>1</td>\n",
       "      <td>2021</td>\n",
       "      <td>263</td>\n",
       "      <td>Tampa Bay Buccaneers</td>\n",
       "      <td>Dallas Cowboys</td>\n",
       "      <td>31</td>\n",
       "      <td>29</td>\n",
       "      <td>60</td>\n",
       "      <td>Home</td>\n",
       "      <td>1</td>\n",
       "      <td>27.038755</td>\n",
       "      <td>26.055734</td>\n",
       "      <td>52.943710</td>\n",
       "      <td>-0.983021</td>\n",
       "      <td>0.983021</td>\n",
       "      <td>-5.152917</td>\n",
       "      <td>5.152917</td>\n",
       "      <td>90.09</td>\n",
       "      <td>-100.00</td>\n",
       "      <td>-5.516979</td>\n",
       "      <td>5.516979</td>\n",
       "      <td>-1.347083</td>\n",
       "      <td>1.347083</td>\n",
       "      <td>1.443710</td>\n",
       "    </tr>\n",
       "  </tbody>\n",
       "</table>\n",
       "<p>264 rows × 79 columns</p>\n",
       "</div>"
      ],
      "text/plain": [
       "     Unnamed: 0_x        Date                 Home Team             Away Team  \\\n",
       "0               0  2022-01-17          Los Angeles Rams     Arizona Cardinals   \n",
       "1               1  2022-01-16        Kansas City Chiefs   Pittsburgh Steelers   \n",
       "2               2  2022-01-16            Dallas Cowboys   San Francisco 49ers   \n",
       "3               3  2022-01-16      Tampa Bay Buccaneers   Philadelphia Eagles   \n",
       "4               4  2022-01-15             Buffalo Bills  New England Patriots   \n",
       "..            ...         ...                       ...                   ...   \n",
       "259           271  2021-09-12             Detroit Lions   San Francisco 49ers   \n",
       "260           273  2021-09-12        Indianapolis Colts      Seattle Seahawks   \n",
       "261           274  2021-09-12          Tennessee Titans     Arizona Cardinals   \n",
       "262           275  2021-09-12  Washington Football Team  Los Angeles Chargers   \n",
       "263           276  2021-09-09      Tampa Bay Buccaneers        Dallas Cowboys   \n",
       "\n",
       "     Home Score  Away Score  Overtime?  Playoff Game?  Neutral Venue?  \\\n",
       "0            34          11      False           True           False   \n",
       "1            42          21      False           True           False   \n",
       "2            17          23      False           True           False   \n",
       "3            31          15      False           True           False   \n",
       "4            47          17      False           True           False   \n",
       "..          ...         ...        ...            ...             ...   \n",
       "259          33          41      False          False           False   \n",
       "260          16          28      False          False           False   \n",
       "261          13          38      False          False           False   \n",
       "262          16          20      False          False           False   \n",
       "263          31          29      False          False           False   \n",
       "\n",
       "     Home Line Open  Home Line Close  Away Line Open  Away Line Close  \\\n",
       "0              -4.5             -3.5             4.5              3.5   \n",
       "1             -13.5            -12.5            13.5             12.5   \n",
       "2              -3.0             -3.5             3.0              3.5   \n",
       "3              -8.5             -7.0             8.5              7.0   \n",
       "4              -4.5             -4.5             4.5              4.5   \n",
       "..              ...              ...             ...              ...   \n",
       "259             7.5              7.5            -7.5             -7.5   \n",
       "260            -3.0              2.5             3.0             -2.5   \n",
       "261            -3.0             -3.0             3.0              3.0   \n",
       "262             1.0              1.0            -1.0             -1.0   \n",
       "263            -6.5             -7.5             6.5              7.5   \n",
       "\n",
       "     Total Score Open  Total Score Close  Home Odds ML Open  \\\n",
       "0                50.5               49.0             -200.0   \n",
       "1                46.5               47.0             -714.0   \n",
       "2                50.5               51.0             -161.0   \n",
       "3                49.0               47.0             -400.0   \n",
       "4                43.5               43.0             -213.0   \n",
       "..                ...                ...                ...   \n",
       "259              46.0               46.0              325.0   \n",
       "260              52.0               48.5             -147.0   \n",
       "261              51.0               51.5             -141.0   \n",
       "262              44.5               44.5              105.0   \n",
       "263              51.5               51.5             -270.0   \n",
       "\n",
       "     Home Odds ML Close  Away Odds ML Open  Away Odds ML Close  \\\n",
       "0                -172.0              170.0               150.0   \n",
       "1                -833.0              500.0               550.0   \n",
       "2                -185.0              140.0               165.0   \n",
       "3                -370.0              320.0               280.0   \n",
       "4                -222.0              175.0               180.0   \n",
       "..                  ...                ...                 ...   \n",
       "259               290.0             -435.0              -370.0   \n",
       "260               130.0              125.0              -152.0   \n",
       "261              -156.0              120.0               135.0   \n",
       "262               100.0             -125.0              -120.0   \n",
       "263              -357.0              220.0               275.0   \n",
       "\n",
       "     Home Line Odds ML Open  Home Line Odds ML Close  Away Line Odds ML Open  \\\n",
       "0                    -111.0                    100.0                  -111.0   \n",
       "1                    -111.0                   -111.0                  -111.0   \n",
       "2                    -111.0                   -111.0                  -111.0   \n",
       "3                    -111.0                   -116.0                  -111.0   \n",
       "4                    -111.0                   -111.0                  -111.0   \n",
       "..                      ...                      ...                     ...   \n",
       "259                  -111.0                   -116.0                  -111.0   \n",
       "260                   105.0                    100.0                  -125.0   \n",
       "261                   100.0                   -105.0                  -120.0   \n",
       "262                  -111.0                   -111.0                  -111.0   \n",
       "263                  -111.0                   -111.0                  -111.0   \n",
       "\n",
       "     Away Line Odds ML Close  Total Score Over ML Open  \\\n",
       "0                     -120.0                    -111.0   \n",
       "1                     -111.0                    -111.0   \n",
       "2                     -111.0                    -111.0   \n",
       "3                     -105.0                    -111.0   \n",
       "4                     -111.0                    -111.0   \n",
       "..                       ...                       ...   \n",
       "259                   -105.0                    -111.0   \n",
       "260                   -120.0                    -111.0   \n",
       "261                   -116.0                    -111.0   \n",
       "262                   -111.0                    -111.0   \n",
       "263                   -111.0                    -111.0   \n",
       "\n",
       "     Total Score Over ML Close  Total Score Under ML Open  \\\n",
       "0                       -111.0                     -111.0   \n",
       "1                       -111.0                     -111.0   \n",
       "2                       -111.0                     -111.0   \n",
       "3                       -111.0                     -111.0   \n",
       "4                       -111.0                     -111.0   \n",
       "..                         ...                        ...   \n",
       "259                     -111.0                     -111.0   \n",
       "260                     -111.0                     -111.0   \n",
       "261                     -111.0                     -111.0   \n",
       "262                     -111.0                     -111.0   \n",
       "263                     -111.0                     -111.0   \n",
       "\n",
       "     Total Score Under ML Close  Total Score Open Over/Under Result  \\\n",
       "0                        -111.0           45                  Under   \n",
       "1                        -111.0           63                   Over   \n",
       "2                        -111.0           40                  Under   \n",
       "3                        -111.0           46                  Under   \n",
       "4                        -111.0           64                   Over   \n",
       "..                          ...          ...                    ...   \n",
       "259                      -111.0           74                   Over   \n",
       "260                      -111.0           44                  Under   \n",
       "261                      -111.0           51                   Push   \n",
       "262                      -111.0           36                  Under   \n",
       "263                      -111.0           60                   Over   \n",
       "\n",
       "    Closing Over/Under Result  Home Score Actual Line  Away Score Actual Line  \\\n",
       "0                       Under                     -23                      23   \n",
       "1                        Over                     -21                      21   \n",
       "2                       Under                       6                      -6   \n",
       "3                       Under                     -16                      16   \n",
       "4                        Over                     -30                      30   \n",
       "..                        ...                     ...                     ...   \n",
       "259                      Over                       8                      -8   \n",
       "260                     Under                      12                     -12   \n",
       "261                     Under                      25                     -25   \n",
       "262                     Under                       4                      -4   \n",
       "263                      Over                      -2                       2   \n",
       "\n",
       "    Opening Winner Closing Winner Opening Winner Specific  \\\n",
       "0         Favorite       Favorite           Home Favorite   \n",
       "1         Favorite       Favorite           Home Favorite   \n",
       "2         Underdog       Underdog           Away Underdog   \n",
       "3         Favorite       Favorite           Home Favorite   \n",
       "4         Favorite       Favorite           Home Favorite   \n",
       "..             ...            ...                     ...   \n",
       "259       Favorite       Favorite           Away Favorite   \n",
       "260       Underdog       Favorite           Away Underdog   \n",
       "261       Underdog       Underdog           Away Underdog   \n",
       "262       Favorite       Favorite           Away Favorite   \n",
       "263       Favorite       Favorite           Home Favorite   \n",
       "\n",
       "    Closing Winner Specific Winner HA Line Open Cover Line Close Cover  \\\n",
       "0             Home Favorite      Home        Favorite         Favorite   \n",
       "1             Home Favorite      Home        Favorite         Favorite   \n",
       "2             Away Underdog      Away        Underdog         Underdog   \n",
       "3             Home Favorite      Home        Favorite         Favorite   \n",
       "4             Home Favorite      Home        Favorite         Favorite   \n",
       "..                      ...       ...             ...              ...   \n",
       "259           Away Favorite      Away        Favorite         Favorite   \n",
       "260           Away Favorite      Away        Underdog         Favorite   \n",
       "261           Away Underdog      Away        Underdog         Underdog   \n",
       "262           Away Favorite      Away        Favorite         Favorite   \n",
       "263           Home Favorite      Home        Underdog         Underdog   \n",
       "\n",
       "    Line Open Cover HA Line Close Cover HA  Home ML Bet Return  \\\n",
       "0                 Home                Home               50.00   \n",
       "1                 Home                Home               14.01   \n",
       "2                 Away                Away             -100.00   \n",
       "3                 Home                Home               25.00   \n",
       "4                 Home                Home               46.95   \n",
       "..                 ...                 ...                 ...   \n",
       "259               Away                Away             -100.00   \n",
       "260               Away                Away             -100.00   \n",
       "261               Away                Away             -100.00   \n",
       "262               Away                Away             -100.00   \n",
       "263               Away                Away               37.04   \n",
       "\n",
       "     Away ML Bet Return  Home Spread Bet Return  Away Spread Bet Return  \\\n",
       "0               -100.00                   90.09                 -100.00   \n",
       "1               -100.00                   90.09                 -100.00   \n",
       "2                140.00                 -100.00                   90.09   \n",
       "3               -100.00                   90.09                 -100.00   \n",
       "4               -100.00                   90.09                 -100.00   \n",
       "..                  ...                     ...                     ...   \n",
       "259               22.99                 -100.00                   90.09   \n",
       "260              125.00                 -100.00                   80.00   \n",
       "261              120.00                 -100.00                   83.33   \n",
       "262               80.00                 -100.00                   90.09   \n",
       "263             -100.00                 -100.00                   90.09   \n",
       "\n",
       "     Favorite ML Bet Return  Underdog ML Bet Return  \\\n",
       "0                     50.00                  -100.0   \n",
       "1                     14.01                  -100.0   \n",
       "2                   -100.00                   140.0   \n",
       "3                     25.00                  -100.0   \n",
       "4                     46.95                  -100.0   \n",
       "..                      ...                     ...   \n",
       "259                   22.99                  -100.0   \n",
       "260                 -100.00                   125.0   \n",
       "261                 -100.00                   120.0   \n",
       "262                   80.00                  -100.0   \n",
       "263                   37.04                  -100.0   \n",
       "\n",
       "     Favorite Spread Bet Return  Underdog Spread Bet Return  \\\n",
       "0                         90.09                     -100.00   \n",
       "1                         90.09                     -100.00   \n",
       "2                       -100.00                       90.09   \n",
       "3                         90.09                     -100.00   \n",
       "4                         90.09                     -100.00   \n",
       "..                          ...                         ...   \n",
       "259                       90.09                     -100.00   \n",
       "260                     -100.00                       80.00   \n",
       "261                     -100.00                       83.33   \n",
       "262                       90.09                     -100.00   \n",
       "263                     -100.00                       90.09   \n",
       "\n",
       "     implied_prob_home_open  implied_prob_away_open  implied_prob_home_close  \\\n",
       "0                  0.666667                0.370370                 0.632353   \n",
       "1                  0.877150                0.166667                 0.892819   \n",
       "2                  0.616858                0.416667                 0.649123   \n",
       "3                  0.800000                0.238095                 0.787234   \n",
       "4                  0.680511                0.363636                 0.689441   \n",
       "..                      ...                     ...                      ...   \n",
       "259                0.235294                0.813084                 0.256410   \n",
       "260                0.595142                0.444444                 0.434783   \n",
       "261                0.585062                0.454545                 0.609375   \n",
       "262                0.487805                0.555556                 0.500000   \n",
       "263                0.729730                0.312500                 0.781182   \n",
       "\n",
       "     implied_prob_away_close  total_implied_prob_open  \\\n",
       "0                   0.400000                 1.037037   \n",
       "1                   0.153846                 1.043817   \n",
       "2                   0.377358                 1.033525   \n",
       "3                   0.263158                 1.038095   \n",
       "4                   0.357143                 1.044148   \n",
       "..                       ...                      ...   \n",
       "259                 0.787234                 1.048378   \n",
       "260                 0.603175                 1.039586   \n",
       "261                 0.425532                 1.039608   \n",
       "262                 0.545455                 1.043360   \n",
       "263                 0.266667                 1.042230   \n",
       "\n",
       "     total_implied_prob_close  week  season  Unnamed: 0_y  \\\n",
       "0                    1.032353    19    2021             0   \n",
       "1                    1.046665    19    2021             1   \n",
       "2                    1.026481    19    2021             2   \n",
       "3                    1.050392    19    2021             3   \n",
       "4                    1.046584    19    2021             4   \n",
       "..                        ...   ...     ...           ...   \n",
       "259                  1.043644     1    2021           259   \n",
       "260                  1.037957     1    2021           260   \n",
       "261                  1.034907     1    2021           261   \n",
       "262                  1.045455     1    2021           262   \n",
       "263                  1.047848     1    2021           263   \n",
       "\n",
       "                       home_x                away_x  home_score  away_score  \\\n",
       "0            Los Angeles Rams     Arizona Cardinals          34          11   \n",
       "1          Kansas City Chiefs   Pittsburgh Steelers          42          21   \n",
       "2              Dallas Cowboys   San Francisco 49ers          17          23   \n",
       "3        Tampa Bay Buccaneers   Philadelphia Eagles          31          15   \n",
       "4               Buffalo Bills  New England Patriots          47          17   \n",
       "..                        ...                   ...         ...         ...   \n",
       "259             Detroit Lions   San Francisco 49ers          33          41   \n",
       "260        Indianapolis Colts      Seattle Seahawks          16          28   \n",
       "261          Tennessee Titans     Arizona Cardinals          13          38   \n",
       "262  Washington Football Team  Los Angeles Chargers          16          20   \n",
       "263      Tampa Bay Buccaneers        Dallas Cowboys          31          29   \n",
       "\n",
       "     total_score winner  home_win  home_score_pred  away_score_pred  \\\n",
       "0             45   Home         1        25.336177        22.903473   \n",
       "1             63   Home         1        29.034506        20.149831   \n",
       "2             40   Away         0        29.204910        20.528647   \n",
       "3             46   Home         1        24.252277        21.560780   \n",
       "4             64   Home         1        27.971527        18.806254   \n",
       "..           ...    ...       ...              ...              ...   \n",
       "259           74   Away         0        22.345221        24.252518   \n",
       "260           44   Away         0        15.851038        22.663891   \n",
       "261           51   Away         0        23.469574        24.807407   \n",
       "262           36   Away         0        27.242985        20.840780   \n",
       "263           60   Home         1        27.038755        26.055734   \n",
       "\n",
       "     total_score_pred  home_spread_algo  away_spread_algo  home_spread_elo  \\\n",
       "0           48.668136         -2.432703          2.432703        -3.300755   \n",
       "1           49.473663         -8.884675          8.884675        -6.687744   \n",
       "2           49.783347         -8.676262          8.676262        -1.883657   \n",
       "3           46.149105         -2.691497          2.691497        -5.634525   \n",
       "4           46.979024         -9.165272          9.165272        -2.775093   \n",
       "..                ...               ...               ...              ...   \n",
       "259         47.006921          1.907297         -1.907297         7.140008   \n",
       "260         38.963053          6.812853         -6.812853         1.023249   \n",
       "261         47.488239          1.337834         -1.337834        -2.062961   \n",
       "262         48.333764         -6.402205          6.402205         1.124565   \n",
       "263         52.943710         -0.983021          0.983021        -5.152917   \n",
       "\n",
       "     away_spread_elo  over_bet_return  under_bet_return  home_line_diff_algo  \\\n",
       "0           3.300755          -100.00             90.09            -2.067297   \n",
       "1           6.687744            90.09           -100.00            -4.615325   \n",
       "2           1.883657          -100.00             90.09             5.676262   \n",
       "3           5.634525          -100.00             90.09            -5.808503   \n",
       "4           2.775093            90.09           -100.00             4.665272   \n",
       "..               ...              ...               ...                  ...   \n",
       "259        -7.140008            90.09           -100.00             5.592703   \n",
       "260        -1.023249          -100.00             90.09            -9.812853   \n",
       "261         2.062961             0.00              0.00            -4.337834   \n",
       "262        -1.124565          -100.00             90.09             7.402205   \n",
       "263         5.152917            90.09           -100.00            -5.516979   \n",
       "\n",
       "     away_line_diff_algo  home_line_diff_elo  away_line_diff_elo  \\\n",
       "0               2.067297           -1.199245            1.199245   \n",
       "1               4.615325           -6.812256            6.812256   \n",
       "2              -5.676262           -1.116343            1.116343   \n",
       "3               5.808503           -2.865475            2.865475   \n",
       "4              -4.665272           -1.724907            1.724907   \n",
       "..                   ...                 ...                 ...   \n",
       "259            -5.592703            0.359992           -0.359992   \n",
       "260             9.812853           -4.023249            4.023249   \n",
       "261             4.337834           -0.937039            0.937039   \n",
       "262            -7.402205           -0.124565            0.124565   \n",
       "263             5.516979           -1.347083            1.347083   \n",
       "\n",
       "     total_score_diff_algo  \n",
       "0                -1.831864  \n",
       "1                 2.973663  \n",
       "2                -0.716653  \n",
       "3                -2.850895  \n",
       "4                 3.479024  \n",
       "..                     ...  \n",
       "259               1.006921  \n",
       "260             -13.036947  \n",
       "261              -3.511761  \n",
       "262               3.833764  \n",
       "263               1.443710  \n",
       "\n",
       "[264 rows x 79 columns]"
      ]
     },
     "execution_count": 5,
     "metadata": {},
     "output_type": "execute_result"
    }
   ],
   "source": [
    "gambling_df = betting_lines.merge(game_spreads, left_on=['season', 'week', 'Home Team', 'Away Team'],\n",
    "                                 right_on=['season', 'week', 'home_x', 'away_x'])\n",
    "gambling_df['over_bet_return'] = gambling_df.apply(lambda x: get_return_over_under_100(x, bet_over=True), axis=1)\n",
    "gambling_df['under_bet_return'] = gambling_df.apply(lambda x: get_return_over_under_100(x, bet_over=False), axis=1)\n",
    "\n",
    "gambling_df['home_line_diff_algo'] = gambling_df.apply(lambda x: x['Home Line Open'] - x.home_spread_algo, axis=1)\n",
    "gambling_df['away_line_diff_algo'] = gambling_df.apply(lambda x: x['Away Line Open'] - x.away_spread_algo, axis=1)\n",
    "gambling_df['home_line_diff_elo'] = gambling_df.apply(lambda x: x['Home Line Open'] - x.home_spread_elo, axis=1)\n",
    "gambling_df['away_line_diff_elo'] = gambling_df.apply(lambda x: x['Away Line Open'] - x.away_spread_elo, axis=1)\n",
    "gambling_df['total_score_diff_algo'] = gambling_df.apply(lambda x: x.total_score_pred - x['Total Score Open'], axis=1)\n",
    "gambling_df"
   ]
  },
  {
   "cell_type": "code",
   "execution_count": 6,
   "metadata": {},
   "outputs": [],
   "source": [
    "# Functions to get point spread and over under returns\n",
    "\n",
    "# Going to do this in a way similar to the moneyline bets, first doing flat 100 dollar bets and then checking variable bets,\n",
    "# and comparing the results to the elo algorithm as well as the random betting simulations\n",
    "\n",
    "def get_best_spread_advantage_algo(game):\n",
    "    \n",
    "    if game.home_line_diff_algo > game.away_line_diff_algo:\n",
    "        return game.home_line_diff_algo, 'Home'\n",
    "    else:\n",
    "        return game.away_line_diff_algo, 'Away'\n",
    "\n",
    "def get_best_spread_advantage_elo(game):\n",
    "    \n",
    "    if game.home_line_diff_elo > game.away_line_diff_elo:\n",
    "        return game.home_line_diff_elo, 'Home'\n",
    "    else:\n",
    "        return game.away_line_diff_elo, 'Away'\n",
    "    \n",
    "def get_return_100_spread_algo(game, threshold):\n",
    "    \n",
    "    bet_weight = 0\n",
    "    \n",
    "    if game.best_spread_advantage_algo >= threshold:\n",
    "        bet_weight = 1\n",
    "    \n",
    "    return bet_weight * game['{} Spread Bet Return'.format(game.spread_advantage_team_algo)]\n",
    "\n",
    "def get_return_100_spread_elo(game, threshold):\n",
    "    \n",
    "    bet_weight = 0\n",
    "    \n",
    "    if game.best_spread_advantage_elo >= threshold:\n",
    "        bet_weight = 1\n",
    "    \n",
    "    return bet_weight * game['{} Spread Bet Return'.format(game.spread_advantage_team_elo)]\n",
    "\n",
    "def get_return_100_spread_random(game):\n",
    "    \n",
    "    if random.random() <= .5:\n",
    "        return game['Home Spread Bet Return']\n",
    "    else:\n",
    "        return game['Away Spread Bet Return']\n",
    "\n",
    "def get_return_proportional_spread_algo(game):\n",
    "    \n",
    "    bet_weight = 0\n",
    "    \n",
    "    if 3 <= game.best_spread_advantage_algo < 4:\n",
    "        bet_weight = 1\n",
    "    elif 4 <= game.best_spread_advantage_algo < 5:\n",
    "        bet_weight = 2\n",
    "    elif 5 <= game.best_spread_advantage_algo < 6:\n",
    "        bet_weight = 3\n",
    "    elif 6 <= game.best_spread_advantage_algo < 7:\n",
    "        bet_weight = 4\n",
    "    elif game.best_spread_advantage_algo >= 7 :\n",
    "        bet_weight = 5\n",
    "        \n",
    "    if game.spread_advantage_team_algo == 'Home':\n",
    "        return bet_weight * game['Home Spread Bet Return'], bet_weight * 100\n",
    "    else:\n",
    "        return bet_weight * game['Away Spread Bet Return'], bet_weight * 100\n",
    "    \n",
    "def get_return_proportional_spread_elo(game):\n",
    "    \n",
    "    bet_weight = 0\n",
    "    \n",
    "    if 3 <= game.best_spread_advantage_elo < 4:\n",
    "        bet_weight = 1\n",
    "    elif 4 <= game.best_spread_advantage_elo < 5:\n",
    "        bet_weight = 2\n",
    "    elif 5 <= game.best_spread_advantage_elo < 6:\n",
    "        bet_weight = 3\n",
    "    elif 6 <= game.best_spread_advantage_elo < 7:\n",
    "        bet_weight = 4\n",
    "    elif game.best_spread_advantage_elo >= 7 :\n",
    "        bet_weight = 5\n",
    "        \n",
    "    if game.spread_advantage_team_elo == 'Home':\n",
    "        return bet_weight * game['Home Spread Bet Return'], bet_weight * 100\n",
    "    else:\n",
    "        return bet_weight * game['Away Spread Bet Return'], bet_weight * 100\n",
    "    \n",
    "def get_return_prop_spread_random(game):\n",
    "    \n",
    "    bet_weight = random.choice([1, 2, 3, 4, 5])\n",
    "    \n",
    "    if random.random() <= .5:\n",
    "        return bet_weight * game['Home Spread Bet Return'], bet_weight*100\n",
    "    else:\n",
    "        return bet_weight * game['Away Spread Bet Return'], bet_weight*100\n",
    "    \n",
    "def get_best_ou_advantage_algo(game):\n",
    "    \n",
    "    if game.total_score_diff_algo > 0:\n",
    "        return 'over'\n",
    "    else:\n",
    "        return 'under'\n",
    "    \n",
    "def get_return_100_ou_algo(game, threshold):\n",
    "    \n",
    "    bet_weight = 0\n",
    "    \n",
    "    if abs(game.total_score_diff_algo) >= threshold:\n",
    "        bet_weight = 1\n",
    "    \n",
    "    return bet_weight * game['{}_bet_return'.format(game.ou_advantage)]\n",
    "\n",
    "def get_return_proportional_ou_algo(game):\n",
    "    \n",
    "    bet_weight = 0\n",
    "    \n",
    "    if 1 <= abs(game.total_score_diff_algo) < 2:\n",
    "        bet_weight = 1\n",
    "    elif 2 <= abs(game.total_score_diff_algo) < 3:\n",
    "        bet_weight = 2\n",
    "    elif 3 <= abs(game.total_score_diff_algo) < 4:\n",
    "        bet_weight = 3\n",
    "    elif 4 <= abs(game.total_score_diff_algo) < 5:\n",
    "        bet_weight = 4\n",
    "    elif abs(game.total_score_diff_algo) >= 5 :\n",
    "        bet_weight = 5\n",
    "        \n",
    "    return bet_weight * game['{}_bet_return'.format(game.ou_advantage)], bet_weight*100\n",
    "\n",
    "def get_return_100_ou_random(game):\n",
    "    \n",
    "    if random.random() <= .5:\n",
    "        return game['over_bet_return']\n",
    "    else:\n",
    "        return game['under_bet_return']\n",
    "\n",
    "def get_return_prop_ou_random(game):\n",
    "    \n",
    "    bet_weight = random.choice([1, 2, 3, 4, 5])\n",
    "    \n",
    "    if random.random() <= .5:\n",
    "        return bet_weight * game['over_bet_return'], bet_weight*100\n",
    "    else:\n",
    "        return bet_weight * game['under_bet_return'], bet_weight*100"
   ]
  },
  {
   "cell_type": "code",
   "execution_count": 7,
   "metadata": {},
   "outputs": [
    {
     "data": {
      "text/html": [
       "<div>\n",
       "<style scoped>\n",
       "    .dataframe tbody tr th:only-of-type {\n",
       "        vertical-align: middle;\n",
       "    }\n",
       "\n",
       "    .dataframe tbody tr th {\n",
       "        vertical-align: top;\n",
       "    }\n",
       "\n",
       "    .dataframe thead th {\n",
       "        text-align: right;\n",
       "    }\n",
       "</style>\n",
       "<table border=\"1\" class=\"dataframe\">\n",
       "  <thead>\n",
       "    <tr style=\"text-align: right;\">\n",
       "      <th></th>\n",
       "      <th>Unnamed: 0_x</th>\n",
       "      <th>Date</th>\n",
       "      <th>Home Team</th>\n",
       "      <th>Away Team</th>\n",
       "      <th>Home Score</th>\n",
       "      <th>Away Score</th>\n",
       "      <th>Overtime?</th>\n",
       "      <th>Playoff Game?</th>\n",
       "      <th>Neutral Venue?</th>\n",
       "      <th>Home Line Open</th>\n",
       "      <th>Home Line Close</th>\n",
       "      <th>Away Line Open</th>\n",
       "      <th>Away Line Close</th>\n",
       "      <th>Total Score Open</th>\n",
       "      <th>Total Score Close</th>\n",
       "      <th>Home Odds ML Open</th>\n",
       "      <th>Home Odds ML Close</th>\n",
       "      <th>Away Odds ML Open</th>\n",
       "      <th>Away Odds ML Close</th>\n",
       "      <th>Home Line Odds ML Open</th>\n",
       "      <th>Home Line Odds ML Close</th>\n",
       "      <th>Away Line Odds ML Open</th>\n",
       "      <th>Away Line Odds ML Close</th>\n",
       "      <th>Total Score Over ML Open</th>\n",
       "      <th>Total Score Over ML Close</th>\n",
       "      <th>Total Score Under ML Open</th>\n",
       "      <th>Total Score Under ML Close</th>\n",
       "      <th>Total Score</th>\n",
       "      <th>Open Over/Under Result</th>\n",
       "      <th>Closing Over/Under Result</th>\n",
       "      <th>Home Score Actual Line</th>\n",
       "      <th>Away Score Actual Line</th>\n",
       "      <th>Opening Winner</th>\n",
       "      <th>Closing Winner</th>\n",
       "      <th>Opening Winner Specific</th>\n",
       "      <th>Closing Winner Specific</th>\n",
       "      <th>Winner HA</th>\n",
       "      <th>Line Open Cover</th>\n",
       "      <th>Line Close Cover</th>\n",
       "      <th>Line Open Cover HA</th>\n",
       "      <th>Line Close Cover HA</th>\n",
       "      <th>Home ML Bet Return</th>\n",
       "      <th>Away ML Bet Return</th>\n",
       "      <th>Home Spread Bet Return</th>\n",
       "      <th>Away Spread Bet Return</th>\n",
       "      <th>Favorite ML Bet Return</th>\n",
       "      <th>Underdog ML Bet Return</th>\n",
       "      <th>Favorite Spread Bet Return</th>\n",
       "      <th>Underdog Spread Bet Return</th>\n",
       "      <th>implied_prob_home_open</th>\n",
       "      <th>implied_prob_away_open</th>\n",
       "      <th>implied_prob_home_close</th>\n",
       "      <th>implied_prob_away_close</th>\n",
       "      <th>total_implied_prob_open</th>\n",
       "      <th>total_implied_prob_close</th>\n",
       "      <th>week</th>\n",
       "      <th>season</th>\n",
       "      <th>Unnamed: 0_y</th>\n",
       "      <th>home_x</th>\n",
       "      <th>away_x</th>\n",
       "      <th>home_score</th>\n",
       "      <th>away_score</th>\n",
       "      <th>total_score</th>\n",
       "      <th>winner</th>\n",
       "      <th>home_win</th>\n",
       "      <th>home_score_pred</th>\n",
       "      <th>away_score_pred</th>\n",
       "      <th>total_score_pred</th>\n",
       "      <th>home_spread_algo</th>\n",
       "      <th>away_spread_algo</th>\n",
       "      <th>home_spread_elo</th>\n",
       "      <th>away_spread_elo</th>\n",
       "      <th>over_bet_return</th>\n",
       "      <th>under_bet_return</th>\n",
       "      <th>home_line_diff_algo</th>\n",
       "      <th>away_line_diff_algo</th>\n",
       "      <th>home_line_diff_elo</th>\n",
       "      <th>away_line_diff_elo</th>\n",
       "      <th>total_score_diff_algo</th>\n",
       "      <th>best_spread_advantage_algo</th>\n",
       "      <th>spread_advantage_team_algo</th>\n",
       "      <th>best_spread_advantage_elo</th>\n",
       "      <th>spread_advantage_team_elo</th>\n",
       "      <th>ou_advantage</th>\n",
       "    </tr>\n",
       "  </thead>\n",
       "  <tbody>\n",
       "    <tr>\n",
       "      <th>0</th>\n",
       "      <td>0</td>\n",
       "      <td>2022-01-17</td>\n",
       "      <td>Los Angeles Rams</td>\n",
       "      <td>Arizona Cardinals</td>\n",
       "      <td>34</td>\n",
       "      <td>11</td>\n",
       "      <td>False</td>\n",
       "      <td>True</td>\n",
       "      <td>False</td>\n",
       "      <td>-4.5</td>\n",
       "      <td>-3.5</td>\n",
       "      <td>4.5</td>\n",
       "      <td>3.5</td>\n",
       "      <td>50.5</td>\n",
       "      <td>49.0</td>\n",
       "      <td>-200.0</td>\n",
       "      <td>-172.0</td>\n",
       "      <td>170.0</td>\n",
       "      <td>150.0</td>\n",
       "      <td>-111.0</td>\n",
       "      <td>100.0</td>\n",
       "      <td>-111.0</td>\n",
       "      <td>-120.0</td>\n",
       "      <td>-111.0</td>\n",
       "      <td>-111.0</td>\n",
       "      <td>-111.0</td>\n",
       "      <td>-111.0</td>\n",
       "      <td>45</td>\n",
       "      <td>Under</td>\n",
       "      <td>Under</td>\n",
       "      <td>-23</td>\n",
       "      <td>23</td>\n",
       "      <td>Favorite</td>\n",
       "      <td>Favorite</td>\n",
       "      <td>Home Favorite</td>\n",
       "      <td>Home Favorite</td>\n",
       "      <td>Home</td>\n",
       "      <td>Favorite</td>\n",
       "      <td>Favorite</td>\n",
       "      <td>Home</td>\n",
       "      <td>Home</td>\n",
       "      <td>50.00</td>\n",
       "      <td>-100.00</td>\n",
       "      <td>90.09</td>\n",
       "      <td>-100.00</td>\n",
       "      <td>50.00</td>\n",
       "      <td>-100.0</td>\n",
       "      <td>90.09</td>\n",
       "      <td>-100.00</td>\n",
       "      <td>0.666667</td>\n",
       "      <td>0.370370</td>\n",
       "      <td>0.632353</td>\n",
       "      <td>0.400000</td>\n",
       "      <td>1.037037</td>\n",
       "      <td>1.032353</td>\n",
       "      <td>19</td>\n",
       "      <td>2021</td>\n",
       "      <td>0</td>\n",
       "      <td>Los Angeles Rams</td>\n",
       "      <td>Arizona Cardinals</td>\n",
       "      <td>34</td>\n",
       "      <td>11</td>\n",
       "      <td>45</td>\n",
       "      <td>Home</td>\n",
       "      <td>1</td>\n",
       "      <td>25.336177</td>\n",
       "      <td>22.903473</td>\n",
       "      <td>48.668136</td>\n",
       "      <td>-2.432703</td>\n",
       "      <td>2.432703</td>\n",
       "      <td>-3.300755</td>\n",
       "      <td>3.300755</td>\n",
       "      <td>-100.00</td>\n",
       "      <td>90.09</td>\n",
       "      <td>-2.067297</td>\n",
       "      <td>2.067297</td>\n",
       "      <td>-1.199245</td>\n",
       "      <td>1.199245</td>\n",
       "      <td>-1.831864</td>\n",
       "      <td>2.067297</td>\n",
       "      <td>Away</td>\n",
       "      <td>1.199245</td>\n",
       "      <td>Away</td>\n",
       "      <td>under</td>\n",
       "    </tr>\n",
       "    <tr>\n",
       "      <th>1</th>\n",
       "      <td>1</td>\n",
       "      <td>2022-01-16</td>\n",
       "      <td>Kansas City Chiefs</td>\n",
       "      <td>Pittsburgh Steelers</td>\n",
       "      <td>42</td>\n",
       "      <td>21</td>\n",
       "      <td>False</td>\n",
       "      <td>True</td>\n",
       "      <td>False</td>\n",
       "      <td>-13.5</td>\n",
       "      <td>-12.5</td>\n",
       "      <td>13.5</td>\n",
       "      <td>12.5</td>\n",
       "      <td>46.5</td>\n",
       "      <td>47.0</td>\n",
       "      <td>-714.0</td>\n",
       "      <td>-833.0</td>\n",
       "      <td>500.0</td>\n",
       "      <td>550.0</td>\n",
       "      <td>-111.0</td>\n",
       "      <td>-111.0</td>\n",
       "      <td>-111.0</td>\n",
       "      <td>-111.0</td>\n",
       "      <td>-111.0</td>\n",
       "      <td>-111.0</td>\n",
       "      <td>-111.0</td>\n",
       "      <td>-111.0</td>\n",
       "      <td>63</td>\n",
       "      <td>Over</td>\n",
       "      <td>Over</td>\n",
       "      <td>-21</td>\n",
       "      <td>21</td>\n",
       "      <td>Favorite</td>\n",
       "      <td>Favorite</td>\n",
       "      <td>Home Favorite</td>\n",
       "      <td>Home Favorite</td>\n",
       "      <td>Home</td>\n",
       "      <td>Favorite</td>\n",
       "      <td>Favorite</td>\n",
       "      <td>Home</td>\n",
       "      <td>Home</td>\n",
       "      <td>14.01</td>\n",
       "      <td>-100.00</td>\n",
       "      <td>90.09</td>\n",
       "      <td>-100.00</td>\n",
       "      <td>14.01</td>\n",
       "      <td>-100.0</td>\n",
       "      <td>90.09</td>\n",
       "      <td>-100.00</td>\n",
       "      <td>0.877150</td>\n",
       "      <td>0.166667</td>\n",
       "      <td>0.892819</td>\n",
       "      <td>0.153846</td>\n",
       "      <td>1.043817</td>\n",
       "      <td>1.046665</td>\n",
       "      <td>19</td>\n",
       "      <td>2021</td>\n",
       "      <td>1</td>\n",
       "      <td>Kansas City Chiefs</td>\n",
       "      <td>Pittsburgh Steelers</td>\n",
       "      <td>42</td>\n",
       "      <td>21</td>\n",
       "      <td>63</td>\n",
       "      <td>Home</td>\n",
       "      <td>1</td>\n",
       "      <td>29.034506</td>\n",
       "      <td>20.149831</td>\n",
       "      <td>49.473663</td>\n",
       "      <td>-8.884675</td>\n",
       "      <td>8.884675</td>\n",
       "      <td>-6.687744</td>\n",
       "      <td>6.687744</td>\n",
       "      <td>90.09</td>\n",
       "      <td>-100.00</td>\n",
       "      <td>-4.615325</td>\n",
       "      <td>4.615325</td>\n",
       "      <td>-6.812256</td>\n",
       "      <td>6.812256</td>\n",
       "      <td>2.973663</td>\n",
       "      <td>4.615325</td>\n",
       "      <td>Away</td>\n",
       "      <td>6.812256</td>\n",
       "      <td>Away</td>\n",
       "      <td>over</td>\n",
       "    </tr>\n",
       "    <tr>\n",
       "      <th>2</th>\n",
       "      <td>2</td>\n",
       "      <td>2022-01-16</td>\n",
       "      <td>Dallas Cowboys</td>\n",
       "      <td>San Francisco 49ers</td>\n",
       "      <td>17</td>\n",
       "      <td>23</td>\n",
       "      <td>False</td>\n",
       "      <td>True</td>\n",
       "      <td>False</td>\n",
       "      <td>-3.0</td>\n",
       "      <td>-3.5</td>\n",
       "      <td>3.0</td>\n",
       "      <td>3.5</td>\n",
       "      <td>50.5</td>\n",
       "      <td>51.0</td>\n",
       "      <td>-161.0</td>\n",
       "      <td>-185.0</td>\n",
       "      <td>140.0</td>\n",
       "      <td>165.0</td>\n",
       "      <td>-111.0</td>\n",
       "      <td>-111.0</td>\n",
       "      <td>-111.0</td>\n",
       "      <td>-111.0</td>\n",
       "      <td>-111.0</td>\n",
       "      <td>-111.0</td>\n",
       "      <td>-111.0</td>\n",
       "      <td>-111.0</td>\n",
       "      <td>40</td>\n",
       "      <td>Under</td>\n",
       "      <td>Under</td>\n",
       "      <td>6</td>\n",
       "      <td>-6</td>\n",
       "      <td>Underdog</td>\n",
       "      <td>Underdog</td>\n",
       "      <td>Away Underdog</td>\n",
       "      <td>Away Underdog</td>\n",
       "      <td>Away</td>\n",
       "      <td>Underdog</td>\n",
       "      <td>Underdog</td>\n",
       "      <td>Away</td>\n",
       "      <td>Away</td>\n",
       "      <td>-100.00</td>\n",
       "      <td>140.00</td>\n",
       "      <td>-100.00</td>\n",
       "      <td>90.09</td>\n",
       "      <td>-100.00</td>\n",
       "      <td>140.0</td>\n",
       "      <td>-100.00</td>\n",
       "      <td>90.09</td>\n",
       "      <td>0.616858</td>\n",
       "      <td>0.416667</td>\n",
       "      <td>0.649123</td>\n",
       "      <td>0.377358</td>\n",
       "      <td>1.033525</td>\n",
       "      <td>1.026481</td>\n",
       "      <td>19</td>\n",
       "      <td>2021</td>\n",
       "      <td>2</td>\n",
       "      <td>Dallas Cowboys</td>\n",
       "      <td>San Francisco 49ers</td>\n",
       "      <td>17</td>\n",
       "      <td>23</td>\n",
       "      <td>40</td>\n",
       "      <td>Away</td>\n",
       "      <td>0</td>\n",
       "      <td>29.204910</td>\n",
       "      <td>20.528647</td>\n",
       "      <td>49.783347</td>\n",
       "      <td>-8.676262</td>\n",
       "      <td>8.676262</td>\n",
       "      <td>-1.883657</td>\n",
       "      <td>1.883657</td>\n",
       "      <td>-100.00</td>\n",
       "      <td>90.09</td>\n",
       "      <td>5.676262</td>\n",
       "      <td>-5.676262</td>\n",
       "      <td>-1.116343</td>\n",
       "      <td>1.116343</td>\n",
       "      <td>-0.716653</td>\n",
       "      <td>5.676262</td>\n",
       "      <td>Home</td>\n",
       "      <td>1.116343</td>\n",
       "      <td>Away</td>\n",
       "      <td>under</td>\n",
       "    </tr>\n",
       "    <tr>\n",
       "      <th>3</th>\n",
       "      <td>3</td>\n",
       "      <td>2022-01-16</td>\n",
       "      <td>Tampa Bay Buccaneers</td>\n",
       "      <td>Philadelphia Eagles</td>\n",
       "      <td>31</td>\n",
       "      <td>15</td>\n",
       "      <td>False</td>\n",
       "      <td>True</td>\n",
       "      <td>False</td>\n",
       "      <td>-8.5</td>\n",
       "      <td>-7.0</td>\n",
       "      <td>8.5</td>\n",
       "      <td>7.0</td>\n",
       "      <td>49.0</td>\n",
       "      <td>47.0</td>\n",
       "      <td>-400.0</td>\n",
       "      <td>-370.0</td>\n",
       "      <td>320.0</td>\n",
       "      <td>280.0</td>\n",
       "      <td>-111.0</td>\n",
       "      <td>-116.0</td>\n",
       "      <td>-111.0</td>\n",
       "      <td>-105.0</td>\n",
       "      <td>-111.0</td>\n",
       "      <td>-111.0</td>\n",
       "      <td>-111.0</td>\n",
       "      <td>-111.0</td>\n",
       "      <td>46</td>\n",
       "      <td>Under</td>\n",
       "      <td>Under</td>\n",
       "      <td>-16</td>\n",
       "      <td>16</td>\n",
       "      <td>Favorite</td>\n",
       "      <td>Favorite</td>\n",
       "      <td>Home Favorite</td>\n",
       "      <td>Home Favorite</td>\n",
       "      <td>Home</td>\n",
       "      <td>Favorite</td>\n",
       "      <td>Favorite</td>\n",
       "      <td>Home</td>\n",
       "      <td>Home</td>\n",
       "      <td>25.00</td>\n",
       "      <td>-100.00</td>\n",
       "      <td>90.09</td>\n",
       "      <td>-100.00</td>\n",
       "      <td>25.00</td>\n",
       "      <td>-100.0</td>\n",
       "      <td>90.09</td>\n",
       "      <td>-100.00</td>\n",
       "      <td>0.800000</td>\n",
       "      <td>0.238095</td>\n",
       "      <td>0.787234</td>\n",
       "      <td>0.263158</td>\n",
       "      <td>1.038095</td>\n",
       "      <td>1.050392</td>\n",
       "      <td>19</td>\n",
       "      <td>2021</td>\n",
       "      <td>3</td>\n",
       "      <td>Tampa Bay Buccaneers</td>\n",
       "      <td>Philadelphia Eagles</td>\n",
       "      <td>31</td>\n",
       "      <td>15</td>\n",
       "      <td>46</td>\n",
       "      <td>Home</td>\n",
       "      <td>1</td>\n",
       "      <td>24.252277</td>\n",
       "      <td>21.560780</td>\n",
       "      <td>46.149105</td>\n",
       "      <td>-2.691497</td>\n",
       "      <td>2.691497</td>\n",
       "      <td>-5.634525</td>\n",
       "      <td>5.634525</td>\n",
       "      <td>-100.00</td>\n",
       "      <td>90.09</td>\n",
       "      <td>-5.808503</td>\n",
       "      <td>5.808503</td>\n",
       "      <td>-2.865475</td>\n",
       "      <td>2.865475</td>\n",
       "      <td>-2.850895</td>\n",
       "      <td>5.808503</td>\n",
       "      <td>Away</td>\n",
       "      <td>2.865475</td>\n",
       "      <td>Away</td>\n",
       "      <td>under</td>\n",
       "    </tr>\n",
       "    <tr>\n",
       "      <th>4</th>\n",
       "      <td>4</td>\n",
       "      <td>2022-01-15</td>\n",
       "      <td>Buffalo Bills</td>\n",
       "      <td>New England Patriots</td>\n",
       "      <td>47</td>\n",
       "      <td>17</td>\n",
       "      <td>False</td>\n",
       "      <td>True</td>\n",
       "      <td>False</td>\n",
       "      <td>-4.5</td>\n",
       "      <td>-4.5</td>\n",
       "      <td>4.5</td>\n",
       "      <td>4.5</td>\n",
       "      <td>43.5</td>\n",
       "      <td>43.0</td>\n",
       "      <td>-213.0</td>\n",
       "      <td>-222.0</td>\n",
       "      <td>175.0</td>\n",
       "      <td>180.0</td>\n",
       "      <td>-111.0</td>\n",
       "      <td>-111.0</td>\n",
       "      <td>-111.0</td>\n",
       "      <td>-111.0</td>\n",
       "      <td>-111.0</td>\n",
       "      <td>-111.0</td>\n",
       "      <td>-111.0</td>\n",
       "      <td>-111.0</td>\n",
       "      <td>64</td>\n",
       "      <td>Over</td>\n",
       "      <td>Over</td>\n",
       "      <td>-30</td>\n",
       "      <td>30</td>\n",
       "      <td>Favorite</td>\n",
       "      <td>Favorite</td>\n",
       "      <td>Home Favorite</td>\n",
       "      <td>Home Favorite</td>\n",
       "      <td>Home</td>\n",
       "      <td>Favorite</td>\n",
       "      <td>Favorite</td>\n",
       "      <td>Home</td>\n",
       "      <td>Home</td>\n",
       "      <td>46.95</td>\n",
       "      <td>-100.00</td>\n",
       "      <td>90.09</td>\n",
       "      <td>-100.00</td>\n",
       "      <td>46.95</td>\n",
       "      <td>-100.0</td>\n",
       "      <td>90.09</td>\n",
       "      <td>-100.00</td>\n",
       "      <td>0.680511</td>\n",
       "      <td>0.363636</td>\n",
       "      <td>0.689441</td>\n",
       "      <td>0.357143</td>\n",
       "      <td>1.044148</td>\n",
       "      <td>1.046584</td>\n",
       "      <td>19</td>\n",
       "      <td>2021</td>\n",
       "      <td>4</td>\n",
       "      <td>Buffalo Bills</td>\n",
       "      <td>New England Patriots</td>\n",
       "      <td>47</td>\n",
       "      <td>17</td>\n",
       "      <td>64</td>\n",
       "      <td>Home</td>\n",
       "      <td>1</td>\n",
       "      <td>27.971527</td>\n",
       "      <td>18.806254</td>\n",
       "      <td>46.979024</td>\n",
       "      <td>-9.165272</td>\n",
       "      <td>9.165272</td>\n",
       "      <td>-2.775093</td>\n",
       "      <td>2.775093</td>\n",
       "      <td>90.09</td>\n",
       "      <td>-100.00</td>\n",
       "      <td>4.665272</td>\n",
       "      <td>-4.665272</td>\n",
       "      <td>-1.724907</td>\n",
       "      <td>1.724907</td>\n",
       "      <td>3.479024</td>\n",
       "      <td>4.665272</td>\n",
       "      <td>Home</td>\n",
       "      <td>1.724907</td>\n",
       "      <td>Away</td>\n",
       "      <td>over</td>\n",
       "    </tr>\n",
       "    <tr>\n",
       "      <th>...</th>\n",
       "      <td>...</td>\n",
       "      <td>...</td>\n",
       "      <td>...</td>\n",
       "      <td>...</td>\n",
       "      <td>...</td>\n",
       "      <td>...</td>\n",
       "      <td>...</td>\n",
       "      <td>...</td>\n",
       "      <td>...</td>\n",
       "      <td>...</td>\n",
       "      <td>...</td>\n",
       "      <td>...</td>\n",
       "      <td>...</td>\n",
       "      <td>...</td>\n",
       "      <td>...</td>\n",
       "      <td>...</td>\n",
       "      <td>...</td>\n",
       "      <td>...</td>\n",
       "      <td>...</td>\n",
       "      <td>...</td>\n",
       "      <td>...</td>\n",
       "      <td>...</td>\n",
       "      <td>...</td>\n",
       "      <td>...</td>\n",
       "      <td>...</td>\n",
       "      <td>...</td>\n",
       "      <td>...</td>\n",
       "      <td>...</td>\n",
       "      <td>...</td>\n",
       "      <td>...</td>\n",
       "      <td>...</td>\n",
       "      <td>...</td>\n",
       "      <td>...</td>\n",
       "      <td>...</td>\n",
       "      <td>...</td>\n",
       "      <td>...</td>\n",
       "      <td>...</td>\n",
       "      <td>...</td>\n",
       "      <td>...</td>\n",
       "      <td>...</td>\n",
       "      <td>...</td>\n",
       "      <td>...</td>\n",
       "      <td>...</td>\n",
       "      <td>...</td>\n",
       "      <td>...</td>\n",
       "      <td>...</td>\n",
       "      <td>...</td>\n",
       "      <td>...</td>\n",
       "      <td>...</td>\n",
       "      <td>...</td>\n",
       "      <td>...</td>\n",
       "      <td>...</td>\n",
       "      <td>...</td>\n",
       "      <td>...</td>\n",
       "      <td>...</td>\n",
       "      <td>...</td>\n",
       "      <td>...</td>\n",
       "      <td>...</td>\n",
       "      <td>...</td>\n",
       "      <td>...</td>\n",
       "      <td>...</td>\n",
       "      <td>...</td>\n",
       "      <td>...</td>\n",
       "      <td>...</td>\n",
       "      <td>...</td>\n",
       "      <td>...</td>\n",
       "      <td>...</td>\n",
       "      <td>...</td>\n",
       "      <td>...</td>\n",
       "      <td>...</td>\n",
       "      <td>...</td>\n",
       "      <td>...</td>\n",
       "      <td>...</td>\n",
       "      <td>...</td>\n",
       "      <td>...</td>\n",
       "      <td>...</td>\n",
       "      <td>...</td>\n",
       "      <td>...</td>\n",
       "      <td>...</td>\n",
       "      <td>...</td>\n",
       "      <td>...</td>\n",
       "      <td>...</td>\n",
       "      <td>...</td>\n",
       "      <td>...</td>\n",
       "    </tr>\n",
       "    <tr>\n",
       "      <th>259</th>\n",
       "      <td>271</td>\n",
       "      <td>2021-09-12</td>\n",
       "      <td>Detroit Lions</td>\n",
       "      <td>San Francisco 49ers</td>\n",
       "      <td>33</td>\n",
       "      <td>41</td>\n",
       "      <td>False</td>\n",
       "      <td>False</td>\n",
       "      <td>False</td>\n",
       "      <td>7.5</td>\n",
       "      <td>7.5</td>\n",
       "      <td>-7.5</td>\n",
       "      <td>-7.5</td>\n",
       "      <td>46.0</td>\n",
       "      <td>46.0</td>\n",
       "      <td>325.0</td>\n",
       "      <td>290.0</td>\n",
       "      <td>-435.0</td>\n",
       "      <td>-370.0</td>\n",
       "      <td>-111.0</td>\n",
       "      <td>-116.0</td>\n",
       "      <td>-111.0</td>\n",
       "      <td>-105.0</td>\n",
       "      <td>-111.0</td>\n",
       "      <td>-111.0</td>\n",
       "      <td>-111.0</td>\n",
       "      <td>-111.0</td>\n",
       "      <td>74</td>\n",
       "      <td>Over</td>\n",
       "      <td>Over</td>\n",
       "      <td>8</td>\n",
       "      <td>-8</td>\n",
       "      <td>Favorite</td>\n",
       "      <td>Favorite</td>\n",
       "      <td>Away Favorite</td>\n",
       "      <td>Away Favorite</td>\n",
       "      <td>Away</td>\n",
       "      <td>Favorite</td>\n",
       "      <td>Favorite</td>\n",
       "      <td>Away</td>\n",
       "      <td>Away</td>\n",
       "      <td>-100.00</td>\n",
       "      <td>22.99</td>\n",
       "      <td>-100.00</td>\n",
       "      <td>90.09</td>\n",
       "      <td>22.99</td>\n",
       "      <td>-100.0</td>\n",
       "      <td>90.09</td>\n",
       "      <td>-100.00</td>\n",
       "      <td>0.235294</td>\n",
       "      <td>0.813084</td>\n",
       "      <td>0.256410</td>\n",
       "      <td>0.787234</td>\n",
       "      <td>1.048378</td>\n",
       "      <td>1.043644</td>\n",
       "      <td>1</td>\n",
       "      <td>2021</td>\n",
       "      <td>259</td>\n",
       "      <td>Detroit Lions</td>\n",
       "      <td>San Francisco 49ers</td>\n",
       "      <td>33</td>\n",
       "      <td>41</td>\n",
       "      <td>74</td>\n",
       "      <td>Away</td>\n",
       "      <td>0</td>\n",
       "      <td>22.345221</td>\n",
       "      <td>24.252518</td>\n",
       "      <td>47.006921</td>\n",
       "      <td>1.907297</td>\n",
       "      <td>-1.907297</td>\n",
       "      <td>7.140008</td>\n",
       "      <td>-7.140008</td>\n",
       "      <td>90.09</td>\n",
       "      <td>-100.00</td>\n",
       "      <td>5.592703</td>\n",
       "      <td>-5.592703</td>\n",
       "      <td>0.359992</td>\n",
       "      <td>-0.359992</td>\n",
       "      <td>1.006921</td>\n",
       "      <td>5.592703</td>\n",
       "      <td>Home</td>\n",
       "      <td>0.359992</td>\n",
       "      <td>Home</td>\n",
       "      <td>over</td>\n",
       "    </tr>\n",
       "    <tr>\n",
       "      <th>260</th>\n",
       "      <td>273</td>\n",
       "      <td>2021-09-12</td>\n",
       "      <td>Indianapolis Colts</td>\n",
       "      <td>Seattle Seahawks</td>\n",
       "      <td>16</td>\n",
       "      <td>28</td>\n",
       "      <td>False</td>\n",
       "      <td>False</td>\n",
       "      <td>False</td>\n",
       "      <td>-3.0</td>\n",
       "      <td>2.5</td>\n",
       "      <td>3.0</td>\n",
       "      <td>-2.5</td>\n",
       "      <td>52.0</td>\n",
       "      <td>48.5</td>\n",
       "      <td>-147.0</td>\n",
       "      <td>130.0</td>\n",
       "      <td>125.0</td>\n",
       "      <td>-152.0</td>\n",
       "      <td>105.0</td>\n",
       "      <td>100.0</td>\n",
       "      <td>-125.0</td>\n",
       "      <td>-120.0</td>\n",
       "      <td>-111.0</td>\n",
       "      <td>-111.0</td>\n",
       "      <td>-111.0</td>\n",
       "      <td>-111.0</td>\n",
       "      <td>44</td>\n",
       "      <td>Under</td>\n",
       "      <td>Under</td>\n",
       "      <td>12</td>\n",
       "      <td>-12</td>\n",
       "      <td>Underdog</td>\n",
       "      <td>Favorite</td>\n",
       "      <td>Away Underdog</td>\n",
       "      <td>Away Favorite</td>\n",
       "      <td>Away</td>\n",
       "      <td>Underdog</td>\n",
       "      <td>Favorite</td>\n",
       "      <td>Away</td>\n",
       "      <td>Away</td>\n",
       "      <td>-100.00</td>\n",
       "      <td>125.00</td>\n",
       "      <td>-100.00</td>\n",
       "      <td>80.00</td>\n",
       "      <td>-100.00</td>\n",
       "      <td>125.0</td>\n",
       "      <td>-100.00</td>\n",
       "      <td>80.00</td>\n",
       "      <td>0.595142</td>\n",
       "      <td>0.444444</td>\n",
       "      <td>0.434783</td>\n",
       "      <td>0.603175</td>\n",
       "      <td>1.039586</td>\n",
       "      <td>1.037957</td>\n",
       "      <td>1</td>\n",
       "      <td>2021</td>\n",
       "      <td>260</td>\n",
       "      <td>Indianapolis Colts</td>\n",
       "      <td>Seattle Seahawks</td>\n",
       "      <td>16</td>\n",
       "      <td>28</td>\n",
       "      <td>44</td>\n",
       "      <td>Away</td>\n",
       "      <td>0</td>\n",
       "      <td>15.851038</td>\n",
       "      <td>22.663891</td>\n",
       "      <td>38.963053</td>\n",
       "      <td>6.812853</td>\n",
       "      <td>-6.812853</td>\n",
       "      <td>1.023249</td>\n",
       "      <td>-1.023249</td>\n",
       "      <td>-100.00</td>\n",
       "      <td>90.09</td>\n",
       "      <td>-9.812853</td>\n",
       "      <td>9.812853</td>\n",
       "      <td>-4.023249</td>\n",
       "      <td>4.023249</td>\n",
       "      <td>-13.036947</td>\n",
       "      <td>9.812853</td>\n",
       "      <td>Away</td>\n",
       "      <td>4.023249</td>\n",
       "      <td>Away</td>\n",
       "      <td>under</td>\n",
       "    </tr>\n",
       "    <tr>\n",
       "      <th>261</th>\n",
       "      <td>274</td>\n",
       "      <td>2021-09-12</td>\n",
       "      <td>Tennessee Titans</td>\n",
       "      <td>Arizona Cardinals</td>\n",
       "      <td>13</td>\n",
       "      <td>38</td>\n",
       "      <td>False</td>\n",
       "      <td>False</td>\n",
       "      <td>False</td>\n",
       "      <td>-3.0</td>\n",
       "      <td>-3.0</td>\n",
       "      <td>3.0</td>\n",
       "      <td>3.0</td>\n",
       "      <td>51.0</td>\n",
       "      <td>51.5</td>\n",
       "      <td>-141.0</td>\n",
       "      <td>-156.0</td>\n",
       "      <td>120.0</td>\n",
       "      <td>135.0</td>\n",
       "      <td>100.0</td>\n",
       "      <td>-105.0</td>\n",
       "      <td>-120.0</td>\n",
       "      <td>-116.0</td>\n",
       "      <td>-111.0</td>\n",
       "      <td>-111.0</td>\n",
       "      <td>-111.0</td>\n",
       "      <td>-111.0</td>\n",
       "      <td>51</td>\n",
       "      <td>Push</td>\n",
       "      <td>Under</td>\n",
       "      <td>25</td>\n",
       "      <td>-25</td>\n",
       "      <td>Underdog</td>\n",
       "      <td>Underdog</td>\n",
       "      <td>Away Underdog</td>\n",
       "      <td>Away Underdog</td>\n",
       "      <td>Away</td>\n",
       "      <td>Underdog</td>\n",
       "      <td>Underdog</td>\n",
       "      <td>Away</td>\n",
       "      <td>Away</td>\n",
       "      <td>-100.00</td>\n",
       "      <td>120.00</td>\n",
       "      <td>-100.00</td>\n",
       "      <td>83.33</td>\n",
       "      <td>-100.00</td>\n",
       "      <td>120.0</td>\n",
       "      <td>-100.00</td>\n",
       "      <td>83.33</td>\n",
       "      <td>0.585062</td>\n",
       "      <td>0.454545</td>\n",
       "      <td>0.609375</td>\n",
       "      <td>0.425532</td>\n",
       "      <td>1.039608</td>\n",
       "      <td>1.034907</td>\n",
       "      <td>1</td>\n",
       "      <td>2021</td>\n",
       "      <td>261</td>\n",
       "      <td>Tennessee Titans</td>\n",
       "      <td>Arizona Cardinals</td>\n",
       "      <td>13</td>\n",
       "      <td>38</td>\n",
       "      <td>51</td>\n",
       "      <td>Away</td>\n",
       "      <td>0</td>\n",
       "      <td>23.469574</td>\n",
       "      <td>24.807407</td>\n",
       "      <td>47.488239</td>\n",
       "      <td>1.337834</td>\n",
       "      <td>-1.337834</td>\n",
       "      <td>-2.062961</td>\n",
       "      <td>2.062961</td>\n",
       "      <td>0.00</td>\n",
       "      <td>0.00</td>\n",
       "      <td>-4.337834</td>\n",
       "      <td>4.337834</td>\n",
       "      <td>-0.937039</td>\n",
       "      <td>0.937039</td>\n",
       "      <td>-3.511761</td>\n",
       "      <td>4.337834</td>\n",
       "      <td>Away</td>\n",
       "      <td>0.937039</td>\n",
       "      <td>Away</td>\n",
       "      <td>under</td>\n",
       "    </tr>\n",
       "    <tr>\n",
       "      <th>262</th>\n",
       "      <td>275</td>\n",
       "      <td>2021-09-12</td>\n",
       "      <td>Washington Football Team</td>\n",
       "      <td>Los Angeles Chargers</td>\n",
       "      <td>16</td>\n",
       "      <td>20</td>\n",
       "      <td>False</td>\n",
       "      <td>False</td>\n",
       "      <td>False</td>\n",
       "      <td>1.0</td>\n",
       "      <td>1.0</td>\n",
       "      <td>-1.0</td>\n",
       "      <td>-1.0</td>\n",
       "      <td>44.5</td>\n",
       "      <td>44.5</td>\n",
       "      <td>105.0</td>\n",
       "      <td>100.0</td>\n",
       "      <td>-125.0</td>\n",
       "      <td>-120.0</td>\n",
       "      <td>-111.0</td>\n",
       "      <td>-111.0</td>\n",
       "      <td>-111.0</td>\n",
       "      <td>-111.0</td>\n",
       "      <td>-111.0</td>\n",
       "      <td>-111.0</td>\n",
       "      <td>-111.0</td>\n",
       "      <td>-111.0</td>\n",
       "      <td>36</td>\n",
       "      <td>Under</td>\n",
       "      <td>Under</td>\n",
       "      <td>4</td>\n",
       "      <td>-4</td>\n",
       "      <td>Favorite</td>\n",
       "      <td>Favorite</td>\n",
       "      <td>Away Favorite</td>\n",
       "      <td>Away Favorite</td>\n",
       "      <td>Away</td>\n",
       "      <td>Favorite</td>\n",
       "      <td>Favorite</td>\n",
       "      <td>Away</td>\n",
       "      <td>Away</td>\n",
       "      <td>-100.00</td>\n",
       "      <td>80.00</td>\n",
       "      <td>-100.00</td>\n",
       "      <td>90.09</td>\n",
       "      <td>80.00</td>\n",
       "      <td>-100.0</td>\n",
       "      <td>90.09</td>\n",
       "      <td>-100.00</td>\n",
       "      <td>0.487805</td>\n",
       "      <td>0.555556</td>\n",
       "      <td>0.500000</td>\n",
       "      <td>0.545455</td>\n",
       "      <td>1.043360</td>\n",
       "      <td>1.045455</td>\n",
       "      <td>1</td>\n",
       "      <td>2021</td>\n",
       "      <td>262</td>\n",
       "      <td>Washington Football Team</td>\n",
       "      <td>Los Angeles Chargers</td>\n",
       "      <td>16</td>\n",
       "      <td>20</td>\n",
       "      <td>36</td>\n",
       "      <td>Away</td>\n",
       "      <td>0</td>\n",
       "      <td>27.242985</td>\n",
       "      <td>20.840780</td>\n",
       "      <td>48.333764</td>\n",
       "      <td>-6.402205</td>\n",
       "      <td>6.402205</td>\n",
       "      <td>1.124565</td>\n",
       "      <td>-1.124565</td>\n",
       "      <td>-100.00</td>\n",
       "      <td>90.09</td>\n",
       "      <td>7.402205</td>\n",
       "      <td>-7.402205</td>\n",
       "      <td>-0.124565</td>\n",
       "      <td>0.124565</td>\n",
       "      <td>3.833764</td>\n",
       "      <td>7.402205</td>\n",
       "      <td>Home</td>\n",
       "      <td>0.124565</td>\n",
       "      <td>Away</td>\n",
       "      <td>over</td>\n",
       "    </tr>\n",
       "    <tr>\n",
       "      <th>263</th>\n",
       "      <td>276</td>\n",
       "      <td>2021-09-09</td>\n",
       "      <td>Tampa Bay Buccaneers</td>\n",
       "      <td>Dallas Cowboys</td>\n",
       "      <td>31</td>\n",
       "      <td>29</td>\n",
       "      <td>False</td>\n",
       "      <td>False</td>\n",
       "      <td>False</td>\n",
       "      <td>-6.5</td>\n",
       "      <td>-7.5</td>\n",
       "      <td>6.5</td>\n",
       "      <td>7.5</td>\n",
       "      <td>51.5</td>\n",
       "      <td>51.5</td>\n",
       "      <td>-270.0</td>\n",
       "      <td>-357.0</td>\n",
       "      <td>220.0</td>\n",
       "      <td>275.0</td>\n",
       "      <td>-111.0</td>\n",
       "      <td>-111.0</td>\n",
       "      <td>-111.0</td>\n",
       "      <td>-111.0</td>\n",
       "      <td>-111.0</td>\n",
       "      <td>-111.0</td>\n",
       "      <td>-111.0</td>\n",
       "      <td>-111.0</td>\n",
       "      <td>60</td>\n",
       "      <td>Over</td>\n",
       "      <td>Over</td>\n",
       "      <td>-2</td>\n",
       "      <td>2</td>\n",
       "      <td>Favorite</td>\n",
       "      <td>Favorite</td>\n",
       "      <td>Home Favorite</td>\n",
       "      <td>Home Favorite</td>\n",
       "      <td>Home</td>\n",
       "      <td>Underdog</td>\n",
       "      <td>Underdog</td>\n",
       "      <td>Away</td>\n",
       "      <td>Away</td>\n",
       "      <td>37.04</td>\n",
       "      <td>-100.00</td>\n",
       "      <td>-100.00</td>\n",
       "      <td>90.09</td>\n",
       "      <td>37.04</td>\n",
       "      <td>-100.0</td>\n",
       "      <td>-100.00</td>\n",
       "      <td>90.09</td>\n",
       "      <td>0.729730</td>\n",
       "      <td>0.312500</td>\n",
       "      <td>0.781182</td>\n",
       "      <td>0.266667</td>\n",
       "      <td>1.042230</td>\n",
       "      <td>1.047848</td>\n",
       "      <td>1</td>\n",
       "      <td>2021</td>\n",
       "      <td>263</td>\n",
       "      <td>Tampa Bay Buccaneers</td>\n",
       "      <td>Dallas Cowboys</td>\n",
       "      <td>31</td>\n",
       "      <td>29</td>\n",
       "      <td>60</td>\n",
       "      <td>Home</td>\n",
       "      <td>1</td>\n",
       "      <td>27.038755</td>\n",
       "      <td>26.055734</td>\n",
       "      <td>52.943710</td>\n",
       "      <td>-0.983021</td>\n",
       "      <td>0.983021</td>\n",
       "      <td>-5.152917</td>\n",
       "      <td>5.152917</td>\n",
       "      <td>90.09</td>\n",
       "      <td>-100.00</td>\n",
       "      <td>-5.516979</td>\n",
       "      <td>5.516979</td>\n",
       "      <td>-1.347083</td>\n",
       "      <td>1.347083</td>\n",
       "      <td>1.443710</td>\n",
       "      <td>5.516979</td>\n",
       "      <td>Away</td>\n",
       "      <td>1.347083</td>\n",
       "      <td>Away</td>\n",
       "      <td>over</td>\n",
       "    </tr>\n",
       "  </tbody>\n",
       "</table>\n",
       "<p>264 rows × 84 columns</p>\n",
       "</div>"
      ],
      "text/plain": [
       "     Unnamed: 0_x        Date                 Home Team             Away Team  \\\n",
       "0               0  2022-01-17          Los Angeles Rams     Arizona Cardinals   \n",
       "1               1  2022-01-16        Kansas City Chiefs   Pittsburgh Steelers   \n",
       "2               2  2022-01-16            Dallas Cowboys   San Francisco 49ers   \n",
       "3               3  2022-01-16      Tampa Bay Buccaneers   Philadelphia Eagles   \n",
       "4               4  2022-01-15             Buffalo Bills  New England Patriots   \n",
       "..            ...         ...                       ...                   ...   \n",
       "259           271  2021-09-12             Detroit Lions   San Francisco 49ers   \n",
       "260           273  2021-09-12        Indianapolis Colts      Seattle Seahawks   \n",
       "261           274  2021-09-12          Tennessee Titans     Arizona Cardinals   \n",
       "262           275  2021-09-12  Washington Football Team  Los Angeles Chargers   \n",
       "263           276  2021-09-09      Tampa Bay Buccaneers        Dallas Cowboys   \n",
       "\n",
       "     Home Score  Away Score  Overtime?  Playoff Game?  Neutral Venue?  \\\n",
       "0            34          11      False           True           False   \n",
       "1            42          21      False           True           False   \n",
       "2            17          23      False           True           False   \n",
       "3            31          15      False           True           False   \n",
       "4            47          17      False           True           False   \n",
       "..          ...         ...        ...            ...             ...   \n",
       "259          33          41      False          False           False   \n",
       "260          16          28      False          False           False   \n",
       "261          13          38      False          False           False   \n",
       "262          16          20      False          False           False   \n",
       "263          31          29      False          False           False   \n",
       "\n",
       "     Home Line Open  Home Line Close  Away Line Open  Away Line Close  \\\n",
       "0              -4.5             -3.5             4.5              3.5   \n",
       "1             -13.5            -12.5            13.5             12.5   \n",
       "2              -3.0             -3.5             3.0              3.5   \n",
       "3              -8.5             -7.0             8.5              7.0   \n",
       "4              -4.5             -4.5             4.5              4.5   \n",
       "..              ...              ...             ...              ...   \n",
       "259             7.5              7.5            -7.5             -7.5   \n",
       "260            -3.0              2.5             3.0             -2.5   \n",
       "261            -3.0             -3.0             3.0              3.0   \n",
       "262             1.0              1.0            -1.0             -1.0   \n",
       "263            -6.5             -7.5             6.5              7.5   \n",
       "\n",
       "     Total Score Open  Total Score Close  Home Odds ML Open  \\\n",
       "0                50.5               49.0             -200.0   \n",
       "1                46.5               47.0             -714.0   \n",
       "2                50.5               51.0             -161.0   \n",
       "3                49.0               47.0             -400.0   \n",
       "4                43.5               43.0             -213.0   \n",
       "..                ...                ...                ...   \n",
       "259              46.0               46.0              325.0   \n",
       "260              52.0               48.5             -147.0   \n",
       "261              51.0               51.5             -141.0   \n",
       "262              44.5               44.5              105.0   \n",
       "263              51.5               51.5             -270.0   \n",
       "\n",
       "     Home Odds ML Close  Away Odds ML Open  Away Odds ML Close  \\\n",
       "0                -172.0              170.0               150.0   \n",
       "1                -833.0              500.0               550.0   \n",
       "2                -185.0              140.0               165.0   \n",
       "3                -370.0              320.0               280.0   \n",
       "4                -222.0              175.0               180.0   \n",
       "..                  ...                ...                 ...   \n",
       "259               290.0             -435.0              -370.0   \n",
       "260               130.0              125.0              -152.0   \n",
       "261              -156.0              120.0               135.0   \n",
       "262               100.0             -125.0              -120.0   \n",
       "263              -357.0              220.0               275.0   \n",
       "\n",
       "     Home Line Odds ML Open  Home Line Odds ML Close  Away Line Odds ML Open  \\\n",
       "0                    -111.0                    100.0                  -111.0   \n",
       "1                    -111.0                   -111.0                  -111.0   \n",
       "2                    -111.0                   -111.0                  -111.0   \n",
       "3                    -111.0                   -116.0                  -111.0   \n",
       "4                    -111.0                   -111.0                  -111.0   \n",
       "..                      ...                      ...                     ...   \n",
       "259                  -111.0                   -116.0                  -111.0   \n",
       "260                   105.0                    100.0                  -125.0   \n",
       "261                   100.0                   -105.0                  -120.0   \n",
       "262                  -111.0                   -111.0                  -111.0   \n",
       "263                  -111.0                   -111.0                  -111.0   \n",
       "\n",
       "     Away Line Odds ML Close  Total Score Over ML Open  \\\n",
       "0                     -120.0                    -111.0   \n",
       "1                     -111.0                    -111.0   \n",
       "2                     -111.0                    -111.0   \n",
       "3                     -105.0                    -111.0   \n",
       "4                     -111.0                    -111.0   \n",
       "..                       ...                       ...   \n",
       "259                   -105.0                    -111.0   \n",
       "260                   -120.0                    -111.0   \n",
       "261                   -116.0                    -111.0   \n",
       "262                   -111.0                    -111.0   \n",
       "263                   -111.0                    -111.0   \n",
       "\n",
       "     Total Score Over ML Close  Total Score Under ML Open  \\\n",
       "0                       -111.0                     -111.0   \n",
       "1                       -111.0                     -111.0   \n",
       "2                       -111.0                     -111.0   \n",
       "3                       -111.0                     -111.0   \n",
       "4                       -111.0                     -111.0   \n",
       "..                         ...                        ...   \n",
       "259                     -111.0                     -111.0   \n",
       "260                     -111.0                     -111.0   \n",
       "261                     -111.0                     -111.0   \n",
       "262                     -111.0                     -111.0   \n",
       "263                     -111.0                     -111.0   \n",
       "\n",
       "     Total Score Under ML Close  Total Score Open Over/Under Result  \\\n",
       "0                        -111.0           45                  Under   \n",
       "1                        -111.0           63                   Over   \n",
       "2                        -111.0           40                  Under   \n",
       "3                        -111.0           46                  Under   \n",
       "4                        -111.0           64                   Over   \n",
       "..                          ...          ...                    ...   \n",
       "259                      -111.0           74                   Over   \n",
       "260                      -111.0           44                  Under   \n",
       "261                      -111.0           51                   Push   \n",
       "262                      -111.0           36                  Under   \n",
       "263                      -111.0           60                   Over   \n",
       "\n",
       "    Closing Over/Under Result  Home Score Actual Line  Away Score Actual Line  \\\n",
       "0                       Under                     -23                      23   \n",
       "1                        Over                     -21                      21   \n",
       "2                       Under                       6                      -6   \n",
       "3                       Under                     -16                      16   \n",
       "4                        Over                     -30                      30   \n",
       "..                        ...                     ...                     ...   \n",
       "259                      Over                       8                      -8   \n",
       "260                     Under                      12                     -12   \n",
       "261                     Under                      25                     -25   \n",
       "262                     Under                       4                      -4   \n",
       "263                      Over                      -2                       2   \n",
       "\n",
       "    Opening Winner Closing Winner Opening Winner Specific  \\\n",
       "0         Favorite       Favorite           Home Favorite   \n",
       "1         Favorite       Favorite           Home Favorite   \n",
       "2         Underdog       Underdog           Away Underdog   \n",
       "3         Favorite       Favorite           Home Favorite   \n",
       "4         Favorite       Favorite           Home Favorite   \n",
       "..             ...            ...                     ...   \n",
       "259       Favorite       Favorite           Away Favorite   \n",
       "260       Underdog       Favorite           Away Underdog   \n",
       "261       Underdog       Underdog           Away Underdog   \n",
       "262       Favorite       Favorite           Away Favorite   \n",
       "263       Favorite       Favorite           Home Favorite   \n",
       "\n",
       "    Closing Winner Specific Winner HA Line Open Cover Line Close Cover  \\\n",
       "0             Home Favorite      Home        Favorite         Favorite   \n",
       "1             Home Favorite      Home        Favorite         Favorite   \n",
       "2             Away Underdog      Away        Underdog         Underdog   \n",
       "3             Home Favorite      Home        Favorite         Favorite   \n",
       "4             Home Favorite      Home        Favorite         Favorite   \n",
       "..                      ...       ...             ...              ...   \n",
       "259           Away Favorite      Away        Favorite         Favorite   \n",
       "260           Away Favorite      Away        Underdog         Favorite   \n",
       "261           Away Underdog      Away        Underdog         Underdog   \n",
       "262           Away Favorite      Away        Favorite         Favorite   \n",
       "263           Home Favorite      Home        Underdog         Underdog   \n",
       "\n",
       "    Line Open Cover HA Line Close Cover HA  Home ML Bet Return  \\\n",
       "0                 Home                Home               50.00   \n",
       "1                 Home                Home               14.01   \n",
       "2                 Away                Away             -100.00   \n",
       "3                 Home                Home               25.00   \n",
       "4                 Home                Home               46.95   \n",
       "..                 ...                 ...                 ...   \n",
       "259               Away                Away             -100.00   \n",
       "260               Away                Away             -100.00   \n",
       "261               Away                Away             -100.00   \n",
       "262               Away                Away             -100.00   \n",
       "263               Away                Away               37.04   \n",
       "\n",
       "     Away ML Bet Return  Home Spread Bet Return  Away Spread Bet Return  \\\n",
       "0               -100.00                   90.09                 -100.00   \n",
       "1               -100.00                   90.09                 -100.00   \n",
       "2                140.00                 -100.00                   90.09   \n",
       "3               -100.00                   90.09                 -100.00   \n",
       "4               -100.00                   90.09                 -100.00   \n",
       "..                  ...                     ...                     ...   \n",
       "259               22.99                 -100.00                   90.09   \n",
       "260              125.00                 -100.00                   80.00   \n",
       "261              120.00                 -100.00                   83.33   \n",
       "262               80.00                 -100.00                   90.09   \n",
       "263             -100.00                 -100.00                   90.09   \n",
       "\n",
       "     Favorite ML Bet Return  Underdog ML Bet Return  \\\n",
       "0                     50.00                  -100.0   \n",
       "1                     14.01                  -100.0   \n",
       "2                   -100.00                   140.0   \n",
       "3                     25.00                  -100.0   \n",
       "4                     46.95                  -100.0   \n",
       "..                      ...                     ...   \n",
       "259                   22.99                  -100.0   \n",
       "260                 -100.00                   125.0   \n",
       "261                 -100.00                   120.0   \n",
       "262                   80.00                  -100.0   \n",
       "263                   37.04                  -100.0   \n",
       "\n",
       "     Favorite Spread Bet Return  Underdog Spread Bet Return  \\\n",
       "0                         90.09                     -100.00   \n",
       "1                         90.09                     -100.00   \n",
       "2                       -100.00                       90.09   \n",
       "3                         90.09                     -100.00   \n",
       "4                         90.09                     -100.00   \n",
       "..                          ...                         ...   \n",
       "259                       90.09                     -100.00   \n",
       "260                     -100.00                       80.00   \n",
       "261                     -100.00                       83.33   \n",
       "262                       90.09                     -100.00   \n",
       "263                     -100.00                       90.09   \n",
       "\n",
       "     implied_prob_home_open  implied_prob_away_open  implied_prob_home_close  \\\n",
       "0                  0.666667                0.370370                 0.632353   \n",
       "1                  0.877150                0.166667                 0.892819   \n",
       "2                  0.616858                0.416667                 0.649123   \n",
       "3                  0.800000                0.238095                 0.787234   \n",
       "4                  0.680511                0.363636                 0.689441   \n",
       "..                      ...                     ...                      ...   \n",
       "259                0.235294                0.813084                 0.256410   \n",
       "260                0.595142                0.444444                 0.434783   \n",
       "261                0.585062                0.454545                 0.609375   \n",
       "262                0.487805                0.555556                 0.500000   \n",
       "263                0.729730                0.312500                 0.781182   \n",
       "\n",
       "     implied_prob_away_close  total_implied_prob_open  \\\n",
       "0                   0.400000                 1.037037   \n",
       "1                   0.153846                 1.043817   \n",
       "2                   0.377358                 1.033525   \n",
       "3                   0.263158                 1.038095   \n",
       "4                   0.357143                 1.044148   \n",
       "..                       ...                      ...   \n",
       "259                 0.787234                 1.048378   \n",
       "260                 0.603175                 1.039586   \n",
       "261                 0.425532                 1.039608   \n",
       "262                 0.545455                 1.043360   \n",
       "263                 0.266667                 1.042230   \n",
       "\n",
       "     total_implied_prob_close  week  season  Unnamed: 0_y  \\\n",
       "0                    1.032353    19    2021             0   \n",
       "1                    1.046665    19    2021             1   \n",
       "2                    1.026481    19    2021             2   \n",
       "3                    1.050392    19    2021             3   \n",
       "4                    1.046584    19    2021             4   \n",
       "..                        ...   ...     ...           ...   \n",
       "259                  1.043644     1    2021           259   \n",
       "260                  1.037957     1    2021           260   \n",
       "261                  1.034907     1    2021           261   \n",
       "262                  1.045455     1    2021           262   \n",
       "263                  1.047848     1    2021           263   \n",
       "\n",
       "                       home_x                away_x  home_score  away_score  \\\n",
       "0            Los Angeles Rams     Arizona Cardinals          34          11   \n",
       "1          Kansas City Chiefs   Pittsburgh Steelers          42          21   \n",
       "2              Dallas Cowboys   San Francisco 49ers          17          23   \n",
       "3        Tampa Bay Buccaneers   Philadelphia Eagles          31          15   \n",
       "4               Buffalo Bills  New England Patriots          47          17   \n",
       "..                        ...                   ...         ...         ...   \n",
       "259             Detroit Lions   San Francisco 49ers          33          41   \n",
       "260        Indianapolis Colts      Seattle Seahawks          16          28   \n",
       "261          Tennessee Titans     Arizona Cardinals          13          38   \n",
       "262  Washington Football Team  Los Angeles Chargers          16          20   \n",
       "263      Tampa Bay Buccaneers        Dallas Cowboys          31          29   \n",
       "\n",
       "     total_score winner  home_win  home_score_pred  away_score_pred  \\\n",
       "0             45   Home         1        25.336177        22.903473   \n",
       "1             63   Home         1        29.034506        20.149831   \n",
       "2             40   Away         0        29.204910        20.528647   \n",
       "3             46   Home         1        24.252277        21.560780   \n",
       "4             64   Home         1        27.971527        18.806254   \n",
       "..           ...    ...       ...              ...              ...   \n",
       "259           74   Away         0        22.345221        24.252518   \n",
       "260           44   Away         0        15.851038        22.663891   \n",
       "261           51   Away         0        23.469574        24.807407   \n",
       "262           36   Away         0        27.242985        20.840780   \n",
       "263           60   Home         1        27.038755        26.055734   \n",
       "\n",
       "     total_score_pred  home_spread_algo  away_spread_algo  home_spread_elo  \\\n",
       "0           48.668136         -2.432703          2.432703        -3.300755   \n",
       "1           49.473663         -8.884675          8.884675        -6.687744   \n",
       "2           49.783347         -8.676262          8.676262        -1.883657   \n",
       "3           46.149105         -2.691497          2.691497        -5.634525   \n",
       "4           46.979024         -9.165272          9.165272        -2.775093   \n",
       "..                ...               ...               ...              ...   \n",
       "259         47.006921          1.907297         -1.907297         7.140008   \n",
       "260         38.963053          6.812853         -6.812853         1.023249   \n",
       "261         47.488239          1.337834         -1.337834        -2.062961   \n",
       "262         48.333764         -6.402205          6.402205         1.124565   \n",
       "263         52.943710         -0.983021          0.983021        -5.152917   \n",
       "\n",
       "     away_spread_elo  over_bet_return  under_bet_return  home_line_diff_algo  \\\n",
       "0           3.300755          -100.00             90.09            -2.067297   \n",
       "1           6.687744            90.09           -100.00            -4.615325   \n",
       "2           1.883657          -100.00             90.09             5.676262   \n",
       "3           5.634525          -100.00             90.09            -5.808503   \n",
       "4           2.775093            90.09           -100.00             4.665272   \n",
       "..               ...              ...               ...                  ...   \n",
       "259        -7.140008            90.09           -100.00             5.592703   \n",
       "260        -1.023249          -100.00             90.09            -9.812853   \n",
       "261         2.062961             0.00              0.00            -4.337834   \n",
       "262        -1.124565          -100.00             90.09             7.402205   \n",
       "263         5.152917            90.09           -100.00            -5.516979   \n",
       "\n",
       "     away_line_diff_algo  home_line_diff_elo  away_line_diff_elo  \\\n",
       "0               2.067297           -1.199245            1.199245   \n",
       "1               4.615325           -6.812256            6.812256   \n",
       "2              -5.676262           -1.116343            1.116343   \n",
       "3               5.808503           -2.865475            2.865475   \n",
       "4              -4.665272           -1.724907            1.724907   \n",
       "..                   ...                 ...                 ...   \n",
       "259            -5.592703            0.359992           -0.359992   \n",
       "260             9.812853           -4.023249            4.023249   \n",
       "261             4.337834           -0.937039            0.937039   \n",
       "262            -7.402205           -0.124565            0.124565   \n",
       "263             5.516979           -1.347083            1.347083   \n",
       "\n",
       "     total_score_diff_algo  best_spread_advantage_algo  \\\n",
       "0                -1.831864                    2.067297   \n",
       "1                 2.973663                    4.615325   \n",
       "2                -0.716653                    5.676262   \n",
       "3                -2.850895                    5.808503   \n",
       "4                 3.479024                    4.665272   \n",
       "..                     ...                         ...   \n",
       "259               1.006921                    5.592703   \n",
       "260             -13.036947                    9.812853   \n",
       "261              -3.511761                    4.337834   \n",
       "262               3.833764                    7.402205   \n",
       "263               1.443710                    5.516979   \n",
       "\n",
       "    spread_advantage_team_algo  best_spread_advantage_elo  \\\n",
       "0                         Away                   1.199245   \n",
       "1                         Away                   6.812256   \n",
       "2                         Home                   1.116343   \n",
       "3                         Away                   2.865475   \n",
       "4                         Home                   1.724907   \n",
       "..                         ...                        ...   \n",
       "259                       Home                   0.359992   \n",
       "260                       Away                   4.023249   \n",
       "261                       Away                   0.937039   \n",
       "262                       Home                   0.124565   \n",
       "263                       Away                   1.347083   \n",
       "\n",
       "    spread_advantage_team_elo ou_advantage  \n",
       "0                        Away        under  \n",
       "1                        Away         over  \n",
       "2                        Away        under  \n",
       "3                        Away        under  \n",
       "4                        Away         over  \n",
       "..                        ...          ...  \n",
       "259                      Home         over  \n",
       "260                      Away        under  \n",
       "261                      Away        under  \n",
       "262                      Away         over  \n",
       "263                      Away         over  \n",
       "\n",
       "[264 rows x 84 columns]"
      ]
     },
     "execution_count": 7,
     "metadata": {},
     "output_type": "execute_result"
    }
   ],
   "source": [
    "gambling_df[['best_spread_advantage_algo', 'spread_advantage_team_algo']] = gambling_df.apply(lambda x: get_best_spread_advantage_algo(x), axis=1, result_type='expand')\n",
    "gambling_df[['best_spread_advantage_elo', 'spread_advantage_team_elo']] = gambling_df.apply(lambda x: get_best_spread_advantage_elo(x), axis=1, result_type='expand')\n",
    "gambling_df['ou_advantage'] = gambling_df.apply(lambda x: get_best_ou_advantage_algo(x), axis=1)\n",
    "gambling_df.to_csv('../data/spreads_test_set_results.csv')\n",
    "gambling_df"
   ]
  },
  {
   "cell_type": "code",
   "execution_count": 8,
   "metadata": {},
   "outputs": [
    {
     "data": {
      "text/plain": [
       "<matplotlib.axes._subplots.AxesSubplot at 0x11fd96b1c10>"
      ]
     },
     "execution_count": 8,
     "metadata": {},
     "output_type": "execute_result"
    },
    {
     "data": {
      "image/png": "[encoded data removed]",
      "text/plain": [
       "<Figure size 432x288 with 1 Axes>"
      ]
     },
     "metadata": {
      "needs_background": "light"
     },
     "output_type": "display_data"
    }
   ],
   "source": [
    "# Using spread advantage of one point\n",
    "\n",
    "bets_100_01_ps_algo = gambling_df.copy()\n",
    "bets_100_01_ps_algo['returns'] = bets_100_01_ps_algo.apply(lambda x: get_return_100_spread_algo(x, 1), axis=1)\n",
    "bets_100_01_ps_algo.groupby(by=['week']).sum()['returns'].reset_index().plot.bar(x='week', y='returns')"
   ]
  },
  {
   "cell_type": "code",
   "execution_count": 9,
   "metadata": {},
   "outputs": [
    {
     "data": {
      "text/plain": [
       "-220.37000000000012"
      ]
     },
     "execution_count": 9,
     "metadata": {},
     "output_type": "execute_result"
    }
   ],
   "source": [
    "bets_100_01_ps_algo.sum()['returns']"
   ]
  },
  {
   "cell_type": "code",
   "execution_count": 10,
   "metadata": {},
   "outputs": [
    {
     "data": {
      "text/plain": [
       "264"
      ]
     },
     "execution_count": 10,
     "metadata": {},
     "output_type": "execute_result"
    }
   ],
   "source": [
    "len(bets_100_01_ps_algo)"
   ]
  },
  {
   "cell_type": "code",
   "execution_count": 11,
   "metadata": {},
   "outputs": [
    {
     "data": {
      "text/plain": [
       "212"
      ]
     },
     "execution_count": 11,
     "metadata": {},
     "output_type": "execute_result"
    }
   ],
   "source": [
    "len(bets_100_01_ps_algo[bets_100_01_ps_algo.returns != 0])"
   ]
  },
  {
   "cell_type": "code",
   "execution_count": 12,
   "metadata": {},
   "outputs": [
    {
     "data": {
      "text/plain": [
       "<matplotlib.axes._subplots.AxesSubplot at 0x11fd9ea7790>"
      ]
     },
     "execution_count": 12,
     "metadata": {},
     "output_type": "execute_result"
    },
    {
     "data": {
      "image/png": "[encoded data removed]",
      "text/plain": [
       "<Figure size 432x288 with 1 Axes>"
      ]
     },
     "metadata": {
      "needs_background": "light"
     },
     "output_type": "display_data"
    }
   ],
   "source": [
    "# Using spread advantage of two points\n",
    "\n",
    "bets_100_02_ps_algo = gambling_df.copy()\n",
    "bets_100_02_ps_algo['returns'] = bets_100_02_ps_algo.apply(lambda x: get_return_100_spread_algo(x, 2), axis=1)\n",
    "bets_100_02_ps_algo.groupby(by=['week']).sum()['returns'].reset_index().plot.bar(x='week', y='returns')"
   ]
  },
  {
   "cell_type": "code",
   "execution_count": 13,
   "metadata": {},
   "outputs": [
    {
     "data": {
      "text/plain": [
       "-620.4999999999998"
      ]
     },
     "execution_count": 13,
     "metadata": {},
     "output_type": "execute_result"
    }
   ],
   "source": [
    "bets_100_02_ps_algo.sum()['returns']"
   ]
  },
  {
   "cell_type": "code",
   "execution_count": 14,
   "metadata": {},
   "outputs": [
    {
     "data": {
      "text/plain": [
       "170"
      ]
     },
     "execution_count": 14,
     "metadata": {},
     "output_type": "execute_result"
    }
   ],
   "source": [
    "len(bets_100_02_ps_algo[bets_100_02_ps_algo.returns != 0])"
   ]
  },
  {
   "cell_type": "code",
   "execution_count": 15,
   "metadata": {},
   "outputs": [
    {
     "data": {
      "text/plain": [
       "<matplotlib.axes._subplots.AxesSubplot at 0x11fd9f7b340>"
      ]
     },
     "execution_count": 15,
     "metadata": {},
     "output_type": "execute_result"
    },
    {
     "data": {
      "image/png": "[encoded data removed]",
      "text/plain": [
       "<Figure size 432x288 with 1 Axes>"
      ]
     },
     "metadata": {
      "needs_background": "light"
     },
     "output_type": "display_data"
    }
   ],
   "source": [
    "# Using spread advantage of three points\n",
    "\n",
    "bets_100_03_ps_algo = gambling_df.copy()\n",
    "bets_100_03_ps_algo['returns'] = bets_100_03_ps_algo.apply(lambda x: get_return_100_spread_algo(x, 3), axis=1)\n",
    "bets_100_03_ps_algo.groupby(by=['week']).sum()['returns'].reset_index().plot.bar(x='week', y='returns')"
   ]
  },
  {
   "cell_type": "code",
   "execution_count": 16,
   "metadata": {},
   "outputs": [
    {
     "data": {
      "text/plain": [
       "850.2100000000002"
      ]
     },
     "execution_count": 16,
     "metadata": {},
     "output_type": "execute_result"
    }
   ],
   "source": [
    "bets_100_03_ps_algo.sum()['returns']"
   ]
  },
  {
   "cell_type": "code",
   "execution_count": 17,
   "metadata": {},
   "outputs": [
    {
     "data": {
      "text/plain": [
       "129"
      ]
     },
     "execution_count": 17,
     "metadata": {},
     "output_type": "execute_result"
    }
   ],
   "source": [
    "len(bets_100_03_ps_algo[bets_100_03_ps_algo.returns != 0])"
   ]
  },
  {
   "cell_type": "code",
   "execution_count": 18,
   "metadata": {},
   "outputs": [
    {
     "data": {
      "text/plain": [
       "<matplotlib.axes._subplots.AxesSubplot at 0x11fd9fb60a0>"
      ]
     },
     "execution_count": 18,
     "metadata": {},
     "output_type": "execute_result"
    },
    {
     "data": {
      "image/png": "[encoded data removed]",
      "text/plain": [
       "<Figure size 432x288 with 1 Axes>"
      ]
     },
     "metadata": {
      "needs_background": "light"
     },
     "output_type": "display_data"
    }
   ],
   "source": [
    "# Using spread advantage of four points\n",
    "\n",
    "bets_100_04_ps_algo = gambling_df.copy()\n",
    "bets_100_04_ps_algo['returns'] = bets_100_04_ps_algo.apply(lambda x: get_return_100_spread_algo(x, 4), axis=1)\n",
    "bets_100_04_ps_algo.groupby(by=['week']).sum()['returns'].reset_index().plot.bar(x='week', y='returns')"
   ]
  },
  {
   "cell_type": "code",
   "execution_count": 19,
   "metadata": {},
   "outputs": [
    {
     "data": {
      "text/plain": [
       "909.8999999999997"
      ]
     },
     "execution_count": 19,
     "metadata": {},
     "output_type": "execute_result"
    }
   ],
   "source": [
    "bets_100_04_ps_algo.sum()['returns']"
   ]
  },
  {
   "cell_type": "code",
   "execution_count": 20,
   "metadata": {},
   "outputs": [
    {
     "data": {
      "text/plain": [
       "92"
      ]
     },
     "execution_count": 20,
     "metadata": {},
     "output_type": "execute_result"
    }
   ],
   "source": [
    "len(bets_100_04_ps_algo[bets_100_04_ps_algo.returns != 0])"
   ]
  },
  {
   "cell_type": "code",
   "execution_count": 21,
   "metadata": {},
   "outputs": [
    {
     "data": {
      "text/plain": [
       "<matplotlib.axes._subplots.AxesSubplot at 0x11fda0be460>"
      ]
     },
     "execution_count": 21,
     "metadata": {},
     "output_type": "execute_result"
    },
    {
     "data": {
      "image/png": "[encoded data removed]",
      "text/plain": [
       "<Figure size 432x288 with 1 Axes>"
      ]
     },
     "metadata": {
      "needs_background": "light"
     },
     "output_type": "display_data"
    }
   ],
   "source": [
    "# Using spread advantage of five points\n",
    "\n",
    "bets_100_05_ps_algo = gambling_df.copy()\n",
    "bets_100_05_ps_algo['returns'] = bets_100_05_ps_algo.apply(lambda x: get_return_100_spread_algo(x, 5), axis=1)\n",
    "bets_100_05_ps_algo.groupby(by=['week']).sum()['returns'].reset_index().plot.bar(x='week', y='returns')"
   ]
  },
  {
   "cell_type": "code",
   "execution_count": 22,
   "metadata": {},
   "outputs": [
    {
     "data": {
      "text/plain": [
       "870.1100000000001"
      ]
     },
     "execution_count": 22,
     "metadata": {},
     "output_type": "execute_result"
    }
   ],
   "source": [
    "bets_100_05_ps_algo.sum()['returns']"
   ]
  },
  {
   "cell_type": "code",
   "execution_count": 23,
   "metadata": {},
   "outputs": [
    {
     "data": {
      "text/plain": [
       "56"
      ]
     },
     "execution_count": 23,
     "metadata": {},
     "output_type": "execute_result"
    }
   ],
   "source": [
    "len(bets_100_05_ps_algo[bets_100_05_ps_algo.returns != 0])"
   ]
  },
  {
   "cell_type": "code",
   "execution_count": 24,
   "metadata": {},
   "outputs": [
    {
     "data": {
      "text/plain": [
       "<matplotlib.axes._subplots.AxesSubplot at 0x11fd9fa3160>"
      ]
     },
     "execution_count": 24,
     "metadata": {},
     "output_type": "execute_result"
    },
    {
     "data": {
      "image/png": "[encoded data removed]",
      "text/plain": [
       "<Figure size 432x288 with 1 Axes>"
      ]
     },
     "metadata": {
      "needs_background": "light"
     },
     "output_type": "display_data"
    }
   ],
   "source": [
    "# Look at all of the above, but for elo model\n",
    "\n",
    "# Using spread advantage of one point\n",
    "\n",
    "bets_100_01_ps_elo = gambling_df.copy()\n",
    "bets_100_01_ps_elo['returns'] = bets_100_01_ps_elo.apply(lambda x: get_return_100_spread_elo(x, 1), axis=1)\n",
    "bets_100_01_ps_elo.groupby(by=['week']).sum()['returns'].reset_index().plot.bar(x='week', y='returns')"
   ]
  },
  {
   "cell_type": "code",
   "execution_count": 25,
   "metadata": {},
   "outputs": [
    {
     "data": {
      "text/plain": [
       "-1066.6999999999996"
      ]
     },
     "execution_count": 25,
     "metadata": {},
     "output_type": "execute_result"
    }
   ],
   "source": [
    "bets_100_01_ps_elo.sum()['returns']"
   ]
  },
  {
   "cell_type": "code",
   "execution_count": 26,
   "metadata": {},
   "outputs": [
    {
     "data": {
      "text/plain": [
       "194"
      ]
     },
     "execution_count": 26,
     "metadata": {},
     "output_type": "execute_result"
    }
   ],
   "source": [
    "len(bets_100_01_ps_elo[bets_100_01_ps_elo.returns != 0])"
   ]
  },
  {
   "cell_type": "code",
   "execution_count": 27,
   "metadata": {},
   "outputs": [
    {
     "data": {
      "text/plain": [
       "<matplotlib.axes._subplots.AxesSubplot at 0x11fda1af5b0>"
      ]
     },
     "execution_count": 27,
     "metadata": {},
     "output_type": "execute_result"
    },
    {
     "data": {
      "image/png": "[encoded data removed]",
      "text/plain": [
       "<Figure size 432x288 with 1 Axes>"
      ]
     },
     "metadata": {
      "needs_background": "light"
     },
     "output_type": "display_data"
    }
   ],
   "source": [
    "# Look at all of the above, but for elo model\n",
    "\n",
    "# Using spread advantage of two point\n",
    "\n",
    "bets_100_02_ps_elo = gambling_df.copy()\n",
    "bets_100_02_ps_elo['returns'] = bets_100_02_ps_elo.apply(lambda x: get_return_100_spread_elo(x, 2), axis=1)\n",
    "bets_100_02_ps_elo.groupby(by=['week']).sum()['returns'].reset_index().plot.bar(x='week', y='returns')"
   ]
  },
  {
   "cell_type": "code",
   "execution_count": 28,
   "metadata": {},
   "outputs": [
    {
     "data": {
      "text/plain": [
       "-2339.8899999999994"
      ]
     },
     "execution_count": 28,
     "metadata": {},
     "output_type": "execute_result"
    }
   ],
   "source": [
    "bets_100_02_ps_elo.sum()['returns']"
   ]
  },
  {
   "cell_type": "code",
   "execution_count": 29,
   "metadata": {},
   "outputs": [
    {
     "data": {
      "text/plain": [
       "131"
      ]
     },
     "execution_count": 29,
     "metadata": {},
     "output_type": "execute_result"
    }
   ],
   "source": [
    "len(bets_100_02_ps_elo[bets_100_02_ps_elo.returns != 0])"
   ]
  },
  {
   "cell_type": "code",
   "execution_count": 30,
   "metadata": {},
   "outputs": [
    {
     "data": {
      "text/plain": [
       "<matplotlib.axes._subplots.AxesSubplot at 0x11fda208e20>"
      ]
     },
     "execution_count": 30,
     "metadata": {},
     "output_type": "execute_result"
    },
    {
     "data": {
      "image/png": "[encoded data removed]",
      "text/plain": [
       "<Figure size 432x288 with 1 Axes>"
      ]
     },
     "metadata": {
      "needs_background": "light"
     },
     "output_type": "display_data"
    }
   ],
   "source": [
    "# Look at all of the above, but for elo model\n",
    "\n",
    "# Using spread advantage of three points\n",
    "\n",
    "bets_100_03_ps_elo = gambling_df.copy()\n",
    "bets_100_03_ps_elo['returns'] = bets_100_03_ps_elo.apply(lambda x: get_return_100_spread_elo(x, 3), axis=1)\n",
    "bets_100_03_ps_elo.groupby(by=['week']).sum()['returns'].reset_index().plot.bar(x='week', y='returns')"
   ]
  },
  {
   "cell_type": "code",
   "execution_count": 31,
   "metadata": {},
   "outputs": [
    {
     "data": {
      "text/plain": [
       "-2486.94"
      ]
     },
     "execution_count": 31,
     "metadata": {},
     "output_type": "execute_result"
    }
   ],
   "source": [
    "bets_100_03_ps_elo.sum()['returns']"
   ]
  },
  {
   "cell_type": "code",
   "execution_count": 32,
   "metadata": {},
   "outputs": [
    {
     "data": {
      "text/plain": [
       "81"
      ]
     },
     "execution_count": 32,
     "metadata": {},
     "output_type": "execute_result"
    }
   ],
   "source": [
    "len(bets_100_03_ps_elo[bets_100_03_ps_elo.returns != 0])"
   ]
  },
  {
   "cell_type": "code",
   "execution_count": 33,
   "metadata": {},
   "outputs": [
    {
     "data": {
      "text/plain": [
       "<matplotlib.axes._subplots.AxesSubplot at 0x11fda3433a0>"
      ]
     },
     "execution_count": 33,
     "metadata": {},
     "output_type": "execute_result"
    },
    {
     "data": {
      "image/png": "[encoded data removed]",
      "text/plain": [
       "<Figure size 432x288 with 1 Axes>"
      ]
     },
     "metadata": {
      "needs_background": "light"
     },
     "output_type": "display_data"
    }
   ],
   "source": [
    "# Look at all of the above, but for elo model\n",
    "\n",
    "# Using spread advantage of four point\n",
    "\n",
    "bets_100_04_ps_elo = gambling_df.copy()\n",
    "bets_100_04_ps_elo['returns'] = bets_100_04_ps_elo.apply(lambda x: get_return_100_spread_elo(x, 4), axis=1)\n",
    "bets_100_04_ps_elo.groupby(by=['week']).sum()['returns'].reset_index().plot.bar(x='week', y='returns')"
   ]
  },
  {
   "cell_type": "code",
   "execution_count": 34,
   "metadata": {},
   "outputs": [
    {
     "data": {
      "text/plain": [
       "-1693.9799999999998"
      ]
     },
     "execution_count": 34,
     "metadata": {},
     "output_type": "execute_result"
    }
   ],
   "source": [
    "bets_100_04_ps_elo.sum()['returns']"
   ]
  },
  {
   "cell_type": "code",
   "execution_count": 35,
   "metadata": {},
   "outputs": [
    {
     "data": {
      "text/plain": [
       "43"
      ]
     },
     "execution_count": 35,
     "metadata": {},
     "output_type": "execute_result"
    }
   ],
   "source": [
    "len(bets_100_04_ps_elo[bets_100_04_ps_elo.returns != 0])"
   ]
  },
  {
   "cell_type": "code",
   "execution_count": 36,
   "metadata": {},
   "outputs": [
    {
     "data": {
      "text/plain": [
       "<matplotlib.axes._subplots.AxesSubplot at 0x11fda28feb0>"
      ]
     },
     "execution_count": 36,
     "metadata": {},
     "output_type": "execute_result"
    },
    {
     "data": {
      "image/png": "[encoded data removed]",
      "text/plain": [
       "<Figure size 432x288 with 1 Axes>"
      ]
     },
     "metadata": {
      "needs_background": "light"
     },
     "output_type": "display_data"
    }
   ],
   "source": [
    "# Look at all of the above, but for elo model\n",
    "\n",
    "# Using spread advantage of five points\n",
    "\n",
    "bets_100_05_ps_elo = gambling_df.copy()\n",
    "bets_100_05_ps_elo['returns'] = bets_100_05_ps_elo.apply(lambda x: get_return_100_spread_elo(x, 5), axis=1)\n",
    "bets_100_05_ps_elo.groupby(by=['week']).sum()['returns'].reset_index().plot.bar(x='week', y='returns')"
   ]
  },
  {
   "cell_type": "code",
   "execution_count": 37,
   "metadata": {},
   "outputs": [
    {
     "data": {
      "text/plain": [
       "-1149.7299999999998"
      ]
     },
     "execution_count": 37,
     "metadata": {},
     "output_type": "execute_result"
    }
   ],
   "source": [
    "bets_100_05_ps_elo.sum()['returns']"
   ]
  },
  {
   "cell_type": "code",
   "execution_count": 38,
   "metadata": {},
   "outputs": [
    {
     "data": {
      "text/plain": [
       "19"
      ]
     },
     "execution_count": 38,
     "metadata": {},
     "output_type": "execute_result"
    }
   ],
   "source": [
    "len(bets_100_05_ps_elo[bets_100_05_ps_elo.returns != 0])"
   ]
  },
  {
   "cell_type": "code",
   "execution_count": 39,
   "metadata": {},
   "outputs": [
    {
     "name": "stdout",
     "output_type": "stream",
     "text": [
      "Average Random Return: -867.3341669999998\n"
     ]
    },
    {
     "data": {
      "image/png": "[encoded data removed]",
      "text/plain": [
       "<Figure size 432x288 with 1 Axes>"
      ]
     },
     "metadata": {
      "needs_background": "light"
     },
     "output_type": "display_data"
    }
   ],
   "source": [
    "# Check winnings from random betting model for 190 games (approx same as threshold=1)\n",
    "\n",
    "total_return_list = []\n",
    "simulations = 10000\n",
    "\n",
    "for i in range(simulations):\n",
    "    gambling_sample = gambling_df.sample(n=195)\n",
    "    gambling_sample['return'] = gambling_sample.apply(lambda x: get_return_100_spread_random(x), axis=1)\n",
    "    total_return_list.append(gambling_sample.sum()['return'])\n",
    "\n",
    "print('Average Random Return: {}'.format(np.mean(total_return_list)))\n",
    "\n",
    "plt.plot()\n",
    "plt.hist(total_return_list)\n",
    "plt.show()"
   ]
  },
  {
   "cell_type": "code",
   "execution_count": 40,
   "metadata": {},
   "outputs": [
    {
     "name": "stdout",
     "output_type": "stream",
     "text": [
      "Percentile of breaking even: 73.97\n",
      "Percentile of algorithm winnings: 68.37\n",
      "Percentile of elo winnings: 44.1\n"
     ]
    }
   ],
   "source": [
    "# Check where algorithm, elo would have fallen in terms of random guessing percentile\n",
    "\n",
    "break_even_percentile = scipy.stats.percentileofscore(total_return_list, 0)\n",
    "approx_algo_winnings = -220\n",
    "approx_elo_winnings = -1066\n",
    "algo_percentile = scipy.stats.percentileofscore(total_return_list, approx_algo_winnings)\n",
    "elo_percentile = scipy.stats.percentileofscore(total_return_list, approx_elo_winnings)\n",
    "\n",
    "print('Percentile of breaking even: {}'.format(break_even_percentile))\n",
    "\n",
    "print('Percentile of algorithm winnings: {}'.format(algo_percentile))\n",
    "\n",
    "print('Percentile of elo winnings: {}'.format(elo_percentile))"
   ]
  },
  {
   "cell_type": "code",
   "execution_count": 41,
   "metadata": {},
   "outputs": [
    {
     "name": "stdout",
     "output_type": "stream",
     "text": [
      "Average Random Return: -656.9461469999999\n"
     ]
    },
    {
     "data": {
      "image/png": "[encoded data removed]",
      "text/plain": [
       "<Figure size 432x288 with 1 Axes>"
      ]
     },
     "metadata": {
      "needs_background": "light"
     },
     "output_type": "display_data"
    }
   ],
   "source": [
    "# Check winnings from random betting model for 150 games (approx same as threshold=2)\n",
    "\n",
    "total_return_list = []\n",
    "simulations = 10000\n",
    "\n",
    "for i in range(simulations):\n",
    "    gambling_sample = gambling_df.sample(n=150)\n",
    "    gambling_sample['return'] = gambling_sample.apply(lambda x: get_return_100_spread_random(x), axis=1)\n",
    "    total_return_list.append(gambling_sample.sum()['return'])\n",
    "\n",
    "print('Average Random Return: {}'.format(np.mean(total_return_list)))\n",
    "\n",
    "plt.plot()\n",
    "plt.hist(total_return_list)\n",
    "plt.show()"
   ]
  },
  {
   "cell_type": "code",
   "execution_count": 42,
   "metadata": {},
   "outputs": [
    {
     "name": "stdout",
     "output_type": "stream",
     "text": [
      "Percentile of breaking even: 71.31\n",
      "Percentile of algorithm winnings: 51.26\n",
      "Percentile of elo winnings: 8.75\n"
     ]
    }
   ],
   "source": [
    "# Check where algorithm, elo would have fallen in terms of random guessing percentile\n",
    "\n",
    "break_even_percentile = scipy.stats.percentileofscore(total_return_list, 0)\n",
    "approx_algo_winnings = -620\n",
    "approx_elo_winnings = -2239\n",
    "algo_percentile = scipy.stats.percentileofscore(total_return_list, approx_algo_winnings)\n",
    "elo_percentile = scipy.stats.percentileofscore(total_return_list, approx_elo_winnings)\n",
    "\n",
    "print('Percentile of breaking even: {}'.format(break_even_percentile))\n",
    "\n",
    "print('Percentile of algorithm winnings: {}'.format(algo_percentile))\n",
    "\n",
    "print('Percentile of elo winnings: {}'.format(elo_percentile))"
   ]
  },
  {
   "cell_type": "code",
   "execution_count": 43,
   "metadata": {},
   "outputs": [
    {
     "name": "stdout",
     "output_type": "stream",
     "text": [
      "Average Random Return: -471.49085199999985\n"
     ]
    },
    {
     "data": {
      "image/png": "[encoded data removed]",
      "text/plain": [
       "<Figure size 432x288 with 1 Axes>"
      ]
     },
     "metadata": {
      "needs_background": "light"
     },
     "output_type": "display_data"
    }
   ],
   "source": [
    "# Check winnings from random betting model for 105 games (approx same as threshold=3)\n",
    "\n",
    "total_return_list = []\n",
    "simulations = 10000\n",
    "\n",
    "for i in range(simulations):\n",
    "    gambling_sample = gambling_df.sample(n=105)\n",
    "    gambling_sample['return'] = gambling_sample.apply(lambda x: get_return_100_spread_random(x), axis=1)\n",
    "    total_return_list.append(gambling_sample.sum()['return'])\n",
    "\n",
    "print('Average Random Return: {}'.format(np.mean(total_return_list)))\n",
    "\n",
    "plt.plot()\n",
    "plt.hist(total_return_list)\n",
    "plt.show()"
   ]
  },
  {
   "cell_type": "code",
   "execution_count": 44,
   "metadata": {},
   "outputs": [
    {
     "name": "stdout",
     "output_type": "stream",
     "text": [
      "Percentile of breaking even: 68.48\n",
      "Percentile of algorithm winnings: 90.97\n",
      "Percentile of elo winnings: 1.89\n"
     ]
    }
   ],
   "source": [
    "# Check where algorithm, elo would have fallen in terms of random guessing percentile\n",
    "\n",
    "break_even_percentile = scipy.stats.percentileofscore(total_return_list, 0)\n",
    "approx_algo_winnings = 850\n",
    "approx_elo_winnings = -2486\n",
    "algo_percentile = scipy.stats.percentileofscore(total_return_list, approx_algo_winnings)\n",
    "elo_percentile = scipy.stats.percentileofscore(total_return_list, approx_elo_winnings)\n",
    "\n",
    "print('Percentile of breaking even: {}'.format(break_even_percentile))\n",
    "\n",
    "print('Percentile of algorithm winnings: {}'.format(algo_percentile))\n",
    "\n",
    "print('Percentile of elo winnings: {}'.format(elo_percentile))"
   ]
  },
  {
   "cell_type": "code",
   "execution_count": 45,
   "metadata": {},
   "outputs": [
    {
     "name": "stdout",
     "output_type": "stream",
     "text": [
      "Average Random Return: -311.22721999999993\n"
     ]
    },
    {
     "data": {
      "image/png": "[encoded data removed]",
      "text/plain": [
       "<Figure size 432x288 with 1 Axes>"
      ]
     },
     "metadata": {
      "needs_background": "light"
     },
     "output_type": "display_data"
    }
   ],
   "source": [
    "# Check winnings from random betting model for 70 games (approx same as threshold=4)\n",
    "\n",
    "total_return_list = []\n",
    "simulations = 10000\n",
    "\n",
    "for i in range(simulations):\n",
    "    gambling_sample = gambling_df.sample(n=70)\n",
    "    gambling_sample['return'] = gambling_sample.apply(lambda x: get_return_100_spread_random(x), axis=1)\n",
    "    total_return_list.append(gambling_sample.sum()['return'])\n",
    "\n",
    "print('Average Random Return: {}'.format(np.mean(total_return_list)))\n",
    "\n",
    "plt.plot()\n",
    "plt.hist(total_return_list)\n",
    "plt.show()"
   ]
  },
  {
   "cell_type": "code",
   "execution_count": 46,
   "metadata": {},
   "outputs": [
    {
     "name": "stdout",
     "output_type": "stream",
     "text": [
      "Percentile of breaking even: 65.15\n",
      "Percentile of algorithm winnings: 94.11\n",
      "Percentile of elo winnings: 3.92\n"
     ]
    }
   ],
   "source": [
    "# Check where algorithm, elo would have fallen in terms of random guessing percentile\n",
    "\n",
    "break_even_percentile = scipy.stats.percentileofscore(total_return_list, 0)\n",
    "approx_algo_winnings = 909\n",
    "approx_elo_winnings = -1693\n",
    "algo_percentile = scipy.stats.percentileofscore(total_return_list, approx_algo_winnings)\n",
    "elo_percentile = scipy.stats.percentileofscore(total_return_list, approx_elo_winnings)\n",
    "\n",
    "print('Percentile of breaking even: {}'.format(break_even_percentile))\n",
    "\n",
    "print('Percentile of algorithm winnings: {}'.format(algo_percentile))\n",
    "\n",
    "print('Percentile of elo winnings: {}'.format(elo_percentile))"
   ]
  },
  {
   "cell_type": "code",
   "execution_count": 47,
   "metadata": {},
   "outputs": [
    {
     "name": "stdout",
     "output_type": "stream",
     "text": [
      "Average Random Return: -169.521962\n"
     ]
    },
    {
     "data": {
      "image/png": "[encoded data removed]",
      "text/plain": [
       "<Figure size 432x288 with 1 Axes>"
      ]
     },
     "metadata": {
      "needs_background": "light"
     },
     "output_type": "display_data"
    }
   ],
   "source": [
    "# Check winnings from random betting model for 35 games (approx same as threshold=5)\n",
    "\n",
    "total_return_list = []\n",
    "simulations = 10000\n",
    "\n",
    "for i in range(simulations):\n",
    "    gambling_sample = gambling_df.sample(n=35)\n",
    "    gambling_sample['return'] = gambling_sample.apply(lambda x: get_return_100_spread_random(x), axis=1)\n",
    "    total_return_list.append(gambling_sample.sum()['return'])\n",
    "\n",
    "print('Average Random Return: {}'.format(np.mean(total_return_list)))\n",
    "\n",
    "plt.plot()\n",
    "plt.hist(total_return_list)\n",
    "plt.show()"
   ]
  },
  {
   "cell_type": "code",
   "execution_count": 48,
   "metadata": {},
   "outputs": [
    {
     "name": "stdout",
     "output_type": "stream",
     "text": [
      "Percentile of breaking even: 61.64\n",
      "Percentile of algorithm winnings: 96.56\n",
      "Percentile of elo winnings: 4.03\n"
     ]
    }
   ],
   "source": [
    "# Check where algorithm, elo would have fallen in terms of random guessing percentile\n",
    "\n",
    "break_even_percentile = scipy.stats.percentileofscore(total_return_list, 0)\n",
    "approx_algo_winnings = 870\n",
    "approx_elo_winnings = -1149\n",
    "algo_percentile = scipy.stats.percentileofscore(total_return_list, approx_algo_winnings)\n",
    "elo_percentile = scipy.stats.percentileofscore(total_return_list, approx_elo_winnings)\n",
    "\n",
    "print('Percentile of breaking even: {}'.format(break_even_percentile))\n",
    "\n",
    "print('Percentile of algorithm winnings: {}'.format(algo_percentile))\n",
    "\n",
    "print('Percentile of elo winnings: {}'.format(elo_percentile))"
   ]
  },
  {
   "cell_type": "code",
   "execution_count": 49,
   "metadata": {},
   "outputs": [
    {
     "data": {
      "text/plain": [
       "<matplotlib.axes._subplots.AxesSubplot at 0x11fda19b0d0>"
      ]
     },
     "execution_count": 49,
     "metadata": {},
     "output_type": "execute_result"
    },
    {
     "data": {
      "image/png": "[encoded data removed]",
      "text/plain": [
       "<Figure size 432x288 with 1 Axes>"
      ]
     },
     "metadata": {
      "needs_background": "light"
     },
     "output_type": "display_data"
    }
   ],
   "source": [
    "# Now look at proportional betting \n",
    "\n",
    "# algo\n",
    "\n",
    "bets_prop_ps_algo = gambling_df.copy()\n",
    "bets_prop_ps_algo['returns'] = bets_prop_ps_algo.apply(lambda x: get_return_proportional_spread_algo(x)[0], axis=1)\n",
    "bets_prop_ps_algo.groupby(by=['week']).sum()['returns'].reset_index().plot.bar(x='week', y='returns')"
   ]
  },
  {
   "cell_type": "code",
   "execution_count": 50,
   "metadata": {},
   "outputs": [
    {
     "data": {
      "text/plain": [
       "2849.94"
      ]
     },
     "execution_count": 50,
     "metadata": {},
     "output_type": "execute_result"
    }
   ],
   "source": [
    "bets_prop_ps_algo.sum()['returns']"
   ]
  },
  {
   "cell_type": "code",
   "execution_count": 51,
   "metadata": {},
   "outputs": [
    {
     "data": {
      "text/plain": [
       "129"
      ]
     },
     "execution_count": 51,
     "metadata": {},
     "output_type": "execute_result"
    }
   ],
   "source": [
    "len(bets_prop_ps_algo[bets_prop_ps_algo.returns != 0])"
   ]
  },
  {
   "cell_type": "code",
   "execution_count": 52,
   "metadata": {},
   "outputs": [
    {
     "data": {
      "text/plain": [
       "<matplotlib.axes._subplots.AxesSubplot at 0x11fda67ee80>"
      ]
     },
     "execution_count": 52,
     "metadata": {},
     "output_type": "execute_result"
    },
    {
     "data": {
      "image/png": "[encoded data removed]",
      "text/plain": [
       "<Figure size 432x288 with 1 Axes>"
      ]
     },
     "metadata": {
      "needs_background": "light"
     },
     "output_type": "display_data"
    }
   ],
   "source": [
    "# elo\n",
    "\n",
    "bets_prop_ps_elo = gambling_df.copy()\n",
    "bets_prop_ps_elo['returns'] = bets_prop_ps_elo.apply(lambda x: get_return_proportional_spread_elo(x)[0], axis=1)\n",
    "bets_prop_ps_elo.groupby(by=['week']).sum()['returns'].reset_index().plot.bar(x='week', y='returns')"
   ]
  },
  {
   "cell_type": "code",
   "execution_count": 53,
   "metadata": {},
   "outputs": [
    {
     "data": {
      "text/plain": [
       "-6260.5599999999995"
      ]
     },
     "execution_count": 53,
     "metadata": {},
     "output_type": "execute_result"
    }
   ],
   "source": [
    "bets_prop_ps_elo.sum()['returns']"
   ]
  },
  {
   "cell_type": "code",
   "execution_count": 54,
   "metadata": {},
   "outputs": [
    {
     "data": {
      "text/plain": [
       "81"
      ]
     },
     "execution_count": 54,
     "metadata": {},
     "output_type": "execute_result"
    }
   ],
   "source": [
    "len(bets_prop_ps_elo[bets_prop_ps_elo.returns != 0])"
   ]
  },
  {
   "cell_type": "code",
   "execution_count": 55,
   "metadata": {},
   "outputs": [
    {
     "data": {
      "text/plain": [
       "returns_algo     2849.94\n",
       "wagered_algo    33300.00\n",
       "returns_elo     -6260.56\n",
       "wagered_elo     15900.00\n",
       "dtype: float64"
      ]
     },
     "execution_count": 55,
     "metadata": {},
     "output_type": "execute_result"
    }
   ],
   "source": [
    "# Get chart with algo, elo\n",
    "\n",
    "bets_prop_combined = gambling_df.copy()\n",
    "bets_prop_combined[['returns_algo', 'wagered_algo']] = bets_prop_combined.apply(lambda x: get_return_proportional_spread_algo(x), axis=1, result_type='expand')\n",
    "bets_prop_combined[['returns_elo', 'wagered_elo']] = bets_prop_combined.apply(lambda x: get_return_proportional_spread_elo(x), axis=1, result_type='expand')\n",
    "bets_weekly = bets_prop_combined.groupby(by=['week']).sum()[['returns_algo', 'wagered_algo', 'returns_elo', 'wagered_elo']]\n",
    "bets_weekly.sum()"
   ]
  },
  {
   "cell_type": "code",
   "execution_count": 56,
   "metadata": {},
   "outputs": [
    {
     "data": {
      "text/html": [
       "<div>\n",
       "<style scoped>\n",
       "    .dataframe tbody tr th:only-of-type {\n",
       "        vertical-align: middle;\n",
       "    }\n",
       "\n",
       "    .dataframe tbody tr th {\n",
       "        vertical-align: top;\n",
       "    }\n",
       "\n",
       "    .dataframe thead th {\n",
       "        text-align: right;\n",
       "    }\n",
       "</style>\n",
       "<table border=\"1\" class=\"dataframe\">\n",
       "  <thead>\n",
       "    <tr style=\"text-align: right;\">\n",
       "      <th></th>\n",
       "      <th>returns_algo</th>\n",
       "      <th>wagered_algo</th>\n",
       "      <th>returns_elo</th>\n",
       "      <th>wagered_elo</th>\n",
       "    </tr>\n",
       "    <tr>\n",
       "      <th>week</th>\n",
       "      <th></th>\n",
       "      <th></th>\n",
       "      <th></th>\n",
       "      <th></th>\n",
       "    </tr>\n",
       "  </thead>\n",
       "  <tbody>\n",
       "    <tr>\n",
       "      <th>1</th>\n",
       "      <td>-1063.07</td>\n",
       "      <td>2900.0</td>\n",
       "      <td>160.00</td>\n",
       "      <td>200.0</td>\n",
       "    </tr>\n",
       "    <tr>\n",
       "      <th>2</th>\n",
       "      <td>574.02</td>\n",
       "      <td>5200.0</td>\n",
       "      <td>410.45</td>\n",
       "      <td>900.0</td>\n",
       "    </tr>\n",
       "    <tr>\n",
       "      <th>3</th>\n",
       "      <td>2011.41</td>\n",
       "      <td>7200.0</td>\n",
       "      <td>89.02</td>\n",
       "      <td>1600.0</td>\n",
       "    </tr>\n",
       "    <tr>\n",
       "      <th>4</th>\n",
       "      <td>2433.30</td>\n",
       "      <td>8900.0</td>\n",
       "      <td>-420.89</td>\n",
       "      <td>2300.0</td>\n",
       "    </tr>\n",
       "    <tr>\n",
       "      <th>5</th>\n",
       "      <td>3031.01</td>\n",
       "      <td>10200.0</td>\n",
       "      <td>-174.05</td>\n",
       "      <td>2800.0</td>\n",
       "    </tr>\n",
       "    <tr>\n",
       "      <th>6</th>\n",
       "      <td>3022.42</td>\n",
       "      <td>12300.0</td>\n",
       "      <td>-23.78</td>\n",
       "      <td>3400.0</td>\n",
       "    </tr>\n",
       "    <tr>\n",
       "      <th>7</th>\n",
       "      <td>3876.00</td>\n",
       "      <td>13300.0</td>\n",
       "      <td>-923.78</td>\n",
       "      <td>4300.0</td>\n",
       "    </tr>\n",
       "    <tr>\n",
       "      <th>8</th>\n",
       "      <td>4082.96</td>\n",
       "      <td>14600.0</td>\n",
       "      <td>-903.42</td>\n",
       "      <td>5400.0</td>\n",
       "    </tr>\n",
       "    <tr>\n",
       "      <th>9</th>\n",
       "      <td>4557.28</td>\n",
       "      <td>16400.0</td>\n",
       "      <td>-759.73</td>\n",
       "      <td>6200.0</td>\n",
       "    </tr>\n",
       "    <tr>\n",
       "      <th>10</th>\n",
       "      <td>5243.51</td>\n",
       "      <td>18000.0</td>\n",
       "      <td>-959.73</td>\n",
       "      <td>6400.0</td>\n",
       "    </tr>\n",
       "    <tr>\n",
       "      <th>11</th>\n",
       "      <td>4903.87</td>\n",
       "      <td>19500.0</td>\n",
       "      <td>-1576.40</td>\n",
       "      <td>7200.0</td>\n",
       "    </tr>\n",
       "    <tr>\n",
       "      <th>12</th>\n",
       "      <td>4193.96</td>\n",
       "      <td>20400.0</td>\n",
       "      <td>-2086.31</td>\n",
       "      <td>7900.0</td>\n",
       "    </tr>\n",
       "    <tr>\n",
       "      <th>13</th>\n",
       "      <td>4200.16</td>\n",
       "      <td>22100.0</td>\n",
       "      <td>-2225.95</td>\n",
       "      <td>8800.0</td>\n",
       "    </tr>\n",
       "    <tr>\n",
       "      <th>14</th>\n",
       "      <td>3200.16</td>\n",
       "      <td>23100.0</td>\n",
       "      <td>-3025.95</td>\n",
       "      <td>9600.0</td>\n",
       "    </tr>\n",
       "    <tr>\n",
       "      <th>15</th>\n",
       "      <td>3781.24</td>\n",
       "      <td>24800.0</td>\n",
       "      <td>-3443.44</td>\n",
       "      <td>11300.0</td>\n",
       "    </tr>\n",
       "    <tr>\n",
       "      <th>16</th>\n",
       "      <td>3357.57</td>\n",
       "      <td>26400.0</td>\n",
       "      <td>-3930.83</td>\n",
       "      <td>12700.0</td>\n",
       "    </tr>\n",
       "    <tr>\n",
       "      <th>17</th>\n",
       "      <td>3288.20</td>\n",
       "      <td>28400.0</td>\n",
       "      <td>-5030.83</td>\n",
       "      <td>14100.0</td>\n",
       "    </tr>\n",
       "    <tr>\n",
       "      <th>18</th>\n",
       "      <td>3969.76</td>\n",
       "      <td>31800.0</td>\n",
       "      <td>-5560.56</td>\n",
       "      <td>15200.0</td>\n",
       "    </tr>\n",
       "    <tr>\n",
       "      <th>19</th>\n",
       "      <td>2849.94</td>\n",
       "      <td>33300.0</td>\n",
       "      <td>-6260.56</td>\n",
       "      <td>15900.0</td>\n",
       "    </tr>\n",
       "  </tbody>\n",
       "</table>\n",
       "</div>"
      ],
      "text/plain": [
       "      returns_algo  wagered_algo  returns_elo  wagered_elo\n",
       "week                                                      \n",
       "1         -1063.07        2900.0       160.00        200.0\n",
       "2           574.02        5200.0       410.45        900.0\n",
       "3          2011.41        7200.0        89.02       1600.0\n",
       "4          2433.30        8900.0      -420.89       2300.0\n",
       "5          3031.01       10200.0      -174.05       2800.0\n",
       "6          3022.42       12300.0       -23.78       3400.0\n",
       "7          3876.00       13300.0      -923.78       4300.0\n",
       "8          4082.96       14600.0      -903.42       5400.0\n",
       "9          4557.28       16400.0      -759.73       6200.0\n",
       "10         5243.51       18000.0      -959.73       6400.0\n",
       "11         4903.87       19500.0     -1576.40       7200.0\n",
       "12         4193.96       20400.0     -2086.31       7900.0\n",
       "13         4200.16       22100.0     -2225.95       8800.0\n",
       "14         3200.16       23100.0     -3025.95       9600.0\n",
       "15         3781.24       24800.0     -3443.44      11300.0\n",
       "16         3357.57       26400.0     -3930.83      12700.0\n",
       "17         3288.20       28400.0     -5030.83      14100.0\n",
       "18         3969.76       31800.0     -5560.56      15200.0\n",
       "19         2849.94       33300.0     -6260.56      15900.0"
      ]
     },
     "execution_count": 56,
     "metadata": {},
     "output_type": "execute_result"
    }
   ],
   "source": [
    "bets_weekly.cumsum()"
   ]
  },
  {
   "cell_type": "code",
   "execution_count": 57,
   "metadata": {},
   "outputs": [
    {
     "data": {
      "text/plain": [
       "returns_algo     5243.51\n",
       "wagered_algo    33300.00\n",
       "returns_elo       410.45\n",
       "wagered_elo     15900.00\n",
       "dtype: float64"
      ]
     },
     "execution_count": 57,
     "metadata": {},
     "output_type": "execute_result"
    }
   ],
   "source": [
    "bets_weekly.cumsum().max()"
   ]
  },
  {
   "cell_type": "code",
   "execution_count": 58,
   "metadata": {},
   "outputs": [
    {
     "data": {
      "text/plain": [
       "returns_algo   -1063.07\n",
       "wagered_algo    2900.00\n",
       "returns_elo    -6260.56\n",
       "wagered_elo      200.00\n",
       "dtype: float64"
      ]
     },
     "execution_count": 58,
     "metadata": {},
     "output_type": "execute_result"
    }
   ],
   "source": [
    "bets_weekly.cumsum().min()"
   ]
  },
  {
   "cell_type": "code",
   "execution_count": 59,
   "metadata": {},
   "outputs": [
    {
     "data": {
      "text/plain": [
       "<Figure size 432x288 with 0 Axes>"
      ]
     },
     "metadata": {},
     "output_type": "display_data"
    },
    {
     "data": {
      "image/png": "[encoded data removed]",
      "text/plain": [
       "<Figure size 432x288 with 1 Axes>"
      ]
     },
     "metadata": {
      "needs_background": "light"
     },
     "output_type": "display_data"
    }
   ],
   "source": [
    "bets_weekly.columns = ['Algorithm Returns', 'Algorithm Wagers', 'ELO Returns', 'ELO Wagers']\n",
    "\n",
    "plt.figure()\n",
    "bets_weekly.reset_index().plot.bar(x='week', y=['Algorithm Returns', 'ELO Returns'])\n",
    "plt.xlabel('2021 NFL Season Week')\n",
    "plt.ylabel('Return')\n",
    "plt.savefig('../figures/point_spread_returns')\n",
    "plt.show()"
   ]
  },
  {
   "cell_type": "code",
   "execution_count": 60,
   "metadata": {},
   "outputs": [
    {
     "name": "stdout",
     "output_type": "stream",
     "text": [
      "Average Random Return: -1576.1392609999998\n",
      "Average Random Wager: 36022.55\n"
     ]
    },
    {
     "data": {
      "image/png": "[encoded data removed]",
      "text/plain": [
       "<Figure size 432x288 with 1 Axes>"
      ]
     },
     "metadata": {
      "needs_background": "light"
     },
     "output_type": "display_data"
    }
   ],
   "source": [
    "# Check winnings from random betting model for 120 games (approx same as proportional threshold)\n",
    "\n",
    "total_return_list = []\n",
    "total_wagered_list = []\n",
    "simulations = 10000\n",
    "\n",
    "for i in range(simulations):\n",
    "    gambling_sample = gambling_df.sample(n=120)\n",
    "    gambling_sample[['return', 'wagered']] = gambling_sample.apply(lambda x: get_return_prop_spread_random(x), axis=1, result_type = 'expand')\n",
    "    total_return_list.append(gambling_sample.sum()['return'])\n",
    "    total_wagered_list.append(gambling_sample.sum()['wagered'])\n",
    "\n",
    "print('Average Random Return: {}'.format(np.mean(total_return_list)))\n",
    "print('Average Random Wager: {}'.format(np.mean(total_wagered_list)))\n",
    "\n",
    "plt.plot()\n",
    "plt.hist(total_return_list)\n",
    "plt.show()"
   ]
  },
  {
   "cell_type": "code",
   "execution_count": 61,
   "metadata": {},
   "outputs": [
    {
     "data": {
      "text/plain": [
       "11329.21"
      ]
     },
     "execution_count": 61,
     "metadata": {},
     "output_type": "execute_result"
    }
   ],
   "source": [
    "max(total_return_list)"
   ]
  },
  {
   "cell_type": "code",
   "execution_count": 62,
   "metadata": {},
   "outputs": [
    {
     "data": {
      "text/plain": [
       "-15811.5"
      ]
     },
     "execution_count": 62,
     "metadata": {},
     "output_type": "execute_result"
    }
   ],
   "source": [
    "min(total_return_list)"
   ]
  },
  {
   "cell_type": "code",
   "execution_count": 63,
   "metadata": {},
   "outputs": [
    {
     "name": "stdout",
     "output_type": "stream",
     "text": [
      "Percentile of breaking even: 67.63\n",
      "Percentile of algorithm winnings: 98.32\n",
      "Percentile of elo winnings: 12.67\n"
     ]
    }
   ],
   "source": [
    "# Check where algorithm, elo would have fallen in terms of random guessing percentile\n",
    "\n",
    "break_even_percentile = scipy.stats.percentileofscore(total_return_list, 0)\n",
    "approx_algo_winnings = 5742\n",
    "approx_elo_winnings = -5511\n",
    "algo_percentile = scipy.stats.percentileofscore(total_return_list, approx_algo_winnings)\n",
    "elo_percentile = scipy.stats.percentileofscore(total_return_list, approx_elo_winnings)\n",
    "\n",
    "print('Percentile of breaking even: {}'.format(break_even_percentile))\n",
    "\n",
    "print('Percentile of algorithm winnings: {}'.format(algo_percentile))\n",
    "\n",
    "print('Percentile of elo winnings: {}'.format(elo_percentile))"
   ]
  },
  {
   "cell_type": "code",
   "execution_count": 64,
   "metadata": {},
   "outputs": [
    {
     "data": {
      "image/png": "[encoded data removed]",
      "text/plain": [
       "<Figure size 432x288 with 1 Axes>"
      ]
     },
     "metadata": {
      "needs_background": "light"
     },
     "output_type": "display_data"
    }
   ],
   "source": [
    "# Create plot with histogram and percentiles of algorithm and elo returns \n",
    "\n",
    "# Graphing code from https://towardsdatascience.com/take-your-histograms-to-the-next-level-using-matplotlib-5f093ad7b9d3\n",
    "# https://stackoverflow.com/questions/51980366/image-size-of-1005x132589-pixels-is-too-large-it-must-be-less-than-216-in-each\n",
    "\n",
    "import seaborn as sns\n",
    "from scipy.stats import norm\n",
    "\n",
    "quants = [[-5511, 0.9, 0.67], [0, 0.9, 0.93], [5742, 0.9, 0.2]]\n",
    "\n",
    "\n",
    "fig, ax = plt.subplots()\n",
    "sns.distplot(total_return_list, fit=norm, kde=False)\n",
    "ax.set_yticks([])\n",
    "plt.ylabel('Frequency')\n",
    "plt.xlabel('2021 Season Return')\n",
    "\n",
    "# Plot the lines with a loop\n",
    "for i in quants:\n",
    "    ax.axvline(i[0], alpha = i[1], ymax = i[2], linestyle = \"--\", color='g')\n",
    "\n",
    "ax.text(.37, 0.95, \"Break-Even Percentile: 68.05\", size = 10, alpha = 0.9, transform=ax.transAxes)\n",
    "ax.text(.1, 0.7, \"ELO Percentile: 12.59\", size = 10, alpha = 0.9, transform=ax.transAxes)\n",
    "ax.text(.58, 0.22, \"Algorithm Percentile: 98.23\", size = 10, alpha = 0.9, transform=ax.transAxes)\n",
    "plt.savefig('../figures/point_spread_percentiles')\n",
    "plt.show()"
   ]
  },
  {
   "cell_type": "code",
   "execution_count": 65,
   "metadata": {},
   "outputs": [
    {
     "data": {
      "text/plain": [
       "<matplotlib.axes._subplots.AxesSubplot at 0x11fda910df0>"
      ]
     },
     "execution_count": 65,
     "metadata": {},
     "output_type": "execute_result"
    },
    {
     "data": {
      "image/png": "[encoded data removed]",
      "text/plain": [
       "<Figure size 432x288 with 1 Axes>"
      ]
     },
     "metadata": {
      "needs_background": "light"
     },
     "output_type": "display_data"
    }
   ],
   "source": [
    "# Now, look at under/over\n",
    "\n",
    "# Since elo has no way to determine over/under totals, will be using only algorithm and random guessing distributions\n",
    "\n",
    "# Using over/under advantage of one point\n",
    "\n",
    "bets_100_01_ou_algo = gambling_df.copy()\n",
    "bets_100_01_ou_algo['returns'] = bets_100_01_ou_algo.apply(lambda x: get_return_100_ou_algo(x, 1), axis=1)\n",
    "bets_100_01_ou_algo.groupby(by=['week']).sum()['returns'].reset_index().plot.bar(x='week', y='returns')"
   ]
  },
  {
   "cell_type": "code",
   "execution_count": 66,
   "metadata": {},
   "outputs": [
    {
     "data": {
      "text/plain": [
       "1531.5700000000006"
      ]
     },
     "execution_count": 66,
     "metadata": {},
     "output_type": "execute_result"
    }
   ],
   "source": [
    "bets_100_01_ou_algo.sum()['returns']"
   ]
  },
  {
   "cell_type": "code",
   "execution_count": 67,
   "metadata": {},
   "outputs": [
    {
     "data": {
      "text/plain": [
       "197"
      ]
     },
     "execution_count": 67,
     "metadata": {},
     "output_type": "execute_result"
    }
   ],
   "source": [
    "len(bets_100_01_ou_algo[bets_100_01_ou_algo.returns!=0])"
   ]
  },
  {
   "cell_type": "code",
   "execution_count": 68,
   "metadata": {},
   "outputs": [
    {
     "data": {
      "text/plain": [
       "<matplotlib.axes._subplots.AxesSubplot at 0x11fda6c6970>"
      ]
     },
     "execution_count": 68,
     "metadata": {},
     "output_type": "execute_result"
    },
    {
     "data": {
      "image/png": "[encoded data removed]",
      "text/plain": [
       "<Figure size 432x288 with 1 Axes>"
      ]
     },
     "metadata": {
      "needs_background": "light"
     },
     "output_type": "display_data"
    }
   ],
   "source": [
    "# Using over/under advantage of two points\n",
    "\n",
    "bets_100_02_ou_algo = gambling_df.copy()\n",
    "bets_100_02_ou_algo['returns'] = bets_100_02_ou_algo.apply(lambda x: get_return_100_ou_algo(x, 2), axis=1)\n",
    "bets_100_02_ou_algo.groupby(by=['week']).sum()['returns'].reset_index().plot.bar(x='week', y='returns')"
   ]
  },
  {
   "cell_type": "code",
   "execution_count": 69,
   "metadata": {},
   "outputs": [
    {
     "data": {
      "text/plain": [
       "1129.4300000000003"
      ]
     },
     "execution_count": 69,
     "metadata": {},
     "output_type": "execute_result"
    }
   ],
   "source": [
    "bets_100_02_ou_algo.sum()['returns']"
   ]
  },
  {
   "cell_type": "code",
   "execution_count": 70,
   "metadata": {},
   "outputs": [
    {
     "data": {
      "text/plain": [
       "138"
      ]
     },
     "execution_count": 70,
     "metadata": {},
     "output_type": "execute_result"
    }
   ],
   "source": [
    "len(bets_100_02_ou_algo[bets_100_02_ou_algo.returns!=0])"
   ]
  },
  {
   "cell_type": "code",
   "execution_count": 71,
   "metadata": {},
   "outputs": [
    {
     "data": {
      "text/plain": [
       "<matplotlib.axes._subplots.AxesSubplot at 0x11fdbcffbe0>"
      ]
     },
     "execution_count": 71,
     "metadata": {},
     "output_type": "execute_result"
    },
    {
     "data": {
      "image/png": "[encoded data removed]",
      "text/plain": [
       "<Figure size 432x288 with 1 Axes>"
      ]
     },
     "metadata": {
      "needs_background": "light"
     },
     "output_type": "display_data"
    }
   ],
   "source": [
    "# Using over/under advantage of three points\n",
    "\n",
    "bets_100_03_ou_algo = gambling_df.copy()\n",
    "bets_100_03_ou_algo['returns'] = bets_100_03_ou_algo.apply(lambda x: get_return_100_ou_algo(x, 3), axis=1)\n",
    "bets_100_03_ou_algo.groupby(by=['week']).sum()['returns'].reset_index().plot.bar(x='week', y='returns')"
   ]
  },
  {
   "cell_type": "code",
   "execution_count": 72,
   "metadata": {},
   "outputs": [
    {
     "data": {
      "text/plain": [
       "1302.03"
      ]
     },
     "execution_count": 72,
     "metadata": {},
     "output_type": "execute_result"
    }
   ],
   "source": [
    "bets_100_03_ou_algo.sum()['returns']"
   ]
  },
  {
   "cell_type": "code",
   "execution_count": 73,
   "metadata": {},
   "outputs": [
    {
     "data": {
      "text/plain": [
       "96"
      ]
     },
     "execution_count": 73,
     "metadata": {},
     "output_type": "execute_result"
    }
   ],
   "source": [
    "len(bets_100_03_ou_algo[bets_100_03_ou_algo.returns!=0])"
   ]
  },
  {
   "cell_type": "code",
   "execution_count": 74,
   "metadata": {},
   "outputs": [
    {
     "data": {
      "text/plain": [
       "<matplotlib.axes._subplots.AxesSubplot at 0x11fda8fc4c0>"
      ]
     },
     "execution_count": 74,
     "metadata": {},
     "output_type": "execute_result"
    },
    {
     "data": {
      "image/png": "[encoded data removed]",
      "text/plain": [
       "<Figure size 432x288 with 1 Axes>"
      ]
     },
     "metadata": {
      "needs_background": "light"
     },
     "output_type": "display_data"
    }
   ],
   "source": [
    "# Using over/under advantage of four points\n",
    "\n",
    "bets_100_04_ou_algo = gambling_df.copy()\n",
    "bets_100_04_ou_algo['returns'] = bets_100_04_ou_algo.apply(lambda x: get_return_100_ou_algo(x, 4), axis=1)\n",
    "bets_100_04_ou_algo.groupby(by=['week']).sum()['returns'].reset_index().plot.bar(x='week', y='returns')"
   ]
  },
  {
   "cell_type": "code",
   "execution_count": 75,
   "metadata": {},
   "outputs": [
    {
     "data": {
      "text/plain": [
       "1068.8400000000001"
      ]
     },
     "execution_count": 75,
     "metadata": {},
     "output_type": "execute_result"
    }
   ],
   "source": [
    "bets_100_04_ou_algo.sum()['returns']"
   ]
  },
  {
   "cell_type": "code",
   "execution_count": 76,
   "metadata": {},
   "outputs": [
    {
     "data": {
      "text/plain": [
       "62"
      ]
     },
     "execution_count": 76,
     "metadata": {},
     "output_type": "execute_result"
    }
   ],
   "source": [
    "len(bets_100_04_ou_algo[bets_100_04_ou_algo.returns!=0])"
   ]
  },
  {
   "cell_type": "code",
   "execution_count": 77,
   "metadata": {},
   "outputs": [
    {
     "data": {
      "text/plain": [
       "<matplotlib.axes._subplots.AxesSubplot at 0x11fda7779d0>"
      ]
     },
     "execution_count": 77,
     "metadata": {},
     "output_type": "execute_result"
    },
    {
     "data": {
      "image/png": "[encoded data removed]",
      "text/plain": [
       "<Figure size 432x288 with 1 Axes>"
      ]
     },
     "metadata": {
      "needs_background": "light"
     },
     "output_type": "display_data"
    }
   ],
   "source": [
    "# Using over/under advantage of five points\n",
    "\n",
    "bets_100_05_ou_algo = gambling_df.copy()\n",
    "bets_100_05_ou_algo['returns'] = bets_100_05_ou_algo.apply(lambda x: get_return_100_ou_algo(x, 5), axis=1)\n",
    "bets_100_05_ou_algo.groupby(by=['week']).sum()['returns'].reset_index().plot.bar(x='week', y='returns')"
   ]
  },
  {
   "cell_type": "code",
   "execution_count": 78,
   "metadata": {},
   "outputs": [
    {
     "data": {
      "text/plain": [
       "902.04"
      ]
     },
     "execution_count": 78,
     "metadata": {},
     "output_type": "execute_result"
    }
   ],
   "source": [
    "bets_100_05_ou_algo.sum()['returns']"
   ]
  },
  {
   "cell_type": "code",
   "execution_count": 79,
   "metadata": {},
   "outputs": [
    {
     "data": {
      "text/plain": [
       "33"
      ]
     },
     "execution_count": 79,
     "metadata": {},
     "output_type": "execute_result"
    }
   ],
   "source": [
    "len(bets_100_05_ou_algo[bets_100_05_ou_algo.returns!=0])"
   ]
  },
  {
   "cell_type": "code",
   "execution_count": 80,
   "metadata": {},
   "outputs": [
    {
     "name": "stdout",
     "output_type": "stream",
     "text": [
      "Average Random Return: -835.2691529999994\n"
     ]
    },
    {
     "data": {
      "image/png": "[encoded data removed]",
      "text/plain": [
       "<Figure size 432x288 with 1 Axes>"
      ]
     },
     "metadata": {
      "needs_background": "light"
     },
     "output_type": "display_data"
    }
   ],
   "source": [
    "# Now look at random winnings for over unders\n",
    "\n",
    "# Check winnings from random betting model for 200 games (approx same as 1 point threshold)\n",
    "\n",
    "total_return_list = []\n",
    "simulations = 10000\n",
    "\n",
    "for i in range(simulations):\n",
    "    gambling_sample = gambling_df.sample(n=200)\n",
    "    gambling_sample['return'] = gambling_sample.apply(lambda x: get_return_100_ou_random(x), axis=1)\n",
    "    total_return_list.append(gambling_sample.sum()['return'])\n",
    "\n",
    "print('Average Random Return: {}'.format(np.mean(total_return_list)))\n",
    "\n",
    "plt.plot()\n",
    "plt.hist(total_return_list)\n",
    "plt.show()"
   ]
  },
  {
   "cell_type": "code",
   "execution_count": 81,
   "metadata": {},
   "outputs": [
    {
     "name": "stdout",
     "output_type": "stream",
     "text": [
      "Percentile of breaking even: 73.15\n",
      "Percentile of algorithm winnings: 95.98\n"
     ]
    }
   ],
   "source": [
    "# Check where algorithm, elo would have fallen in terms of random guessing percentile\n",
    "\n",
    "break_even_percentile = scipy.stats.percentileofscore(total_return_list, 0)\n",
    "approx_algo_winnings = 1531\n",
    "# approx_elo_winnings = -5511\n",
    "algo_percentile = scipy.stats.percentileofscore(total_return_list, approx_algo_winnings)\n",
    "# elo_percentile = scipy.stats.percentileofscore(total_return_list, approx_elo_winnings)\n",
    "\n",
    "print('Percentile of breaking even: {}'.format(break_even_percentile))\n",
    "\n",
    "print('Percentile of algorithm winnings: {}'.format(algo_percentile))"
   ]
  },
  {
   "cell_type": "code",
   "execution_count": 82,
   "metadata": {},
   "outputs": [
    {
     "name": "stdout",
     "output_type": "stream",
     "text": [
      "Average Random Return: -568.0666519999997\n"
     ]
    },
    {
     "data": {
      "image/png": "[encoded data removed]",
      "text/plain": [
       "<Figure size 432x288 with 1 Axes>"
      ]
     },
     "metadata": {
      "needs_background": "light"
     },
     "output_type": "display_data"
    }
   ],
   "source": [
    "# Check winnings from random betting model for 135 games (approx same as 2 point threshold)\n",
    "\n",
    "total_return_list = []\n",
    "simulations = 10000\n",
    "\n",
    "for i in range(simulations):\n",
    "    gambling_sample = gambling_df.sample(n=135)\n",
    "    gambling_sample['return'] = gambling_sample.apply(lambda x: get_return_100_ou_random(x), axis=1)\n",
    "    total_return_list.append(gambling_sample.sum()['return'])\n",
    "\n",
    "print('Average Random Return: {}'.format(np.mean(total_return_list)))\n",
    "\n",
    "plt.plot()\n",
    "plt.hist(total_return_list)\n",
    "plt.show()"
   ]
  },
  {
   "cell_type": "code",
   "execution_count": 83,
   "metadata": {},
   "outputs": [
    {
     "name": "stdout",
     "output_type": "stream",
     "text": [
      "Percentile of breaking even: 69.23\n",
      "Percentile of algorithm winnings: 93.81\n"
     ]
    }
   ],
   "source": [
    "# Check where algorithm, elo would have fallen in terms of random guessing percentile\n",
    "\n",
    "break_even_percentile = scipy.stats.percentileofscore(total_return_list, 0)\n",
    "approx_algo_winnings = 1129\n",
    "# approx_elo_winnings = -5511\n",
    "algo_percentile = scipy.stats.percentileofscore(total_return_list, approx_algo_winnings)\n",
    "# elo_percentile = scipy.stats.percentileofscore(total_return_list, approx_elo_winnings)\n",
    "\n",
    "print('Percentile of breaking even: {}'.format(break_even_percentile))\n",
    "\n",
    "print('Percentile of algorithm winnings: {}'.format(algo_percentile))"
   ]
  },
  {
   "cell_type": "code",
   "execution_count": 84,
   "metadata": {},
   "outputs": [
    {
     "ename": "KeyboardInterrupt",
     "evalue": "",
     "output_type": "error",
     "traceback": [
      "\u001b[1;31m---------------------------------------------------------------------------\u001b[0m",
      "\u001b[1;31mKeyboardInterrupt\u001b[0m                         Traceback (most recent call last)",
      "\u001b[1;32m<ipython-input-84-c54691293d3d>\u001b[0m in \u001b[0;36m<module>\u001b[1;34m\u001b[0m\n\u001b[0;32m      6\u001b[0m \u001b[1;32mfor\u001b[0m \u001b[0mi\u001b[0m \u001b[1;32min\u001b[0m \u001b[0mrange\u001b[0m\u001b[1;33m(\u001b[0m\u001b[0msimulations\u001b[0m\u001b[1;33m)\u001b[0m\u001b[1;33m:\u001b[0m\u001b[1;33m\u001b[0m\u001b[1;33m\u001b[0m\u001b[0m\n\u001b[0;32m      7\u001b[0m     \u001b[0mgambling_sample\u001b[0m \u001b[1;33m=\u001b[0m \u001b[0mgambling_df\u001b[0m\u001b[1;33m.\u001b[0m\u001b[0msample\u001b[0m\u001b[1;33m(\u001b[0m\u001b[0mn\u001b[0m\u001b[1;33m=\u001b[0m\u001b[1;36m95\u001b[0m\u001b[1;33m)\u001b[0m\u001b[1;33m\u001b[0m\u001b[1;33m\u001b[0m\u001b[0m\n\u001b[1;32m----> 8\u001b[1;33m     \u001b[0mgambling_sample\u001b[0m\u001b[1;33m[\u001b[0m\u001b[1;34m'return'\u001b[0m\u001b[1;33m]\u001b[0m \u001b[1;33m=\u001b[0m \u001b[0mgambling_sample\u001b[0m\u001b[1;33m.\u001b[0m\u001b[0mapply\u001b[0m\u001b[1;33m(\u001b[0m\u001b[1;32mlambda\u001b[0m \u001b[0mx\u001b[0m\u001b[1;33m:\u001b[0m \u001b[0mget_return_100_ou_random\u001b[0m\u001b[1;33m(\u001b[0m\u001b[0mx\u001b[0m\u001b[1;33m)\u001b[0m\u001b[1;33m,\u001b[0m \u001b[0maxis\u001b[0m\u001b[1;33m=\u001b[0m\u001b[1;36m1\u001b[0m\u001b[1;33m)\u001b[0m\u001b[1;33m\u001b[0m\u001b[1;33m\u001b[0m\u001b[0m\n\u001b[0m\u001b[0;32m      9\u001b[0m     \u001b[0mtotal_return_list\u001b[0m\u001b[1;33m.\u001b[0m\u001b[0mappend\u001b[0m\u001b[1;33m(\u001b[0m\u001b[0mgambling_sample\u001b[0m\u001b[1;33m.\u001b[0m\u001b[0msum\u001b[0m\u001b[1;33m(\u001b[0m\u001b[1;33m)\u001b[0m\u001b[1;33m[\u001b[0m\u001b[1;34m'return'\u001b[0m\u001b[1;33m]\u001b[0m\u001b[1;33m)\u001b[0m\u001b[1;33m\u001b[0m\u001b[1;33m\u001b[0m\u001b[0m\n\u001b[0;32m     10\u001b[0m \u001b[1;33m\u001b[0m\u001b[0m\n",
      "\u001b[1;32m~\\anaconda3\\lib\\site-packages\\pandas\\core\\frame.py\u001b[0m in \u001b[0;36mapply\u001b[1;34m(self, func, axis, raw, result_type, args, **kwargs)\u001b[0m\n\u001b[0;32m   8837\u001b[0m             \u001b[0mkwargs\u001b[0m\u001b[1;33m=\u001b[0m\u001b[0mkwargs\u001b[0m\u001b[1;33m,\u001b[0m\u001b[1;33m\u001b[0m\u001b[1;33m\u001b[0m\u001b[0m\n\u001b[0;32m   8838\u001b[0m         )\n\u001b[1;32m-> 8839\u001b[1;33m         \u001b[1;32mreturn\u001b[0m \u001b[0mop\u001b[0m\u001b[1;33m.\u001b[0m\u001b[0mapply\u001b[0m\u001b[1;33m(\u001b[0m\u001b[1;33m)\u001b[0m\u001b[1;33m.\u001b[0m\u001b[0m__finalize__\u001b[0m\u001b[1;33m(\u001b[0m\u001b[0mself\u001b[0m\u001b[1;33m,\u001b[0m \u001b[0mmethod\u001b[0m\u001b[1;33m=\u001b[0m\u001b[1;34m\"apply\"\u001b[0m\u001b[1;33m)\u001b[0m\u001b[1;33m\u001b[0m\u001b[1;33m\u001b[0m\u001b[0m\n\u001b[0m\u001b[0;32m   8840\u001b[0m \u001b[1;33m\u001b[0m\u001b[0m\n\u001b[0;32m   8841\u001b[0m     def applymap(\n",
      "\u001b[1;32m~\\anaconda3\\lib\\site-packages\\pandas\\core\\apply.py\u001b[0m in \u001b[0;36mapply\u001b[1;34m(self)\u001b[0m\n\u001b[0;32m    725\u001b[0m             \u001b[1;32mreturn\u001b[0m \u001b[0mself\u001b[0m\u001b[1;33m.\u001b[0m\u001b[0mapply_raw\u001b[0m\u001b[1;33m(\u001b[0m\u001b[1;33m)\u001b[0m\u001b[1;33m\u001b[0m\u001b[1;33m\u001b[0m\u001b[0m\n\u001b[0;32m    726\u001b[0m \u001b[1;33m\u001b[0m\u001b[0m\n\u001b[1;32m--> 727\u001b[1;33m         \u001b[1;32mreturn\u001b[0m \u001b[0mself\u001b[0m\u001b[1;33m.\u001b[0m\u001b[0mapply_standard\u001b[0m\u001b[1;33m(\u001b[0m\u001b[1;33m)\u001b[0m\u001b[1;33m\u001b[0m\u001b[1;33m\u001b[0m\u001b[0m\n\u001b[0m\u001b[0;32m    728\u001b[0m \u001b[1;33m\u001b[0m\u001b[0m\n\u001b[0;32m    729\u001b[0m     \u001b[1;32mdef\u001b[0m \u001b[0magg\u001b[0m\u001b[1;33m(\u001b[0m\u001b[0mself\u001b[0m\u001b[1;33m)\u001b[0m\u001b[1;33m:\u001b[0m\u001b[1;33m\u001b[0m\u001b[1;33m\u001b[0m\u001b[0m\n",
      "\u001b[1;32m~\\anaconda3\\lib\\site-packages\\pandas\\core\\apply.py\u001b[0m in \u001b[0;36mapply_standard\u001b[1;34m(self)\u001b[0m\n\u001b[0;32m    849\u001b[0m \u001b[1;33m\u001b[0m\u001b[0m\n\u001b[0;32m    850\u001b[0m     \u001b[1;32mdef\u001b[0m \u001b[0mapply_standard\u001b[0m\u001b[1;33m(\u001b[0m\u001b[0mself\u001b[0m\u001b[1;33m)\u001b[0m\u001b[1;33m:\u001b[0m\u001b[1;33m\u001b[0m\u001b[1;33m\u001b[0m\u001b[0m\n\u001b[1;32m--> 851\u001b[1;33m         \u001b[0mresults\u001b[0m\u001b[1;33m,\u001b[0m \u001b[0mres_index\u001b[0m \u001b[1;33m=\u001b[0m \u001b[0mself\u001b[0m\u001b[1;33m.\u001b[0m\u001b[0mapply_series_generator\u001b[0m\u001b[1;33m(\u001b[0m\u001b[1;33m)\u001b[0m\u001b[1;33m\u001b[0m\u001b[1;33m\u001b[0m\u001b[0m\n\u001b[0m\u001b[0;32m    852\u001b[0m \u001b[1;33m\u001b[0m\u001b[0m\n\u001b[0;32m    853\u001b[0m         \u001b[1;31m# wrap results\u001b[0m\u001b[1;33m\u001b[0m\u001b[1;33m\u001b[0m\u001b[1;33m\u001b[0m\u001b[0m\n",
      "\u001b[1;32m~\\anaconda3\\lib\\site-packages\\pandas\\core\\apply.py\u001b[0m in \u001b[0;36mapply_series_generator\u001b[1;34m(self)\u001b[0m\n\u001b[0;32m    863\u001b[0m \u001b[1;33m\u001b[0m\u001b[0m\n\u001b[0;32m    864\u001b[0m         \u001b[1;32mwith\u001b[0m \u001b[0moption_context\u001b[0m\u001b[1;33m(\u001b[0m\u001b[1;34m\"mode.chained_assignment\"\u001b[0m\u001b[1;33m,\u001b[0m \u001b[1;32mNone\u001b[0m\u001b[1;33m)\u001b[0m\u001b[1;33m:\u001b[0m\u001b[1;33m\u001b[0m\u001b[1;33m\u001b[0m\u001b[0m\n\u001b[1;32m--> 865\u001b[1;33m             \u001b[1;32mfor\u001b[0m \u001b[0mi\u001b[0m\u001b[1;33m,\u001b[0m \u001b[0mv\u001b[0m \u001b[1;32min\u001b[0m \u001b[0menumerate\u001b[0m\u001b[1;33m(\u001b[0m\u001b[0mseries_gen\u001b[0m\u001b[1;33m)\u001b[0m\u001b[1;33m:\u001b[0m\u001b[1;33m\u001b[0m\u001b[1;33m\u001b[0m\u001b[0m\n\u001b[0m\u001b[0;32m    866\u001b[0m                 \u001b[1;31m# ignore SettingWithCopy here in case the user mutates\u001b[0m\u001b[1;33m\u001b[0m\u001b[1;33m\u001b[0m\u001b[1;33m\u001b[0m\u001b[0m\n\u001b[0;32m    867\u001b[0m                 \u001b[0mresults\u001b[0m\u001b[1;33m[\u001b[0m\u001b[0mi\u001b[0m\u001b[1;33m]\u001b[0m \u001b[1;33m=\u001b[0m \u001b[0mself\u001b[0m\u001b[1;33m.\u001b[0m\u001b[0mf\u001b[0m\u001b[1;33m(\u001b[0m\u001b[0mv\u001b[0m\u001b[1;33m)\u001b[0m\u001b[1;33m\u001b[0m\u001b[1;33m\u001b[0m\u001b[0m\n",
      "\u001b[1;32m~\\anaconda3\\lib\\site-packages\\pandas\\core\\apply.py\u001b[0m in \u001b[0;36mseries_generator\u001b[1;34m(self)\u001b[0m\n\u001b[0;32m    976\u001b[0m     \u001b[1;33m@\u001b[0m\u001b[0mproperty\u001b[0m\u001b[1;33m\u001b[0m\u001b[1;33m\u001b[0m\u001b[0m\n\u001b[0;32m    977\u001b[0m     \u001b[1;32mdef\u001b[0m \u001b[0mseries_generator\u001b[0m\u001b[1;33m(\u001b[0m\u001b[0mself\u001b[0m\u001b[1;33m)\u001b[0m\u001b[1;33m:\u001b[0m\u001b[1;33m\u001b[0m\u001b[1;33m\u001b[0m\u001b[0m\n\u001b[1;32m--> 978\u001b[1;33m         \u001b[0mvalues\u001b[0m \u001b[1;33m=\u001b[0m \u001b[0mself\u001b[0m\u001b[1;33m.\u001b[0m\u001b[0mvalues\u001b[0m\u001b[1;33m\u001b[0m\u001b[1;33m\u001b[0m\u001b[0m\n\u001b[0m\u001b[0;32m    979\u001b[0m         \u001b[0mvalues\u001b[0m \u001b[1;33m=\u001b[0m \u001b[0mensure_wrapped_if_datetimelike\u001b[0m\u001b[1;33m(\u001b[0m\u001b[0mvalues\u001b[0m\u001b[1;33m)\u001b[0m\u001b[1;33m\u001b[0m\u001b[1;33m\u001b[0m\u001b[0m\n\u001b[0;32m    980\u001b[0m         \u001b[1;32massert\u001b[0m \u001b[0mlen\u001b[0m\u001b[1;33m(\u001b[0m\u001b[0mvalues\u001b[0m\u001b[1;33m)\u001b[0m \u001b[1;33m>\u001b[0m \u001b[1;36m0\u001b[0m\u001b[1;33m\u001b[0m\u001b[1;33m\u001b[0m\u001b[0m\n",
      "\u001b[1;32m~\\anaconda3\\lib\\site-packages\\pandas\\_libs\\properties.pyx\u001b[0m in \u001b[0;36mpandas._libs.properties.CachedProperty.__get__\u001b[1;34m()\u001b[0m\n",
      "\u001b[1;32m~\\anaconda3\\lib\\site-packages\\pandas\\core\\apply.py\u001b[0m in \u001b[0;36mvalues\u001b[1;34m(self)\u001b[0m\n\u001b[0;32m    686\u001b[0m     \u001b[1;33m@\u001b[0m\u001b[0mcache_readonly\u001b[0m\u001b[1;33m\u001b[0m\u001b[1;33m\u001b[0m\u001b[0m\n\u001b[0;32m    687\u001b[0m     \u001b[1;32mdef\u001b[0m \u001b[0mvalues\u001b[0m\u001b[1;33m(\u001b[0m\u001b[0mself\u001b[0m\u001b[1;33m)\u001b[0m\u001b[1;33m:\u001b[0m\u001b[1;33m\u001b[0m\u001b[1;33m\u001b[0m\u001b[0m\n\u001b[1;32m--> 688\u001b[1;33m         \u001b[1;32mreturn\u001b[0m \u001b[0mself\u001b[0m\u001b[1;33m.\u001b[0m\u001b[0mobj\u001b[0m\u001b[1;33m.\u001b[0m\u001b[0mvalues\u001b[0m\u001b[1;33m\u001b[0m\u001b[1;33m\u001b[0m\u001b[0m\n\u001b[0m\u001b[0;32m    689\u001b[0m \u001b[1;33m\u001b[0m\u001b[0m\n\u001b[0;32m    690\u001b[0m     \u001b[1;33m@\u001b[0m\u001b[0mcache_readonly\u001b[0m\u001b[1;33m\u001b[0m\u001b[1;33m\u001b[0m\u001b[0m\n",
      "\u001b[1;32m~\\anaconda3\\lib\\site-packages\\pandas\\core\\frame.py\u001b[0m in \u001b[0;36mvalues\u001b[1;34m(self)\u001b[0m\n\u001b[0;32m  10881\u001b[0m         \"\"\"\n\u001b[0;32m  10882\u001b[0m         \u001b[0mself\u001b[0m\u001b[1;33m.\u001b[0m\u001b[0m_consolidate_inplace\u001b[0m\u001b[1;33m(\u001b[0m\u001b[1;33m)\u001b[0m\u001b[1;33m\u001b[0m\u001b[1;33m\u001b[0m\u001b[0m\n\u001b[1;32m> 10883\u001b[1;33m         \u001b[1;32mreturn\u001b[0m \u001b[0mself\u001b[0m\u001b[1;33m.\u001b[0m\u001b[0m_mgr\u001b[0m\u001b[1;33m.\u001b[0m\u001b[0mas_array\u001b[0m\u001b[1;33m(\u001b[0m\u001b[1;33m)\u001b[0m\u001b[1;33m\u001b[0m\u001b[1;33m\u001b[0m\u001b[0m\n\u001b[0m\u001b[0;32m  10884\u001b[0m \u001b[1;33m\u001b[0m\u001b[0m\n\u001b[0;32m  10885\u001b[0m     \u001b[1;33m@\u001b[0m\u001b[0mdeprecate_nonkeyword_arguments\u001b[0m\u001b[1;33m(\u001b[0m\u001b[0mversion\u001b[0m\u001b[1;33m=\u001b[0m\u001b[1;32mNone\u001b[0m\u001b[1;33m,\u001b[0m \u001b[0mallowed_args\u001b[0m\u001b[1;33m=\u001b[0m\u001b[1;33m[\u001b[0m\u001b[1;34m\"self\"\u001b[0m\u001b[1;33m]\u001b[0m\u001b[1;33m)\u001b[0m\u001b[1;33m\u001b[0m\u001b[1;33m\u001b[0m\u001b[0m\n",
      "\u001b[1;32m~\\anaconda3\\lib\\site-packages\\pandas\\core\\internals\\managers.py\u001b[0m in \u001b[0;36mas_array\u001b[1;34m(self, dtype, copy, na_value)\u001b[0m\n\u001b[0;32m   1587\u001b[0m                     \u001b[0marr\u001b[0m \u001b[1;33m=\u001b[0m \u001b[0marr\u001b[0m\u001b[1;33m.\u001b[0m\u001b[0mastype\u001b[0m\u001b[1;33m(\u001b[0m\u001b[0mdtype\u001b[0m\u001b[1;33m,\u001b[0m \u001b[0mcopy\u001b[0m\u001b[1;33m=\u001b[0m\u001b[1;32mFalse\u001b[0m\u001b[1;33m)\u001b[0m\u001b[1;33m\u001b[0m\u001b[1;33m\u001b[0m\u001b[0m\n\u001b[0;32m   1588\u001b[0m         \u001b[1;32melse\u001b[0m\u001b[1;33m:\u001b[0m\u001b[1;33m\u001b[0m\u001b[1;33m\u001b[0m\u001b[0m\n\u001b[1;32m-> 1589\u001b[1;33m             \u001b[0marr\u001b[0m \u001b[1;33m=\u001b[0m \u001b[0mself\u001b[0m\u001b[1;33m.\u001b[0m\u001b[0m_interleave\u001b[0m\u001b[1;33m(\u001b[0m\u001b[0mdtype\u001b[0m\u001b[1;33m=\u001b[0m\u001b[0mdtype\u001b[0m\u001b[1;33m,\u001b[0m \u001b[0mna_value\u001b[0m\u001b[1;33m=\u001b[0m\u001b[0mna_value\u001b[0m\u001b[1;33m)\u001b[0m\u001b[1;33m\u001b[0m\u001b[1;33m\u001b[0m\u001b[0m\n\u001b[0m\u001b[0;32m   1590\u001b[0m             \u001b[1;31m# The underlying data was copied within _interleave\u001b[0m\u001b[1;33m\u001b[0m\u001b[1;33m\u001b[0m\u001b[1;33m\u001b[0m\u001b[0m\n\u001b[0;32m   1591\u001b[0m             \u001b[0mcopy\u001b[0m \u001b[1;33m=\u001b[0m \u001b[1;32mFalse\u001b[0m\u001b[1;33m\u001b[0m\u001b[1;33m\u001b[0m\u001b[0m\n",
      "\u001b[1;32m~\\anaconda3\\lib\\site-packages\\pandas\\core\\internals\\managers.py\u001b[0m in \u001b[0;36m_interleave\u001b[1;34m(self, dtype, na_value)\u001b[0m\n\u001b[0;32m   1634\u001b[0m             \u001b[1;32mfor\u001b[0m \u001b[0mblk\u001b[0m \u001b[1;32min\u001b[0m \u001b[0mself\u001b[0m\u001b[1;33m.\u001b[0m\u001b[0mblocks\u001b[0m\u001b[1;33m:\u001b[0m\u001b[1;33m\u001b[0m\u001b[1;33m\u001b[0m\u001b[0m\n\u001b[0;32m   1635\u001b[0m                 \u001b[0mrl\u001b[0m \u001b[1;33m=\u001b[0m \u001b[0mblk\u001b[0m\u001b[1;33m.\u001b[0m\u001b[0mmgr_locs\u001b[0m\u001b[1;33m\u001b[0m\u001b[1;33m\u001b[0m\u001b[0m\n\u001b[1;32m-> 1636\u001b[1;33m                 \u001b[0marr\u001b[0m \u001b[1;33m=\u001b[0m \u001b[0mblk\u001b[0m\u001b[1;33m.\u001b[0m\u001b[0mget_values\u001b[0m\u001b[1;33m(\u001b[0m\u001b[0mdtype\u001b[0m\u001b[1;33m)\u001b[0m\u001b[1;33m\u001b[0m\u001b[1;33m\u001b[0m\u001b[0m\n\u001b[0m\u001b[0;32m   1637\u001b[0m                 \u001b[0mresult\u001b[0m\u001b[1;33m[\u001b[0m\u001b[0mrl\u001b[0m\u001b[1;33m.\u001b[0m\u001b[0mindexer\u001b[0m\u001b[1;33m]\u001b[0m \u001b[1;33m=\u001b[0m \u001b[0marr\u001b[0m\u001b[1;33m\u001b[0m\u001b[1;33m\u001b[0m\u001b[0m\n\u001b[0;32m   1638\u001b[0m                 \u001b[0mitemmask\u001b[0m\u001b[1;33m[\u001b[0m\u001b[0mrl\u001b[0m\u001b[1;33m.\u001b[0m\u001b[0mindexer\u001b[0m\u001b[1;33m]\u001b[0m \u001b[1;33m=\u001b[0m \u001b[1;36m1\u001b[0m\u001b[1;33m\u001b[0m\u001b[1;33m\u001b[0m\u001b[0m\n",
      "\u001b[1;32m~\\anaconda3\\lib\\site-packages\\pandas\\core\\internals\\blocks.py\u001b[0m in \u001b[0;36mget_values\u001b[1;34m(self, dtype)\u001b[0m\n\u001b[0;32m    226\u001b[0m         \"\"\"\n\u001b[0;32m    227\u001b[0m         \u001b[1;32mif\u001b[0m \u001b[0mdtype\u001b[0m \u001b[1;33m==\u001b[0m \u001b[0m_dtype_obj\u001b[0m\u001b[1;33m:\u001b[0m\u001b[1;33m\u001b[0m\u001b[1;33m\u001b[0m\u001b[0m\n\u001b[1;32m--> 228\u001b[1;33m             \u001b[1;32mreturn\u001b[0m \u001b[0mself\u001b[0m\u001b[1;33m.\u001b[0m\u001b[0mvalues\u001b[0m\u001b[1;33m.\u001b[0m\u001b[0mastype\u001b[0m\u001b[1;33m(\u001b[0m\u001b[0m_dtype_obj\u001b[0m\u001b[1;33m)\u001b[0m\u001b[1;33m\u001b[0m\u001b[1;33m\u001b[0m\u001b[0m\n\u001b[0m\u001b[0;32m    229\u001b[0m         \u001b[1;31m# error: Incompatible return value type (got \"Union[ndarray, ExtensionArray]\",\u001b[0m\u001b[1;33m\u001b[0m\u001b[1;33m\u001b[0m\u001b[1;33m\u001b[0m\u001b[0m\n\u001b[0;32m    230\u001b[0m         \u001b[1;31m# expected \"ndarray\")\u001b[0m\u001b[1;33m\u001b[0m\u001b[1;33m\u001b[0m\u001b[1;33m\u001b[0m\u001b[0m\n",
      "\u001b[1;31mKeyboardInterrupt\u001b[0m: "
     ]
    }
   ],
   "source": [
    "# Check winnings from random betting model for 95 games (approx same as 3 point threshold)\n",
    "\n",
    "total_return_list = []\n",
    "simulations = 10000\n",
    "\n",
    "for i in range(simulations):\n",
    "    gambling_sample = gambling_df.sample(n=95)\n",
    "    gambling_sample['return'] = gambling_sample.apply(lambda x: get_return_100_ou_random(x), axis=1)\n",
    "    total_return_list.append(gambling_sample.sum()['return'])\n",
    "\n",
    "print('Average Random Return: {}'.format(np.mean(total_return_list)))\n",
    "\n",
    "plt.plot()\n",
    "plt.hist(total_return_list)\n",
    "plt.show()"
   ]
  },
  {
   "cell_type": "code",
   "execution_count": null,
   "metadata": {},
   "outputs": [],
   "source": [
    "# Check where algorithm, elo would have fallen in terms of random guessing percentile\n",
    "\n",
    "break_even_percentile = scipy.stats.percentileofscore(total_return_list, 0)\n",
    "approx_algo_winnings = 1300\n",
    "# approx_elo_winnings = -5511\n",
    "algo_percentile = scipy.stats.percentileofscore(total_return_list, approx_algo_winnings)\n",
    "# elo_percentile = scipy.stats.percentileofscore(total_return_list, approx_elo_winnings)\n",
    "\n",
    "print('Percentile of breaking even: {}'.format(break_even_percentile))\n",
    "\n",
    "print('Percentile of algorithm winnings: {}'.format(algo_percentile))"
   ]
  },
  {
   "cell_type": "code",
   "execution_count": null,
   "metadata": {},
   "outputs": [],
   "source": [
    "# Check winnings from random betting model for 60 games (approx same as proportional threshold)\n",
    "\n",
    "total_return_list = []\n",
    "simulations = 10000\n",
    "\n",
    "for i in range(simulations):\n",
    "    gambling_sample = gambling_df.sample(n=60)\n",
    "    gambling_sample['return'] = gambling_sample.apply(lambda x: get_return_100_ou_random(x), axis=1)\n",
    "    total_return_list.append(gambling_sample.sum()['return'])\n",
    "\n",
    "print('Average Random Return: {}'.format(np.mean(total_return_list)))\n",
    "\n",
    "plt.plot()\n",
    "plt.hist(total_return_list)\n",
    "plt.show()"
   ]
  },
  {
   "cell_type": "code",
   "execution_count": null,
   "metadata": {},
   "outputs": [],
   "source": [
    "# Check where algorithm, elo would have fallen in terms of random guessing percentile\n",
    "\n",
    "break_even_percentile = scipy.stats.percentileofscore(total_return_list, 0)\n",
    "approx_algo_winnings = 1068\n",
    "# approx_elo_winnings = -5511\n",
    "algo_percentile = scipy.stats.percentileofscore(total_return_list, approx_algo_winnings)\n",
    "# elo_percentile = scipy.stats.percentileofscore(total_return_list, approx_elo_winnings)\n",
    "\n",
    "print('Percentile of breaking even: {}'.format(break_even_percentile))\n",
    "\n",
    "print('Percentile of algorithm winnings: {}'.format(algo_percentile))"
   ]
  },
  {
   "cell_type": "code",
   "execution_count": null,
   "metadata": {},
   "outputs": [],
   "source": [
    "# Check winnings from random betting model for 30 games (approx same as proportional threshold)\n",
    "\n",
    "total_return_list = []\n",
    "simulations = 10000\n",
    "\n",
    "for i in range(simulations):\n",
    "    gambling_sample = gambling_df.sample(n=30)\n",
    "    gambling_sample['return'] = gambling_sample.apply(lambda x: get_return_100_ou_random(x), axis=1)\n",
    "    total_return_list.append(gambling_sample.sum()['return'])\n",
    "\n",
    "print('Average Random Return: {}'.format(np.mean(total_return_list)))\n",
    "\n",
    "plt.plot()\n",
    "plt.hist(total_return_list)\n",
    "plt.show()"
   ]
  },
  {
   "cell_type": "code",
   "execution_count": null,
   "metadata": {},
   "outputs": [],
   "source": [
    "# Check where algorithm, elo would have fallen in terms of random guessing percentile\n",
    "\n",
    "break_even_percentile = scipy.stats.percentileofscore(total_return_list, 0)\n",
    "approx_algo_winnings = 900\n",
    "# approx_elo_winnings = -5511\n",
    "algo_percentile = scipy.stats.percentileofscore(total_return_list, approx_algo_winnings)\n",
    "# elo_percentile = scipy.stats.percentileofscore(total_return_list, approx_elo_winnings)\n",
    "\n",
    "print('Percentile of breaking even: {}'.format(break_even_percentile))\n",
    "\n",
    "print('Percentile of algorithm winnings: {}'.format(algo_percentile))"
   ]
  },
  {
   "cell_type": "code",
   "execution_count": null,
   "metadata": {},
   "outputs": [],
   "source": [
    "# Finally, see how algorithm would have performed using a proportional betting system\n",
    "\n",
    "bets_prop_ou_algo = gambling_df.copy()\n",
    "bets_prop_ou_algo[['returns', 'wagered']] = bets_prop_ou_algo.apply(lambda x: get_return_proportional_ou_algo(x), axis=1, result_type='expand')\n",
    "bets_prop_ou_algo['Algorithm Returns'] = bets_prop_ou_algo.returns\n",
    "\n",
    "plt.figure()\n",
    "bets_prop_ou_algo.groupby(by=['week']).sum()['Algorithm Returns'].reset_index().plot.bar(x='week', y='Algorithm Returns')\n",
    "plt.xlabel('2021 NFL Season Week')\n",
    "plt.ylabel('Return')\n",
    "plt.savefig('../figures/over_under_returns')\n",
    "plt.show()"
   ]
  },
  {
   "cell_type": "code",
   "execution_count": null,
   "metadata": {},
   "outputs": [],
   "source": [
    "bets_prop_ou_algo.sum()[['returns', 'wagered']]"
   ]
  },
  {
   "cell_type": "code",
   "execution_count": null,
   "metadata": {},
   "outputs": [],
   "source": [
    "len(bets_prop_ou_algo[bets_prop_ou_algo.returns!=0])"
   ]
  },
  {
   "cell_type": "code",
   "execution_count": null,
   "metadata": {},
   "outputs": [],
   "source": [
    "bets_prop_ou_algo.groupby(by='week').sum()[['returns', 'wagered']].cumsum()"
   ]
  },
  {
   "cell_type": "code",
   "execution_count": null,
   "metadata": {},
   "outputs": [],
   "source": [
    "bets_prop_ou_algo.groupby(by='week').sum()[['returns', 'wagered']].cumsum().max()"
   ]
  },
  {
   "cell_type": "code",
   "execution_count": null,
   "metadata": {},
   "outputs": [],
   "source": [
    "bets_prop_ou_algo.groupby(by='week').sum()[['returns', 'wagered']].cumsum().min()"
   ]
  },
  {
   "cell_type": "code",
   "execution_count": null,
   "metadata": {},
   "outputs": [],
   "source": [
    "# Check winnings from random betting model for 195 games (approx same as proportional threshold)\n",
    "\n",
    "total_return_list = []\n",
    "total_wagered_list = []\n",
    "simulations = 10000\n",
    "\n",
    "for i in range(simulations):\n",
    "    gambling_sample = gambling_df.sample(n=195)\n",
    "    gambling_sample[['return', 'wager']] = gambling_sample.apply(lambda x: get_return_prop_ou_random(x), axis=1, result_type='expand')\n",
    "    total_return_list.append(gambling_sample.sum()['return'])\n",
    "    total_wagered_list.append(gambling_sample.sum()['wager'])\n",
    "\n",
    "print('Average Random Return: {}'.format(np.mean(total_return_list)))\n",
    "print('Average Random Wager: {}'.format(np.mean(total_wagered_list)))\n",
    "\n",
    "plt.plot()\n",
    "plt.hist(total_return_list)\n",
    "plt.show()"
   ]
  },
  {
   "cell_type": "code",
   "execution_count": null,
   "metadata": {},
   "outputs": [],
   "source": [
    "# Check where algorithm, elo would have fallen in terms of random guessing percentile\n",
    "\n",
    "break_even_percentile = scipy.stats.percentileofscore(total_return_list, 0)\n",
    "approx_algo_winnings = 5934\n",
    "# approx_elo_winnings = -5511\n",
    "algo_percentile = scipy.stats.percentileofscore(total_return_list, approx_algo_winnings)\n",
    "# elo_percentile = scipy.stats.percentileofscore(total_return_list, approx_elo_winnings)\n",
    "\n",
    "print('Percentile of breaking even: {}'.format(break_even_percentile))\n",
    "\n",
    "print('Percentile of algorithm winnings: {}'.format(algo_percentile))"
   ]
  },
  {
   "cell_type": "code",
   "execution_count": null,
   "metadata": {},
   "outputs": [],
   "source": [
    "# Create plot with histogram and percentiles of algorithm and elo returns \n",
    "\n",
    "# Graphing code from https://towardsdatascience.com/take-your-histograms-to-the-next-level-using-matplotlib-5f093ad7b9d3\n",
    "# https://stackoverflow.com/questions/51980366/image-size-of-1005x132589-pixels-is-too-large-it-must-be-less-than-216-in-each\n",
    "\n",
    "import seaborn as sns\n",
    "from scipy.stats import norm\n",
    "\n",
    "quants = [[0, 0.9, 0.83], [5934, 0.9, 0.21]]\n",
    "\n",
    "\n",
    "fig, ax = plt.subplots()\n",
    "sns.distplot(total_return_list, fit=norm, kde=False)\n",
    "ax.set_yticks([])\n",
    "plt.ylabel('Frequency')\n",
    "plt.xlabel('2021 Season Return')\n",
    "\n",
    "# Plot the lines with a loop\n",
    "for i in quants:\n",
    "    ax.axvline(i[0], alpha = i[1], ymax = i[2], linestyle = \"--\", color='g')\n",
    "\n",
    "ax.text(.4, 0.86, \"Break-Even Percentile: 70.96\", size = 10, alpha = 0.9, transform=ax.transAxes)\n",
    "# ax.text(.1, 0.95, \"ELO Percentile: 34.13\", size = 10, alpha = 0.9, transform=ax.transAxes)\n",
    "ax.text(.58, 0.23, \"Algorithm Percentile: 96.69\", size = 10, alpha = 0.9, transform=ax.transAxes)\n",
    "plt.savefig('../figures/over_under_percentiles')\n",
    "plt.show()"
   ]
  },
  {
   "cell_type": "code",
   "execution_count": null,
   "metadata": {},
   "outputs": [],
   "source": [
    "np.mean(total_return_list)"
   ]
  },
  {
   "cell_type": "code",
   "execution_count": null,
   "metadata": {},
   "outputs": [],
   "source": [
    "min(total_return_list)"
   ]
  },
  {
   "cell_type": "code",
   "execution_count": null,
   "metadata": {},
   "outputs": [],
   "source": [
    "max(total_return_list)"
   ]
  },
  {
   "cell_type": "code",
   "execution_count": null,
   "metadata": {},
   "outputs": [],
   "source": [
    "np.mean(total_wagered_list)"
   ]
  },
  {
   "cell_type": "code",
   "execution_count": null,
   "metadata": {},
   "outputs": [],
   "source": [
    "bets_prop_ou_algo"
   ]
  }
 ],
 "metadata": {
  "kernelspec": {
   "display_name": "Python 3",
   "language": "python",
   "name": "python3"
  },
  "language_info": {
   "codemirror_mode": {
    "name": "ipython",
    "version": 3
   },
   "file_extension": ".py",
   "mimetype": "text/x-python",
   "name": "python",
   "nbconvert_exporter": "python",
   "pygments_lexer": "ipython3",
   "version": "3.8.3"
  }
 },
 "nbformat": 4,
 "nbformat_minor": 4
}
