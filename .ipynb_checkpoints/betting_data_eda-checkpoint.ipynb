{
 "cells": [
  {
   "cell_type": "markdown",
   "metadata": {},
   "source": [
    "### Import packages, check directories, look at raw data files"
   ]
  },
  {
   "cell_type": "code",
   "execution_count": 55,
   "metadata": {},
   "outputs": [],
   "source": [
    "# Import packages\n",
    "\n",
    "import pandas as pd \n",
    "import numpy as np \n",
    "import os\n",
    "import matplotlib.pyplot as plt\n",
    "import plotly\n",
    "import plotly.express as px\n",
    "\n",
    "# Set certain settings for the notebook\n",
    "pd.set_option(\"display.max_columns\", None)"
   ]
  },
  {
   "cell_type": "code",
   "execution_count": 3,
   "metadata": {},
   "outputs": [
    {
     "data": {
      "text/plain": [
       "'C:\\\\Users\\\\imacd_0odruq3\\\\Documents\\\\sports_gambling\\\\sports_gambling_algorithm'"
      ]
     },
     "execution_count": 3,
     "metadata": {},
     "output_type": "execute_result"
    }
   ],
   "source": [
    "# Check current directory\n",
    "os.getcwd()"
   ]
  },
  {
   "cell_type": "code",
   "execution_count": 4,
   "metadata": {},
   "outputs": [],
   "source": [
    "# Read in data files\n",
    "\n",
    "raw_data = pd.read_excel('C:\\\\Users\\\\imacd_0odruq3\\\\Documents\\\\sports_gambling\\\\data\\\\historical_nfl_data.xlsx')"
   ]
  },
  {
   "cell_type": "code",
   "execution_count": 11,
   "metadata": {},
   "outputs": [
    {
     "data": {
      "text/html": [
       "<div>\n",
       "<style scoped>\n",
       "    .dataframe tbody tr th:only-of-type {\n",
       "        vertical-align: middle;\n",
       "    }\n",
       "\n",
       "    .dataframe tbody tr th {\n",
       "        vertical-align: top;\n",
       "    }\n",
       "\n",
       "    .dataframe thead th {\n",
       "        text-align: right;\n",
       "    }\n",
       "</style>\n",
       "<table border=\"1\" class=\"dataframe\">\n",
       "  <thead>\n",
       "    <tr style=\"text-align: right;\">\n",
       "      <th></th>\n",
       "      <th>Date</th>\n",
       "      <th>Home Team</th>\n",
       "      <th>Away Team</th>\n",
       "      <th>Home Score</th>\n",
       "      <th>Away Score</th>\n",
       "      <th>Overtime?</th>\n",
       "      <th>Playoff Game?</th>\n",
       "      <th>Neutral Venue?</th>\n",
       "      <th>Home Odds Open</th>\n",
       "      <th>Home Odds Min</th>\n",
       "      <th>...</th>\n",
       "      <th>Total Score Close</th>\n",
       "      <th>Total Score Over Open</th>\n",
       "      <th>Total Score Over Min</th>\n",
       "      <th>Total Score Over Max</th>\n",
       "      <th>Total Score Over Close</th>\n",
       "      <th>Total Score Under Open</th>\n",
       "      <th>Total Score Under Min</th>\n",
       "      <th>Total Score Under Max</th>\n",
       "      <th>Total Score Under Close</th>\n",
       "      <th>Notes</th>\n",
       "    </tr>\n",
       "  </thead>\n",
       "  <tbody>\n",
       "    <tr>\n",
       "      <th>0</th>\n",
       "      <td>2022-01-17</td>\n",
       "      <td>Los Angeles Rams</td>\n",
       "      <td>Arizona Cardinals</td>\n",
       "      <td>34</td>\n",
       "      <td>11</td>\n",
       "      <td>NaN</td>\n",
       "      <td>Y</td>\n",
       "      <td>NaN</td>\n",
       "      <td>1.50</td>\n",
       "      <td>1.47</td>\n",
       "      <td>...</td>\n",
       "      <td>49.0</td>\n",
       "      <td>1.90</td>\n",
       "      <td>1.9</td>\n",
       "      <td>1.90</td>\n",
       "      <td>1.9</td>\n",
       "      <td>1.90</td>\n",
       "      <td>1.90</td>\n",
       "      <td>1.90</td>\n",
       "      <td>1.9</td>\n",
       "      <td>NaN</td>\n",
       "    </tr>\n",
       "    <tr>\n",
       "      <th>1</th>\n",
       "      <td>2022-01-16</td>\n",
       "      <td>Kansas City Chiefs</td>\n",
       "      <td>Pittsburgh Steelers</td>\n",
       "      <td>42</td>\n",
       "      <td>21</td>\n",
       "      <td>NaN</td>\n",
       "      <td>Y</td>\n",
       "      <td>NaN</td>\n",
       "      <td>1.14</td>\n",
       "      <td>1.11</td>\n",
       "      <td>...</td>\n",
       "      <td>47.0</td>\n",
       "      <td>1.90</td>\n",
       "      <td>1.9</td>\n",
       "      <td>1.90</td>\n",
       "      <td>1.9</td>\n",
       "      <td>1.90</td>\n",
       "      <td>1.90</td>\n",
       "      <td>1.90</td>\n",
       "      <td>1.9</td>\n",
       "      <td>NaN</td>\n",
       "    </tr>\n",
       "    <tr>\n",
       "      <th>2</th>\n",
       "      <td>2022-01-16</td>\n",
       "      <td>Dallas Cowboys</td>\n",
       "      <td>San Francisco 49ers</td>\n",
       "      <td>17</td>\n",
       "      <td>23</td>\n",
       "      <td>NaN</td>\n",
       "      <td>Y</td>\n",
       "      <td>NaN</td>\n",
       "      <td>1.62</td>\n",
       "      <td>1.54</td>\n",
       "      <td>...</td>\n",
       "      <td>51.0</td>\n",
       "      <td>1.90</td>\n",
       "      <td>1.9</td>\n",
       "      <td>1.90</td>\n",
       "      <td>1.9</td>\n",
       "      <td>1.90</td>\n",
       "      <td>1.90</td>\n",
       "      <td>1.90</td>\n",
       "      <td>1.9</td>\n",
       "      <td>NaN</td>\n",
       "    </tr>\n",
       "    <tr>\n",
       "      <th>3</th>\n",
       "      <td>2022-01-16</td>\n",
       "      <td>Tampa Bay Buccaneers</td>\n",
       "      <td>Philadelphia Eagles</td>\n",
       "      <td>31</td>\n",
       "      <td>15</td>\n",
       "      <td>NaN</td>\n",
       "      <td>Y</td>\n",
       "      <td>NaN</td>\n",
       "      <td>1.25</td>\n",
       "      <td>1.23</td>\n",
       "      <td>...</td>\n",
       "      <td>47.0</td>\n",
       "      <td>1.90</td>\n",
       "      <td>1.9</td>\n",
       "      <td>1.90</td>\n",
       "      <td>1.9</td>\n",
       "      <td>1.90</td>\n",
       "      <td>1.90</td>\n",
       "      <td>1.90</td>\n",
       "      <td>1.9</td>\n",
       "      <td>NaN</td>\n",
       "    </tr>\n",
       "    <tr>\n",
       "      <th>4</th>\n",
       "      <td>2022-01-15</td>\n",
       "      <td>Buffalo Bills</td>\n",
       "      <td>New England Patriots</td>\n",
       "      <td>47</td>\n",
       "      <td>17</td>\n",
       "      <td>NaN</td>\n",
       "      <td>Y</td>\n",
       "      <td>NaN</td>\n",
       "      <td>1.47</td>\n",
       "      <td>1.43</td>\n",
       "      <td>...</td>\n",
       "      <td>43.0</td>\n",
       "      <td>1.90</td>\n",
       "      <td>1.9</td>\n",
       "      <td>1.90</td>\n",
       "      <td>1.9</td>\n",
       "      <td>1.90</td>\n",
       "      <td>1.90</td>\n",
       "      <td>1.90</td>\n",
       "      <td>1.9</td>\n",
       "      <td>NaN</td>\n",
       "    </tr>\n",
       "    <tr>\n",
       "      <th>5</th>\n",
       "      <td>2022-01-15</td>\n",
       "      <td>Cincinnati Bengals</td>\n",
       "      <td>Las Vegas Raiders</td>\n",
       "      <td>26</td>\n",
       "      <td>19</td>\n",
       "      <td>NaN</td>\n",
       "      <td>Y</td>\n",
       "      <td>NaN</td>\n",
       "      <td>1.37</td>\n",
       "      <td>1.36</td>\n",
       "      <td>...</td>\n",
       "      <td>48.5</td>\n",
       "      <td>1.90</td>\n",
       "      <td>1.9</td>\n",
       "      <td>1.90</td>\n",
       "      <td>1.9</td>\n",
       "      <td>1.90</td>\n",
       "      <td>1.90</td>\n",
       "      <td>1.90</td>\n",
       "      <td>1.9</td>\n",
       "      <td>NaN</td>\n",
       "    </tr>\n",
       "    <tr>\n",
       "      <th>6</th>\n",
       "      <td>2022-01-09</td>\n",
       "      <td>Las Vegas Raiders</td>\n",
       "      <td>Los Angeles Chargers</td>\n",
       "      <td>35</td>\n",
       "      <td>32</td>\n",
       "      <td>Y</td>\n",
       "      <td>NaN</td>\n",
       "      <td>NaN</td>\n",
       "      <td>2.30</td>\n",
       "      <td>2.25</td>\n",
       "      <td>...</td>\n",
       "      <td>49.5</td>\n",
       "      <td>1.90</td>\n",
       "      <td>1.9</td>\n",
       "      <td>1.90</td>\n",
       "      <td>1.9</td>\n",
       "      <td>1.90</td>\n",
       "      <td>1.90</td>\n",
       "      <td>1.90</td>\n",
       "      <td>1.9</td>\n",
       "      <td>NaN</td>\n",
       "    </tr>\n",
       "    <tr>\n",
       "      <th>7</th>\n",
       "      <td>2022-01-09</td>\n",
       "      <td>Arizona Cardinals</td>\n",
       "      <td>Seattle Seahawks</td>\n",
       "      <td>30</td>\n",
       "      <td>38</td>\n",
       "      <td>NaN</td>\n",
       "      <td>NaN</td>\n",
       "      <td>NaN</td>\n",
       "      <td>1.35</td>\n",
       "      <td>1.32</td>\n",
       "      <td>...</td>\n",
       "      <td>48.5</td>\n",
       "      <td>1.90</td>\n",
       "      <td>1.9</td>\n",
       "      <td>1.90</td>\n",
       "      <td>1.9</td>\n",
       "      <td>1.90</td>\n",
       "      <td>1.90</td>\n",
       "      <td>1.90</td>\n",
       "      <td>1.9</td>\n",
       "      <td>NaN</td>\n",
       "    </tr>\n",
       "    <tr>\n",
       "      <th>8</th>\n",
       "      <td>2022-01-09</td>\n",
       "      <td>Los Angeles Rams</td>\n",
       "      <td>San Francisco 49ers</td>\n",
       "      <td>24</td>\n",
       "      <td>27</td>\n",
       "      <td>Y</td>\n",
       "      <td>NaN</td>\n",
       "      <td>NaN</td>\n",
       "      <td>1.40</td>\n",
       "      <td>1.40</td>\n",
       "      <td>...</td>\n",
       "      <td>46.5</td>\n",
       "      <td>1.90</td>\n",
       "      <td>1.9</td>\n",
       "      <td>1.90</td>\n",
       "      <td>1.9</td>\n",
       "      <td>1.90</td>\n",
       "      <td>1.90</td>\n",
       "      <td>1.90</td>\n",
       "      <td>1.9</td>\n",
       "      <td>NaN</td>\n",
       "    </tr>\n",
       "    <tr>\n",
       "      <th>9</th>\n",
       "      <td>2022-01-09</td>\n",
       "      <td>Atlanta Falcons</td>\n",
       "      <td>New Orleans Saints</td>\n",
       "      <td>20</td>\n",
       "      <td>30</td>\n",
       "      <td>NaN</td>\n",
       "      <td>NaN</td>\n",
       "      <td>NaN</td>\n",
       "      <td>2.75</td>\n",
       "      <td>2.60</td>\n",
       "      <td>...</td>\n",
       "      <td>40.0</td>\n",
       "      <td>1.95</td>\n",
       "      <td>1.9</td>\n",
       "      <td>1.90</td>\n",
       "      <td>1.9</td>\n",
       "      <td>1.86</td>\n",
       "      <td>1.86</td>\n",
       "      <td>1.90</td>\n",
       "      <td>1.9</td>\n",
       "      <td>NaN</td>\n",
       "    </tr>\n",
       "    <tr>\n",
       "      <th>10</th>\n",
       "      <td>2022-01-09</td>\n",
       "      <td>Baltimore Ravens</td>\n",
       "      <td>Pittsburgh Steelers</td>\n",
       "      <td>13</td>\n",
       "      <td>16</td>\n",
       "      <td>Y</td>\n",
       "      <td>NaN</td>\n",
       "      <td>NaN</td>\n",
       "      <td>1.47</td>\n",
       "      <td>1.38</td>\n",
       "      <td>...</td>\n",
       "      <td>41.0</td>\n",
       "      <td>1.90</td>\n",
       "      <td>1.9</td>\n",
       "      <td>1.90</td>\n",
       "      <td>1.9</td>\n",
       "      <td>1.90</td>\n",
       "      <td>1.90</td>\n",
       "      <td>1.90</td>\n",
       "      <td>1.9</td>\n",
       "      <td>NaN</td>\n",
       "    </tr>\n",
       "    <tr>\n",
       "      <th>11</th>\n",
       "      <td>2022-01-09</td>\n",
       "      <td>Buffalo Bills</td>\n",
       "      <td>New York Jets</td>\n",
       "      <td>27</td>\n",
       "      <td>10</td>\n",
       "      <td>NaN</td>\n",
       "      <td>NaN</td>\n",
       "      <td>NaN</td>\n",
       "      <td>1.07</td>\n",
       "      <td>1.07</td>\n",
       "      <td>...</td>\n",
       "      <td>42.0</td>\n",
       "      <td>1.90</td>\n",
       "      <td>1.9</td>\n",
       "      <td>1.90</td>\n",
       "      <td>1.9</td>\n",
       "      <td>1.90</td>\n",
       "      <td>1.90</td>\n",
       "      <td>1.90</td>\n",
       "      <td>1.9</td>\n",
       "      <td>NaN</td>\n",
       "    </tr>\n",
       "    <tr>\n",
       "      <th>12</th>\n",
       "      <td>2022-01-09</td>\n",
       "      <td>Cleveland Browns</td>\n",
       "      <td>Cincinnati Bengals</td>\n",
       "      <td>21</td>\n",
       "      <td>16</td>\n",
       "      <td>NaN</td>\n",
       "      <td>NaN</td>\n",
       "      <td>NaN</td>\n",
       "      <td>1.66</td>\n",
       "      <td>1.37</td>\n",
       "      <td>...</td>\n",
       "      <td>38.0</td>\n",
       "      <td>1.90</td>\n",
       "      <td>1.9</td>\n",
       "      <td>1.90</td>\n",
       "      <td>1.9</td>\n",
       "      <td>1.90</td>\n",
       "      <td>1.90</td>\n",
       "      <td>1.90</td>\n",
       "      <td>1.9</td>\n",
       "      <td>NaN</td>\n",
       "    </tr>\n",
       "    <tr>\n",
       "      <th>13</th>\n",
       "      <td>2022-01-09</td>\n",
       "      <td>Detroit Lions</td>\n",
       "      <td>Green Bay Packers</td>\n",
       "      <td>37</td>\n",
       "      <td>30</td>\n",
       "      <td>NaN</td>\n",
       "      <td>NaN</td>\n",
       "      <td>NaN</td>\n",
       "      <td>2.25</td>\n",
       "      <td>2.10</td>\n",
       "      <td>...</td>\n",
       "      <td>45.0</td>\n",
       "      <td>1.90</td>\n",
       "      <td>1.9</td>\n",
       "      <td>1.90</td>\n",
       "      <td>1.9</td>\n",
       "      <td>1.90</td>\n",
       "      <td>1.90</td>\n",
       "      <td>1.90</td>\n",
       "      <td>1.9</td>\n",
       "      <td>NaN</td>\n",
       "    </tr>\n",
       "    <tr>\n",
       "      <th>14</th>\n",
       "      <td>2022-01-09</td>\n",
       "      <td>Houston Texans</td>\n",
       "      <td>Tennessee Titans</td>\n",
       "      <td>25</td>\n",
       "      <td>28</td>\n",
       "      <td>NaN</td>\n",
       "      <td>NaN</td>\n",
       "      <td>NaN</td>\n",
       "      <td>5.00</td>\n",
       "      <td>4.75</td>\n",
       "      <td>...</td>\n",
       "      <td>43.0</td>\n",
       "      <td>1.95</td>\n",
       "      <td>1.9</td>\n",
       "      <td>1.90</td>\n",
       "      <td>1.9</td>\n",
       "      <td>1.86</td>\n",
       "      <td>1.90</td>\n",
       "      <td>1.90</td>\n",
       "      <td>1.9</td>\n",
       "      <td>NaN</td>\n",
       "    </tr>\n",
       "    <tr>\n",
       "      <th>15</th>\n",
       "      <td>2022-01-09</td>\n",
       "      <td>Jacksonville Jaguars</td>\n",
       "      <td>Indianapolis Colts</td>\n",
       "      <td>26</td>\n",
       "      <td>11</td>\n",
       "      <td>NaN</td>\n",
       "      <td>NaN</td>\n",
       "      <td>NaN</td>\n",
       "      <td>8.00</td>\n",
       "      <td>7.50</td>\n",
       "      <td>...</td>\n",
       "      <td>43.0</td>\n",
       "      <td>1.95</td>\n",
       "      <td>1.9</td>\n",
       "      <td>1.90</td>\n",
       "      <td>1.9</td>\n",
       "      <td>1.86</td>\n",
       "      <td>1.90</td>\n",
       "      <td>1.90</td>\n",
       "      <td>1.9</td>\n",
       "      <td>NaN</td>\n",
       "    </tr>\n",
       "    <tr>\n",
       "      <th>16</th>\n",
       "      <td>2022-01-09</td>\n",
       "      <td>Miami Dolphins</td>\n",
       "      <td>New England Patriots</td>\n",
       "      <td>33</td>\n",
       "      <td>24</td>\n",
       "      <td>NaN</td>\n",
       "      <td>NaN</td>\n",
       "      <td>NaN</td>\n",
       "      <td>3.05</td>\n",
       "      <td>3.05</td>\n",
       "      <td>...</td>\n",
       "      <td>41.0</td>\n",
       "      <td>1.90</td>\n",
       "      <td>1.9</td>\n",
       "      <td>1.90</td>\n",
       "      <td>1.9</td>\n",
       "      <td>1.90</td>\n",
       "      <td>1.90</td>\n",
       "      <td>1.90</td>\n",
       "      <td>1.9</td>\n",
       "      <td>NaN</td>\n",
       "    </tr>\n",
       "    <tr>\n",
       "      <th>17</th>\n",
       "      <td>2022-01-09</td>\n",
       "      <td>Minnesota Vikings</td>\n",
       "      <td>Chicago Bears</td>\n",
       "      <td>31</td>\n",
       "      <td>17</td>\n",
       "      <td>NaN</td>\n",
       "      <td>NaN</td>\n",
       "      <td>NaN</td>\n",
       "      <td>1.54</td>\n",
       "      <td>1.40</td>\n",
       "      <td>...</td>\n",
       "      <td>44.5</td>\n",
       "      <td>1.90</td>\n",
       "      <td>1.9</td>\n",
       "      <td>1.90</td>\n",
       "      <td>1.9</td>\n",
       "      <td>1.90</td>\n",
       "      <td>1.90</td>\n",
       "      <td>1.90</td>\n",
       "      <td>1.9</td>\n",
       "      <td>NaN</td>\n",
       "    </tr>\n",
       "    <tr>\n",
       "      <th>18</th>\n",
       "      <td>2022-01-09</td>\n",
       "      <td>New York Giants</td>\n",
       "      <td>Washington Football Team</td>\n",
       "      <td>7</td>\n",
       "      <td>22</td>\n",
       "      <td>NaN</td>\n",
       "      <td>NaN</td>\n",
       "      <td>NaN</td>\n",
       "      <td>3.45</td>\n",
       "      <td>3.10</td>\n",
       "      <td>...</td>\n",
       "      <td>36.0</td>\n",
       "      <td>2.00</td>\n",
       "      <td>1.9</td>\n",
       "      <td>2.00</td>\n",
       "      <td>1.9</td>\n",
       "      <td>1.83</td>\n",
       "      <td>1.90</td>\n",
       "      <td>1.83</td>\n",
       "      <td>1.9</td>\n",
       "      <td>NaN</td>\n",
       "    </tr>\n",
       "    <tr>\n",
       "      <th>19</th>\n",
       "      <td>2022-01-09</td>\n",
       "      <td>Tampa Bay Buccaneers</td>\n",
       "      <td>Carolina Panthers</td>\n",
       "      <td>41</td>\n",
       "      <td>17</td>\n",
       "      <td>NaN</td>\n",
       "      <td>NaN</td>\n",
       "      <td>NaN</td>\n",
       "      <td>1.25</td>\n",
       "      <td>1.19</td>\n",
       "      <td>...</td>\n",
       "      <td>43.5</td>\n",
       "      <td>1.90</td>\n",
       "      <td>1.9</td>\n",
       "      <td>1.90</td>\n",
       "      <td>1.9</td>\n",
       "      <td>1.90</td>\n",
       "      <td>1.90</td>\n",
       "      <td>1.90</td>\n",
       "      <td>1.9</td>\n",
       "      <td>NaN</td>\n",
       "    </tr>\n",
       "    <tr>\n",
       "      <th>20</th>\n",
       "      <td>2022-01-08</td>\n",
       "      <td>Philadelphia Eagles</td>\n",
       "      <td>Dallas Cowboys</td>\n",
       "      <td>26</td>\n",
       "      <td>51</td>\n",
       "      <td>NaN</td>\n",
       "      <td>NaN</td>\n",
       "      <td>NaN</td>\n",
       "      <td>2.20</td>\n",
       "      <td>2.20</td>\n",
       "      <td>...</td>\n",
       "      <td>46.5</td>\n",
       "      <td>1.90</td>\n",
       "      <td>1.9</td>\n",
       "      <td>1.90</td>\n",
       "      <td>1.9</td>\n",
       "      <td>1.90</td>\n",
       "      <td>1.90</td>\n",
       "      <td>1.90</td>\n",
       "      <td>1.9</td>\n",
       "      <td>NaN</td>\n",
       "    </tr>\n",
       "    <tr>\n",
       "      <th>21</th>\n",
       "      <td>2022-01-08</td>\n",
       "      <td>Denver Broncos</td>\n",
       "      <td>Kansas City Chiefs</td>\n",
       "      <td>24</td>\n",
       "      <td>28</td>\n",
       "      <td>NaN</td>\n",
       "      <td>NaN</td>\n",
       "      <td>NaN</td>\n",
       "      <td>4.50</td>\n",
       "      <td>4.25</td>\n",
       "      <td>...</td>\n",
       "      <td>44.5</td>\n",
       "      <td>1.90</td>\n",
       "      <td>1.9</td>\n",
       "      <td>1.90</td>\n",
       "      <td>1.9</td>\n",
       "      <td>1.90</td>\n",
       "      <td>1.90</td>\n",
       "      <td>1.90</td>\n",
       "      <td>1.9</td>\n",
       "      <td>NaN</td>\n",
       "    </tr>\n",
       "    <tr>\n",
       "      <th>22</th>\n",
       "      <td>2022-01-03</td>\n",
       "      <td>Pittsburgh Steelers</td>\n",
       "      <td>Cleveland Browns</td>\n",
       "      <td>26</td>\n",
       "      <td>14</td>\n",
       "      <td>NaN</td>\n",
       "      <td>NaN</td>\n",
       "      <td>NaN</td>\n",
       "      <td>2.40</td>\n",
       "      <td>1.66</td>\n",
       "      <td>...</td>\n",
       "      <td>43.5</td>\n",
       "      <td>1.90</td>\n",
       "      <td>1.9</td>\n",
       "      <td>1.90</td>\n",
       "      <td>1.9</td>\n",
       "      <td>1.90</td>\n",
       "      <td>1.90</td>\n",
       "      <td>1.90</td>\n",
       "      <td>1.9</td>\n",
       "      <td>NaN</td>\n",
       "    </tr>\n",
       "    <tr>\n",
       "      <th>23</th>\n",
       "      <td>2022-01-02</td>\n",
       "      <td>Green Bay Packers</td>\n",
       "      <td>Minnesota Vikings</td>\n",
       "      <td>37</td>\n",
       "      <td>10</td>\n",
       "      <td>NaN</td>\n",
       "      <td>NaN</td>\n",
       "      <td>NaN</td>\n",
       "      <td>1.34</td>\n",
       "      <td>1.12</td>\n",
       "      <td>...</td>\n",
       "      <td>42.5</td>\n",
       "      <td>1.90</td>\n",
       "      <td>1.9</td>\n",
       "      <td>1.90</td>\n",
       "      <td>1.9</td>\n",
       "      <td>1.90</td>\n",
       "      <td>1.90</td>\n",
       "      <td>1.90</td>\n",
       "      <td>1.9</td>\n",
       "      <td>NaN</td>\n",
       "    </tr>\n",
       "    <tr>\n",
       "      <th>24</th>\n",
       "      <td>2022-01-02</td>\n",
       "      <td>Baltimore Ravens</td>\n",
       "      <td>Los Angeles Rams</td>\n",
       "      <td>19</td>\n",
       "      <td>20</td>\n",
       "      <td>NaN</td>\n",
       "      <td>NaN</td>\n",
       "      <td>NaN</td>\n",
       "      <td>2.40</td>\n",
       "      <td>2.40</td>\n",
       "      <td>...</td>\n",
       "      <td>46.5</td>\n",
       "      <td>1.90</td>\n",
       "      <td>1.9</td>\n",
       "      <td>1.90</td>\n",
       "      <td>1.9</td>\n",
       "      <td>1.90</td>\n",
       "      <td>1.90</td>\n",
       "      <td>1.90</td>\n",
       "      <td>1.9</td>\n",
       "      <td>NaN</td>\n",
       "    </tr>\n",
       "    <tr>\n",
       "      <th>25</th>\n",
       "      <td>2022-01-02</td>\n",
       "      <td>Dallas Cowboys</td>\n",
       "      <td>Arizona Cardinals</td>\n",
       "      <td>22</td>\n",
       "      <td>25</td>\n",
       "      <td>NaN</td>\n",
       "      <td>NaN</td>\n",
       "      <td>NaN</td>\n",
       "      <td>1.43</td>\n",
       "      <td>1.33</td>\n",
       "      <td>...</td>\n",
       "      <td>52.5</td>\n",
       "      <td>1.90</td>\n",
       "      <td>1.9</td>\n",
       "      <td>1.90</td>\n",
       "      <td>1.9</td>\n",
       "      <td>1.90</td>\n",
       "      <td>1.90</td>\n",
       "      <td>1.90</td>\n",
       "      <td>1.9</td>\n",
       "      <td>NaN</td>\n",
       "    </tr>\n",
       "    <tr>\n",
       "      <th>26</th>\n",
       "      <td>2022-01-02</td>\n",
       "      <td>Seattle Seahawks</td>\n",
       "      <td>Detroit Lions</td>\n",
       "      <td>51</td>\n",
       "      <td>29</td>\n",
       "      <td>NaN</td>\n",
       "      <td>NaN</td>\n",
       "      <td>NaN</td>\n",
       "      <td>1.26</td>\n",
       "      <td>1.26</td>\n",
       "      <td>...</td>\n",
       "      <td>41.5</td>\n",
       "      <td>1.90</td>\n",
       "      <td>1.9</td>\n",
       "      <td>1.90</td>\n",
       "      <td>1.9</td>\n",
       "      <td>1.90</td>\n",
       "      <td>1.90</td>\n",
       "      <td>1.90</td>\n",
       "      <td>1.9</td>\n",
       "      <td>NaN</td>\n",
       "    </tr>\n",
       "    <tr>\n",
       "      <th>27</th>\n",
       "      <td>2022-01-02</td>\n",
       "      <td>Los Angeles Chargers</td>\n",
       "      <td>Denver Broncos</td>\n",
       "      <td>34</td>\n",
       "      <td>13</td>\n",
       "      <td>NaN</td>\n",
       "      <td>NaN</td>\n",
       "      <td>NaN</td>\n",
       "      <td>1.38</td>\n",
       "      <td>1.26</td>\n",
       "      <td>...</td>\n",
       "      <td>46.0</td>\n",
       "      <td>1.90</td>\n",
       "      <td>1.9</td>\n",
       "      <td>1.90</td>\n",
       "      <td>1.9</td>\n",
       "      <td>1.90</td>\n",
       "      <td>1.90</td>\n",
       "      <td>1.90</td>\n",
       "      <td>1.9</td>\n",
       "      <td>NaN</td>\n",
       "    </tr>\n",
       "    <tr>\n",
       "      <th>28</th>\n",
       "      <td>2022-01-02</td>\n",
       "      <td>San Francisco 49ers</td>\n",
       "      <td>Houston Texans</td>\n",
       "      <td>23</td>\n",
       "      <td>7</td>\n",
       "      <td>NaN</td>\n",
       "      <td>NaN</td>\n",
       "      <td>NaN</td>\n",
       "      <td>1.08</td>\n",
       "      <td>1.08</td>\n",
       "      <td>...</td>\n",
       "      <td>44.5</td>\n",
       "      <td>1.90</td>\n",
       "      <td>1.9</td>\n",
       "      <td>1.90</td>\n",
       "      <td>1.9</td>\n",
       "      <td>1.90</td>\n",
       "      <td>1.90</td>\n",
       "      <td>1.90</td>\n",
       "      <td>1.9</td>\n",
       "      <td>NaN</td>\n",
       "    </tr>\n",
       "    <tr>\n",
       "      <th>29</th>\n",
       "      <td>2022-01-02</td>\n",
       "      <td>Buffalo Bills</td>\n",
       "      <td>Atlanta Falcons</td>\n",
       "      <td>29</td>\n",
       "      <td>15</td>\n",
       "      <td>NaN</td>\n",
       "      <td>NaN</td>\n",
       "      <td>NaN</td>\n",
       "      <td>1.11</td>\n",
       "      <td>1.09</td>\n",
       "      <td>...</td>\n",
       "      <td>46.0</td>\n",
       "      <td>1.90</td>\n",
       "      <td>1.9</td>\n",
       "      <td>1.90</td>\n",
       "      <td>1.9</td>\n",
       "      <td>1.90</td>\n",
       "      <td>1.90</td>\n",
       "      <td>1.90</td>\n",
       "      <td>1.9</td>\n",
       "      <td>NaN</td>\n",
       "    </tr>\n",
       "    <tr>\n",
       "      <th>30</th>\n",
       "      <td>2022-01-02</td>\n",
       "      <td>Chicago Bears</td>\n",
       "      <td>New York Giants</td>\n",
       "      <td>29</td>\n",
       "      <td>3</td>\n",
       "      <td>NaN</td>\n",
       "      <td>NaN</td>\n",
       "      <td>NaN</td>\n",
       "      <td>1.37</td>\n",
       "      <td>1.34</td>\n",
       "      <td>...</td>\n",
       "      <td>36.5</td>\n",
       "      <td>1.90</td>\n",
       "      <td>1.9</td>\n",
       "      <td>1.90</td>\n",
       "      <td>1.9</td>\n",
       "      <td>1.90</td>\n",
       "      <td>1.90</td>\n",
       "      <td>1.90</td>\n",
       "      <td>1.9</td>\n",
       "      <td>NaN</td>\n",
       "    </tr>\n",
       "    <tr>\n",
       "      <th>31</th>\n",
       "      <td>2022-01-02</td>\n",
       "      <td>Cincinnati Bengals</td>\n",
       "      <td>Kansas City Chiefs</td>\n",
       "      <td>34</td>\n",
       "      <td>31</td>\n",
       "      <td>NaN</td>\n",
       "      <td>NaN</td>\n",
       "      <td>NaN</td>\n",
       "      <td>2.80</td>\n",
       "      <td>2.65</td>\n",
       "      <td>...</td>\n",
       "      <td>51.0</td>\n",
       "      <td>1.90</td>\n",
       "      <td>1.9</td>\n",
       "      <td>1.90</td>\n",
       "      <td>1.9</td>\n",
       "      <td>1.90</td>\n",
       "      <td>1.90</td>\n",
       "      <td>1.90</td>\n",
       "      <td>1.9</td>\n",
       "      <td>NaN</td>\n",
       "    </tr>\n",
       "    <tr>\n",
       "      <th>32</th>\n",
       "      <td>2022-01-02</td>\n",
       "      <td>Indianapolis Colts</td>\n",
       "      <td>Las Vegas Raiders</td>\n",
       "      <td>20</td>\n",
       "      <td>23</td>\n",
       "      <td>NaN</td>\n",
       "      <td>NaN</td>\n",
       "      <td>NaN</td>\n",
       "      <td>1.27</td>\n",
       "      <td>1.25</td>\n",
       "      <td>...</td>\n",
       "      <td>46.5</td>\n",
       "      <td>1.90</td>\n",
       "      <td>1.9</td>\n",
       "      <td>1.90</td>\n",
       "      <td>1.9</td>\n",
       "      <td>1.90</td>\n",
       "      <td>1.90</td>\n",
       "      <td>1.90</td>\n",
       "      <td>1.9</td>\n",
       "      <td>NaN</td>\n",
       "    </tr>\n",
       "    <tr>\n",
       "      <th>33</th>\n",
       "      <td>2022-01-02</td>\n",
       "      <td>New England Patriots</td>\n",
       "      <td>Jacksonville Jaguars</td>\n",
       "      <td>50</td>\n",
       "      <td>10</td>\n",
       "      <td>NaN</td>\n",
       "      <td>NaN</td>\n",
       "      <td>NaN</td>\n",
       "      <td>1.09</td>\n",
       "      <td>1.07</td>\n",
       "      <td>...</td>\n",
       "      <td>41.5</td>\n",
       "      <td>1.90</td>\n",
       "      <td>1.9</td>\n",
       "      <td>1.90</td>\n",
       "      <td>1.9</td>\n",
       "      <td>1.90</td>\n",
       "      <td>1.90</td>\n",
       "      <td>1.90</td>\n",
       "      <td>1.9</td>\n",
       "      <td>NaN</td>\n",
       "    </tr>\n",
       "    <tr>\n",
       "      <th>34</th>\n",
       "      <td>2022-01-02</td>\n",
       "      <td>New Orleans Saints</td>\n",
       "      <td>Carolina Panthers</td>\n",
       "      <td>18</td>\n",
       "      <td>10</td>\n",
       "      <td>NaN</td>\n",
       "      <td>NaN</td>\n",
       "      <td>NaN</td>\n",
       "      <td>1.34</td>\n",
       "      <td>1.27</td>\n",
       "      <td>...</td>\n",
       "      <td>37.0</td>\n",
       "      <td>1.90</td>\n",
       "      <td>1.9</td>\n",
       "      <td>1.90</td>\n",
       "      <td>1.9</td>\n",
       "      <td>1.90</td>\n",
       "      <td>1.90</td>\n",
       "      <td>1.90</td>\n",
       "      <td>1.9</td>\n",
       "      <td>NaN</td>\n",
       "    </tr>\n",
       "    <tr>\n",
       "      <th>35</th>\n",
       "      <td>2022-01-02</td>\n",
       "      <td>New York Jets</td>\n",
       "      <td>Tampa Bay Buccaneers</td>\n",
       "      <td>24</td>\n",
       "      <td>28</td>\n",
       "      <td>NaN</td>\n",
       "      <td>NaN</td>\n",
       "      <td>NaN</td>\n",
       "      <td>6.50</td>\n",
       "      <td>6.25</td>\n",
       "      <td>...</td>\n",
       "      <td>47.5</td>\n",
       "      <td>1.90</td>\n",
       "      <td>1.9</td>\n",
       "      <td>1.90</td>\n",
       "      <td>1.9</td>\n",
       "      <td>1.90</td>\n",
       "      <td>1.90</td>\n",
       "      <td>1.90</td>\n",
       "      <td>1.9</td>\n",
       "      <td>NaN</td>\n",
       "    </tr>\n",
       "    <tr>\n",
       "      <th>36</th>\n",
       "      <td>2022-01-02</td>\n",
       "      <td>Tennessee Titans</td>\n",
       "      <td>Miami Dolphins</td>\n",
       "      <td>34</td>\n",
       "      <td>3</td>\n",
       "      <td>NaN</td>\n",
       "      <td>NaN</td>\n",
       "      <td>NaN</td>\n",
       "      <td>1.55</td>\n",
       "      <td>1.55</td>\n",
       "      <td>...</td>\n",
       "      <td>41.0</td>\n",
       "      <td>1.90</td>\n",
       "      <td>1.9</td>\n",
       "      <td>1.90</td>\n",
       "      <td>1.9</td>\n",
       "      <td>1.90</td>\n",
       "      <td>1.90</td>\n",
       "      <td>1.90</td>\n",
       "      <td>1.9</td>\n",
       "      <td>NaN</td>\n",
       "    </tr>\n",
       "    <tr>\n",
       "      <th>37</th>\n",
       "      <td>2022-01-02</td>\n",
       "      <td>Washington Football Team</td>\n",
       "      <td>Philadelphia Eagles</td>\n",
       "      <td>16</td>\n",
       "      <td>20</td>\n",
       "      <td>NaN</td>\n",
       "      <td>NaN</td>\n",
       "      <td>NaN</td>\n",
       "      <td>2.40</td>\n",
       "      <td>2.40</td>\n",
       "      <td>...</td>\n",
       "      <td>44.5</td>\n",
       "      <td>1.90</td>\n",
       "      <td>1.9</td>\n",
       "      <td>1.90</td>\n",
       "      <td>1.9</td>\n",
       "      <td>1.90</td>\n",
       "      <td>1.90</td>\n",
       "      <td>1.90</td>\n",
       "      <td>1.9</td>\n",
       "      <td>NaN</td>\n",
       "    </tr>\n",
       "    <tr>\n",
       "      <th>38</th>\n",
       "      <td>2021-12-27</td>\n",
       "      <td>New Orleans Saints</td>\n",
       "      <td>Miami Dolphins</td>\n",
       "      <td>3</td>\n",
       "      <td>20</td>\n",
       "      <td>NaN</td>\n",
       "      <td>NaN</td>\n",
       "      <td>NaN</td>\n",
       "      <td>1.62</td>\n",
       "      <td>1.60</td>\n",
       "      <td>...</td>\n",
       "      <td>37.5</td>\n",
       "      <td>1.90</td>\n",
       "      <td>1.9</td>\n",
       "      <td>1.90</td>\n",
       "      <td>1.9</td>\n",
       "      <td>1.90</td>\n",
       "      <td>1.90</td>\n",
       "      <td>1.90</td>\n",
       "      <td>1.9</td>\n",
       "      <td>NaN</td>\n",
       "    </tr>\n",
       "    <tr>\n",
       "      <th>39</th>\n",
       "      <td>2021-12-26</td>\n",
       "      <td>Dallas Cowboys</td>\n",
       "      <td>Washington Football Team</td>\n",
       "      <td>56</td>\n",
       "      <td>14</td>\n",
       "      <td>NaN</td>\n",
       "      <td>NaN</td>\n",
       "      <td>NaN</td>\n",
       "      <td>1.20</td>\n",
       "      <td>1.19</td>\n",
       "      <td>...</td>\n",
       "      <td>46.0</td>\n",
       "      <td>1.90</td>\n",
       "      <td>1.9</td>\n",
       "      <td>1.90</td>\n",
       "      <td>1.9</td>\n",
       "      <td>1.90</td>\n",
       "      <td>1.90</td>\n",
       "      <td>1.90</td>\n",
       "      <td>1.9</td>\n",
       "      <td>NaN</td>\n",
       "    </tr>\n",
       "    <tr>\n",
       "      <th>40</th>\n",
       "      <td>2021-12-26</td>\n",
       "      <td>Kansas City Chiefs</td>\n",
       "      <td>Pittsburgh Steelers</td>\n",
       "      <td>36</td>\n",
       "      <td>10</td>\n",
       "      <td>NaN</td>\n",
       "      <td>NaN</td>\n",
       "      <td>NaN</td>\n",
       "      <td>1.22</td>\n",
       "      <td>1.19</td>\n",
       "      <td>...</td>\n",
       "      <td>44.5</td>\n",
       "      <td>1.95</td>\n",
       "      <td>1.9</td>\n",
       "      <td>1.95</td>\n",
       "      <td>1.9</td>\n",
       "      <td>1.86</td>\n",
       "      <td>1.90</td>\n",
       "      <td>1.90</td>\n",
       "      <td>1.9</td>\n",
       "      <td>NaN</td>\n",
       "    </tr>\n",
       "    <tr>\n",
       "      <th>41</th>\n",
       "      <td>2021-12-26</td>\n",
       "      <td>Las Vegas Raiders</td>\n",
       "      <td>Denver Broncos</td>\n",
       "      <td>17</td>\n",
       "      <td>13</td>\n",
       "      <td>NaN</td>\n",
       "      <td>NaN</td>\n",
       "      <td>NaN</td>\n",
       "      <td>1.90</td>\n",
       "      <td>1.80</td>\n",
       "      <td>...</td>\n",
       "      <td>41.5</td>\n",
       "      <td>1.90</td>\n",
       "      <td>1.9</td>\n",
       "      <td>1.90</td>\n",
       "      <td>1.9</td>\n",
       "      <td>1.90</td>\n",
       "      <td>1.90</td>\n",
       "      <td>1.90</td>\n",
       "      <td>1.9</td>\n",
       "      <td>NaN</td>\n",
       "    </tr>\n",
       "    <tr>\n",
       "      <th>42</th>\n",
       "      <td>2021-12-26</td>\n",
       "      <td>Seattle Seahawks</td>\n",
       "      <td>Chicago Bears</td>\n",
       "      <td>24</td>\n",
       "      <td>25</td>\n",
       "      <td>NaN</td>\n",
       "      <td>NaN</td>\n",
       "      <td>NaN</td>\n",
       "      <td>1.32</td>\n",
       "      <td>1.31</td>\n",
       "      <td>...</td>\n",
       "      <td>41.0</td>\n",
       "      <td>1.90</td>\n",
       "      <td>1.9</td>\n",
       "      <td>1.90</td>\n",
       "      <td>1.9</td>\n",
       "      <td>1.90</td>\n",
       "      <td>1.90</td>\n",
       "      <td>1.90</td>\n",
       "      <td>1.9</td>\n",
       "      <td>NaN</td>\n",
       "    </tr>\n",
       "    <tr>\n",
       "      <th>43</th>\n",
       "      <td>2021-12-26</td>\n",
       "      <td>Atlanta Falcons</td>\n",
       "      <td>Detroit Lions</td>\n",
       "      <td>20</td>\n",
       "      <td>16</td>\n",
       "      <td>NaN</td>\n",
       "      <td>NaN</td>\n",
       "      <td>NaN</td>\n",
       "      <td>1.47</td>\n",
       "      <td>1.26</td>\n",
       "      <td>...</td>\n",
       "      <td>42.5</td>\n",
       "      <td>1.95</td>\n",
       "      <td>1.9</td>\n",
       "      <td>1.90</td>\n",
       "      <td>1.9</td>\n",
       "      <td>1.86</td>\n",
       "      <td>1.90</td>\n",
       "      <td>1.90</td>\n",
       "      <td>1.9</td>\n",
       "      <td>NaN</td>\n",
       "    </tr>\n",
       "    <tr>\n",
       "      <th>44</th>\n",
       "      <td>2021-12-26</td>\n",
       "      <td>Carolina Panthers</td>\n",
       "      <td>Tampa Bay Buccaneers</td>\n",
       "      <td>6</td>\n",
       "      <td>32</td>\n",
       "      <td>NaN</td>\n",
       "      <td>NaN</td>\n",
       "      <td>NaN</td>\n",
       "      <td>6.00</td>\n",
       "      <td>4.50</td>\n",
       "      <td>...</td>\n",
       "      <td>44.5</td>\n",
       "      <td>1.90</td>\n",
       "      <td>1.9</td>\n",
       "      <td>1.90</td>\n",
       "      <td>1.9</td>\n",
       "      <td>1.90</td>\n",
       "      <td>1.90</td>\n",
       "      <td>1.90</td>\n",
       "      <td>1.9</td>\n",
       "      <td>NaN</td>\n",
       "    </tr>\n",
       "    <tr>\n",
       "      <th>45</th>\n",
       "      <td>2021-12-26</td>\n",
       "      <td>Cincinnati Bengals</td>\n",
       "      <td>Baltimore Ravens</td>\n",
       "      <td>41</td>\n",
       "      <td>21</td>\n",
       "      <td>NaN</td>\n",
       "      <td>NaN</td>\n",
       "      <td>NaN</td>\n",
       "      <td>1.71</td>\n",
       "      <td>1.25</td>\n",
       "      <td>...</td>\n",
       "      <td>43.5</td>\n",
       "      <td>1.95</td>\n",
       "      <td>1.9</td>\n",
       "      <td>1.90</td>\n",
       "      <td>1.9</td>\n",
       "      <td>1.86</td>\n",
       "      <td>1.90</td>\n",
       "      <td>1.90</td>\n",
       "      <td>1.9</td>\n",
       "      <td>NaN</td>\n",
       "    </tr>\n",
       "    <tr>\n",
       "      <th>46</th>\n",
       "      <td>2021-12-26</td>\n",
       "      <td>Houston Texans</td>\n",
       "      <td>Los Angeles Chargers</td>\n",
       "      <td>41</td>\n",
       "      <td>29</td>\n",
       "      <td>NaN</td>\n",
       "      <td>NaN</td>\n",
       "      <td>NaN</td>\n",
       "      <td>5.00</td>\n",
       "      <td>4.00</td>\n",
       "      <td>...</td>\n",
       "      <td>45.5</td>\n",
       "      <td>1.90</td>\n",
       "      <td>1.9</td>\n",
       "      <td>1.90</td>\n",
       "      <td>1.9</td>\n",
       "      <td>1.90</td>\n",
       "      <td>1.90</td>\n",
       "      <td>1.90</td>\n",
       "      <td>1.9</td>\n",
       "      <td>NaN</td>\n",
       "    </tr>\n",
       "    <tr>\n",
       "      <th>47</th>\n",
       "      <td>2021-12-26</td>\n",
       "      <td>Minnesota Vikings</td>\n",
       "      <td>Los Angeles Rams</td>\n",
       "      <td>23</td>\n",
       "      <td>30</td>\n",
       "      <td>NaN</td>\n",
       "      <td>NaN</td>\n",
       "      <td>NaN</td>\n",
       "      <td>2.40</td>\n",
       "      <td>2.25</td>\n",
       "      <td>...</td>\n",
       "      <td>48.5</td>\n",
       "      <td>1.90</td>\n",
       "      <td>1.9</td>\n",
       "      <td>1.90</td>\n",
       "      <td>1.9</td>\n",
       "      <td>1.90</td>\n",
       "      <td>1.90</td>\n",
       "      <td>1.90</td>\n",
       "      <td>1.9</td>\n",
       "      <td>NaN</td>\n",
       "    </tr>\n",
       "    <tr>\n",
       "      <th>48</th>\n",
       "      <td>2021-12-26</td>\n",
       "      <td>New England Patriots</td>\n",
       "      <td>Buffalo Bills</td>\n",
       "      <td>21</td>\n",
       "      <td>33</td>\n",
       "      <td>NaN</td>\n",
       "      <td>NaN</td>\n",
       "      <td>NaN</td>\n",
       "      <td>1.80</td>\n",
       "      <td>1.71</td>\n",
       "      <td>...</td>\n",
       "      <td>43.5</td>\n",
       "      <td>1.95</td>\n",
       "      <td>1.9</td>\n",
       "      <td>2.05</td>\n",
       "      <td>1.9</td>\n",
       "      <td>1.86</td>\n",
       "      <td>1.90</td>\n",
       "      <td>1.90</td>\n",
       "      <td>1.9</td>\n",
       "      <td>NaN</td>\n",
       "    </tr>\n",
       "    <tr>\n",
       "      <th>49</th>\n",
       "      <td>2021-12-26</td>\n",
       "      <td>New York Jets</td>\n",
       "      <td>Jacksonville Jaguars</td>\n",
       "      <td>26</td>\n",
       "      <td>21</td>\n",
       "      <td>NaN</td>\n",
       "      <td>NaN</td>\n",
       "      <td>NaN</td>\n",
       "      <td>1.76</td>\n",
       "      <td>1.68</td>\n",
       "      <td>...</td>\n",
       "      <td>43.0</td>\n",
       "      <td>1.95</td>\n",
       "      <td>1.9</td>\n",
       "      <td>1.90</td>\n",
       "      <td>1.9</td>\n",
       "      <td>1.86</td>\n",
       "      <td>1.90</td>\n",
       "      <td>1.90</td>\n",
       "      <td>1.9</td>\n",
       "      <td>NaN</td>\n",
       "    </tr>\n",
       "  </tbody>\n",
       "</table>\n",
       "<p>50 rows × 45 columns</p>\n",
       "</div>"
      ],
      "text/plain": [
       "         Date                 Home Team                 Away Team  Home Score  \\\n",
       "0  2022-01-17          Los Angeles Rams         Arizona Cardinals          34   \n",
       "1  2022-01-16        Kansas City Chiefs       Pittsburgh Steelers          42   \n",
       "2  2022-01-16            Dallas Cowboys       San Francisco 49ers          17   \n",
       "3  2022-01-16      Tampa Bay Buccaneers       Philadelphia Eagles          31   \n",
       "4  2022-01-15             Buffalo Bills      New England Patriots          47   \n",
       "5  2022-01-15        Cincinnati Bengals         Las Vegas Raiders          26   \n",
       "6  2022-01-09         Las Vegas Raiders      Los Angeles Chargers          35   \n",
       "7  2022-01-09         Arizona Cardinals          Seattle Seahawks          30   \n",
       "8  2022-01-09          Los Angeles Rams       San Francisco 49ers          24   \n",
       "9  2022-01-09           Atlanta Falcons        New Orleans Saints          20   \n",
       "10 2022-01-09          Baltimore Ravens       Pittsburgh Steelers          13   \n",
       "11 2022-01-09             Buffalo Bills             New York Jets          27   \n",
       "12 2022-01-09          Cleveland Browns        Cincinnati Bengals          21   \n",
       "13 2022-01-09             Detroit Lions         Green Bay Packers          37   \n",
       "14 2022-01-09            Houston Texans          Tennessee Titans          25   \n",
       "15 2022-01-09      Jacksonville Jaguars        Indianapolis Colts          26   \n",
       "16 2022-01-09            Miami Dolphins      New England Patriots          33   \n",
       "17 2022-01-09         Minnesota Vikings             Chicago Bears          31   \n",
       "18 2022-01-09           New York Giants  Washington Football Team           7   \n",
       "19 2022-01-09      Tampa Bay Buccaneers         Carolina Panthers          41   \n",
       "20 2022-01-08       Philadelphia Eagles            Dallas Cowboys          26   \n",
       "21 2022-01-08            Denver Broncos        Kansas City Chiefs          24   \n",
       "22 2022-01-03       Pittsburgh Steelers          Cleveland Browns          26   \n",
       "23 2022-01-02         Green Bay Packers         Minnesota Vikings          37   \n",
       "24 2022-01-02          Baltimore Ravens          Los Angeles Rams          19   \n",
       "25 2022-01-02            Dallas Cowboys         Arizona Cardinals          22   \n",
       "26 2022-01-02          Seattle Seahawks             Detroit Lions          51   \n",
       "27 2022-01-02      Los Angeles Chargers            Denver Broncos          34   \n",
       "28 2022-01-02       San Francisco 49ers            Houston Texans          23   \n",
       "29 2022-01-02             Buffalo Bills           Atlanta Falcons          29   \n",
       "30 2022-01-02             Chicago Bears           New York Giants          29   \n",
       "31 2022-01-02        Cincinnati Bengals        Kansas City Chiefs          34   \n",
       "32 2022-01-02        Indianapolis Colts         Las Vegas Raiders          20   \n",
       "33 2022-01-02      New England Patriots      Jacksonville Jaguars          50   \n",
       "34 2022-01-02        New Orleans Saints         Carolina Panthers          18   \n",
       "35 2022-01-02             New York Jets      Tampa Bay Buccaneers          24   \n",
       "36 2022-01-02          Tennessee Titans            Miami Dolphins          34   \n",
       "37 2022-01-02  Washington Football Team       Philadelphia Eagles          16   \n",
       "38 2021-12-27        New Orleans Saints            Miami Dolphins           3   \n",
       "39 2021-12-26            Dallas Cowboys  Washington Football Team          56   \n",
       "40 2021-12-26        Kansas City Chiefs       Pittsburgh Steelers          36   \n",
       "41 2021-12-26         Las Vegas Raiders            Denver Broncos          17   \n",
       "42 2021-12-26          Seattle Seahawks             Chicago Bears          24   \n",
       "43 2021-12-26           Atlanta Falcons             Detroit Lions          20   \n",
       "44 2021-12-26         Carolina Panthers      Tampa Bay Buccaneers           6   \n",
       "45 2021-12-26        Cincinnati Bengals          Baltimore Ravens          41   \n",
       "46 2021-12-26            Houston Texans      Los Angeles Chargers          41   \n",
       "47 2021-12-26         Minnesota Vikings          Los Angeles Rams          23   \n",
       "48 2021-12-26      New England Patriots             Buffalo Bills          21   \n",
       "49 2021-12-26             New York Jets      Jacksonville Jaguars          26   \n",
       "\n",
       "    Away Score Overtime? Playoff Game? Neutral Venue?  Home Odds Open  \\\n",
       "0           11       NaN             Y            NaN            1.50   \n",
       "1           21       NaN             Y            NaN            1.14   \n",
       "2           23       NaN             Y            NaN            1.62   \n",
       "3           15       NaN             Y            NaN            1.25   \n",
       "4           17       NaN             Y            NaN            1.47   \n",
       "5           19       NaN             Y            NaN            1.37   \n",
       "6           32         Y           NaN            NaN            2.30   \n",
       "7           38       NaN           NaN            NaN            1.35   \n",
       "8           27         Y           NaN            NaN            1.40   \n",
       "9           30       NaN           NaN            NaN            2.75   \n",
       "10          16         Y           NaN            NaN            1.47   \n",
       "11          10       NaN           NaN            NaN            1.07   \n",
       "12          16       NaN           NaN            NaN            1.66   \n",
       "13          30       NaN           NaN            NaN            2.25   \n",
       "14          28       NaN           NaN            NaN            5.00   \n",
       "15          11       NaN           NaN            NaN            8.00   \n",
       "16          24       NaN           NaN            NaN            3.05   \n",
       "17          17       NaN           NaN            NaN            1.54   \n",
       "18          22       NaN           NaN            NaN            3.45   \n",
       "19          17       NaN           NaN            NaN            1.25   \n",
       "20          51       NaN           NaN            NaN            2.20   \n",
       "21          28       NaN           NaN            NaN            4.50   \n",
       "22          14       NaN           NaN            NaN            2.40   \n",
       "23          10       NaN           NaN            NaN            1.34   \n",
       "24          20       NaN           NaN            NaN            2.40   \n",
       "25          25       NaN           NaN            NaN            1.43   \n",
       "26          29       NaN           NaN            NaN            1.26   \n",
       "27          13       NaN           NaN            NaN            1.38   \n",
       "28           7       NaN           NaN            NaN            1.08   \n",
       "29          15       NaN           NaN            NaN            1.11   \n",
       "30           3       NaN           NaN            NaN            1.37   \n",
       "31          31       NaN           NaN            NaN            2.80   \n",
       "32          23       NaN           NaN            NaN            1.27   \n",
       "33          10       NaN           NaN            NaN            1.09   \n",
       "34          10       NaN           NaN            NaN            1.34   \n",
       "35          28       NaN           NaN            NaN            6.50   \n",
       "36           3       NaN           NaN            NaN            1.55   \n",
       "37          20       NaN           NaN            NaN            2.40   \n",
       "38          20       NaN           NaN            NaN            1.62   \n",
       "39          14       NaN           NaN            NaN            1.20   \n",
       "40          10       NaN           NaN            NaN            1.22   \n",
       "41          13       NaN           NaN            NaN            1.90   \n",
       "42          25       NaN           NaN            NaN            1.32   \n",
       "43          16       NaN           NaN            NaN            1.47   \n",
       "44          32       NaN           NaN            NaN            6.00   \n",
       "45          21       NaN           NaN            NaN            1.71   \n",
       "46          29       NaN           NaN            NaN            5.00   \n",
       "47          30       NaN           NaN            NaN            2.40   \n",
       "48          33       NaN           NaN            NaN            1.80   \n",
       "49          21       NaN           NaN            NaN            1.76   \n",
       "\n",
       "    Home Odds Min  ...  Total Score Close  Total Score Over Open  \\\n",
       "0            1.47  ...               49.0                   1.90   \n",
       "1            1.11  ...               47.0                   1.90   \n",
       "2            1.54  ...               51.0                   1.90   \n",
       "3            1.23  ...               47.0                   1.90   \n",
       "4            1.43  ...               43.0                   1.90   \n",
       "5            1.36  ...               48.5                   1.90   \n",
       "6            2.25  ...               49.5                   1.90   \n",
       "7            1.32  ...               48.5                   1.90   \n",
       "8            1.40  ...               46.5                   1.90   \n",
       "9            2.60  ...               40.0                   1.95   \n",
       "10           1.38  ...               41.0                   1.90   \n",
       "11           1.07  ...               42.0                   1.90   \n",
       "12           1.37  ...               38.0                   1.90   \n",
       "13           2.10  ...               45.0                   1.90   \n",
       "14           4.75  ...               43.0                   1.95   \n",
       "15           7.50  ...               43.0                   1.95   \n",
       "16           3.05  ...               41.0                   1.90   \n",
       "17           1.40  ...               44.5                   1.90   \n",
       "18           3.10  ...               36.0                   2.00   \n",
       "19           1.19  ...               43.5                   1.90   \n",
       "20           2.20  ...               46.5                   1.90   \n",
       "21           4.25  ...               44.5                   1.90   \n",
       "22           1.66  ...               43.5                   1.90   \n",
       "23           1.12  ...               42.5                   1.90   \n",
       "24           2.40  ...               46.5                   1.90   \n",
       "25           1.33  ...               52.5                   1.90   \n",
       "26           1.26  ...               41.5                   1.90   \n",
       "27           1.26  ...               46.0                   1.90   \n",
       "28           1.08  ...               44.5                   1.90   \n",
       "29           1.09  ...               46.0                   1.90   \n",
       "30           1.34  ...               36.5                   1.90   \n",
       "31           2.65  ...               51.0                   1.90   \n",
       "32           1.25  ...               46.5                   1.90   \n",
       "33           1.07  ...               41.5                   1.90   \n",
       "34           1.27  ...               37.0                   1.90   \n",
       "35           6.25  ...               47.5                   1.90   \n",
       "36           1.55  ...               41.0                   1.90   \n",
       "37           2.40  ...               44.5                   1.90   \n",
       "38           1.60  ...               37.5                   1.90   \n",
       "39           1.19  ...               46.0                   1.90   \n",
       "40           1.19  ...               44.5                   1.95   \n",
       "41           1.80  ...               41.5                   1.90   \n",
       "42           1.31  ...               41.0                   1.90   \n",
       "43           1.26  ...               42.5                   1.95   \n",
       "44           4.50  ...               44.5                   1.90   \n",
       "45           1.25  ...               43.5                   1.95   \n",
       "46           4.00  ...               45.5                   1.90   \n",
       "47           2.25  ...               48.5                   1.90   \n",
       "48           1.71  ...               43.5                   1.95   \n",
       "49           1.68  ...               43.0                   1.95   \n",
       "\n",
       "    Total Score Over Min  Total Score Over Max  Total Score Over Close  \\\n",
       "0                    1.9                  1.90                     1.9   \n",
       "1                    1.9                  1.90                     1.9   \n",
       "2                    1.9                  1.90                     1.9   \n",
       "3                    1.9                  1.90                     1.9   \n",
       "4                    1.9                  1.90                     1.9   \n",
       "5                    1.9                  1.90                     1.9   \n",
       "6                    1.9                  1.90                     1.9   \n",
       "7                    1.9                  1.90                     1.9   \n",
       "8                    1.9                  1.90                     1.9   \n",
       "9                    1.9                  1.90                     1.9   \n",
       "10                   1.9                  1.90                     1.9   \n",
       "11                   1.9                  1.90                     1.9   \n",
       "12                   1.9                  1.90                     1.9   \n",
       "13                   1.9                  1.90                     1.9   \n",
       "14                   1.9                  1.90                     1.9   \n",
       "15                   1.9                  1.90                     1.9   \n",
       "16                   1.9                  1.90                     1.9   \n",
       "17                   1.9                  1.90                     1.9   \n",
       "18                   1.9                  2.00                     1.9   \n",
       "19                   1.9                  1.90                     1.9   \n",
       "20                   1.9                  1.90                     1.9   \n",
       "21                   1.9                  1.90                     1.9   \n",
       "22                   1.9                  1.90                     1.9   \n",
       "23                   1.9                  1.90                     1.9   \n",
       "24                   1.9                  1.90                     1.9   \n",
       "25                   1.9                  1.90                     1.9   \n",
       "26                   1.9                  1.90                     1.9   \n",
       "27                   1.9                  1.90                     1.9   \n",
       "28                   1.9                  1.90                     1.9   \n",
       "29                   1.9                  1.90                     1.9   \n",
       "30                   1.9                  1.90                     1.9   \n",
       "31                   1.9                  1.90                     1.9   \n",
       "32                   1.9                  1.90                     1.9   \n",
       "33                   1.9                  1.90                     1.9   \n",
       "34                   1.9                  1.90                     1.9   \n",
       "35                   1.9                  1.90                     1.9   \n",
       "36                   1.9                  1.90                     1.9   \n",
       "37                   1.9                  1.90                     1.9   \n",
       "38                   1.9                  1.90                     1.9   \n",
       "39                   1.9                  1.90                     1.9   \n",
       "40                   1.9                  1.95                     1.9   \n",
       "41                   1.9                  1.90                     1.9   \n",
       "42                   1.9                  1.90                     1.9   \n",
       "43                   1.9                  1.90                     1.9   \n",
       "44                   1.9                  1.90                     1.9   \n",
       "45                   1.9                  1.90                     1.9   \n",
       "46                   1.9                  1.90                     1.9   \n",
       "47                   1.9                  1.90                     1.9   \n",
       "48                   1.9                  2.05                     1.9   \n",
       "49                   1.9                  1.90                     1.9   \n",
       "\n",
       "    Total Score Under Open  Total Score Under Min  Total Score Under Max  \\\n",
       "0                     1.90                   1.90                   1.90   \n",
       "1                     1.90                   1.90                   1.90   \n",
       "2                     1.90                   1.90                   1.90   \n",
       "3                     1.90                   1.90                   1.90   \n",
       "4                     1.90                   1.90                   1.90   \n",
       "5                     1.90                   1.90                   1.90   \n",
       "6                     1.90                   1.90                   1.90   \n",
       "7                     1.90                   1.90                   1.90   \n",
       "8                     1.90                   1.90                   1.90   \n",
       "9                     1.86                   1.86                   1.90   \n",
       "10                    1.90                   1.90                   1.90   \n",
       "11                    1.90                   1.90                   1.90   \n",
       "12                    1.90                   1.90                   1.90   \n",
       "13                    1.90                   1.90                   1.90   \n",
       "14                    1.86                   1.90                   1.90   \n",
       "15                    1.86                   1.90                   1.90   \n",
       "16                    1.90                   1.90                   1.90   \n",
       "17                    1.90                   1.90                   1.90   \n",
       "18                    1.83                   1.90                   1.83   \n",
       "19                    1.90                   1.90                   1.90   \n",
       "20                    1.90                   1.90                   1.90   \n",
       "21                    1.90                   1.90                   1.90   \n",
       "22                    1.90                   1.90                   1.90   \n",
       "23                    1.90                   1.90                   1.90   \n",
       "24                    1.90                   1.90                   1.90   \n",
       "25                    1.90                   1.90                   1.90   \n",
       "26                    1.90                   1.90                   1.90   \n",
       "27                    1.90                   1.90                   1.90   \n",
       "28                    1.90                   1.90                   1.90   \n",
       "29                    1.90                   1.90                   1.90   \n",
       "30                    1.90                   1.90                   1.90   \n",
       "31                    1.90                   1.90                   1.90   \n",
       "32                    1.90                   1.90                   1.90   \n",
       "33                    1.90                   1.90                   1.90   \n",
       "34                    1.90                   1.90                   1.90   \n",
       "35                    1.90                   1.90                   1.90   \n",
       "36                    1.90                   1.90                   1.90   \n",
       "37                    1.90                   1.90                   1.90   \n",
       "38                    1.90                   1.90                   1.90   \n",
       "39                    1.90                   1.90                   1.90   \n",
       "40                    1.86                   1.90                   1.90   \n",
       "41                    1.90                   1.90                   1.90   \n",
       "42                    1.90                   1.90                   1.90   \n",
       "43                    1.86                   1.90                   1.90   \n",
       "44                    1.90                   1.90                   1.90   \n",
       "45                    1.86                   1.90                   1.90   \n",
       "46                    1.90                   1.90                   1.90   \n",
       "47                    1.90                   1.90                   1.90   \n",
       "48                    1.86                   1.90                   1.90   \n",
       "49                    1.86                   1.90                   1.90   \n",
       "\n",
       "    Total Score Under Close  Notes  \n",
       "0                       1.9    NaN  \n",
       "1                       1.9    NaN  \n",
       "2                       1.9    NaN  \n",
       "3                       1.9    NaN  \n",
       "4                       1.9    NaN  \n",
       "5                       1.9    NaN  \n",
       "6                       1.9    NaN  \n",
       "7                       1.9    NaN  \n",
       "8                       1.9    NaN  \n",
       "9                       1.9    NaN  \n",
       "10                      1.9    NaN  \n",
       "11                      1.9    NaN  \n",
       "12                      1.9    NaN  \n",
       "13                      1.9    NaN  \n",
       "14                      1.9    NaN  \n",
       "15                      1.9    NaN  \n",
       "16                      1.9    NaN  \n",
       "17                      1.9    NaN  \n",
       "18                      1.9    NaN  \n",
       "19                      1.9    NaN  \n",
       "20                      1.9    NaN  \n",
       "21                      1.9    NaN  \n",
       "22                      1.9    NaN  \n",
       "23                      1.9    NaN  \n",
       "24                      1.9    NaN  \n",
       "25                      1.9    NaN  \n",
       "26                      1.9    NaN  \n",
       "27                      1.9    NaN  \n",
       "28                      1.9    NaN  \n",
       "29                      1.9    NaN  \n",
       "30                      1.9    NaN  \n",
       "31                      1.9    NaN  \n",
       "32                      1.9    NaN  \n",
       "33                      1.9    NaN  \n",
       "34                      1.9    NaN  \n",
       "35                      1.9    NaN  \n",
       "36                      1.9    NaN  \n",
       "37                      1.9    NaN  \n",
       "38                      1.9    NaN  \n",
       "39                      1.9    NaN  \n",
       "40                      1.9    NaN  \n",
       "41                      1.9    NaN  \n",
       "42                      1.9    NaN  \n",
       "43                      1.9    NaN  \n",
       "44                      1.9    NaN  \n",
       "45                      1.9    NaN  \n",
       "46                      1.9    NaN  \n",
       "47                      1.9    NaN  \n",
       "48                      1.9    NaN  \n",
       "49                      1.9    NaN  \n",
       "\n",
       "[50 rows x 45 columns]"
      ]
     },
     "execution_count": 11,
     "metadata": {},
     "output_type": "execute_result"
    }
   ],
   "source": [
    "# Look at data files\n",
    "\n",
    "raw_data.head(50)"
   ]
  },
  {
   "cell_type": "code",
   "execution_count": 12,
   "metadata": {},
   "outputs": [
    {
     "data": {
      "text/plain": [
       "Index(['Date', 'Home Team', 'Away Team', 'Home Score', 'Away Score',\n",
       "       'Overtime?', 'Playoff Game?', 'Neutral Venue?', 'Home Odds Open',\n",
       "       'Home Odds Min', 'Home Odds Max', 'Home Odds Close', 'Away Odds Open',\n",
       "       'Away Odds Min', 'Away Odds Max', 'Away Odds Close', 'Home Line Open',\n",
       "       'Home Line Min', 'Home Line Max', 'Home Line Close', 'Away Line Open',\n",
       "       'Away Line Min', 'Away Line Max', 'Away Line Close',\n",
       "       'Home Line Odds Open', 'Home Line Odds Min', 'Home Line Odds Max',\n",
       "       'Home Line Odds Close', 'Away Line Odds Open', 'Away Line Odds Min',\n",
       "       'Away Line Odds Max', 'Away Line Odds Close', 'Total Score Open',\n",
       "       'Total Score Min', 'Total Score Max', 'Total Score Close',\n",
       "       'Total Score Over Open', 'Total Score Over Min', 'Total Score Over Max',\n",
       "       'Total Score Over Close', 'Total Score Under Open',\n",
       "       'Total Score Under Min', 'Total Score Under Max',\n",
       "       'Total Score Under Close', 'Notes'],\n",
       "      dtype='object')"
      ]
     },
     "execution_count": 12,
     "metadata": {},
     "output_type": "execute_result"
    }
   ],
   "source": [
    "raw_data.columns"
   ]
  },
  {
   "cell_type": "code",
   "execution_count": 8,
   "metadata": {},
   "outputs": [
    {
     "data": {
      "text/plain": [
       "Timestamp('2006-09-07 00:00:00')"
      ]
     },
     "execution_count": 8,
     "metadata": {},
     "output_type": "execute_result"
    }
   ],
   "source": [
    "# Find Minimum date\n",
    "\n",
    "# Data goes back to 2006 season, which is pretty far back and probably more than enough data to be able to build a\n",
    "# predictive algorithm. If necessary, could look for other data sources so that I can look farther back, but I think\n",
    "# this is a good starting point. Also don't want to go too far back, as football has changed over the years and older\n",
    "# seasons may not be predictive of newer seasons. \n",
    "\n",
    "min(raw_data.Date)"
   ]
  },
  {
   "cell_type": "markdown",
   "metadata": {},
   "source": [
    "### Data Transformations"
   ]
  },
  {
   "cell_type": "code",
   "execution_count": 56,
   "metadata": {},
   "outputs": [
    {
     "data": {
      "text/html": [
       "<div>\n",
       "<style scoped>\n",
       "    .dataframe tbody tr th:only-of-type {\n",
       "        vertical-align: middle;\n",
       "    }\n",
       "\n",
       "    .dataframe tbody tr th {\n",
       "        vertical-align: top;\n",
       "    }\n",
       "\n",
       "    .dataframe thead th {\n",
       "        text-align: right;\n",
       "    }\n",
       "</style>\n",
       "<table border=\"1\" class=\"dataframe\">\n",
       "  <thead>\n",
       "    <tr style=\"text-align: right;\">\n",
       "      <th></th>\n",
       "      <th>Date</th>\n",
       "      <th>Home Team</th>\n",
       "      <th>Away Team</th>\n",
       "      <th>Home Score</th>\n",
       "      <th>Away Score</th>\n",
       "      <th>Overtime?</th>\n",
       "      <th>Playoff Game?</th>\n",
       "      <th>Neutral Venue?</th>\n",
       "      <th>Home Odds Open</th>\n",
       "      <th>Home Odds Close</th>\n",
       "      <th>Away Odds Open</th>\n",
       "      <th>Away Odds Close</th>\n",
       "      <th>Home Line Open</th>\n",
       "      <th>Home Line Close</th>\n",
       "      <th>Away Line Open</th>\n",
       "      <th>Away Line Close</th>\n",
       "      <th>Home Line Odds Open</th>\n",
       "      <th>Home Line Odds Close</th>\n",
       "      <th>Away Line Odds Open</th>\n",
       "      <th>Away Line Odds Close</th>\n",
       "      <th>Total Score Open</th>\n",
       "      <th>Total Score Close</th>\n",
       "      <th>Total Score Over Open</th>\n",
       "      <th>Total Score Over Close</th>\n",
       "      <th>Total Score Under Open</th>\n",
       "      <th>Total Score Under Close</th>\n",
       "      <th>Notes</th>\n",
       "    </tr>\n",
       "  </thead>\n",
       "  <tbody>\n",
       "    <tr>\n",
       "      <th>0</th>\n",
       "      <td>2022-01-17</td>\n",
       "      <td>Los Angeles Rams</td>\n",
       "      <td>Arizona Cardinals</td>\n",
       "      <td>34</td>\n",
       "      <td>11</td>\n",
       "      <td>False</td>\n",
       "      <td>True</td>\n",
       "      <td>False</td>\n",
       "      <td>1.500000</td>\n",
       "      <td>1.58</td>\n",
       "      <td>2.700000</td>\n",
       "      <td>2.50</td>\n",
       "      <td>-4.5</td>\n",
       "      <td>-3.5</td>\n",
       "      <td>4.5</td>\n",
       "      <td>3.5</td>\n",
       "      <td>1.9</td>\n",
       "      <td>2.00</td>\n",
       "      <td>1.9</td>\n",
       "      <td>1.83</td>\n",
       "      <td>50.5</td>\n",
       "      <td>49.0</td>\n",
       "      <td>1.9</td>\n",
       "      <td>1.9</td>\n",
       "      <td>1.9</td>\n",
       "      <td>1.9</td>\n",
       "      <td>NaN</td>\n",
       "    </tr>\n",
       "    <tr>\n",
       "      <th>1</th>\n",
       "      <td>2022-01-16</td>\n",
       "      <td>Kansas City Chiefs</td>\n",
       "      <td>Pittsburgh Steelers</td>\n",
       "      <td>42</td>\n",
       "      <td>21</td>\n",
       "      <td>False</td>\n",
       "      <td>True</td>\n",
       "      <td>False</td>\n",
       "      <td>1.140000</td>\n",
       "      <td>1.12</td>\n",
       "      <td>6.000000</td>\n",
       "      <td>6.50</td>\n",
       "      <td>-13.5</td>\n",
       "      <td>-12.5</td>\n",
       "      <td>13.5</td>\n",
       "      <td>12.5</td>\n",
       "      <td>1.9</td>\n",
       "      <td>1.90</td>\n",
       "      <td>1.9</td>\n",
       "      <td>1.90</td>\n",
       "      <td>46.5</td>\n",
       "      <td>47.0</td>\n",
       "      <td>1.9</td>\n",
       "      <td>1.9</td>\n",
       "      <td>1.9</td>\n",
       "      <td>1.9</td>\n",
       "      <td>NaN</td>\n",
       "    </tr>\n",
       "    <tr>\n",
       "      <th>2</th>\n",
       "      <td>2022-01-16</td>\n",
       "      <td>Dallas Cowboys</td>\n",
       "      <td>San Francisco 49ers</td>\n",
       "      <td>17</td>\n",
       "      <td>23</td>\n",
       "      <td>False</td>\n",
       "      <td>True</td>\n",
       "      <td>False</td>\n",
       "      <td>1.620000</td>\n",
       "      <td>1.54</td>\n",
       "      <td>2.400000</td>\n",
       "      <td>2.65</td>\n",
       "      <td>-3.0</td>\n",
       "      <td>-3.5</td>\n",
       "      <td>3.0</td>\n",
       "      <td>3.5</td>\n",
       "      <td>1.9</td>\n",
       "      <td>1.90</td>\n",
       "      <td>1.9</td>\n",
       "      <td>1.90</td>\n",
       "      <td>50.5</td>\n",
       "      <td>51.0</td>\n",
       "      <td>1.9</td>\n",
       "      <td>1.9</td>\n",
       "      <td>1.9</td>\n",
       "      <td>1.9</td>\n",
       "      <td>NaN</td>\n",
       "    </tr>\n",
       "    <tr>\n",
       "      <th>3</th>\n",
       "      <td>2022-01-16</td>\n",
       "      <td>Tampa Bay Buccaneers</td>\n",
       "      <td>Philadelphia Eagles</td>\n",
       "      <td>31</td>\n",
       "      <td>15</td>\n",
       "      <td>False</td>\n",
       "      <td>True</td>\n",
       "      <td>False</td>\n",
       "      <td>1.250000</td>\n",
       "      <td>1.27</td>\n",
       "      <td>4.200000</td>\n",
       "      <td>3.80</td>\n",
       "      <td>-8.5</td>\n",
       "      <td>-7.0</td>\n",
       "      <td>8.5</td>\n",
       "      <td>7.0</td>\n",
       "      <td>1.9</td>\n",
       "      <td>1.86</td>\n",
       "      <td>1.9</td>\n",
       "      <td>1.95</td>\n",
       "      <td>49.0</td>\n",
       "      <td>47.0</td>\n",
       "      <td>1.9</td>\n",
       "      <td>1.9</td>\n",
       "      <td>1.9</td>\n",
       "      <td>1.9</td>\n",
       "      <td>NaN</td>\n",
       "    </tr>\n",
       "    <tr>\n",
       "      <th>4</th>\n",
       "      <td>2022-01-15</td>\n",
       "      <td>Buffalo Bills</td>\n",
       "      <td>New England Patriots</td>\n",
       "      <td>47</td>\n",
       "      <td>17</td>\n",
       "      <td>False</td>\n",
       "      <td>True</td>\n",
       "      <td>False</td>\n",
       "      <td>1.470000</td>\n",
       "      <td>1.45</td>\n",
       "      <td>2.750000</td>\n",
       "      <td>2.80</td>\n",
       "      <td>-4.5</td>\n",
       "      <td>-4.5</td>\n",
       "      <td>4.5</td>\n",
       "      <td>4.5</td>\n",
       "      <td>1.9</td>\n",
       "      <td>1.90</td>\n",
       "      <td>1.9</td>\n",
       "      <td>1.90</td>\n",
       "      <td>43.5</td>\n",
       "      <td>43.0</td>\n",
       "      <td>1.9</td>\n",
       "      <td>1.9</td>\n",
       "      <td>1.9</td>\n",
       "      <td>1.9</td>\n",
       "      <td>NaN</td>\n",
       "    </tr>\n",
       "    <tr>\n",
       "      <th>...</th>\n",
       "      <td>...</td>\n",
       "      <td>...</td>\n",
       "      <td>...</td>\n",
       "      <td>...</td>\n",
       "      <td>...</td>\n",
       "      <td>...</td>\n",
       "      <td>...</td>\n",
       "      <td>...</td>\n",
       "      <td>...</td>\n",
       "      <td>...</td>\n",
       "      <td>...</td>\n",
       "      <td>...</td>\n",
       "      <td>...</td>\n",
       "      <td>...</td>\n",
       "      <td>...</td>\n",
       "      <td>...</td>\n",
       "      <td>...</td>\n",
       "      <td>...</td>\n",
       "      <td>...</td>\n",
       "      <td>...</td>\n",
       "      <td>...</td>\n",
       "      <td>...</td>\n",
       "      <td>...</td>\n",
       "      <td>...</td>\n",
       "      <td>...</td>\n",
       "      <td>...</td>\n",
       "      <td>...</td>\n",
       "    </tr>\n",
       "    <tr>\n",
       "      <th>4280</th>\n",
       "      <td>2006-09-10</td>\n",
       "      <td>Detroit Lions</td>\n",
       "      <td>Seattle Seahawks</td>\n",
       "      <td>6</td>\n",
       "      <td>9</td>\n",
       "      <td>False</td>\n",
       "      <td>False</td>\n",
       "      <td>False</td>\n",
       "      <td>3.500000</td>\n",
       "      <td>NaN</td>\n",
       "      <td>1.333333</td>\n",
       "      <td>NaN</td>\n",
       "      <td>6.0</td>\n",
       "      <td>NaN</td>\n",
       "      <td>NaN</td>\n",
       "      <td>NaN</td>\n",
       "      <td>NaN</td>\n",
       "      <td>NaN</td>\n",
       "      <td>NaN</td>\n",
       "      <td>NaN</td>\n",
       "      <td>44.0</td>\n",
       "      <td>NaN</td>\n",
       "      <td>NaN</td>\n",
       "      <td>NaN</td>\n",
       "      <td>NaN</td>\n",
       "      <td>NaN</td>\n",
       "      <td>NaN</td>\n",
       "    </tr>\n",
       "    <tr>\n",
       "      <th>4281</th>\n",
       "      <td>2006-09-10</td>\n",
       "      <td>Cleveland Browns</td>\n",
       "      <td>New Orleans Saints</td>\n",
       "      <td>14</td>\n",
       "      <td>19</td>\n",
       "      <td>False</td>\n",
       "      <td>False</td>\n",
       "      <td>False</td>\n",
       "      <td>1.500000</td>\n",
       "      <td>NaN</td>\n",
       "      <td>2.750000</td>\n",
       "      <td>NaN</td>\n",
       "      <td>-3.0</td>\n",
       "      <td>NaN</td>\n",
       "      <td>NaN</td>\n",
       "      <td>NaN</td>\n",
       "      <td>NaN</td>\n",
       "      <td>NaN</td>\n",
       "      <td>NaN</td>\n",
       "      <td>NaN</td>\n",
       "      <td>36.5</td>\n",
       "      <td>NaN</td>\n",
       "      <td>NaN</td>\n",
       "      <td>NaN</td>\n",
       "      <td>NaN</td>\n",
       "      <td>NaN</td>\n",
       "      <td>NaN</td>\n",
       "    </tr>\n",
       "    <tr>\n",
       "      <th>4282</th>\n",
       "      <td>2006-09-10</td>\n",
       "      <td>Carolina Panthers</td>\n",
       "      <td>Atlanta Falcons</td>\n",
       "      <td>6</td>\n",
       "      <td>20</td>\n",
       "      <td>False</td>\n",
       "      <td>False</td>\n",
       "      <td>False</td>\n",
       "      <td>1.434783</td>\n",
       "      <td>NaN</td>\n",
       "      <td>2.900000</td>\n",
       "      <td>NaN</td>\n",
       "      <td>-4.5</td>\n",
       "      <td>NaN</td>\n",
       "      <td>NaN</td>\n",
       "      <td>NaN</td>\n",
       "      <td>NaN</td>\n",
       "      <td>NaN</td>\n",
       "      <td>NaN</td>\n",
       "      <td>NaN</td>\n",
       "      <td>38.5</td>\n",
       "      <td>NaN</td>\n",
       "      <td>NaN</td>\n",
       "      <td>NaN</td>\n",
       "      <td>NaN</td>\n",
       "      <td>NaN</td>\n",
       "      <td>NaN</td>\n",
       "    </tr>\n",
       "    <tr>\n",
       "      <th>4283</th>\n",
       "      <td>2006-09-10</td>\n",
       "      <td>Arizona Cardinals</td>\n",
       "      <td>San Francisco 49ers</td>\n",
       "      <td>34</td>\n",
       "      <td>27</td>\n",
       "      <td>False</td>\n",
       "      <td>False</td>\n",
       "      <td>False</td>\n",
       "      <td>1.181818</td>\n",
       "      <td>NaN</td>\n",
       "      <td>5.000000</td>\n",
       "      <td>NaN</td>\n",
       "      <td>-9.5</td>\n",
       "      <td>NaN</td>\n",
       "      <td>NaN</td>\n",
       "      <td>NaN</td>\n",
       "      <td>NaN</td>\n",
       "      <td>NaN</td>\n",
       "      <td>NaN</td>\n",
       "      <td>NaN</td>\n",
       "      <td>43.5</td>\n",
       "      <td>NaN</td>\n",
       "      <td>NaN</td>\n",
       "      <td>NaN</td>\n",
       "      <td>NaN</td>\n",
       "      <td>NaN</td>\n",
       "      <td>NaN</td>\n",
       "    </tr>\n",
       "    <tr>\n",
       "      <th>4284</th>\n",
       "      <td>2006-09-07</td>\n",
       "      <td>Pittsburgh Steelers</td>\n",
       "      <td>Miami Dolphins</td>\n",
       "      <td>28</td>\n",
       "      <td>17</td>\n",
       "      <td>False</td>\n",
       "      <td>False</td>\n",
       "      <td>False</td>\n",
       "      <td>1.800000</td>\n",
       "      <td>NaN</td>\n",
       "      <td>2.050000</td>\n",
       "      <td>NaN</td>\n",
       "      <td>-1.5</td>\n",
       "      <td>NaN</td>\n",
       "      <td>NaN</td>\n",
       "      <td>NaN</td>\n",
       "      <td>NaN</td>\n",
       "      <td>NaN</td>\n",
       "      <td>NaN</td>\n",
       "      <td>NaN</td>\n",
       "      <td>34.0</td>\n",
       "      <td>NaN</td>\n",
       "      <td>NaN</td>\n",
       "      <td>NaN</td>\n",
       "      <td>NaN</td>\n",
       "      <td>NaN</td>\n",
       "      <td>NaN</td>\n",
       "    </tr>\n",
       "  </tbody>\n",
       "</table>\n",
       "<p>4285 rows × 27 columns</p>\n",
       "</div>"
      ],
      "text/plain": [
       "           Date             Home Team             Away Team  Home Score  \\\n",
       "0    2022-01-17      Los Angeles Rams     Arizona Cardinals          34   \n",
       "1    2022-01-16    Kansas City Chiefs   Pittsburgh Steelers          42   \n",
       "2    2022-01-16        Dallas Cowboys   San Francisco 49ers          17   \n",
       "3    2022-01-16  Tampa Bay Buccaneers   Philadelphia Eagles          31   \n",
       "4    2022-01-15         Buffalo Bills  New England Patriots          47   \n",
       "...         ...                   ...                   ...         ...   \n",
       "4280 2006-09-10         Detroit Lions      Seattle Seahawks           6   \n",
       "4281 2006-09-10      Cleveland Browns    New Orleans Saints          14   \n",
       "4282 2006-09-10     Carolina Panthers       Atlanta Falcons           6   \n",
       "4283 2006-09-10     Arizona Cardinals   San Francisco 49ers          34   \n",
       "4284 2006-09-07   Pittsburgh Steelers        Miami Dolphins          28   \n",
       "\n",
       "      Away Score  Overtime?  Playoff Game?  Neutral Venue?  Home Odds Open  \\\n",
       "0             11      False           True           False        1.500000   \n",
       "1             21      False           True           False        1.140000   \n",
       "2             23      False           True           False        1.620000   \n",
       "3             15      False           True           False        1.250000   \n",
       "4             17      False           True           False        1.470000   \n",
       "...          ...        ...            ...             ...             ...   \n",
       "4280           9      False          False           False        3.500000   \n",
       "4281          19      False          False           False        1.500000   \n",
       "4282          20      False          False           False        1.434783   \n",
       "4283          27      False          False           False        1.181818   \n",
       "4284          17      False          False           False        1.800000   \n",
       "\n",
       "      Home Odds Close  Away Odds Open  Away Odds Close  Home Line Open  \\\n",
       "0                1.58        2.700000             2.50            -4.5   \n",
       "1                1.12        6.000000             6.50           -13.5   \n",
       "2                1.54        2.400000             2.65            -3.0   \n",
       "3                1.27        4.200000             3.80            -8.5   \n",
       "4                1.45        2.750000             2.80            -4.5   \n",
       "...               ...             ...              ...             ...   \n",
       "4280              NaN        1.333333              NaN             6.0   \n",
       "4281              NaN        2.750000              NaN            -3.0   \n",
       "4282              NaN        2.900000              NaN            -4.5   \n",
       "4283              NaN        5.000000              NaN            -9.5   \n",
       "4284              NaN        2.050000              NaN            -1.5   \n",
       "\n",
       "      Home Line Close  Away Line Open  Away Line Close  Home Line Odds Open  \\\n",
       "0                -3.5             4.5              3.5                  1.9   \n",
       "1               -12.5            13.5             12.5                  1.9   \n",
       "2                -3.5             3.0              3.5                  1.9   \n",
       "3                -7.0             8.5              7.0                  1.9   \n",
       "4                -4.5             4.5              4.5                  1.9   \n",
       "...               ...             ...              ...                  ...   \n",
       "4280              NaN             NaN              NaN                  NaN   \n",
       "4281              NaN             NaN              NaN                  NaN   \n",
       "4282              NaN             NaN              NaN                  NaN   \n",
       "4283              NaN             NaN              NaN                  NaN   \n",
       "4284              NaN             NaN              NaN                  NaN   \n",
       "\n",
       "      Home Line Odds Close  Away Line Odds Open  Away Line Odds Close  \\\n",
       "0                     2.00                  1.9                  1.83   \n",
       "1                     1.90                  1.9                  1.90   \n",
       "2                     1.90                  1.9                  1.90   \n",
       "3                     1.86                  1.9                  1.95   \n",
       "4                     1.90                  1.9                  1.90   \n",
       "...                    ...                  ...                   ...   \n",
       "4280                   NaN                  NaN                   NaN   \n",
       "4281                   NaN                  NaN                   NaN   \n",
       "4282                   NaN                  NaN                   NaN   \n",
       "4283                   NaN                  NaN                   NaN   \n",
       "4284                   NaN                  NaN                   NaN   \n",
       "\n",
       "      Total Score Open  Total Score Close  Total Score Over Open  \\\n",
       "0                 50.5               49.0                    1.9   \n",
       "1                 46.5               47.0                    1.9   \n",
       "2                 50.5               51.0                    1.9   \n",
       "3                 49.0               47.0                    1.9   \n",
       "4                 43.5               43.0                    1.9   \n",
       "...                ...                ...                    ...   \n",
       "4280              44.0                NaN                    NaN   \n",
       "4281              36.5                NaN                    NaN   \n",
       "4282              38.5                NaN                    NaN   \n",
       "4283              43.5                NaN                    NaN   \n",
       "4284              34.0                NaN                    NaN   \n",
       "\n",
       "      Total Score Over Close  Total Score Under Open  Total Score Under Close  \\\n",
       "0                        1.9                     1.9                      1.9   \n",
       "1                        1.9                     1.9                      1.9   \n",
       "2                        1.9                     1.9                      1.9   \n",
       "3                        1.9                     1.9                      1.9   \n",
       "4                        1.9                     1.9                      1.9   \n",
       "...                      ...                     ...                      ...   \n",
       "4280                     NaN                     NaN                      NaN   \n",
       "4281                     NaN                     NaN                      NaN   \n",
       "4282                     NaN                     NaN                      NaN   \n",
       "4283                     NaN                     NaN                      NaN   \n",
       "4284                     NaN                     NaN                      NaN   \n",
       "\n",
       "     Notes  \n",
       "0      NaN  \n",
       "1      NaN  \n",
       "2      NaN  \n",
       "3      NaN  \n",
       "4      NaN  \n",
       "...    ...  \n",
       "4280   NaN  \n",
       "4281   NaN  \n",
       "4282   NaN  \n",
       "4283   NaN  \n",
       "4284   NaN  \n",
       "\n",
       "[4285 rows x 27 columns]"
      ]
     },
     "execution_count": 56,
     "metadata": {},
     "output_type": "execute_result"
    }
   ],
   "source": [
    "# Going to look at the opening lines and closing lines since those are the easiest ones to be able to bet on, either \n",
    "# betting right before the game when the lines are set or as soon as the lines open before they adjust them. Trying to find \n",
    "# the ideal line to bet on based on the min line/max line would be difficult since it's hard to know when you're seeing the \n",
    "# min or max line live. Therefore, going to drop all the min/max columns.\n",
    "\n",
    "betting_data = raw_data.copy()\n",
    "betting_data = betting_data.drop(columns=['Home Odds Min', 'Home Odds Max', 'Away Odds Min', 'Away Odds Max',\n",
    "                'Home Line Min', 'Home Line Max', 'Away Line Min', 'Away Line Max', 'Home Line Odds Min', \n",
    "                'Home Line Odds Max', 'Away Line Odds Min', 'Away Line Odds Max', 'Total Score Min', 'Total Score Max',\n",
    "                'Total Score Over Min', 'Total Score Over Max', 'Total Score Under Min', 'Total Score Under Max'])\n",
    "\n",
    "# Replace Overtime?, Playoff Game?, Neutral Venue? columns with boolean values rather than NaNs\n",
    "betting_data['Overtime?'] = betting_data['Overtime?'].apply(lambda x: False if pd.isna(x) else True)\n",
    "betting_data['Playoff Game?'] = betting_data['Playoff Game?'].apply(lambda x: False if pd.isna(x) else True)\n",
    "betting_data['Neutral Venue?'] = betting_data['Neutral Venue?'].apply(lambda x: False if pd.isna(x) else True)\n",
    "betting_data"
   ]
  },
  {
   "cell_type": "code",
   "execution_count": 49,
   "metadata": {},
   "outputs": [],
   "source": [
    "# Since we're betting in America, we want to use moneyline odds, which are much more popular here than decimal or fractional\n",
    "# odds. Creating a function to apply this transformation to the necessary columns.\n",
    "\n",
    "def decimal_to_moneyline(decimal):\n",
    "    if np.isnan(decimal):\n",
    "        return np.nan\n",
    "    elif decimal >= 2.00:\n",
    "        return np.round((decimal-1) * 100)\n",
    "    else: \n",
    "        return np.round(-100 / (decimal-1))"
   ]
  },
  {
   "cell_type": "code",
   "execution_count": 50,
   "metadata": {},
   "outputs": [],
   "source": [
    "# Note: Data from before the 2014 season does not include closing lines, only opening ones. Might want to consider just \n",
    "# using data from 2014 season and on if that ends up being significant."
   ]
  },
  {
   "cell_type": "code",
   "execution_count": 57,
   "metadata": {},
   "outputs": [
    {
     "data": {
      "text/html": [
       "<div>\n",
       "<style scoped>\n",
       "    .dataframe tbody tr th:only-of-type {\n",
       "        vertical-align: middle;\n",
       "    }\n",
       "\n",
       "    .dataframe tbody tr th {\n",
       "        vertical-align: top;\n",
       "    }\n",
       "\n",
       "    .dataframe thead th {\n",
       "        text-align: right;\n",
       "    }\n",
       "</style>\n",
       "<table border=\"1\" class=\"dataframe\">\n",
       "  <thead>\n",
       "    <tr style=\"text-align: right;\">\n",
       "      <th></th>\n",
       "      <th>Date</th>\n",
       "      <th>Home Team</th>\n",
       "      <th>Away Team</th>\n",
       "      <th>Home Score</th>\n",
       "      <th>Away Score</th>\n",
       "      <th>Overtime?</th>\n",
       "      <th>Playoff Game?</th>\n",
       "      <th>Neutral Venue?</th>\n",
       "      <th>Home Odds Open</th>\n",
       "      <th>Home Odds Close</th>\n",
       "      <th>Away Odds Open</th>\n",
       "      <th>Away Odds Close</th>\n",
       "      <th>Home Line Open</th>\n",
       "      <th>Home Line Close</th>\n",
       "      <th>Away Line Open</th>\n",
       "      <th>Away Line Close</th>\n",
       "      <th>Home Line Odds Open</th>\n",
       "      <th>Home Line Odds Close</th>\n",
       "      <th>Away Line Odds Open</th>\n",
       "      <th>Away Line Odds Close</th>\n",
       "      <th>Total Score Open</th>\n",
       "      <th>Total Score Close</th>\n",
       "      <th>Total Score Over Open</th>\n",
       "      <th>Total Score Over Close</th>\n",
       "      <th>Total Score Under Open</th>\n",
       "      <th>Total Score Under Close</th>\n",
       "      <th>Notes</th>\n",
       "      <th>Home Odds ML Open</th>\n",
       "      <th>Home Odds ML Close</th>\n",
       "      <th>Away Odds ML Open</th>\n",
       "      <th>Away Odds ML Close</th>\n",
       "      <th>Home Line Odds ML Open</th>\n",
       "      <th>Home Line Odds ML Close</th>\n",
       "      <th>Away Line Odds ML Open</th>\n",
       "      <th>Away Line Odds ML Close</th>\n",
       "      <th>Total Score Over ML Open</th>\n",
       "      <th>Total Score Over ML Close</th>\n",
       "      <th>Total Score Under ML Open</th>\n",
       "      <th>Total Score Under ML Close</th>\n",
       "    </tr>\n",
       "  </thead>\n",
       "  <tbody>\n",
       "    <tr>\n",
       "      <th>0</th>\n",
       "      <td>2022-01-17</td>\n",
       "      <td>Los Angeles Rams</td>\n",
       "      <td>Arizona Cardinals</td>\n",
       "      <td>34</td>\n",
       "      <td>11</td>\n",
       "      <td>False</td>\n",
       "      <td>True</td>\n",
       "      <td>False</td>\n",
       "      <td>1.500000</td>\n",
       "      <td>1.58</td>\n",
       "      <td>2.700000</td>\n",
       "      <td>2.50</td>\n",
       "      <td>-4.5</td>\n",
       "      <td>-3.5</td>\n",
       "      <td>4.5</td>\n",
       "      <td>3.5</td>\n",
       "      <td>1.9</td>\n",
       "      <td>2.00</td>\n",
       "      <td>1.9</td>\n",
       "      <td>1.83</td>\n",
       "      <td>50.5</td>\n",
       "      <td>49.0</td>\n",
       "      <td>1.9</td>\n",
       "      <td>1.9</td>\n",
       "      <td>1.9</td>\n",
       "      <td>1.9</td>\n",
       "      <td>NaN</td>\n",
       "      <td>-200.0</td>\n",
       "      <td>-172.0</td>\n",
       "      <td>170.0</td>\n",
       "      <td>150.0</td>\n",
       "      <td>-111.0</td>\n",
       "      <td>100.0</td>\n",
       "      <td>-111.0</td>\n",
       "      <td>-120.0</td>\n",
       "      <td>-111.0</td>\n",
       "      <td>-111.0</td>\n",
       "      <td>-111.0</td>\n",
       "      <td>-111.0</td>\n",
       "    </tr>\n",
       "    <tr>\n",
       "      <th>1</th>\n",
       "      <td>2022-01-16</td>\n",
       "      <td>Kansas City Chiefs</td>\n",
       "      <td>Pittsburgh Steelers</td>\n",
       "      <td>42</td>\n",
       "      <td>21</td>\n",
       "      <td>False</td>\n",
       "      <td>True</td>\n",
       "      <td>False</td>\n",
       "      <td>1.140000</td>\n",
       "      <td>1.12</td>\n",
       "      <td>6.000000</td>\n",
       "      <td>6.50</td>\n",
       "      <td>-13.5</td>\n",
       "      <td>-12.5</td>\n",
       "      <td>13.5</td>\n",
       "      <td>12.5</td>\n",
       "      <td>1.9</td>\n",
       "      <td>1.90</td>\n",
       "      <td>1.9</td>\n",
       "      <td>1.90</td>\n",
       "      <td>46.5</td>\n",
       "      <td>47.0</td>\n",
       "      <td>1.9</td>\n",
       "      <td>1.9</td>\n",
       "      <td>1.9</td>\n",
       "      <td>1.9</td>\n",
       "      <td>NaN</td>\n",
       "      <td>-714.0</td>\n",
       "      <td>-833.0</td>\n",
       "      <td>500.0</td>\n",
       "      <td>550.0</td>\n",
       "      <td>-111.0</td>\n",
       "      <td>-111.0</td>\n",
       "      <td>-111.0</td>\n",
       "      <td>-111.0</td>\n",
       "      <td>-111.0</td>\n",
       "      <td>-111.0</td>\n",
       "      <td>-111.0</td>\n",
       "      <td>-111.0</td>\n",
       "    </tr>\n",
       "    <tr>\n",
       "      <th>2</th>\n",
       "      <td>2022-01-16</td>\n",
       "      <td>Dallas Cowboys</td>\n",
       "      <td>San Francisco 49ers</td>\n",
       "      <td>17</td>\n",
       "      <td>23</td>\n",
       "      <td>False</td>\n",
       "      <td>True</td>\n",
       "      <td>False</td>\n",
       "      <td>1.620000</td>\n",
       "      <td>1.54</td>\n",
       "      <td>2.400000</td>\n",
       "      <td>2.65</td>\n",
       "      <td>-3.0</td>\n",
       "      <td>-3.5</td>\n",
       "      <td>3.0</td>\n",
       "      <td>3.5</td>\n",
       "      <td>1.9</td>\n",
       "      <td>1.90</td>\n",
       "      <td>1.9</td>\n",
       "      <td>1.90</td>\n",
       "      <td>50.5</td>\n",
       "      <td>51.0</td>\n",
       "      <td>1.9</td>\n",
       "      <td>1.9</td>\n",
       "      <td>1.9</td>\n",
       "      <td>1.9</td>\n",
       "      <td>NaN</td>\n",
       "      <td>-161.0</td>\n",
       "      <td>-185.0</td>\n",
       "      <td>140.0</td>\n",
       "      <td>165.0</td>\n",
       "      <td>-111.0</td>\n",
       "      <td>-111.0</td>\n",
       "      <td>-111.0</td>\n",
       "      <td>-111.0</td>\n",
       "      <td>-111.0</td>\n",
       "      <td>-111.0</td>\n",
       "      <td>-111.0</td>\n",
       "      <td>-111.0</td>\n",
       "    </tr>\n",
       "    <tr>\n",
       "      <th>3</th>\n",
       "      <td>2022-01-16</td>\n",
       "      <td>Tampa Bay Buccaneers</td>\n",
       "      <td>Philadelphia Eagles</td>\n",
       "      <td>31</td>\n",
       "      <td>15</td>\n",
       "      <td>False</td>\n",
       "      <td>True</td>\n",
       "      <td>False</td>\n",
       "      <td>1.250000</td>\n",
       "      <td>1.27</td>\n",
       "      <td>4.200000</td>\n",
       "      <td>3.80</td>\n",
       "      <td>-8.5</td>\n",
       "      <td>-7.0</td>\n",
       "      <td>8.5</td>\n",
       "      <td>7.0</td>\n",
       "      <td>1.9</td>\n",
       "      <td>1.86</td>\n",
       "      <td>1.9</td>\n",
       "      <td>1.95</td>\n",
       "      <td>49.0</td>\n",
       "      <td>47.0</td>\n",
       "      <td>1.9</td>\n",
       "      <td>1.9</td>\n",
       "      <td>1.9</td>\n",
       "      <td>1.9</td>\n",
       "      <td>NaN</td>\n",
       "      <td>-400.0</td>\n",
       "      <td>-370.0</td>\n",
       "      <td>320.0</td>\n",
       "      <td>280.0</td>\n",
       "      <td>-111.0</td>\n",
       "      <td>-116.0</td>\n",
       "      <td>-111.0</td>\n",
       "      <td>-105.0</td>\n",
       "      <td>-111.0</td>\n",
       "      <td>-111.0</td>\n",
       "      <td>-111.0</td>\n",
       "      <td>-111.0</td>\n",
       "    </tr>\n",
       "    <tr>\n",
       "      <th>4</th>\n",
       "      <td>2022-01-15</td>\n",
       "      <td>Buffalo Bills</td>\n",
       "      <td>New England Patriots</td>\n",
       "      <td>47</td>\n",
       "      <td>17</td>\n",
       "      <td>False</td>\n",
       "      <td>True</td>\n",
       "      <td>False</td>\n",
       "      <td>1.470000</td>\n",
       "      <td>1.45</td>\n",
       "      <td>2.750000</td>\n",
       "      <td>2.80</td>\n",
       "      <td>-4.5</td>\n",
       "      <td>-4.5</td>\n",
       "      <td>4.5</td>\n",
       "      <td>4.5</td>\n",
       "      <td>1.9</td>\n",
       "      <td>1.90</td>\n",
       "      <td>1.9</td>\n",
       "      <td>1.90</td>\n",
       "      <td>43.5</td>\n",
       "      <td>43.0</td>\n",
       "      <td>1.9</td>\n",
       "      <td>1.9</td>\n",
       "      <td>1.9</td>\n",
       "      <td>1.9</td>\n",
       "      <td>NaN</td>\n",
       "      <td>-213.0</td>\n",
       "      <td>-222.0</td>\n",
       "      <td>175.0</td>\n",
       "      <td>180.0</td>\n",
       "      <td>-111.0</td>\n",
       "      <td>-111.0</td>\n",
       "      <td>-111.0</td>\n",
       "      <td>-111.0</td>\n",
       "      <td>-111.0</td>\n",
       "      <td>-111.0</td>\n",
       "      <td>-111.0</td>\n",
       "      <td>-111.0</td>\n",
       "    </tr>\n",
       "    <tr>\n",
       "      <th>...</th>\n",
       "      <td>...</td>\n",
       "      <td>...</td>\n",
       "      <td>...</td>\n",
       "      <td>...</td>\n",
       "      <td>...</td>\n",
       "      <td>...</td>\n",
       "      <td>...</td>\n",
       "      <td>...</td>\n",
       "      <td>...</td>\n",
       "      <td>...</td>\n",
       "      <td>...</td>\n",
       "      <td>...</td>\n",
       "      <td>...</td>\n",
       "      <td>...</td>\n",
       "      <td>...</td>\n",
       "      <td>...</td>\n",
       "      <td>...</td>\n",
       "      <td>...</td>\n",
       "      <td>...</td>\n",
       "      <td>...</td>\n",
       "      <td>...</td>\n",
       "      <td>...</td>\n",
       "      <td>...</td>\n",
       "      <td>...</td>\n",
       "      <td>...</td>\n",
       "      <td>...</td>\n",
       "      <td>...</td>\n",
       "      <td>...</td>\n",
       "      <td>...</td>\n",
       "      <td>...</td>\n",
       "      <td>...</td>\n",
       "      <td>...</td>\n",
       "      <td>...</td>\n",
       "      <td>...</td>\n",
       "      <td>...</td>\n",
       "      <td>...</td>\n",
       "      <td>...</td>\n",
       "      <td>...</td>\n",
       "      <td>...</td>\n",
       "    </tr>\n",
       "    <tr>\n",
       "      <th>4280</th>\n",
       "      <td>2006-09-10</td>\n",
       "      <td>Detroit Lions</td>\n",
       "      <td>Seattle Seahawks</td>\n",
       "      <td>6</td>\n",
       "      <td>9</td>\n",
       "      <td>False</td>\n",
       "      <td>False</td>\n",
       "      <td>False</td>\n",
       "      <td>3.500000</td>\n",
       "      <td>NaN</td>\n",
       "      <td>1.333333</td>\n",
       "      <td>NaN</td>\n",
       "      <td>6.0</td>\n",
       "      <td>NaN</td>\n",
       "      <td>NaN</td>\n",
       "      <td>NaN</td>\n",
       "      <td>NaN</td>\n",
       "      <td>NaN</td>\n",
       "      <td>NaN</td>\n",
       "      <td>NaN</td>\n",
       "      <td>44.0</td>\n",
       "      <td>NaN</td>\n",
       "      <td>NaN</td>\n",
       "      <td>NaN</td>\n",
       "      <td>NaN</td>\n",
       "      <td>NaN</td>\n",
       "      <td>NaN</td>\n",
       "      <td>250.0</td>\n",
       "      <td>NaN</td>\n",
       "      <td>-300.0</td>\n",
       "      <td>NaN</td>\n",
       "      <td>NaN</td>\n",
       "      <td>NaN</td>\n",
       "      <td>NaN</td>\n",
       "      <td>NaN</td>\n",
       "      <td>NaN</td>\n",
       "      <td>NaN</td>\n",
       "      <td>NaN</td>\n",
       "      <td>NaN</td>\n",
       "    </tr>\n",
       "    <tr>\n",
       "      <th>4281</th>\n",
       "      <td>2006-09-10</td>\n",
       "      <td>Cleveland Browns</td>\n",
       "      <td>New Orleans Saints</td>\n",
       "      <td>14</td>\n",
       "      <td>19</td>\n",
       "      <td>False</td>\n",
       "      <td>False</td>\n",
       "      <td>False</td>\n",
       "      <td>1.500000</td>\n",
       "      <td>NaN</td>\n",
       "      <td>2.750000</td>\n",
       "      <td>NaN</td>\n",
       "      <td>-3.0</td>\n",
       "      <td>NaN</td>\n",
       "      <td>NaN</td>\n",
       "      <td>NaN</td>\n",
       "      <td>NaN</td>\n",
       "      <td>NaN</td>\n",
       "      <td>NaN</td>\n",
       "      <td>NaN</td>\n",
       "      <td>36.5</td>\n",
       "      <td>NaN</td>\n",
       "      <td>NaN</td>\n",
       "      <td>NaN</td>\n",
       "      <td>NaN</td>\n",
       "      <td>NaN</td>\n",
       "      <td>NaN</td>\n",
       "      <td>-200.0</td>\n",
       "      <td>NaN</td>\n",
       "      <td>175.0</td>\n",
       "      <td>NaN</td>\n",
       "      <td>NaN</td>\n",
       "      <td>NaN</td>\n",
       "      <td>NaN</td>\n",
       "      <td>NaN</td>\n",
       "      <td>NaN</td>\n",
       "      <td>NaN</td>\n",
       "      <td>NaN</td>\n",
       "      <td>NaN</td>\n",
       "    </tr>\n",
       "    <tr>\n",
       "      <th>4282</th>\n",
       "      <td>2006-09-10</td>\n",
       "      <td>Carolina Panthers</td>\n",
       "      <td>Atlanta Falcons</td>\n",
       "      <td>6</td>\n",
       "      <td>20</td>\n",
       "      <td>False</td>\n",
       "      <td>False</td>\n",
       "      <td>False</td>\n",
       "      <td>1.434783</td>\n",
       "      <td>NaN</td>\n",
       "      <td>2.900000</td>\n",
       "      <td>NaN</td>\n",
       "      <td>-4.5</td>\n",
       "      <td>NaN</td>\n",
       "      <td>NaN</td>\n",
       "      <td>NaN</td>\n",
       "      <td>NaN</td>\n",
       "      <td>NaN</td>\n",
       "      <td>NaN</td>\n",
       "      <td>NaN</td>\n",
       "      <td>38.5</td>\n",
       "      <td>NaN</td>\n",
       "      <td>NaN</td>\n",
       "      <td>NaN</td>\n",
       "      <td>NaN</td>\n",
       "      <td>NaN</td>\n",
       "      <td>NaN</td>\n",
       "      <td>-230.0</td>\n",
       "      <td>NaN</td>\n",
       "      <td>190.0</td>\n",
       "      <td>NaN</td>\n",
       "      <td>NaN</td>\n",
       "      <td>NaN</td>\n",
       "      <td>NaN</td>\n",
       "      <td>NaN</td>\n",
       "      <td>NaN</td>\n",
       "      <td>NaN</td>\n",
       "      <td>NaN</td>\n",
       "      <td>NaN</td>\n",
       "    </tr>\n",
       "    <tr>\n",
       "      <th>4283</th>\n",
       "      <td>2006-09-10</td>\n",
       "      <td>Arizona Cardinals</td>\n",
       "      <td>San Francisco 49ers</td>\n",
       "      <td>34</td>\n",
       "      <td>27</td>\n",
       "      <td>False</td>\n",
       "      <td>False</td>\n",
       "      <td>False</td>\n",
       "      <td>1.181818</td>\n",
       "      <td>NaN</td>\n",
       "      <td>5.000000</td>\n",
       "      <td>NaN</td>\n",
       "      <td>-9.5</td>\n",
       "      <td>NaN</td>\n",
       "      <td>NaN</td>\n",
       "      <td>NaN</td>\n",
       "      <td>NaN</td>\n",
       "      <td>NaN</td>\n",
       "      <td>NaN</td>\n",
       "      <td>NaN</td>\n",
       "      <td>43.5</td>\n",
       "      <td>NaN</td>\n",
       "      <td>NaN</td>\n",
       "      <td>NaN</td>\n",
       "      <td>NaN</td>\n",
       "      <td>NaN</td>\n",
       "      <td>NaN</td>\n",
       "      <td>-550.0</td>\n",
       "      <td>NaN</td>\n",
       "      <td>400.0</td>\n",
       "      <td>NaN</td>\n",
       "      <td>NaN</td>\n",
       "      <td>NaN</td>\n",
       "      <td>NaN</td>\n",
       "      <td>NaN</td>\n",
       "      <td>NaN</td>\n",
       "      <td>NaN</td>\n",
       "      <td>NaN</td>\n",
       "      <td>NaN</td>\n",
       "    </tr>\n",
       "    <tr>\n",
       "      <th>4284</th>\n",
       "      <td>2006-09-07</td>\n",
       "      <td>Pittsburgh Steelers</td>\n",
       "      <td>Miami Dolphins</td>\n",
       "      <td>28</td>\n",
       "      <td>17</td>\n",
       "      <td>False</td>\n",
       "      <td>False</td>\n",
       "      <td>False</td>\n",
       "      <td>1.800000</td>\n",
       "      <td>NaN</td>\n",
       "      <td>2.050000</td>\n",
       "      <td>NaN</td>\n",
       "      <td>-1.5</td>\n",
       "      <td>NaN</td>\n",
       "      <td>NaN</td>\n",
       "      <td>NaN</td>\n",
       "      <td>NaN</td>\n",
       "      <td>NaN</td>\n",
       "      <td>NaN</td>\n",
       "      <td>NaN</td>\n",
       "      <td>34.0</td>\n",
       "      <td>NaN</td>\n",
       "      <td>NaN</td>\n",
       "      <td>NaN</td>\n",
       "      <td>NaN</td>\n",
       "      <td>NaN</td>\n",
       "      <td>NaN</td>\n",
       "      <td>-125.0</td>\n",
       "      <td>NaN</td>\n",
       "      <td>105.0</td>\n",
       "      <td>NaN</td>\n",
       "      <td>NaN</td>\n",
       "      <td>NaN</td>\n",
       "      <td>NaN</td>\n",
       "      <td>NaN</td>\n",
       "      <td>NaN</td>\n",
       "      <td>NaN</td>\n",
       "      <td>NaN</td>\n",
       "      <td>NaN</td>\n",
       "    </tr>\n",
       "  </tbody>\n",
       "</table>\n",
       "<p>4285 rows × 39 columns</p>\n",
       "</div>"
      ],
      "text/plain": [
       "           Date             Home Team             Away Team  Home Score  \\\n",
       "0    2022-01-17      Los Angeles Rams     Arizona Cardinals          34   \n",
       "1    2022-01-16    Kansas City Chiefs   Pittsburgh Steelers          42   \n",
       "2    2022-01-16        Dallas Cowboys   San Francisco 49ers          17   \n",
       "3    2022-01-16  Tampa Bay Buccaneers   Philadelphia Eagles          31   \n",
       "4    2022-01-15         Buffalo Bills  New England Patriots          47   \n",
       "...         ...                   ...                   ...         ...   \n",
       "4280 2006-09-10         Detroit Lions      Seattle Seahawks           6   \n",
       "4281 2006-09-10      Cleveland Browns    New Orleans Saints          14   \n",
       "4282 2006-09-10     Carolina Panthers       Atlanta Falcons           6   \n",
       "4283 2006-09-10     Arizona Cardinals   San Francisco 49ers          34   \n",
       "4284 2006-09-07   Pittsburgh Steelers        Miami Dolphins          28   \n",
       "\n",
       "      Away Score  Overtime?  Playoff Game?  Neutral Venue?  Home Odds Open  \\\n",
       "0             11      False           True           False        1.500000   \n",
       "1             21      False           True           False        1.140000   \n",
       "2             23      False           True           False        1.620000   \n",
       "3             15      False           True           False        1.250000   \n",
       "4             17      False           True           False        1.470000   \n",
       "...          ...        ...            ...             ...             ...   \n",
       "4280           9      False          False           False        3.500000   \n",
       "4281          19      False          False           False        1.500000   \n",
       "4282          20      False          False           False        1.434783   \n",
       "4283          27      False          False           False        1.181818   \n",
       "4284          17      False          False           False        1.800000   \n",
       "\n",
       "      Home Odds Close  Away Odds Open  Away Odds Close  Home Line Open  \\\n",
       "0                1.58        2.700000             2.50            -4.5   \n",
       "1                1.12        6.000000             6.50           -13.5   \n",
       "2                1.54        2.400000             2.65            -3.0   \n",
       "3                1.27        4.200000             3.80            -8.5   \n",
       "4                1.45        2.750000             2.80            -4.5   \n",
       "...               ...             ...              ...             ...   \n",
       "4280              NaN        1.333333              NaN             6.0   \n",
       "4281              NaN        2.750000              NaN            -3.0   \n",
       "4282              NaN        2.900000              NaN            -4.5   \n",
       "4283              NaN        5.000000              NaN            -9.5   \n",
       "4284              NaN        2.050000              NaN            -1.5   \n",
       "\n",
       "      Home Line Close  Away Line Open  Away Line Close  Home Line Odds Open  \\\n",
       "0                -3.5             4.5              3.5                  1.9   \n",
       "1               -12.5            13.5             12.5                  1.9   \n",
       "2                -3.5             3.0              3.5                  1.9   \n",
       "3                -7.0             8.5              7.0                  1.9   \n",
       "4                -4.5             4.5              4.5                  1.9   \n",
       "...               ...             ...              ...                  ...   \n",
       "4280              NaN             NaN              NaN                  NaN   \n",
       "4281              NaN             NaN              NaN                  NaN   \n",
       "4282              NaN             NaN              NaN                  NaN   \n",
       "4283              NaN             NaN              NaN                  NaN   \n",
       "4284              NaN             NaN              NaN                  NaN   \n",
       "\n",
       "      Home Line Odds Close  Away Line Odds Open  Away Line Odds Close  \\\n",
       "0                     2.00                  1.9                  1.83   \n",
       "1                     1.90                  1.9                  1.90   \n",
       "2                     1.90                  1.9                  1.90   \n",
       "3                     1.86                  1.9                  1.95   \n",
       "4                     1.90                  1.9                  1.90   \n",
       "...                    ...                  ...                   ...   \n",
       "4280                   NaN                  NaN                   NaN   \n",
       "4281                   NaN                  NaN                   NaN   \n",
       "4282                   NaN                  NaN                   NaN   \n",
       "4283                   NaN                  NaN                   NaN   \n",
       "4284                   NaN                  NaN                   NaN   \n",
       "\n",
       "      Total Score Open  Total Score Close  Total Score Over Open  \\\n",
       "0                 50.5               49.0                    1.9   \n",
       "1                 46.5               47.0                    1.9   \n",
       "2                 50.5               51.0                    1.9   \n",
       "3                 49.0               47.0                    1.9   \n",
       "4                 43.5               43.0                    1.9   \n",
       "...                ...                ...                    ...   \n",
       "4280              44.0                NaN                    NaN   \n",
       "4281              36.5                NaN                    NaN   \n",
       "4282              38.5                NaN                    NaN   \n",
       "4283              43.5                NaN                    NaN   \n",
       "4284              34.0                NaN                    NaN   \n",
       "\n",
       "      Total Score Over Close  Total Score Under Open  Total Score Under Close  \\\n",
       "0                        1.9                     1.9                      1.9   \n",
       "1                        1.9                     1.9                      1.9   \n",
       "2                        1.9                     1.9                      1.9   \n",
       "3                        1.9                     1.9                      1.9   \n",
       "4                        1.9                     1.9                      1.9   \n",
       "...                      ...                     ...                      ...   \n",
       "4280                     NaN                     NaN                      NaN   \n",
       "4281                     NaN                     NaN                      NaN   \n",
       "4282                     NaN                     NaN                      NaN   \n",
       "4283                     NaN                     NaN                      NaN   \n",
       "4284                     NaN                     NaN                      NaN   \n",
       "\n",
       "     Notes  Home Odds ML Open  Home Odds ML Close  Away Odds ML Open  \\\n",
       "0      NaN             -200.0              -172.0              170.0   \n",
       "1      NaN             -714.0              -833.0              500.0   \n",
       "2      NaN             -161.0              -185.0              140.0   \n",
       "3      NaN             -400.0              -370.0              320.0   \n",
       "4      NaN             -213.0              -222.0              175.0   \n",
       "...    ...                ...                 ...                ...   \n",
       "4280   NaN              250.0                 NaN             -300.0   \n",
       "4281   NaN             -200.0                 NaN              175.0   \n",
       "4282   NaN             -230.0                 NaN              190.0   \n",
       "4283   NaN             -550.0                 NaN              400.0   \n",
       "4284   NaN             -125.0                 NaN              105.0   \n",
       "\n",
       "      Away Odds ML Close  Home Line Odds ML Open  Home Line Odds ML Close  \\\n",
       "0                  150.0                  -111.0                    100.0   \n",
       "1                  550.0                  -111.0                   -111.0   \n",
       "2                  165.0                  -111.0                   -111.0   \n",
       "3                  280.0                  -111.0                   -116.0   \n",
       "4                  180.0                  -111.0                   -111.0   \n",
       "...                  ...                     ...                      ...   \n",
       "4280                 NaN                     NaN                      NaN   \n",
       "4281                 NaN                     NaN                      NaN   \n",
       "4282                 NaN                     NaN                      NaN   \n",
       "4283                 NaN                     NaN                      NaN   \n",
       "4284                 NaN                     NaN                      NaN   \n",
       "\n",
       "      Away Line Odds ML Open  Away Line Odds ML Close  \\\n",
       "0                     -111.0                   -120.0   \n",
       "1                     -111.0                   -111.0   \n",
       "2                     -111.0                   -111.0   \n",
       "3                     -111.0                   -105.0   \n",
       "4                     -111.0                   -111.0   \n",
       "...                      ...                      ...   \n",
       "4280                     NaN                      NaN   \n",
       "4281                     NaN                      NaN   \n",
       "4282                     NaN                      NaN   \n",
       "4283                     NaN                      NaN   \n",
       "4284                     NaN                      NaN   \n",
       "\n",
       "      Total Score Over ML Open  Total Score Over ML Close  \\\n",
       "0                       -111.0                     -111.0   \n",
       "1                       -111.0                     -111.0   \n",
       "2                       -111.0                     -111.0   \n",
       "3                       -111.0                     -111.0   \n",
       "4                       -111.0                     -111.0   \n",
       "...                        ...                        ...   \n",
       "4280                       NaN                        NaN   \n",
       "4281                       NaN                        NaN   \n",
       "4282                       NaN                        NaN   \n",
       "4283                       NaN                        NaN   \n",
       "4284                       NaN                        NaN   \n",
       "\n",
       "      Total Score Under ML Open  Total Score Under ML Close  \n",
       "0                        -111.0                      -111.0  \n",
       "1                        -111.0                      -111.0  \n",
       "2                        -111.0                      -111.0  \n",
       "3                        -111.0                      -111.0  \n",
       "4                        -111.0                      -111.0  \n",
       "...                         ...                         ...  \n",
       "4280                        NaN                         NaN  \n",
       "4281                        NaN                         NaN  \n",
       "4282                        NaN                         NaN  \n",
       "4283                        NaN                         NaN  \n",
       "4284                        NaN                         NaN  \n",
       "\n",
       "[4285 rows x 39 columns]"
      ]
     },
     "execution_count": 57,
     "metadata": {},
     "output_type": "execute_result"
    }
   ],
   "source": [
    "# Add moneyline columns\n",
    "betting_data['Home Odds ML Open'] = betting_data['Home Odds Open'].apply(lambda x: decimal_to_moneyline(x))\n",
    "betting_data['Home Odds ML Close'] = betting_data['Home Odds Close'].apply(lambda x: decimal_to_moneyline(x))\n",
    "betting_data['Away Odds ML Open'] = betting_data['Away Odds Open'].apply(lambda x: decimal_to_moneyline(x))\n",
    "betting_data['Away Odds ML Close'] = betting_data['Away Odds Close'].apply(lambda x: decimal_to_moneyline(x))\n",
    "\n",
    "betting_data['Home Line Odds ML Open'] = betting_data['Home Line Odds Open'].apply(lambda x: decimal_to_moneyline(x))\n",
    "betting_data['Home Line Odds ML Close'] = betting_data['Home Line Odds Close'].apply(lambda x: decimal_to_moneyline(x))\n",
    "betting_data['Away Line Odds ML Open'] = betting_data['Away Line Odds Open'].apply(lambda x: decimal_to_moneyline(x))\n",
    "betting_data['Away Line Odds ML Close'] = betting_data['Away Line Odds Close'].apply(lambda x: decimal_to_moneyline(x))\n",
    "\n",
    "betting_data['Total Score Over ML Open'] = betting_data['Total Score Over Open'].apply(lambda x: decimal_to_moneyline(x))\n",
    "betting_data['Total Score Over ML Close'] = betting_data['Total Score Over Close'].apply(lambda x: decimal_to_moneyline(x))\n",
    "betting_data['Total Score Under ML Open'] = betting_data['Total Score Under Open'].apply(lambda x: decimal_to_moneyline(x))\n",
    "betting_data['Total Score Under ML Close'] = betting_data['Total Score Under Close'].apply(lambda x: decimal_to_moneyline(x))\n",
    "\n",
    "betting_data"
   ]
  },
  {
   "cell_type": "markdown",
   "metadata": {},
   "source": [
    "### Data Exploration"
   ]
  },
  {
   "cell_type": "markdown",
   "metadata": {},
   "source": [
    "#### Lines and Totals Analysis\n",
    "\n",
    "How often do over/unders, point spreads, and moneylines move, and when they do move, how much do they shift? Additionally, do the lines usually shift towards the actual outcome? In general, what tends to hit more often?"
   ]
  },
  {
   "cell_type": "code",
   "execution_count": 70,
   "metadata": {},
   "outputs": [
    {
     "data": {
      "text/html": [
       "<div>\n",
       "<style scoped>\n",
       "    .dataframe tbody tr th:only-of-type {\n",
       "        vertical-align: middle;\n",
       "    }\n",
       "\n",
       "    .dataframe tbody tr th {\n",
       "        vertical-align: top;\n",
       "    }\n",
       "\n",
       "    .dataframe thead th {\n",
       "        text-align: right;\n",
       "    }\n",
       "</style>\n",
       "<table border=\"1\" class=\"dataframe\">\n",
       "  <thead>\n",
       "    <tr style=\"text-align: right;\">\n",
       "      <th></th>\n",
       "      <th>Date</th>\n",
       "      <th>Home Team</th>\n",
       "      <th>Away Team</th>\n",
       "      <th>Home Score</th>\n",
       "      <th>Away Score</th>\n",
       "      <th>Overtime?</th>\n",
       "      <th>Playoff Game?</th>\n",
       "      <th>Neutral Venue?</th>\n",
       "      <th>Total Score Open</th>\n",
       "      <th>Total Score Close</th>\n",
       "      <th>Total Score Over ML Open</th>\n",
       "      <th>Total Score Over ML Close</th>\n",
       "      <th>Total Score Under ML Open</th>\n",
       "      <th>Total Score Under ML Close</th>\n",
       "      <th>Total Score</th>\n",
       "      <th>Season</th>\n",
       "      <th>Open Over/Under Result</th>\n",
       "      <th>Closing Over/Under Result</th>\n",
       "    </tr>\n",
       "  </thead>\n",
       "  <tbody>\n",
       "    <tr>\n",
       "      <th>0</th>\n",
       "      <td>2022-01-17</td>\n",
       "      <td>Los Angeles Rams</td>\n",
       "      <td>Arizona Cardinals</td>\n",
       "      <td>34</td>\n",
       "      <td>11</td>\n",
       "      <td>False</td>\n",
       "      <td>True</td>\n",
       "      <td>False</td>\n",
       "      <td>50.5</td>\n",
       "      <td>49.0</td>\n",
       "      <td>-111.0</td>\n",
       "      <td>-111.0</td>\n",
       "      <td>-111.0</td>\n",
       "      <td>-111.0</td>\n",
       "      <td>45</td>\n",
       "      <td>2022</td>\n",
       "      <td>Under</td>\n",
       "      <td>Under</td>\n",
       "    </tr>\n",
       "    <tr>\n",
       "      <th>1</th>\n",
       "      <td>2022-01-16</td>\n",
       "      <td>Kansas City Chiefs</td>\n",
       "      <td>Pittsburgh Steelers</td>\n",
       "      <td>42</td>\n",
       "      <td>21</td>\n",
       "      <td>False</td>\n",
       "      <td>True</td>\n",
       "      <td>False</td>\n",
       "      <td>46.5</td>\n",
       "      <td>47.0</td>\n",
       "      <td>-111.0</td>\n",
       "      <td>-111.0</td>\n",
       "      <td>-111.0</td>\n",
       "      <td>-111.0</td>\n",
       "      <td>63</td>\n",
       "      <td>2022</td>\n",
       "      <td>Over</td>\n",
       "      <td>Over</td>\n",
       "    </tr>\n",
       "    <tr>\n",
       "      <th>2</th>\n",
       "      <td>2022-01-16</td>\n",
       "      <td>Dallas Cowboys</td>\n",
       "      <td>San Francisco 49ers</td>\n",
       "      <td>17</td>\n",
       "      <td>23</td>\n",
       "      <td>False</td>\n",
       "      <td>True</td>\n",
       "      <td>False</td>\n",
       "      <td>50.5</td>\n",
       "      <td>51.0</td>\n",
       "      <td>-111.0</td>\n",
       "      <td>-111.0</td>\n",
       "      <td>-111.0</td>\n",
       "      <td>-111.0</td>\n",
       "      <td>40</td>\n",
       "      <td>2022</td>\n",
       "      <td>Under</td>\n",
       "      <td>Under</td>\n",
       "    </tr>\n",
       "    <tr>\n",
       "      <th>3</th>\n",
       "      <td>2022-01-16</td>\n",
       "      <td>Tampa Bay Buccaneers</td>\n",
       "      <td>Philadelphia Eagles</td>\n",
       "      <td>31</td>\n",
       "      <td>15</td>\n",
       "      <td>False</td>\n",
       "      <td>True</td>\n",
       "      <td>False</td>\n",
       "      <td>49.0</td>\n",
       "      <td>47.0</td>\n",
       "      <td>-111.0</td>\n",
       "      <td>-111.0</td>\n",
       "      <td>-111.0</td>\n",
       "      <td>-111.0</td>\n",
       "      <td>46</td>\n",
       "      <td>2022</td>\n",
       "      <td>Under</td>\n",
       "      <td>Under</td>\n",
       "    </tr>\n",
       "    <tr>\n",
       "      <th>4</th>\n",
       "      <td>2022-01-15</td>\n",
       "      <td>Buffalo Bills</td>\n",
       "      <td>New England Patriots</td>\n",
       "      <td>47</td>\n",
       "      <td>17</td>\n",
       "      <td>False</td>\n",
       "      <td>True</td>\n",
       "      <td>False</td>\n",
       "      <td>43.5</td>\n",
       "      <td>43.0</td>\n",
       "      <td>-111.0</td>\n",
       "      <td>-111.0</td>\n",
       "      <td>-111.0</td>\n",
       "      <td>-111.0</td>\n",
       "      <td>64</td>\n",
       "      <td>2022</td>\n",
       "      <td>Over</td>\n",
       "      <td>Over</td>\n",
       "    </tr>\n",
       "    <tr>\n",
       "      <th>...</th>\n",
       "      <td>...</td>\n",
       "      <td>...</td>\n",
       "      <td>...</td>\n",
       "      <td>...</td>\n",
       "      <td>...</td>\n",
       "      <td>...</td>\n",
       "      <td>...</td>\n",
       "      <td>...</td>\n",
       "      <td>...</td>\n",
       "      <td>...</td>\n",
       "      <td>...</td>\n",
       "      <td>...</td>\n",
       "      <td>...</td>\n",
       "      <td>...</td>\n",
       "      <td>...</td>\n",
       "      <td>...</td>\n",
       "      <td>...</td>\n",
       "      <td>...</td>\n",
       "    </tr>\n",
       "    <tr>\n",
       "      <th>2144</th>\n",
       "      <td>2014-09-07</td>\n",
       "      <td>New York Jets</td>\n",
       "      <td>Oakland Raiders</td>\n",
       "      <td>19</td>\n",
       "      <td>14</td>\n",
       "      <td>False</td>\n",
       "      <td>False</td>\n",
       "      <td>False</td>\n",
       "      <td>39.5</td>\n",
       "      <td>41.0</td>\n",
       "      <td>-109.0</td>\n",
       "      <td>-105.0</td>\n",
       "      <td>-101.0</td>\n",
       "      <td>-105.0</td>\n",
       "      <td>33</td>\n",
       "      <td>2014</td>\n",
       "      <td>Under</td>\n",
       "      <td>Under</td>\n",
       "    </tr>\n",
       "    <tr>\n",
       "      <th>2145</th>\n",
       "      <td>2014-09-07</td>\n",
       "      <td>Philadelphia Eagles</td>\n",
       "      <td>Jacksonville Jaguars</td>\n",
       "      <td>34</td>\n",
       "      <td>17</td>\n",
       "      <td>False</td>\n",
       "      <td>False</td>\n",
       "      <td>False</td>\n",
       "      <td>53.0</td>\n",
       "      <td>49.0</td>\n",
       "      <td>-105.0</td>\n",
       "      <td>-110.0</td>\n",
       "      <td>-105.0</td>\n",
       "      <td>100.0</td>\n",
       "      <td>51</td>\n",
       "      <td>2014</td>\n",
       "      <td>Under</td>\n",
       "      <td>Over</td>\n",
       "    </tr>\n",
       "    <tr>\n",
       "      <th>2146</th>\n",
       "      <td>2014-09-07</td>\n",
       "      <td>Pittsburgh Steelers</td>\n",
       "      <td>Cleveland Browns</td>\n",
       "      <td>30</td>\n",
       "      <td>27</td>\n",
       "      <td>False</td>\n",
       "      <td>False</td>\n",
       "      <td>False</td>\n",
       "      <td>40.0</td>\n",
       "      <td>41.5</td>\n",
       "      <td>-117.0</td>\n",
       "      <td>-106.0</td>\n",
       "      <td>106.0</td>\n",
       "      <td>-104.0</td>\n",
       "      <td>57</td>\n",
       "      <td>2014</td>\n",
       "      <td>Over</td>\n",
       "      <td>Over</td>\n",
       "    </tr>\n",
       "    <tr>\n",
       "      <th>2147</th>\n",
       "      <td>2014-09-07</td>\n",
       "      <td>St. Louis Rams</td>\n",
       "      <td>Minnesota Vikings</td>\n",
       "      <td>6</td>\n",
       "      <td>34</td>\n",
       "      <td>False</td>\n",
       "      <td>False</td>\n",
       "      <td>False</td>\n",
       "      <td>44.0</td>\n",
       "      <td>43.5</td>\n",
       "      <td>-105.0</td>\n",
       "      <td>-114.0</td>\n",
       "      <td>-105.0</td>\n",
       "      <td>103.0</td>\n",
       "      <td>40</td>\n",
       "      <td>2014</td>\n",
       "      <td>Under</td>\n",
       "      <td>Under</td>\n",
       "    </tr>\n",
       "    <tr>\n",
       "      <th>2148</th>\n",
       "      <td>2014-09-04</td>\n",
       "      <td>Seattle Seahawks</td>\n",
       "      <td>Green Bay Packers</td>\n",
       "      <td>36</td>\n",
       "      <td>16</td>\n",
       "      <td>False</td>\n",
       "      <td>False</td>\n",
       "      <td>False</td>\n",
       "      <td>46.0</td>\n",
       "      <td>46.5</td>\n",
       "      <td>-105.0</td>\n",
       "      <td>-102.0</td>\n",
       "      <td>-105.0</td>\n",
       "      <td>-108.0</td>\n",
       "      <td>52</td>\n",
       "      <td>2014</td>\n",
       "      <td>Over</td>\n",
       "      <td>Over</td>\n",
       "    </tr>\n",
       "  </tbody>\n",
       "</table>\n",
       "<p>2149 rows × 18 columns</p>\n",
       "</div>"
      ],
      "text/plain": [
       "           Date             Home Team             Away Team  Home Score  \\\n",
       "0    2022-01-17      Los Angeles Rams     Arizona Cardinals          34   \n",
       "1    2022-01-16    Kansas City Chiefs   Pittsburgh Steelers          42   \n",
       "2    2022-01-16        Dallas Cowboys   San Francisco 49ers          17   \n",
       "3    2022-01-16  Tampa Bay Buccaneers   Philadelphia Eagles          31   \n",
       "4    2022-01-15         Buffalo Bills  New England Patriots          47   \n",
       "...         ...                   ...                   ...         ...   \n",
       "2144 2014-09-07         New York Jets       Oakland Raiders          19   \n",
       "2145 2014-09-07   Philadelphia Eagles  Jacksonville Jaguars          34   \n",
       "2146 2014-09-07   Pittsburgh Steelers      Cleveland Browns          30   \n",
       "2147 2014-09-07        St. Louis Rams     Minnesota Vikings           6   \n",
       "2148 2014-09-04      Seattle Seahawks     Green Bay Packers          36   \n",
       "\n",
       "      Away Score  Overtime?  Playoff Game?  Neutral Venue?  Total Score Open  \\\n",
       "0             11      False           True           False              50.5   \n",
       "1             21      False           True           False              46.5   \n",
       "2             23      False           True           False              50.5   \n",
       "3             15      False           True           False              49.0   \n",
       "4             17      False           True           False              43.5   \n",
       "...          ...        ...            ...             ...               ...   \n",
       "2144          14      False          False           False              39.5   \n",
       "2145          17      False          False           False              53.0   \n",
       "2146          27      False          False           False              40.0   \n",
       "2147          34      False          False           False              44.0   \n",
       "2148          16      False          False           False              46.0   \n",
       "\n",
       "      Total Score Close  Total Score Over ML Open  Total Score Over ML Close  \\\n",
       "0                  49.0                    -111.0                     -111.0   \n",
       "1                  47.0                    -111.0                     -111.0   \n",
       "2                  51.0                    -111.0                     -111.0   \n",
       "3                  47.0                    -111.0                     -111.0   \n",
       "4                  43.0                    -111.0                     -111.0   \n",
       "...                 ...                       ...                        ...   \n",
       "2144               41.0                    -109.0                     -105.0   \n",
       "2145               49.0                    -105.0                     -110.0   \n",
       "2146               41.5                    -117.0                     -106.0   \n",
       "2147               43.5                    -105.0                     -114.0   \n",
       "2148               46.5                    -105.0                     -102.0   \n",
       "\n",
       "      Total Score Under ML Open  Total Score Under ML Close  Total Score  \\\n",
       "0                        -111.0                      -111.0           45   \n",
       "1                        -111.0                      -111.0           63   \n",
       "2                        -111.0                      -111.0           40   \n",
       "3                        -111.0                      -111.0           46   \n",
       "4                        -111.0                      -111.0           64   \n",
       "...                         ...                         ...          ...   \n",
       "2144                     -101.0                      -105.0           33   \n",
       "2145                     -105.0                       100.0           51   \n",
       "2146                      106.0                      -104.0           57   \n",
       "2147                     -105.0                       103.0           40   \n",
       "2148                     -105.0                      -108.0           52   \n",
       "\n",
       "      Season Open Over/Under Result Closing Over/Under Result  \n",
       "0       2022                  Under                     Under  \n",
       "1       2022                   Over                      Over  \n",
       "2       2022                  Under                     Under  \n",
       "3       2022                  Under                     Under  \n",
       "4       2022                   Over                      Over  \n",
       "...      ...                    ...                       ...  \n",
       "2144    2014                  Under                     Under  \n",
       "2145    2014                  Under                      Over  \n",
       "2146    2014                   Over                      Over  \n",
       "2147    2014                  Under                     Under  \n",
       "2148    2014                   Over                      Over  \n",
       "\n",
       "[2149 rows x 18 columns]"
      ]
     },
     "execution_count": 70,
     "metadata": {},
     "output_type": "execute_result"
    }
   ],
   "source": [
    "# First, looking at the over/under totals\n",
    "\n",
    "over_under = betting_data.copy()[['Date', 'Home Team', 'Away Team', 'Home Score', 'Away Score', 'Overtime?',\n",
    "                                 'Playoff Game?', 'Neutral Venue?', 'Total Score Open', 'Total Score Close', \n",
    "                                 'Total Score Over ML Open', 'Total Score Over ML Close', 'Total Score Under ML Open',\n",
    "                                 'Total Score Under ML Close']]\n",
    "over_under = over_under[over_under.Date >= '2014-03-01']\n",
    "over_under['Total Score'] = over_under.apply(lambda x: x['Home Score'] + x['Away Score'], axis=1)\n",
    "over_under['Season'] = over_under.apply(lambda x: x.Date.year, axis=1)\n",
    "\n",
    "def get_over_under_result(game, open=True):\n",
    "    game_score = game['Total Score']\n",
    "    if open:\n",
    "        ou_score = game['Total Score Open']\n",
    "    else:\n",
    "        ou_score = game['Total Score Close']\n",
    "        \n",
    "    if game_score == ou_score :\n",
    "        result = 'Push'\n",
    "    elif game_score > ou_score:\n",
    "        result = 'Over'\n",
    "    else:\n",
    "        result = 'Under'\n",
    "        \n",
    "    return result \n",
    "\n",
    "over_under['Open Over/Under Result'] = over_under.apply(lambda x: get_over_under_result(x, open=True), axis=1)\n",
    "over_under['Closing Over/Under Result'] = over_under.apply(lambda x: get_over_under_result(x, open=False), axis=1)\n",
    "\n",
    "over_under"
   ]
  },
  {
   "cell_type": "code",
   "execution_count": 103,
   "metadata": {},
   "outputs": [
    {
     "data": {
      "application/vnd.plotly.v1+json": {
       "config": {
        "plotlyServerURL": "https://plot.ly"
       },
       "data": [
        {
         "alignmentgroup": "True",
         "customdata": [
          [
           1015
          ],
          [
           38
          ],
          [
           1096
          ]
         ],
         "hovertemplate": "Open Over/Under Result=%{x}<br>Percent of Games=%{y}<br>Total Games=%{customdata[0]}<extra></extra>",
         "legendgroup": "",
         "marker": {
          "color": "#636efa"
         },
         "name": "",
         "offsetgroup": "",
         "orientation": "v",
         "showlegend": false,
         "textposition": "auto",
         "type": "bar",
         "x": [
          "Over",
          "Push",
          "Under"
         ],
         "xaxis": "x",
         "y": [
          0.4723127035830619,
          0.017682643089809214,
          0.5100046533271289
         ],
         "yaxis": "y"
        }
       ],
       "layout": {
        "barmode": "relative",
        "legend": {
         "tracegroupgap": 0
        },
        "template": {
         "data": {
          "bar": [
           {
            "error_x": {
             "color": "#2a3f5f"
            },
            "error_y": {
             "color": "#2a3f5f"
            },
            "marker": {
             "line": {
              "color": "#E5ECF6",
              "width": 0.5
             }
            },
            "type": "bar"
           }
          ],
          "barpolar": [
           {
            "marker": {
             "line": {
              "color": "#E5ECF6",
              "width": 0.5
             }
            },
            "type": "barpolar"
           }
          ],
          "carpet": [
           {
            "aaxis": {
             "endlinecolor": "#2a3f5f",
             "gridcolor": "white",
             "linecolor": "white",
             "minorgridcolor": "white",
             "startlinecolor": "#2a3f5f"
            },
            "baxis": {
             "endlinecolor": "#2a3f5f",
             "gridcolor": "white",
             "linecolor": "white",
             "minorgridcolor": "white",
             "startlinecolor": "#2a3f5f"
            },
            "type": "carpet"
           }
          ],
          "choropleth": [
           {
            "colorbar": {
             "outlinewidth": 0,
             "ticks": ""
            },
            "type": "choropleth"
           }
          ],
          "contour": [
           {
            "colorbar": {
             "outlinewidth": 0,
             "ticks": ""
            },
            "colorscale": [
             [
              0,
              "#0d0887"
             ],
             [
              0.1111111111111111,
              "#46039f"
             ],
             [
              0.2222222222222222,
              "#7201a8"
             ],
             [
              0.3333333333333333,
              "#9c179e"
             ],
             [
              0.4444444444444444,
              "#bd3786"
             ],
             [
              0.5555555555555556,
              "#d8576b"
             ],
             [
              0.6666666666666666,
              "#ed7953"
             ],
             [
              0.7777777777777778,
              "#fb9f3a"
             ],
             [
              0.8888888888888888,
              "#fdca26"
             ],
             [
              1,
              "#f0f921"
             ]
            ],
            "type": "contour"
           }
          ],
          "contourcarpet": [
           {
            "colorbar": {
             "outlinewidth": 0,
             "ticks": ""
            },
            "type": "contourcarpet"
           }
          ],
          "heatmap": [
           {
            "colorbar": {
             "outlinewidth": 0,
             "ticks": ""
            },
            "colorscale": [
             [
              0,
              "#0d0887"
             ],
             [
              0.1111111111111111,
              "#46039f"
             ],
             [
              0.2222222222222222,
              "#7201a8"
             ],
             [
              0.3333333333333333,
              "#9c179e"
             ],
             [
              0.4444444444444444,
              "#bd3786"
             ],
             [
              0.5555555555555556,
              "#d8576b"
             ],
             [
              0.6666666666666666,
              "#ed7953"
             ],
             [
              0.7777777777777778,
              "#fb9f3a"
             ],
             [
              0.8888888888888888,
              "#fdca26"
             ],
             [
              1,
              "#f0f921"
             ]
            ],
            "type": "heatmap"
           }
          ],
          "heatmapgl": [
           {
            "colorbar": {
             "outlinewidth": 0,
             "ticks": ""
            },
            "colorscale": [
             [
              0,
              "#0d0887"
             ],
             [
              0.1111111111111111,
              "#46039f"
             ],
             [
              0.2222222222222222,
              "#7201a8"
             ],
             [
              0.3333333333333333,
              "#9c179e"
             ],
             [
              0.4444444444444444,
              "#bd3786"
             ],
             [
              0.5555555555555556,
              "#d8576b"
             ],
             [
              0.6666666666666666,
              "#ed7953"
             ],
             [
              0.7777777777777778,
              "#fb9f3a"
             ],
             [
              0.8888888888888888,
              "#fdca26"
             ],
             [
              1,
              "#f0f921"
             ]
            ],
            "type": "heatmapgl"
           }
          ],
          "histogram": [
           {
            "marker": {
             "colorbar": {
              "outlinewidth": 0,
              "ticks": ""
             }
            },
            "type": "histogram"
           }
          ],
          "histogram2d": [
           {
            "colorbar": {
             "outlinewidth": 0,
             "ticks": ""
            },
            "colorscale": [
             [
              0,
              "#0d0887"
             ],
             [
              0.1111111111111111,
              "#46039f"
             ],
             [
              0.2222222222222222,
              "#7201a8"
             ],
             [
              0.3333333333333333,
              "#9c179e"
             ],
             [
              0.4444444444444444,
              "#bd3786"
             ],
             [
              0.5555555555555556,
              "#d8576b"
             ],
             [
              0.6666666666666666,
              "#ed7953"
             ],
             [
              0.7777777777777778,
              "#fb9f3a"
             ],
             [
              0.8888888888888888,
              "#fdca26"
             ],
             [
              1,
              "#f0f921"
             ]
            ],
            "type": "histogram2d"
           }
          ],
          "histogram2dcontour": [
           {
            "colorbar": {
             "outlinewidth": 0,
             "ticks": ""
            },
            "colorscale": [
             [
              0,
              "#0d0887"
             ],
             [
              0.1111111111111111,
              "#46039f"
             ],
             [
              0.2222222222222222,
              "#7201a8"
             ],
             [
              0.3333333333333333,
              "#9c179e"
             ],
             [
              0.4444444444444444,
              "#bd3786"
             ],
             [
              0.5555555555555556,
              "#d8576b"
             ],
             [
              0.6666666666666666,
              "#ed7953"
             ],
             [
              0.7777777777777778,
              "#fb9f3a"
             ],
             [
              0.8888888888888888,
              "#fdca26"
             ],
             [
              1,
              "#f0f921"
             ]
            ],
            "type": "histogram2dcontour"
           }
          ],
          "mesh3d": [
           {
            "colorbar": {
             "outlinewidth": 0,
             "ticks": ""
            },
            "type": "mesh3d"
           }
          ],
          "parcoords": [
           {
            "line": {
             "colorbar": {
              "outlinewidth": 0,
              "ticks": ""
             }
            },
            "type": "parcoords"
           }
          ],
          "pie": [
           {
            "automargin": true,
            "type": "pie"
           }
          ],
          "scatter": [
           {
            "marker": {
             "colorbar": {
              "outlinewidth": 0,
              "ticks": ""
             }
            },
            "type": "scatter"
           }
          ],
          "scatter3d": [
           {
            "line": {
             "colorbar": {
              "outlinewidth": 0,
              "ticks": ""
             }
            },
            "marker": {
             "colorbar": {
              "outlinewidth": 0,
              "ticks": ""
             }
            },
            "type": "scatter3d"
           }
          ],
          "scattercarpet": [
           {
            "marker": {
             "colorbar": {
              "outlinewidth": 0,
              "ticks": ""
             }
            },
            "type": "scattercarpet"
           }
          ],
          "scattergeo": [
           {
            "marker": {
             "colorbar": {
              "outlinewidth": 0,
              "ticks": ""
             }
            },
            "type": "scattergeo"
           }
          ],
          "scattergl": [
           {
            "marker": {
             "colorbar": {
              "outlinewidth": 0,
              "ticks": ""
             }
            },
            "type": "scattergl"
           }
          ],
          "scattermapbox": [
           {
            "marker": {
             "colorbar": {
              "outlinewidth": 0,
              "ticks": ""
             }
            },
            "type": "scattermapbox"
           }
          ],
          "scatterpolar": [
           {
            "marker": {
             "colorbar": {
              "outlinewidth": 0,
              "ticks": ""
             }
            },
            "type": "scatterpolar"
           }
          ],
          "scatterpolargl": [
           {
            "marker": {
             "colorbar": {
              "outlinewidth": 0,
              "ticks": ""
             }
            },
            "type": "scatterpolargl"
           }
          ],
          "scatterternary": [
           {
            "marker": {
             "colorbar": {
              "outlinewidth": 0,
              "ticks": ""
             }
            },
            "type": "scatterternary"
           }
          ],
          "surface": [
           {
            "colorbar": {
             "outlinewidth": 0,
             "ticks": ""
            },
            "colorscale": [
             [
              0,
              "#0d0887"
             ],
             [
              0.1111111111111111,
              "#46039f"
             ],
             [
              0.2222222222222222,
              "#7201a8"
             ],
             [
              0.3333333333333333,
              "#9c179e"
             ],
             [
              0.4444444444444444,
              "#bd3786"
             ],
             [
              0.5555555555555556,
              "#d8576b"
             ],
             [
              0.6666666666666666,
              "#ed7953"
             ],
             [
              0.7777777777777778,
              "#fb9f3a"
             ],
             [
              0.8888888888888888,
              "#fdca26"
             ],
             [
              1,
              "#f0f921"
             ]
            ],
            "type": "surface"
           }
          ],
          "table": [
           {
            "cells": {
             "fill": {
              "color": "#EBF0F8"
             },
             "line": {
              "color": "white"
             }
            },
            "header": {
             "fill": {
              "color": "#C8D4E3"
             },
             "line": {
              "color": "white"
             }
            },
            "type": "table"
           }
          ]
         },
         "layout": {
          "annotationdefaults": {
           "arrowcolor": "#2a3f5f",
           "arrowhead": 0,
           "arrowwidth": 1
          },
          "autotypenumbers": "strict",
          "coloraxis": {
           "colorbar": {
            "outlinewidth": 0,
            "ticks": ""
           }
          },
          "colorscale": {
           "diverging": [
            [
             0,
             "#8e0152"
            ],
            [
             0.1,
             "#c51b7d"
            ],
            [
             0.2,
             "#de77ae"
            ],
            [
             0.3,
             "#f1b6da"
            ],
            [
             0.4,
             "#fde0ef"
            ],
            [
             0.5,
             "#f7f7f7"
            ],
            [
             0.6,
             "#e6f5d0"
            ],
            [
             0.7,
             "#b8e186"
            ],
            [
             0.8,
             "#7fbc41"
            ],
            [
             0.9,
             "#4d9221"
            ],
            [
             1,
             "#276419"
            ]
           ],
           "sequential": [
            [
             0,
             "#0d0887"
            ],
            [
             0.1111111111111111,
             "#46039f"
            ],
            [
             0.2222222222222222,
             "#7201a8"
            ],
            [
             0.3333333333333333,
             "#9c179e"
            ],
            [
             0.4444444444444444,
             "#bd3786"
            ],
            [
             0.5555555555555556,
             "#d8576b"
            ],
            [
             0.6666666666666666,
             "#ed7953"
            ],
            [
             0.7777777777777778,
             "#fb9f3a"
            ],
            [
             0.8888888888888888,
             "#fdca26"
            ],
            [
             1,
             "#f0f921"
            ]
           ],
           "sequentialminus": [
            [
             0,
             "#0d0887"
            ],
            [
             0.1111111111111111,
             "#46039f"
            ],
            [
             0.2222222222222222,
             "#7201a8"
            ],
            [
             0.3333333333333333,
             "#9c179e"
            ],
            [
             0.4444444444444444,
             "#bd3786"
            ],
            [
             0.5555555555555556,
             "#d8576b"
            ],
            [
             0.6666666666666666,
             "#ed7953"
            ],
            [
             0.7777777777777778,
             "#fb9f3a"
            ],
            [
             0.8888888888888888,
             "#fdca26"
            ],
            [
             1,
             "#f0f921"
            ]
           ]
          },
          "colorway": [
           "#636efa",
           "#EF553B",
           "#00cc96",
           "#ab63fa",
           "#FFA15A",
           "#19d3f3",
           "#FF6692",
           "#B6E880",
           "#FF97FF",
           "#FECB52"
          ],
          "font": {
           "color": "#2a3f5f"
          },
          "geo": {
           "bgcolor": "white",
           "lakecolor": "white",
           "landcolor": "#E5ECF6",
           "showlakes": true,
           "showland": true,
           "subunitcolor": "white"
          },
          "hoverlabel": {
           "align": "left"
          },
          "hovermode": "closest",
          "mapbox": {
           "style": "light"
          },
          "paper_bgcolor": "white",
          "plot_bgcolor": "#E5ECF6",
          "polar": {
           "angularaxis": {
            "gridcolor": "white",
            "linecolor": "white",
            "ticks": ""
           },
           "bgcolor": "#E5ECF6",
           "radialaxis": {
            "gridcolor": "white",
            "linecolor": "white",
            "ticks": ""
           }
          },
          "scene": {
           "xaxis": {
            "backgroundcolor": "#E5ECF6",
            "gridcolor": "white",
            "gridwidth": 2,
            "linecolor": "white",
            "showbackground": true,
            "ticks": "",
            "zerolinecolor": "white"
           },
           "yaxis": {
            "backgroundcolor": "#E5ECF6",
            "gridcolor": "white",
            "gridwidth": 2,
            "linecolor": "white",
            "showbackground": true,
            "ticks": "",
            "zerolinecolor": "white"
           },
           "zaxis": {
            "backgroundcolor": "#E5ECF6",
            "gridcolor": "white",
            "gridwidth": 2,
            "linecolor": "white",
            "showbackground": true,
            "ticks": "",
            "zerolinecolor": "white"
           }
          },
          "shapedefaults": {
           "line": {
            "color": "#2a3f5f"
           }
          },
          "ternary": {
           "aaxis": {
            "gridcolor": "white",
            "linecolor": "white",
            "ticks": ""
           },
           "baxis": {
            "gridcolor": "white",
            "linecolor": "white",
            "ticks": ""
           },
           "bgcolor": "#E5ECF6",
           "caxis": {
            "gridcolor": "white",
            "linecolor": "white",
            "ticks": ""
           }
          },
          "title": {
           "x": 0.05
          },
          "xaxis": {
           "automargin": true,
           "gridcolor": "white",
           "linecolor": "white",
           "ticks": "",
           "title": {
            "standoff": 15
           },
           "zerolinecolor": "white",
           "zerolinewidth": 2
          },
          "yaxis": {
           "automargin": true,
           "gridcolor": "white",
           "linecolor": "white",
           "ticks": "",
           "title": {
            "standoff": 15
           },
           "zerolinecolor": "white",
           "zerolinewidth": 2
          }
         }
        },
        "title": {
         "text": "Open Over/Under Results"
        },
        "xaxis": {
         "anchor": "y",
         "domain": [
          0,
          1
         ],
         "title": {
          "text": "Open Over/Under Result"
         }
        },
        "yaxis": {
         "anchor": "x",
         "domain": [
          0,
          1
         ],
         "title": {
          "text": "Percent of Games"
         }
        }
       }
      },
      "text/html": [
       "<div>                            <div id=\"773c6481-c85a-4530-b6b3-23960f3928e9\" class=\"plotly-graph-div\" style=\"height:525px; width:100%;\"></div>            <script type=\"text/javascript\">                require([\"plotly\"], function(Plotly) {                    window.PLOTLYENV=window.PLOTLYENV || {};                                    if (document.getElementById(\"773c6481-c85a-4530-b6b3-23960f3928e9\")) {                    Plotly.newPlot(                        \"773c6481-c85a-4530-b6b3-23960f3928e9\",                        [{\"alignmentgroup\": \"True\", \"customdata\": [[1015], [38], [1096]], \"hovertemplate\": \"Open Over/Under Result=%{x}<br>Percent of Games=%{y}<br>Total Games=%{customdata[0]}<extra></extra>\", \"legendgroup\": \"\", \"marker\": {\"color\": \"#636efa\"}, \"name\": \"\", \"offsetgroup\": \"\", \"orientation\": \"v\", \"showlegend\": false, \"textposition\": \"auto\", \"type\": \"bar\", \"x\": [\"Over\", \"Push\", \"Under\"], \"xaxis\": \"x\", \"y\": [0.4723127035830619, 0.017682643089809214, 0.5100046533271289], \"yaxis\": \"y\"}],                        {\"barmode\": \"relative\", \"legend\": {\"tracegroupgap\": 0}, \"template\": {\"data\": {\"bar\": [{\"error_x\": {\"color\": \"#2a3f5f\"}, \"error_y\": {\"color\": \"#2a3f5f\"}, \"marker\": {\"line\": {\"color\": \"#E5ECF6\", \"width\": 0.5}}, \"type\": \"bar\"}], \"barpolar\": [{\"marker\": {\"line\": {\"color\": \"#E5ECF6\", \"width\": 0.5}}, \"type\": \"barpolar\"}], \"carpet\": [{\"aaxis\": {\"endlinecolor\": \"#2a3f5f\", \"gridcolor\": \"white\", \"linecolor\": \"white\", \"minorgridcolor\": \"white\", \"startlinecolor\": \"#2a3f5f\"}, \"baxis\": {\"endlinecolor\": \"#2a3f5f\", \"gridcolor\": \"white\", \"linecolor\": \"white\", \"minorgridcolor\": \"white\", \"startlinecolor\": \"#2a3f5f\"}, \"type\": \"carpet\"}], \"choropleth\": [{\"colorbar\": {\"outlinewidth\": 0, \"ticks\": \"\"}, \"type\": \"choropleth\"}], \"contour\": [{\"colorbar\": {\"outlinewidth\": 0, \"ticks\": \"\"}, \"colorscale\": [[0.0, \"#0d0887\"], [0.1111111111111111, \"#46039f\"], [0.2222222222222222, \"#7201a8\"], [0.3333333333333333, \"#9c179e\"], [0.4444444444444444, \"#bd3786\"], [0.5555555555555556, \"#d8576b\"], [0.6666666666666666, \"#ed7953\"], [0.7777777777777778, \"#fb9f3a\"], [0.8888888888888888, \"#fdca26\"], [1.0, \"#f0f921\"]], \"type\": \"contour\"}], \"contourcarpet\": [{\"colorbar\": {\"outlinewidth\": 0, \"ticks\": \"\"}, \"type\": \"contourcarpet\"}], \"heatmap\": [{\"colorbar\": {\"outlinewidth\": 0, \"ticks\": \"\"}, \"colorscale\": [[0.0, \"#0d0887\"], [0.1111111111111111, \"#46039f\"], [0.2222222222222222, \"#7201a8\"], [0.3333333333333333, \"#9c179e\"], [0.4444444444444444, \"#bd3786\"], [0.5555555555555556, \"#d8576b\"], [0.6666666666666666, \"#ed7953\"], [0.7777777777777778, \"#fb9f3a\"], [0.8888888888888888, \"#fdca26\"], [1.0, \"#f0f921\"]], \"type\": \"heatmap\"}], \"heatmapgl\": [{\"colorbar\": {\"outlinewidth\": 0, \"ticks\": \"\"}, \"colorscale\": [[0.0, \"#0d0887\"], [0.1111111111111111, \"#46039f\"], [0.2222222222222222, \"#7201a8\"], [0.3333333333333333, \"#9c179e\"], [0.4444444444444444, \"#bd3786\"], [0.5555555555555556, \"#d8576b\"], [0.6666666666666666, \"#ed7953\"], [0.7777777777777778, \"#fb9f3a\"], [0.8888888888888888, \"#fdca26\"], [1.0, \"#f0f921\"]], \"type\": \"heatmapgl\"}], \"histogram\": [{\"marker\": {\"colorbar\": {\"outlinewidth\": 0, \"ticks\": \"\"}}, \"type\": \"histogram\"}], \"histogram2d\": [{\"colorbar\": {\"outlinewidth\": 0, \"ticks\": \"\"}, \"colorscale\": [[0.0, \"#0d0887\"], [0.1111111111111111, \"#46039f\"], [0.2222222222222222, \"#7201a8\"], [0.3333333333333333, \"#9c179e\"], [0.4444444444444444, \"#bd3786\"], [0.5555555555555556, \"#d8576b\"], [0.6666666666666666, \"#ed7953\"], [0.7777777777777778, \"#fb9f3a\"], [0.8888888888888888, \"#fdca26\"], [1.0, \"#f0f921\"]], \"type\": \"histogram2d\"}], \"histogram2dcontour\": [{\"colorbar\": {\"outlinewidth\": 0, \"ticks\": \"\"}, \"colorscale\": [[0.0, \"#0d0887\"], [0.1111111111111111, \"#46039f\"], [0.2222222222222222, \"#7201a8\"], [0.3333333333333333, \"#9c179e\"], [0.4444444444444444, \"#bd3786\"], [0.5555555555555556, \"#d8576b\"], [0.6666666666666666, \"#ed7953\"], [0.7777777777777778, \"#fb9f3a\"], [0.8888888888888888, \"#fdca26\"], [1.0, \"#f0f921\"]], \"type\": \"histogram2dcontour\"}], \"mesh3d\": [{\"colorbar\": {\"outlinewidth\": 0, \"ticks\": \"\"}, \"type\": \"mesh3d\"}], \"parcoords\": [{\"line\": {\"colorbar\": {\"outlinewidth\": 0, \"ticks\": \"\"}}, \"type\": \"parcoords\"}], \"pie\": [{\"automargin\": true, \"type\": \"pie\"}], \"scatter\": [{\"marker\": {\"colorbar\": {\"outlinewidth\": 0, \"ticks\": \"\"}}, \"type\": \"scatter\"}], \"scatter3d\": [{\"line\": {\"colorbar\": {\"outlinewidth\": 0, \"ticks\": \"\"}}, \"marker\": {\"colorbar\": {\"outlinewidth\": 0, \"ticks\": \"\"}}, \"type\": \"scatter3d\"}], \"scattercarpet\": [{\"marker\": {\"colorbar\": {\"outlinewidth\": 0, \"ticks\": \"\"}}, \"type\": \"scattercarpet\"}], \"scattergeo\": [{\"marker\": {\"colorbar\": {\"outlinewidth\": 0, \"ticks\": \"\"}}, \"type\": \"scattergeo\"}], \"scattergl\": [{\"marker\": {\"colorbar\": {\"outlinewidth\": 0, \"ticks\": \"\"}}, \"type\": \"scattergl\"}], \"scattermapbox\": [{\"marker\": {\"colorbar\": {\"outlinewidth\": 0, \"ticks\": \"\"}}, \"type\": \"scattermapbox\"}], \"scatterpolar\": [{\"marker\": {\"colorbar\": {\"outlinewidth\": 0, \"ticks\": \"\"}}, \"type\": \"scatterpolar\"}], \"scatterpolargl\": [{\"marker\": {\"colorbar\": {\"outlinewidth\": 0, \"ticks\": \"\"}}, \"type\": \"scatterpolargl\"}], \"scatterternary\": [{\"marker\": {\"colorbar\": {\"outlinewidth\": 0, \"ticks\": \"\"}}, \"type\": \"scatterternary\"}], \"surface\": [{\"colorbar\": {\"outlinewidth\": 0, \"ticks\": \"\"}, \"colorscale\": [[0.0, \"#0d0887\"], [0.1111111111111111, \"#46039f\"], [0.2222222222222222, \"#7201a8\"], [0.3333333333333333, \"#9c179e\"], [0.4444444444444444, \"#bd3786\"], [0.5555555555555556, \"#d8576b\"], [0.6666666666666666, \"#ed7953\"], [0.7777777777777778, \"#fb9f3a\"], [0.8888888888888888, \"#fdca26\"], [1.0, \"#f0f921\"]], \"type\": \"surface\"}], \"table\": [{\"cells\": {\"fill\": {\"color\": \"#EBF0F8\"}, \"line\": {\"color\": \"white\"}}, \"header\": {\"fill\": {\"color\": \"#C8D4E3\"}, \"line\": {\"color\": \"white\"}}, \"type\": \"table\"}]}, \"layout\": {\"annotationdefaults\": {\"arrowcolor\": \"#2a3f5f\", \"arrowhead\": 0, \"arrowwidth\": 1}, \"autotypenumbers\": \"strict\", \"coloraxis\": {\"colorbar\": {\"outlinewidth\": 0, \"ticks\": \"\"}}, \"colorscale\": {\"diverging\": [[0, \"#8e0152\"], [0.1, \"#c51b7d\"], [0.2, \"#de77ae\"], [0.3, \"#f1b6da\"], [0.4, \"#fde0ef\"], [0.5, \"#f7f7f7\"], [0.6, \"#e6f5d0\"], [0.7, \"#b8e186\"], [0.8, \"#7fbc41\"], [0.9, \"#4d9221\"], [1, \"#276419\"]], \"sequential\": [[0.0, \"#0d0887\"], [0.1111111111111111, \"#46039f\"], [0.2222222222222222, \"#7201a8\"], [0.3333333333333333, \"#9c179e\"], [0.4444444444444444, \"#bd3786\"], [0.5555555555555556, \"#d8576b\"], [0.6666666666666666, \"#ed7953\"], [0.7777777777777778, \"#fb9f3a\"], [0.8888888888888888, \"#fdca26\"], [1.0, \"#f0f921\"]], \"sequentialminus\": [[0.0, \"#0d0887\"], [0.1111111111111111, \"#46039f\"], [0.2222222222222222, \"#7201a8\"], [0.3333333333333333, \"#9c179e\"], [0.4444444444444444, \"#bd3786\"], [0.5555555555555556, \"#d8576b\"], [0.6666666666666666, \"#ed7953\"], [0.7777777777777778, \"#fb9f3a\"], [0.8888888888888888, \"#fdca26\"], [1.0, \"#f0f921\"]]}, \"colorway\": [\"#636efa\", \"#EF553B\", \"#00cc96\", \"#ab63fa\", \"#FFA15A\", \"#19d3f3\", \"#FF6692\", \"#B6E880\", \"#FF97FF\", \"#FECB52\"], \"font\": {\"color\": \"#2a3f5f\"}, \"geo\": {\"bgcolor\": \"white\", \"lakecolor\": \"white\", \"landcolor\": \"#E5ECF6\", \"showlakes\": true, \"showland\": true, \"subunitcolor\": \"white\"}, \"hoverlabel\": {\"align\": \"left\"}, \"hovermode\": \"closest\", \"mapbox\": {\"style\": \"light\"}, \"paper_bgcolor\": \"white\", \"plot_bgcolor\": \"#E5ECF6\", \"polar\": {\"angularaxis\": {\"gridcolor\": \"white\", \"linecolor\": \"white\", \"ticks\": \"\"}, \"bgcolor\": \"#E5ECF6\", \"radialaxis\": {\"gridcolor\": \"white\", \"linecolor\": \"white\", \"ticks\": \"\"}}, \"scene\": {\"xaxis\": {\"backgroundcolor\": \"#E5ECF6\", \"gridcolor\": \"white\", \"gridwidth\": 2, \"linecolor\": \"white\", \"showbackground\": true, \"ticks\": \"\", \"zerolinecolor\": \"white\"}, \"yaxis\": {\"backgroundcolor\": \"#E5ECF6\", \"gridcolor\": \"white\", \"gridwidth\": 2, \"linecolor\": \"white\", \"showbackground\": true, \"ticks\": \"\", \"zerolinecolor\": \"white\"}, \"zaxis\": {\"backgroundcolor\": \"#E5ECF6\", \"gridcolor\": \"white\", \"gridwidth\": 2, \"linecolor\": \"white\", \"showbackground\": true, \"ticks\": \"\", \"zerolinecolor\": \"white\"}}, \"shapedefaults\": {\"line\": {\"color\": \"#2a3f5f\"}}, \"ternary\": {\"aaxis\": {\"gridcolor\": \"white\", \"linecolor\": \"white\", \"ticks\": \"\"}, \"baxis\": {\"gridcolor\": \"white\", \"linecolor\": \"white\", \"ticks\": \"\"}, \"bgcolor\": \"#E5ECF6\", \"caxis\": {\"gridcolor\": \"white\", \"linecolor\": \"white\", \"ticks\": \"\"}}, \"title\": {\"x\": 0.05}, \"xaxis\": {\"automargin\": true, \"gridcolor\": \"white\", \"linecolor\": \"white\", \"ticks\": \"\", \"title\": {\"standoff\": 15}, \"zerolinecolor\": \"white\", \"zerolinewidth\": 2}, \"yaxis\": {\"automargin\": true, \"gridcolor\": \"white\", \"linecolor\": \"white\", \"ticks\": \"\", \"title\": {\"standoff\": 15}, \"zerolinecolor\": \"white\", \"zerolinewidth\": 2}}}, \"title\": {\"text\": \"Open Over/Under Results\"}, \"xaxis\": {\"anchor\": \"y\", \"domain\": [0.0, 1.0], \"title\": {\"text\": \"Open Over/Under Result\"}}, \"yaxis\": {\"anchor\": \"x\", \"domain\": [0.0, 1.0], \"title\": {\"text\": \"Percent of Games\"}}},                        {\"responsive\": true}                    ).then(function(){\n",
       "                            \n",
       "var gd = document.getElementById('773c6481-c85a-4530-b6b3-23960f3928e9');\n",
       "var x = new MutationObserver(function (mutations, observer) {{\n",
       "        var display = window.getComputedStyle(gd).display;\n",
       "        if (!display || display === 'none') {{\n",
       "            console.log([gd, 'removed!']);\n",
       "            Plotly.purge(gd);\n",
       "            observer.disconnect();\n",
       "        }}\n",
       "}});\n",
       "\n",
       "// Listen for the removal of the full notebook cells\n",
       "var notebookContainer = gd.closest('#notebook-container');\n",
       "if (notebookContainer) {{\n",
       "    x.observe(notebookContainer, {childList: true});\n",
       "}}\n",
       "\n",
       "// Listen for the clearing of the current output cell\n",
       "var outputEl = gd.closest('.output');\n",
       "if (outputEl) {{\n",
       "    x.observe(outputEl, {childList: true});\n",
       "}}\n",
       "\n",
       "                        })                };                });            </script>        </div>"
      ]
     },
     "metadata": {},
     "output_type": "display_data"
    },
    {
     "data": {
      "application/vnd.plotly.v1+json": {
       "config": {
        "plotlyServerURL": "https://plot.ly"
       },
       "data": [
        {
         "alignmentgroup": "True",
         "customdata": [
          [
           1030
          ],
          [
           27
          ],
          [
           1092
          ]
         ],
         "hovertemplate": "Closing Over/Under Result=%{x}<br>Percent of Games=%{y}<br>Total Games=%{customdata[0]}<extra></extra>",
         "legendgroup": "",
         "marker": {
          "color": "#636efa"
         },
         "name": "",
         "offsetgroup": "",
         "orientation": "v",
         "showlegend": false,
         "textposition": "auto",
         "type": "bar",
         "x": [
          "Over",
          "Push",
          "Under"
         ],
         "xaxis": "x",
         "y": [
          0.47929269427640764,
          0.012563983248022336,
          0.50814332247557
         ],
         "yaxis": "y"
        }
       ],
       "layout": {
        "barmode": "relative",
        "legend": {
         "tracegroupgap": 0
        },
        "template": {
         "data": {
          "bar": [
           {
            "error_x": {
             "color": "#2a3f5f"
            },
            "error_y": {
             "color": "#2a3f5f"
            },
            "marker": {
             "line": {
              "color": "#E5ECF6",
              "width": 0.5
             }
            },
            "type": "bar"
           }
          ],
          "barpolar": [
           {
            "marker": {
             "line": {
              "color": "#E5ECF6",
              "width": 0.5
             }
            },
            "type": "barpolar"
           }
          ],
          "carpet": [
           {
            "aaxis": {
             "endlinecolor": "#2a3f5f",
             "gridcolor": "white",
             "linecolor": "white",
             "minorgridcolor": "white",
             "startlinecolor": "#2a3f5f"
            },
            "baxis": {
             "endlinecolor": "#2a3f5f",
             "gridcolor": "white",
             "linecolor": "white",
             "minorgridcolor": "white",
             "startlinecolor": "#2a3f5f"
            },
            "type": "carpet"
           }
          ],
          "choropleth": [
           {
            "colorbar": {
             "outlinewidth": 0,
             "ticks": ""
            },
            "type": "choropleth"
           }
          ],
          "contour": [
           {
            "colorbar": {
             "outlinewidth": 0,
             "ticks": ""
            },
            "colorscale": [
             [
              0,
              "#0d0887"
             ],
             [
              0.1111111111111111,
              "#46039f"
             ],
             [
              0.2222222222222222,
              "#7201a8"
             ],
             [
              0.3333333333333333,
              "#9c179e"
             ],
             [
              0.4444444444444444,
              "#bd3786"
             ],
             [
              0.5555555555555556,
              "#d8576b"
             ],
             [
              0.6666666666666666,
              "#ed7953"
             ],
             [
              0.7777777777777778,
              "#fb9f3a"
             ],
             [
              0.8888888888888888,
              "#fdca26"
             ],
             [
              1,
              "#f0f921"
             ]
            ],
            "type": "contour"
           }
          ],
          "contourcarpet": [
           {
            "colorbar": {
             "outlinewidth": 0,
             "ticks": ""
            },
            "type": "contourcarpet"
           }
          ],
          "heatmap": [
           {
            "colorbar": {
             "outlinewidth": 0,
             "ticks": ""
            },
            "colorscale": [
             [
              0,
              "#0d0887"
             ],
             [
              0.1111111111111111,
              "#46039f"
             ],
             [
              0.2222222222222222,
              "#7201a8"
             ],
             [
              0.3333333333333333,
              "#9c179e"
             ],
             [
              0.4444444444444444,
              "#bd3786"
             ],
             [
              0.5555555555555556,
              "#d8576b"
             ],
             [
              0.6666666666666666,
              "#ed7953"
             ],
             [
              0.7777777777777778,
              "#fb9f3a"
             ],
             [
              0.8888888888888888,
              "#fdca26"
             ],
             [
              1,
              "#f0f921"
             ]
            ],
            "type": "heatmap"
           }
          ],
          "heatmapgl": [
           {
            "colorbar": {
             "outlinewidth": 0,
             "ticks": ""
            },
            "colorscale": [
             [
              0,
              "#0d0887"
             ],
             [
              0.1111111111111111,
              "#46039f"
             ],
             [
              0.2222222222222222,
              "#7201a8"
             ],
             [
              0.3333333333333333,
              "#9c179e"
             ],
             [
              0.4444444444444444,
              "#bd3786"
             ],
             [
              0.5555555555555556,
              "#d8576b"
             ],
             [
              0.6666666666666666,
              "#ed7953"
             ],
             [
              0.7777777777777778,
              "#fb9f3a"
             ],
             [
              0.8888888888888888,
              "#fdca26"
             ],
             [
              1,
              "#f0f921"
             ]
            ],
            "type": "heatmapgl"
           }
          ],
          "histogram": [
           {
            "marker": {
             "colorbar": {
              "outlinewidth": 0,
              "ticks": ""
             }
            },
            "type": "histogram"
           }
          ],
          "histogram2d": [
           {
            "colorbar": {
             "outlinewidth": 0,
             "ticks": ""
            },
            "colorscale": [
             [
              0,
              "#0d0887"
             ],
             [
              0.1111111111111111,
              "#46039f"
             ],
             [
              0.2222222222222222,
              "#7201a8"
             ],
             [
              0.3333333333333333,
              "#9c179e"
             ],
             [
              0.4444444444444444,
              "#bd3786"
             ],
             [
              0.5555555555555556,
              "#d8576b"
             ],
             [
              0.6666666666666666,
              "#ed7953"
             ],
             [
              0.7777777777777778,
              "#fb9f3a"
             ],
             [
              0.8888888888888888,
              "#fdca26"
             ],
             [
              1,
              "#f0f921"
             ]
            ],
            "type": "histogram2d"
           }
          ],
          "histogram2dcontour": [
           {
            "colorbar": {
             "outlinewidth": 0,
             "ticks": ""
            },
            "colorscale": [
             [
              0,
              "#0d0887"
             ],
             [
              0.1111111111111111,
              "#46039f"
             ],
             [
              0.2222222222222222,
              "#7201a8"
             ],
             [
              0.3333333333333333,
              "#9c179e"
             ],
             [
              0.4444444444444444,
              "#bd3786"
             ],
             [
              0.5555555555555556,
              "#d8576b"
             ],
             [
              0.6666666666666666,
              "#ed7953"
             ],
             [
              0.7777777777777778,
              "#fb9f3a"
             ],
             [
              0.8888888888888888,
              "#fdca26"
             ],
             [
              1,
              "#f0f921"
             ]
            ],
            "type": "histogram2dcontour"
           }
          ],
          "mesh3d": [
           {
            "colorbar": {
             "outlinewidth": 0,
             "ticks": ""
            },
            "type": "mesh3d"
           }
          ],
          "parcoords": [
           {
            "line": {
             "colorbar": {
              "outlinewidth": 0,
              "ticks": ""
             }
            },
            "type": "parcoords"
           }
          ],
          "pie": [
           {
            "automargin": true,
            "type": "pie"
           }
          ],
          "scatter": [
           {
            "marker": {
             "colorbar": {
              "outlinewidth": 0,
              "ticks": ""
             }
            },
            "type": "scatter"
           }
          ],
          "scatter3d": [
           {
            "line": {
             "colorbar": {
              "outlinewidth": 0,
              "ticks": ""
             }
            },
            "marker": {
             "colorbar": {
              "outlinewidth": 0,
              "ticks": ""
             }
            },
            "type": "scatter3d"
           }
          ],
          "scattercarpet": [
           {
            "marker": {
             "colorbar": {
              "outlinewidth": 0,
              "ticks": ""
             }
            },
            "type": "scattercarpet"
           }
          ],
          "scattergeo": [
           {
            "marker": {
             "colorbar": {
              "outlinewidth": 0,
              "ticks": ""
             }
            },
            "type": "scattergeo"
           }
          ],
          "scattergl": [
           {
            "marker": {
             "colorbar": {
              "outlinewidth": 0,
              "ticks": ""
             }
            },
            "type": "scattergl"
           }
          ],
          "scattermapbox": [
           {
            "marker": {
             "colorbar": {
              "outlinewidth": 0,
              "ticks": ""
             }
            },
            "type": "scattermapbox"
           }
          ],
          "scatterpolar": [
           {
            "marker": {
             "colorbar": {
              "outlinewidth": 0,
              "ticks": ""
             }
            },
            "type": "scatterpolar"
           }
          ],
          "scatterpolargl": [
           {
            "marker": {
             "colorbar": {
              "outlinewidth": 0,
              "ticks": ""
             }
            },
            "type": "scatterpolargl"
           }
          ],
          "scatterternary": [
           {
            "marker": {
             "colorbar": {
              "outlinewidth": 0,
              "ticks": ""
             }
            },
            "type": "scatterternary"
           }
          ],
          "surface": [
           {
            "colorbar": {
             "outlinewidth": 0,
             "ticks": ""
            },
            "colorscale": [
             [
              0,
              "#0d0887"
             ],
             [
              0.1111111111111111,
              "#46039f"
             ],
             [
              0.2222222222222222,
              "#7201a8"
             ],
             [
              0.3333333333333333,
              "#9c179e"
             ],
             [
              0.4444444444444444,
              "#bd3786"
             ],
             [
              0.5555555555555556,
              "#d8576b"
             ],
             [
              0.6666666666666666,
              "#ed7953"
             ],
             [
              0.7777777777777778,
              "#fb9f3a"
             ],
             [
              0.8888888888888888,
              "#fdca26"
             ],
             [
              1,
              "#f0f921"
             ]
            ],
            "type": "surface"
           }
          ],
          "table": [
           {
            "cells": {
             "fill": {
              "color": "#EBF0F8"
             },
             "line": {
              "color": "white"
             }
            },
            "header": {
             "fill": {
              "color": "#C8D4E3"
             },
             "line": {
              "color": "white"
             }
            },
            "type": "table"
           }
          ]
         },
         "layout": {
          "annotationdefaults": {
           "arrowcolor": "#2a3f5f",
           "arrowhead": 0,
           "arrowwidth": 1
          },
          "autotypenumbers": "strict",
          "coloraxis": {
           "colorbar": {
            "outlinewidth": 0,
            "ticks": ""
           }
          },
          "colorscale": {
           "diverging": [
            [
             0,
             "#8e0152"
            ],
            [
             0.1,
             "#c51b7d"
            ],
            [
             0.2,
             "#de77ae"
            ],
            [
             0.3,
             "#f1b6da"
            ],
            [
             0.4,
             "#fde0ef"
            ],
            [
             0.5,
             "#f7f7f7"
            ],
            [
             0.6,
             "#e6f5d0"
            ],
            [
             0.7,
             "#b8e186"
            ],
            [
             0.8,
             "#7fbc41"
            ],
            [
             0.9,
             "#4d9221"
            ],
            [
             1,
             "#276419"
            ]
           ],
           "sequential": [
            [
             0,
             "#0d0887"
            ],
            [
             0.1111111111111111,
             "#46039f"
            ],
            [
             0.2222222222222222,
             "#7201a8"
            ],
            [
             0.3333333333333333,
             "#9c179e"
            ],
            [
             0.4444444444444444,
             "#bd3786"
            ],
            [
             0.5555555555555556,
             "#d8576b"
            ],
            [
             0.6666666666666666,
             "#ed7953"
            ],
            [
             0.7777777777777778,
             "#fb9f3a"
            ],
            [
             0.8888888888888888,
             "#fdca26"
            ],
            [
             1,
             "#f0f921"
            ]
           ],
           "sequentialminus": [
            [
             0,
             "#0d0887"
            ],
            [
             0.1111111111111111,
             "#46039f"
            ],
            [
             0.2222222222222222,
             "#7201a8"
            ],
            [
             0.3333333333333333,
             "#9c179e"
            ],
            [
             0.4444444444444444,
             "#bd3786"
            ],
            [
             0.5555555555555556,
             "#d8576b"
            ],
            [
             0.6666666666666666,
             "#ed7953"
            ],
            [
             0.7777777777777778,
             "#fb9f3a"
            ],
            [
             0.8888888888888888,
             "#fdca26"
            ],
            [
             1,
             "#f0f921"
            ]
           ]
          },
          "colorway": [
           "#636efa",
           "#EF553B",
           "#00cc96",
           "#ab63fa",
           "#FFA15A",
           "#19d3f3",
           "#FF6692",
           "#B6E880",
           "#FF97FF",
           "#FECB52"
          ],
          "font": {
           "color": "#2a3f5f"
          },
          "geo": {
           "bgcolor": "white",
           "lakecolor": "white",
           "landcolor": "#E5ECF6",
           "showlakes": true,
           "showland": true,
           "subunitcolor": "white"
          },
          "hoverlabel": {
           "align": "left"
          },
          "hovermode": "closest",
          "mapbox": {
           "style": "light"
          },
          "paper_bgcolor": "white",
          "plot_bgcolor": "#E5ECF6",
          "polar": {
           "angularaxis": {
            "gridcolor": "white",
            "linecolor": "white",
            "ticks": ""
           },
           "bgcolor": "#E5ECF6",
           "radialaxis": {
            "gridcolor": "white",
            "linecolor": "white",
            "ticks": ""
           }
          },
          "scene": {
           "xaxis": {
            "backgroundcolor": "#E5ECF6",
            "gridcolor": "white",
            "gridwidth": 2,
            "linecolor": "white",
            "showbackground": true,
            "ticks": "",
            "zerolinecolor": "white"
           },
           "yaxis": {
            "backgroundcolor": "#E5ECF6",
            "gridcolor": "white",
            "gridwidth": 2,
            "linecolor": "white",
            "showbackground": true,
            "ticks": "",
            "zerolinecolor": "white"
           },
           "zaxis": {
            "backgroundcolor": "#E5ECF6",
            "gridcolor": "white",
            "gridwidth": 2,
            "linecolor": "white",
            "showbackground": true,
            "ticks": "",
            "zerolinecolor": "white"
           }
          },
          "shapedefaults": {
           "line": {
            "color": "#2a3f5f"
           }
          },
          "ternary": {
           "aaxis": {
            "gridcolor": "white",
            "linecolor": "white",
            "ticks": ""
           },
           "baxis": {
            "gridcolor": "white",
            "linecolor": "white",
            "ticks": ""
           },
           "bgcolor": "#E5ECF6",
           "caxis": {
            "gridcolor": "white",
            "linecolor": "white",
            "ticks": ""
           }
          },
          "title": {
           "x": 0.05
          },
          "xaxis": {
           "automargin": true,
           "gridcolor": "white",
           "linecolor": "white",
           "ticks": "",
           "title": {
            "standoff": 15
           },
           "zerolinecolor": "white",
           "zerolinewidth": 2
          },
          "yaxis": {
           "automargin": true,
           "gridcolor": "white",
           "linecolor": "white",
           "ticks": "",
           "title": {
            "standoff": 15
           },
           "zerolinecolor": "white",
           "zerolinewidth": 2
          }
         }
        },
        "title": {
         "text": "Closing Over/Under Results"
        },
        "xaxis": {
         "anchor": "y",
         "domain": [
          0,
          1
         ],
         "title": {
          "text": "Closing Over/Under Result"
         }
        },
        "yaxis": {
         "anchor": "x",
         "domain": [
          0,
          1
         ],
         "title": {
          "text": "Percent of Games"
         }
        }
       }
      },
      "text/html": [
       "<div>                            <div id=\"8d1aefcc-5b2a-4da1-8b9b-89fb08167d40\" class=\"plotly-graph-div\" style=\"height:525px; width:100%;\"></div>            <script type=\"text/javascript\">                require([\"plotly\"], function(Plotly) {                    window.PLOTLYENV=window.PLOTLYENV || {};                                    if (document.getElementById(\"8d1aefcc-5b2a-4da1-8b9b-89fb08167d40\")) {                    Plotly.newPlot(                        \"8d1aefcc-5b2a-4da1-8b9b-89fb08167d40\",                        [{\"alignmentgroup\": \"True\", \"customdata\": [[1030], [27], [1092]], \"hovertemplate\": \"Closing Over/Under Result=%{x}<br>Percent of Games=%{y}<br>Total Games=%{customdata[0]}<extra></extra>\", \"legendgroup\": \"\", \"marker\": {\"color\": \"#636efa\"}, \"name\": \"\", \"offsetgroup\": \"\", \"orientation\": \"v\", \"showlegend\": false, \"textposition\": \"auto\", \"type\": \"bar\", \"x\": [\"Over\", \"Push\", \"Under\"], \"xaxis\": \"x\", \"y\": [0.47929269427640764, 0.012563983248022336, 0.50814332247557], \"yaxis\": \"y\"}],                        {\"barmode\": \"relative\", \"legend\": {\"tracegroupgap\": 0}, \"template\": {\"data\": {\"bar\": [{\"error_x\": {\"color\": \"#2a3f5f\"}, \"error_y\": {\"color\": \"#2a3f5f\"}, \"marker\": {\"line\": {\"color\": \"#E5ECF6\", \"width\": 0.5}}, \"type\": \"bar\"}], \"barpolar\": [{\"marker\": {\"line\": {\"color\": \"#E5ECF6\", \"width\": 0.5}}, \"type\": \"barpolar\"}], \"carpet\": [{\"aaxis\": {\"endlinecolor\": \"#2a3f5f\", \"gridcolor\": \"white\", \"linecolor\": \"white\", \"minorgridcolor\": \"white\", \"startlinecolor\": \"#2a3f5f\"}, \"baxis\": {\"endlinecolor\": \"#2a3f5f\", \"gridcolor\": \"white\", \"linecolor\": \"white\", \"minorgridcolor\": \"white\", \"startlinecolor\": \"#2a3f5f\"}, \"type\": \"carpet\"}], \"choropleth\": [{\"colorbar\": {\"outlinewidth\": 0, \"ticks\": \"\"}, \"type\": \"choropleth\"}], \"contour\": [{\"colorbar\": {\"outlinewidth\": 0, \"ticks\": \"\"}, \"colorscale\": [[0.0, \"#0d0887\"], [0.1111111111111111, \"#46039f\"], [0.2222222222222222, \"#7201a8\"], [0.3333333333333333, \"#9c179e\"], [0.4444444444444444, \"#bd3786\"], [0.5555555555555556, \"#d8576b\"], [0.6666666666666666, \"#ed7953\"], [0.7777777777777778, \"#fb9f3a\"], [0.8888888888888888, \"#fdca26\"], [1.0, \"#f0f921\"]], \"type\": \"contour\"}], \"contourcarpet\": [{\"colorbar\": {\"outlinewidth\": 0, \"ticks\": \"\"}, \"type\": \"contourcarpet\"}], \"heatmap\": [{\"colorbar\": {\"outlinewidth\": 0, \"ticks\": \"\"}, \"colorscale\": [[0.0, \"#0d0887\"], [0.1111111111111111, \"#46039f\"], [0.2222222222222222, \"#7201a8\"], [0.3333333333333333, \"#9c179e\"], [0.4444444444444444, \"#bd3786\"], [0.5555555555555556, \"#d8576b\"], [0.6666666666666666, \"#ed7953\"], [0.7777777777777778, \"#fb9f3a\"], [0.8888888888888888, \"#fdca26\"], [1.0, \"#f0f921\"]], \"type\": \"heatmap\"}], \"heatmapgl\": [{\"colorbar\": {\"outlinewidth\": 0, \"ticks\": \"\"}, \"colorscale\": [[0.0, \"#0d0887\"], [0.1111111111111111, \"#46039f\"], [0.2222222222222222, \"#7201a8\"], [0.3333333333333333, \"#9c179e\"], [0.4444444444444444, \"#bd3786\"], [0.5555555555555556, \"#d8576b\"], [0.6666666666666666, \"#ed7953\"], [0.7777777777777778, \"#fb9f3a\"], [0.8888888888888888, \"#fdca26\"], [1.0, \"#f0f921\"]], \"type\": \"heatmapgl\"}], \"histogram\": [{\"marker\": {\"colorbar\": {\"outlinewidth\": 0, \"ticks\": \"\"}}, \"type\": \"histogram\"}], \"histogram2d\": [{\"colorbar\": {\"outlinewidth\": 0, \"ticks\": \"\"}, \"colorscale\": [[0.0, \"#0d0887\"], [0.1111111111111111, \"#46039f\"], [0.2222222222222222, \"#7201a8\"], [0.3333333333333333, \"#9c179e\"], [0.4444444444444444, \"#bd3786\"], [0.5555555555555556, \"#d8576b\"], [0.6666666666666666, \"#ed7953\"], [0.7777777777777778, \"#fb9f3a\"], [0.8888888888888888, \"#fdca26\"], [1.0, \"#f0f921\"]], \"type\": \"histogram2d\"}], \"histogram2dcontour\": [{\"colorbar\": {\"outlinewidth\": 0, \"ticks\": \"\"}, \"colorscale\": [[0.0, \"#0d0887\"], [0.1111111111111111, \"#46039f\"], [0.2222222222222222, \"#7201a8\"], [0.3333333333333333, \"#9c179e\"], [0.4444444444444444, \"#bd3786\"], [0.5555555555555556, \"#d8576b\"], [0.6666666666666666, \"#ed7953\"], [0.7777777777777778, \"#fb9f3a\"], [0.8888888888888888, \"#fdca26\"], [1.0, \"#f0f921\"]], \"type\": \"histogram2dcontour\"}], \"mesh3d\": [{\"colorbar\": {\"outlinewidth\": 0, \"ticks\": \"\"}, \"type\": \"mesh3d\"}], \"parcoords\": [{\"line\": {\"colorbar\": {\"outlinewidth\": 0, \"ticks\": \"\"}}, \"type\": \"parcoords\"}], \"pie\": [{\"automargin\": true, \"type\": \"pie\"}], \"scatter\": [{\"marker\": {\"colorbar\": {\"outlinewidth\": 0, \"ticks\": \"\"}}, \"type\": \"scatter\"}], \"scatter3d\": [{\"line\": {\"colorbar\": {\"outlinewidth\": 0, \"ticks\": \"\"}}, \"marker\": {\"colorbar\": {\"outlinewidth\": 0, \"ticks\": \"\"}}, \"type\": \"scatter3d\"}], \"scattercarpet\": [{\"marker\": {\"colorbar\": {\"outlinewidth\": 0, \"ticks\": \"\"}}, \"type\": \"scattercarpet\"}], \"scattergeo\": [{\"marker\": {\"colorbar\": {\"outlinewidth\": 0, \"ticks\": \"\"}}, \"type\": \"scattergeo\"}], \"scattergl\": [{\"marker\": {\"colorbar\": {\"outlinewidth\": 0, \"ticks\": \"\"}}, \"type\": \"scattergl\"}], \"scattermapbox\": [{\"marker\": {\"colorbar\": {\"outlinewidth\": 0, \"ticks\": \"\"}}, \"type\": \"scattermapbox\"}], \"scatterpolar\": [{\"marker\": {\"colorbar\": {\"outlinewidth\": 0, \"ticks\": \"\"}}, \"type\": \"scatterpolar\"}], \"scatterpolargl\": [{\"marker\": {\"colorbar\": {\"outlinewidth\": 0, \"ticks\": \"\"}}, \"type\": \"scatterpolargl\"}], \"scatterternary\": [{\"marker\": {\"colorbar\": {\"outlinewidth\": 0, \"ticks\": \"\"}}, \"type\": \"scatterternary\"}], \"surface\": [{\"colorbar\": {\"outlinewidth\": 0, \"ticks\": \"\"}, \"colorscale\": [[0.0, \"#0d0887\"], [0.1111111111111111, \"#46039f\"], [0.2222222222222222, \"#7201a8\"], [0.3333333333333333, \"#9c179e\"], [0.4444444444444444, \"#bd3786\"], [0.5555555555555556, \"#d8576b\"], [0.6666666666666666, \"#ed7953\"], [0.7777777777777778, \"#fb9f3a\"], [0.8888888888888888, \"#fdca26\"], [1.0, \"#f0f921\"]], \"type\": \"surface\"}], \"table\": [{\"cells\": {\"fill\": {\"color\": \"#EBF0F8\"}, \"line\": {\"color\": \"white\"}}, \"header\": {\"fill\": {\"color\": \"#C8D4E3\"}, \"line\": {\"color\": \"white\"}}, \"type\": \"table\"}]}, \"layout\": {\"annotationdefaults\": {\"arrowcolor\": \"#2a3f5f\", \"arrowhead\": 0, \"arrowwidth\": 1}, \"autotypenumbers\": \"strict\", \"coloraxis\": {\"colorbar\": {\"outlinewidth\": 0, \"ticks\": \"\"}}, \"colorscale\": {\"diverging\": [[0, \"#8e0152\"], [0.1, \"#c51b7d\"], [0.2, \"#de77ae\"], [0.3, \"#f1b6da\"], [0.4, \"#fde0ef\"], [0.5, \"#f7f7f7\"], [0.6, \"#e6f5d0\"], [0.7, \"#b8e186\"], [0.8, \"#7fbc41\"], [0.9, \"#4d9221\"], [1, \"#276419\"]], \"sequential\": [[0.0, \"#0d0887\"], [0.1111111111111111, \"#46039f\"], [0.2222222222222222, \"#7201a8\"], [0.3333333333333333, \"#9c179e\"], [0.4444444444444444, \"#bd3786\"], [0.5555555555555556, \"#d8576b\"], [0.6666666666666666, \"#ed7953\"], [0.7777777777777778, \"#fb9f3a\"], [0.8888888888888888, \"#fdca26\"], [1.0, \"#f0f921\"]], \"sequentialminus\": [[0.0, \"#0d0887\"], [0.1111111111111111, \"#46039f\"], [0.2222222222222222, \"#7201a8\"], [0.3333333333333333, \"#9c179e\"], [0.4444444444444444, \"#bd3786\"], [0.5555555555555556, \"#d8576b\"], [0.6666666666666666, \"#ed7953\"], [0.7777777777777778, \"#fb9f3a\"], [0.8888888888888888, \"#fdca26\"], [1.0, \"#f0f921\"]]}, \"colorway\": [\"#636efa\", \"#EF553B\", \"#00cc96\", \"#ab63fa\", \"#FFA15A\", \"#19d3f3\", \"#FF6692\", \"#B6E880\", \"#FF97FF\", \"#FECB52\"], \"font\": {\"color\": \"#2a3f5f\"}, \"geo\": {\"bgcolor\": \"white\", \"lakecolor\": \"white\", \"landcolor\": \"#E5ECF6\", \"showlakes\": true, \"showland\": true, \"subunitcolor\": \"white\"}, \"hoverlabel\": {\"align\": \"left\"}, \"hovermode\": \"closest\", \"mapbox\": {\"style\": \"light\"}, \"paper_bgcolor\": \"white\", \"plot_bgcolor\": \"#E5ECF6\", \"polar\": {\"angularaxis\": {\"gridcolor\": \"white\", \"linecolor\": \"white\", \"ticks\": \"\"}, \"bgcolor\": \"#E5ECF6\", \"radialaxis\": {\"gridcolor\": \"white\", \"linecolor\": \"white\", \"ticks\": \"\"}}, \"scene\": {\"xaxis\": {\"backgroundcolor\": \"#E5ECF6\", \"gridcolor\": \"white\", \"gridwidth\": 2, \"linecolor\": \"white\", \"showbackground\": true, \"ticks\": \"\", \"zerolinecolor\": \"white\"}, \"yaxis\": {\"backgroundcolor\": \"#E5ECF6\", \"gridcolor\": \"white\", \"gridwidth\": 2, \"linecolor\": \"white\", \"showbackground\": true, \"ticks\": \"\", \"zerolinecolor\": \"white\"}, \"zaxis\": {\"backgroundcolor\": \"#E5ECF6\", \"gridcolor\": \"white\", \"gridwidth\": 2, \"linecolor\": \"white\", \"showbackground\": true, \"ticks\": \"\", \"zerolinecolor\": \"white\"}}, \"shapedefaults\": {\"line\": {\"color\": \"#2a3f5f\"}}, \"ternary\": {\"aaxis\": {\"gridcolor\": \"white\", \"linecolor\": \"white\", \"ticks\": \"\"}, \"baxis\": {\"gridcolor\": \"white\", \"linecolor\": \"white\", \"ticks\": \"\"}, \"bgcolor\": \"#E5ECF6\", \"caxis\": {\"gridcolor\": \"white\", \"linecolor\": \"white\", \"ticks\": \"\"}}, \"title\": {\"x\": 0.05}, \"xaxis\": {\"automargin\": true, \"gridcolor\": \"white\", \"linecolor\": \"white\", \"ticks\": \"\", \"title\": {\"standoff\": 15}, \"zerolinecolor\": \"white\", \"zerolinewidth\": 2}, \"yaxis\": {\"automargin\": true, \"gridcolor\": \"white\", \"linecolor\": \"white\", \"ticks\": \"\", \"title\": {\"standoff\": 15}, \"zerolinecolor\": \"white\", \"zerolinewidth\": 2}}}, \"title\": {\"text\": \"Closing Over/Under Results\"}, \"xaxis\": {\"anchor\": \"y\", \"domain\": [0.0, 1.0], \"title\": {\"text\": \"Closing Over/Under Result\"}}, \"yaxis\": {\"anchor\": \"x\", \"domain\": [0.0, 1.0], \"title\": {\"text\": \"Percent of Games\"}}},                        {\"responsive\": true}                    ).then(function(){\n",
       "                            \n",
       "var gd = document.getElementById('8d1aefcc-5b2a-4da1-8b9b-89fb08167d40');\n",
       "var x = new MutationObserver(function (mutations, observer) {{\n",
       "        var display = window.getComputedStyle(gd).display;\n",
       "        if (!display || display === 'none') {{\n",
       "            console.log([gd, 'removed!']);\n",
       "            Plotly.purge(gd);\n",
       "            observer.disconnect();\n",
       "        }}\n",
       "}});\n",
       "\n",
       "// Listen for the removal of the full notebook cells\n",
       "var notebookContainer = gd.closest('#notebook-container');\n",
       "if (notebookContainer) {{\n",
       "    x.observe(notebookContainer, {childList: true});\n",
       "}}\n",
       "\n",
       "// Listen for the clearing of the current output cell\n",
       "var outputEl = gd.closest('.output');\n",
       "if (outputEl) {{\n",
       "    x.observe(outputEl, {childList: true});\n",
       "}}\n",
       "\n",
       "                        })                };                });            </script>        </div>"
      ]
     },
     "metadata": {},
     "output_type": "display_data"
    }
   ],
   "source": [
    "# What hits more, the over or the under?\n",
    "\n",
    "open_ou_percents = over_under.groupby(by=['Open Over/Under Result']).count().Date\n",
    "open_ou_percents = open_ou_percents.rename('Total Games').reset_index()\n",
    "open_ou_percents['Percent of Games'] = open_ou_percents['Total Games']/sum(open_ou_percents['Total Games'])\n",
    "closing_ou_percents = over_under.groupby(by=['Closing Over/Under Result']).count().Date\n",
    "closing_ou_percents = closing_ou_percents.rename('Total Games').reset_index()\n",
    "closing_ou_percents['Percent of Games'] = closing_ou_percents['Total Games']/sum(closing_ou_percents['Total Games'])\n",
    "\n",
    "fig = px.bar(open_ou_percents, x='Open Over/Under Result', y = 'Percent of Games', hover_data = ['Total Games'],\n",
    "            title = 'Open Over/Under Results')\n",
    "fig.show()\n",
    "\n",
    "fig = px.bar(closing_ou_percents, x='Closing Over/Under Result', y = 'Percent of Games', hover_data = ['Total Games'],\n",
    "            title = 'Closing Over/Under Results')\n",
    "fig.show()"
   ]
  },
  {
   "cell_type": "code",
   "execution_count": 108,
   "metadata": {},
   "outputs": [
    {
     "data": {
      "text/html": [
       "<div>\n",
       "<style scoped>\n",
       "    .dataframe tbody tr th:only-of-type {\n",
       "        vertical-align: middle;\n",
       "    }\n",
       "\n",
       "    .dataframe tbody tr th {\n",
       "        vertical-align: top;\n",
       "    }\n",
       "\n",
       "    .dataframe thead th {\n",
       "        text-align: right;\n",
       "    }\n",
       "</style>\n",
       "<table border=\"1\" class=\"dataframe\">\n",
       "  <thead>\n",
       "    <tr style=\"text-align: right;\">\n",
       "      <th></th>\n",
       "      <th>Date</th>\n",
       "      <th>Home Team</th>\n",
       "      <th>Away Team</th>\n",
       "      <th>Home Score</th>\n",
       "      <th>Away Score</th>\n",
       "      <th>Overtime?</th>\n",
       "      <th>Playoff Game?</th>\n",
       "      <th>Neutral Venue?</th>\n",
       "      <th>Total Score Open</th>\n",
       "      <th>Total Score Close</th>\n",
       "      <th>Total Score Over ML Open</th>\n",
       "      <th>Total Score Over ML Close</th>\n",
       "      <th>Total Score Under ML Open</th>\n",
       "      <th>Total Score Under ML Close</th>\n",
       "      <th>Total Score</th>\n",
       "      <th>Season</th>\n",
       "      <th>Open Over/Under Result</th>\n",
       "      <th>Closing Over/Under Result</th>\n",
       "      <th>Total Score Shift</th>\n",
       "    </tr>\n",
       "  </thead>\n",
       "  <tbody>\n",
       "    <tr>\n",
       "      <th>0</th>\n",
       "      <td>2022-01-17</td>\n",
       "      <td>Los Angeles Rams</td>\n",
       "      <td>Arizona Cardinals</td>\n",
       "      <td>34</td>\n",
       "      <td>11</td>\n",
       "      <td>False</td>\n",
       "      <td>True</td>\n",
       "      <td>False</td>\n",
       "      <td>50.5</td>\n",
       "      <td>49.0</td>\n",
       "      <td>-111.0</td>\n",
       "      <td>-111.0</td>\n",
       "      <td>-111.0</td>\n",
       "      <td>-111.0</td>\n",
       "      <td>45</td>\n",
       "      <td>2022</td>\n",
       "      <td>Under</td>\n",
       "      <td>Under</td>\n",
       "      <td>-1.5</td>\n",
       "    </tr>\n",
       "    <tr>\n",
       "      <th>1</th>\n",
       "      <td>2022-01-16</td>\n",
       "      <td>Kansas City Chiefs</td>\n",
       "      <td>Pittsburgh Steelers</td>\n",
       "      <td>42</td>\n",
       "      <td>21</td>\n",
       "      <td>False</td>\n",
       "      <td>True</td>\n",
       "      <td>False</td>\n",
       "      <td>46.5</td>\n",
       "      <td>47.0</td>\n",
       "      <td>-111.0</td>\n",
       "      <td>-111.0</td>\n",
       "      <td>-111.0</td>\n",
       "      <td>-111.0</td>\n",
       "      <td>63</td>\n",
       "      <td>2022</td>\n",
       "      <td>Over</td>\n",
       "      <td>Over</td>\n",
       "      <td>0.5</td>\n",
       "    </tr>\n",
       "    <tr>\n",
       "      <th>2</th>\n",
       "      <td>2022-01-16</td>\n",
       "      <td>Dallas Cowboys</td>\n",
       "      <td>San Francisco 49ers</td>\n",
       "      <td>17</td>\n",
       "      <td>23</td>\n",
       "      <td>False</td>\n",
       "      <td>True</td>\n",
       "      <td>False</td>\n",
       "      <td>50.5</td>\n",
       "      <td>51.0</td>\n",
       "      <td>-111.0</td>\n",
       "      <td>-111.0</td>\n",
       "      <td>-111.0</td>\n",
       "      <td>-111.0</td>\n",
       "      <td>40</td>\n",
       "      <td>2022</td>\n",
       "      <td>Under</td>\n",
       "      <td>Under</td>\n",
       "      <td>0.5</td>\n",
       "    </tr>\n",
       "    <tr>\n",
       "      <th>3</th>\n",
       "      <td>2022-01-16</td>\n",
       "      <td>Tampa Bay Buccaneers</td>\n",
       "      <td>Philadelphia Eagles</td>\n",
       "      <td>31</td>\n",
       "      <td>15</td>\n",
       "      <td>False</td>\n",
       "      <td>True</td>\n",
       "      <td>False</td>\n",
       "      <td>49.0</td>\n",
       "      <td>47.0</td>\n",
       "      <td>-111.0</td>\n",
       "      <td>-111.0</td>\n",
       "      <td>-111.0</td>\n",
       "      <td>-111.0</td>\n",
       "      <td>46</td>\n",
       "      <td>2022</td>\n",
       "      <td>Under</td>\n",
       "      <td>Under</td>\n",
       "      <td>-2.0</td>\n",
       "    </tr>\n",
       "    <tr>\n",
       "      <th>4</th>\n",
       "      <td>2022-01-15</td>\n",
       "      <td>Buffalo Bills</td>\n",
       "      <td>New England Patriots</td>\n",
       "      <td>47</td>\n",
       "      <td>17</td>\n",
       "      <td>False</td>\n",
       "      <td>True</td>\n",
       "      <td>False</td>\n",
       "      <td>43.5</td>\n",
       "      <td>43.0</td>\n",
       "      <td>-111.0</td>\n",
       "      <td>-111.0</td>\n",
       "      <td>-111.0</td>\n",
       "      <td>-111.0</td>\n",
       "      <td>64</td>\n",
       "      <td>2022</td>\n",
       "      <td>Over</td>\n",
       "      <td>Over</td>\n",
       "      <td>-0.5</td>\n",
       "    </tr>\n",
       "    <tr>\n",
       "      <th>...</th>\n",
       "      <td>...</td>\n",
       "      <td>...</td>\n",
       "      <td>...</td>\n",
       "      <td>...</td>\n",
       "      <td>...</td>\n",
       "      <td>...</td>\n",
       "      <td>...</td>\n",
       "      <td>...</td>\n",
       "      <td>...</td>\n",
       "      <td>...</td>\n",
       "      <td>...</td>\n",
       "      <td>...</td>\n",
       "      <td>...</td>\n",
       "      <td>...</td>\n",
       "      <td>...</td>\n",
       "      <td>...</td>\n",
       "      <td>...</td>\n",
       "      <td>...</td>\n",
       "      <td>...</td>\n",
       "    </tr>\n",
       "    <tr>\n",
       "      <th>2144</th>\n",
       "      <td>2014-09-07</td>\n",
       "      <td>New York Jets</td>\n",
       "      <td>Oakland Raiders</td>\n",
       "      <td>19</td>\n",
       "      <td>14</td>\n",
       "      <td>False</td>\n",
       "      <td>False</td>\n",
       "      <td>False</td>\n",
       "      <td>39.5</td>\n",
       "      <td>41.0</td>\n",
       "      <td>-109.0</td>\n",
       "      <td>-105.0</td>\n",
       "      <td>-101.0</td>\n",
       "      <td>-105.0</td>\n",
       "      <td>33</td>\n",
       "      <td>2014</td>\n",
       "      <td>Under</td>\n",
       "      <td>Under</td>\n",
       "      <td>1.5</td>\n",
       "    </tr>\n",
       "    <tr>\n",
       "      <th>2145</th>\n",
       "      <td>2014-09-07</td>\n",
       "      <td>Philadelphia Eagles</td>\n",
       "      <td>Jacksonville Jaguars</td>\n",
       "      <td>34</td>\n",
       "      <td>17</td>\n",
       "      <td>False</td>\n",
       "      <td>False</td>\n",
       "      <td>False</td>\n",
       "      <td>53.0</td>\n",
       "      <td>49.0</td>\n",
       "      <td>-105.0</td>\n",
       "      <td>-110.0</td>\n",
       "      <td>-105.0</td>\n",
       "      <td>100.0</td>\n",
       "      <td>51</td>\n",
       "      <td>2014</td>\n",
       "      <td>Under</td>\n",
       "      <td>Over</td>\n",
       "      <td>-4.0</td>\n",
       "    </tr>\n",
       "    <tr>\n",
       "      <th>2146</th>\n",
       "      <td>2014-09-07</td>\n",
       "      <td>Pittsburgh Steelers</td>\n",
       "      <td>Cleveland Browns</td>\n",
       "      <td>30</td>\n",
       "      <td>27</td>\n",
       "      <td>False</td>\n",
       "      <td>False</td>\n",
       "      <td>False</td>\n",
       "      <td>40.0</td>\n",
       "      <td>41.5</td>\n",
       "      <td>-117.0</td>\n",
       "      <td>-106.0</td>\n",
       "      <td>106.0</td>\n",
       "      <td>-104.0</td>\n",
       "      <td>57</td>\n",
       "      <td>2014</td>\n",
       "      <td>Over</td>\n",
       "      <td>Over</td>\n",
       "      <td>1.5</td>\n",
       "    </tr>\n",
       "    <tr>\n",
       "      <th>2147</th>\n",
       "      <td>2014-09-07</td>\n",
       "      <td>St. Louis Rams</td>\n",
       "      <td>Minnesota Vikings</td>\n",
       "      <td>6</td>\n",
       "      <td>34</td>\n",
       "      <td>False</td>\n",
       "      <td>False</td>\n",
       "      <td>False</td>\n",
       "      <td>44.0</td>\n",
       "      <td>43.5</td>\n",
       "      <td>-105.0</td>\n",
       "      <td>-114.0</td>\n",
       "      <td>-105.0</td>\n",
       "      <td>103.0</td>\n",
       "      <td>40</td>\n",
       "      <td>2014</td>\n",
       "      <td>Under</td>\n",
       "      <td>Under</td>\n",
       "      <td>-0.5</td>\n",
       "    </tr>\n",
       "    <tr>\n",
       "      <th>2148</th>\n",
       "      <td>2014-09-04</td>\n",
       "      <td>Seattle Seahawks</td>\n",
       "      <td>Green Bay Packers</td>\n",
       "      <td>36</td>\n",
       "      <td>16</td>\n",
       "      <td>False</td>\n",
       "      <td>False</td>\n",
       "      <td>False</td>\n",
       "      <td>46.0</td>\n",
       "      <td>46.5</td>\n",
       "      <td>-105.0</td>\n",
       "      <td>-102.0</td>\n",
       "      <td>-105.0</td>\n",
       "      <td>-108.0</td>\n",
       "      <td>52</td>\n",
       "      <td>2014</td>\n",
       "      <td>Over</td>\n",
       "      <td>Over</td>\n",
       "      <td>0.5</td>\n",
       "    </tr>\n",
       "  </tbody>\n",
       "</table>\n",
       "<p>2149 rows × 19 columns</p>\n",
       "</div>"
      ],
      "text/plain": [
       "           Date             Home Team             Away Team  Home Score  \\\n",
       "0    2022-01-17      Los Angeles Rams     Arizona Cardinals          34   \n",
       "1    2022-01-16    Kansas City Chiefs   Pittsburgh Steelers          42   \n",
       "2    2022-01-16        Dallas Cowboys   San Francisco 49ers          17   \n",
       "3    2022-01-16  Tampa Bay Buccaneers   Philadelphia Eagles          31   \n",
       "4    2022-01-15         Buffalo Bills  New England Patriots          47   \n",
       "...         ...                   ...                   ...         ...   \n",
       "2144 2014-09-07         New York Jets       Oakland Raiders          19   \n",
       "2145 2014-09-07   Philadelphia Eagles  Jacksonville Jaguars          34   \n",
       "2146 2014-09-07   Pittsburgh Steelers      Cleveland Browns          30   \n",
       "2147 2014-09-07        St. Louis Rams     Minnesota Vikings           6   \n",
       "2148 2014-09-04      Seattle Seahawks     Green Bay Packers          36   \n",
       "\n",
       "      Away Score  Overtime?  Playoff Game?  Neutral Venue?  Total Score Open  \\\n",
       "0             11      False           True           False              50.5   \n",
       "1             21      False           True           False              46.5   \n",
       "2             23      False           True           False              50.5   \n",
       "3             15      False           True           False              49.0   \n",
       "4             17      False           True           False              43.5   \n",
       "...          ...        ...            ...             ...               ...   \n",
       "2144          14      False          False           False              39.5   \n",
       "2145          17      False          False           False              53.0   \n",
       "2146          27      False          False           False              40.0   \n",
       "2147          34      False          False           False              44.0   \n",
       "2148          16      False          False           False              46.0   \n",
       "\n",
       "      Total Score Close  Total Score Over ML Open  Total Score Over ML Close  \\\n",
       "0                  49.0                    -111.0                     -111.0   \n",
       "1                  47.0                    -111.0                     -111.0   \n",
       "2                  51.0                    -111.0                     -111.0   \n",
       "3                  47.0                    -111.0                     -111.0   \n",
       "4                  43.0                    -111.0                     -111.0   \n",
       "...                 ...                       ...                        ...   \n",
       "2144               41.0                    -109.0                     -105.0   \n",
       "2145               49.0                    -105.0                     -110.0   \n",
       "2146               41.5                    -117.0                     -106.0   \n",
       "2147               43.5                    -105.0                     -114.0   \n",
       "2148               46.5                    -105.0                     -102.0   \n",
       "\n",
       "      Total Score Under ML Open  Total Score Under ML Close  Total Score  \\\n",
       "0                        -111.0                      -111.0           45   \n",
       "1                        -111.0                      -111.0           63   \n",
       "2                        -111.0                      -111.0           40   \n",
       "3                        -111.0                      -111.0           46   \n",
       "4                        -111.0                      -111.0           64   \n",
       "...                         ...                         ...          ...   \n",
       "2144                     -101.0                      -105.0           33   \n",
       "2145                     -105.0                       100.0           51   \n",
       "2146                      106.0                      -104.0           57   \n",
       "2147                     -105.0                       103.0           40   \n",
       "2148                     -105.0                      -108.0           52   \n",
       "\n",
       "      Season Open Over/Under Result Closing Over/Under Result  \\\n",
       "0       2022                  Under                     Under   \n",
       "1       2022                   Over                      Over   \n",
       "2       2022                  Under                     Under   \n",
       "3       2022                  Under                     Under   \n",
       "4       2022                   Over                      Over   \n",
       "...      ...                    ...                       ...   \n",
       "2144    2014                  Under                     Under   \n",
       "2145    2014                  Under                      Over   \n",
       "2146    2014                   Over                      Over   \n",
       "2147    2014                  Under                     Under   \n",
       "2148    2014                   Over                      Over   \n",
       "\n",
       "      Total Score Shift  \n",
       "0                  -1.5  \n",
       "1                   0.5  \n",
       "2                   0.5  \n",
       "3                  -2.0  \n",
       "4                  -0.5  \n",
       "...                 ...  \n",
       "2144                1.5  \n",
       "2145               -4.0  \n",
       "2146                1.5  \n",
       "2147               -0.5  \n",
       "2148                0.5  \n",
       "\n",
       "[2149 rows x 19 columns]"
      ]
     },
     "execution_count": 108,
     "metadata": {},
     "output_type": "execute_result"
    }
   ],
   "source": [
    "# How often do the odds shift, and when they shift does it make a difference in the outcome? When it does, which outcome \n",
    "# benefits?\n",
    "\n",
    "over_under['Total Score Shift'] = over_under['Total Score Close'] - over_under['Total Score Open']\n",
    "over_under"
   ]
  },
  {
   "cell_type": "code",
   "execution_count": 110,
   "metadata": {},
   "outputs": [
    {
     "data": {
      "text/plain": [
       "-0.24662633783154955"
      ]
     },
     "execution_count": 110,
     "metadata": {},
     "output_type": "execute_result"
    }
   ],
   "source": [
    "# Average Shift\n",
    "\n",
    "np.mean(over_under['Total Score Shift'])"
   ]
  },
  {
   "cell_type": "code",
   "execution_count": 118,
   "metadata": {},
   "outputs": [
    {
     "data": {
      "text/html": [
       "<div>\n",
       "<style scoped>\n",
       "    .dataframe tbody tr th:only-of-type {\n",
       "        vertical-align: middle;\n",
       "    }\n",
       "\n",
       "    .dataframe tbody tr th {\n",
       "        vertical-align: top;\n",
       "    }\n",
       "\n",
       "    .dataframe thead th {\n",
       "        text-align: right;\n",
       "    }\n",
       "</style>\n",
       "<table border=\"1\" class=\"dataframe\">\n",
       "  <thead>\n",
       "    <tr style=\"text-align: right;\">\n",
       "      <th></th>\n",
       "      <th>Total Score Shift</th>\n",
       "      <th>Total Games</th>\n",
       "    </tr>\n",
       "  </thead>\n",
       "  <tbody>\n",
       "    <tr>\n",
       "      <th>0</th>\n",
       "      <td>-9.5</td>\n",
       "      <td>1</td>\n",
       "    </tr>\n",
       "    <tr>\n",
       "      <th>1</th>\n",
       "      <td>-8.5</td>\n",
       "      <td>1</td>\n",
       "    </tr>\n",
       "    <tr>\n",
       "      <th>2</th>\n",
       "      <td>-7.5</td>\n",
       "      <td>1</td>\n",
       "    </tr>\n",
       "    <tr>\n",
       "      <th>3</th>\n",
       "      <td>-6.5</td>\n",
       "      <td>1</td>\n",
       "    </tr>\n",
       "    <tr>\n",
       "      <th>4</th>\n",
       "      <td>-6.0</td>\n",
       "      <td>5</td>\n",
       "    </tr>\n",
       "    <tr>\n",
       "      <th>5</th>\n",
       "      <td>-5.5</td>\n",
       "      <td>3</td>\n",
       "    </tr>\n",
       "    <tr>\n",
       "      <th>6</th>\n",
       "      <td>-5.0</td>\n",
       "      <td>10</td>\n",
       "    </tr>\n",
       "    <tr>\n",
       "      <th>7</th>\n",
       "      <td>-4.5</td>\n",
       "      <td>8</td>\n",
       "    </tr>\n",
       "    <tr>\n",
       "      <th>8</th>\n",
       "      <td>-4.0</td>\n",
       "      <td>23</td>\n",
       "    </tr>\n",
       "    <tr>\n",
       "      <th>9</th>\n",
       "      <td>-3.5</td>\n",
       "      <td>32</td>\n",
       "    </tr>\n",
       "    <tr>\n",
       "      <th>10</th>\n",
       "      <td>-3.0</td>\n",
       "      <td>49</td>\n",
       "    </tr>\n",
       "    <tr>\n",
       "      <th>11</th>\n",
       "      <td>-2.5</td>\n",
       "      <td>87</td>\n",
       "    </tr>\n",
       "    <tr>\n",
       "      <th>12</th>\n",
       "      <td>-2.0</td>\n",
       "      <td>118</td>\n",
       "    </tr>\n",
       "    <tr>\n",
       "      <th>13</th>\n",
       "      <td>-1.5</td>\n",
       "      <td>198</td>\n",
       "    </tr>\n",
       "    <tr>\n",
       "      <th>14</th>\n",
       "      <td>-1.0</td>\n",
       "      <td>243</td>\n",
       "    </tr>\n",
       "    <tr>\n",
       "      <th>15</th>\n",
       "      <td>-0.5</td>\n",
       "      <td>277</td>\n",
       "    </tr>\n",
       "    <tr>\n",
       "      <th>16</th>\n",
       "      <td>0.0</td>\n",
       "      <td>294</td>\n",
       "    </tr>\n",
       "    <tr>\n",
       "      <th>17</th>\n",
       "      <td>0.5</td>\n",
       "      <td>226</td>\n",
       "    </tr>\n",
       "    <tr>\n",
       "      <th>18</th>\n",
       "      <td>1.0</td>\n",
       "      <td>187</td>\n",
       "    </tr>\n",
       "    <tr>\n",
       "      <th>19</th>\n",
       "      <td>1.5</td>\n",
       "      <td>156</td>\n",
       "    </tr>\n",
       "    <tr>\n",
       "      <th>20</th>\n",
       "      <td>2.0</td>\n",
       "      <td>98</td>\n",
       "    </tr>\n",
       "    <tr>\n",
       "      <th>21</th>\n",
       "      <td>2.5</td>\n",
       "      <td>70</td>\n",
       "    </tr>\n",
       "    <tr>\n",
       "      <th>22</th>\n",
       "      <td>3.0</td>\n",
       "      <td>30</td>\n",
       "    </tr>\n",
       "    <tr>\n",
       "      <th>23</th>\n",
       "      <td>3.5</td>\n",
       "      <td>13</td>\n",
       "    </tr>\n",
       "    <tr>\n",
       "      <th>24</th>\n",
       "      <td>4.0</td>\n",
       "      <td>11</td>\n",
       "    </tr>\n",
       "    <tr>\n",
       "      <th>25</th>\n",
       "      <td>4.5</td>\n",
       "      <td>4</td>\n",
       "    </tr>\n",
       "    <tr>\n",
       "      <th>26</th>\n",
       "      <td>5.0</td>\n",
       "      <td>3</td>\n",
       "    </tr>\n",
       "  </tbody>\n",
       "</table>\n",
       "</div>"
      ],
      "text/plain": [
       "    Total Score Shift  Total Games\n",
       "0                -9.5            1\n",
       "1                -8.5            1\n",
       "2                -7.5            1\n",
       "3                -6.5            1\n",
       "4                -6.0            5\n",
       "5                -5.5            3\n",
       "6                -5.0           10\n",
       "7                -4.5            8\n",
       "8                -4.0           23\n",
       "9                -3.5           32\n",
       "10               -3.0           49\n",
       "11               -2.5           87\n",
       "12               -2.0          118\n",
       "13               -1.5          198\n",
       "14               -1.0          243\n",
       "15               -0.5          277\n",
       "16                0.0          294\n",
       "17                0.5          226\n",
       "18                1.0          187\n",
       "19                1.5          156\n",
       "20                2.0           98\n",
       "21                2.5           70\n",
       "22                3.0           30\n",
       "23                3.5           13\n",
       "24                4.0           11\n",
       "25                4.5            4\n",
       "26                5.0            3"
      ]
     },
     "execution_count": 118,
     "metadata": {},
     "output_type": "execute_result"
    }
   ],
   "source": [
    "# Number of shifts by shift amount\n",
    "\n",
    "shift_totals = over_under.groupby(by=['Total Score Shift']).count().Date.rename('Total Games').reset_index()\n",
    "shift_totals"
   ]
  },
  {
   "cell_type": "code",
   "execution_count": 122,
   "metadata": {},
   "outputs": [
    {
     "data": {
      "application/vnd.plotly.v1+json": {
       "config": {
        "plotlyServerURL": "https://plot.ly"
       },
       "data": [
        {
         "alignmentgroup": "True",
         "hovertemplate": "Total Score Shift=%{x}<br>Total Games=%{y}<extra></extra>",
         "legendgroup": "",
         "marker": {
          "color": "#636efa"
         },
         "name": "",
         "offsetgroup": "",
         "orientation": "v",
         "showlegend": false,
         "textposition": "auto",
         "type": "bar",
         "x": [
          -9.5,
          -8.5,
          -7.5,
          -6.5,
          -6,
          -5.5,
          -5,
          -4.5,
          -4,
          -3.5,
          -3,
          -2.5,
          -2,
          -1.5,
          -1,
          -0.5,
          0,
          0.5,
          1,
          1.5,
          2,
          2.5,
          3,
          3.5,
          4,
          4.5,
          5
         ],
         "xaxis": "x",
         "y": [
          1,
          1,
          1,
          1,
          5,
          3,
          10,
          8,
          23,
          32,
          49,
          87,
          118,
          198,
          243,
          277,
          294,
          226,
          187,
          156,
          98,
          70,
          30,
          13,
          11,
          4,
          3
         ],
         "yaxis": "y"
        }
       ],
       "layout": {
        "barmode": "relative",
        "legend": {
         "tracegroupgap": 0
        },
        "template": {
         "data": {
          "bar": [
           {
            "error_x": {
             "color": "#2a3f5f"
            },
            "error_y": {
             "color": "#2a3f5f"
            },
            "marker": {
             "line": {
              "color": "#E5ECF6",
              "width": 0.5
             }
            },
            "type": "bar"
           }
          ],
          "barpolar": [
           {
            "marker": {
             "line": {
              "color": "#E5ECF6",
              "width": 0.5
             }
            },
            "type": "barpolar"
           }
          ],
          "carpet": [
           {
            "aaxis": {
             "endlinecolor": "#2a3f5f",
             "gridcolor": "white",
             "linecolor": "white",
             "minorgridcolor": "white",
             "startlinecolor": "#2a3f5f"
            },
            "baxis": {
             "endlinecolor": "#2a3f5f",
             "gridcolor": "white",
             "linecolor": "white",
             "minorgridcolor": "white",
             "startlinecolor": "#2a3f5f"
            },
            "type": "carpet"
           }
          ],
          "choropleth": [
           {
            "colorbar": {
             "outlinewidth": 0,
             "ticks": ""
            },
            "type": "choropleth"
           }
          ],
          "contour": [
           {
            "colorbar": {
             "outlinewidth": 0,
             "ticks": ""
            },
            "colorscale": [
             [
              0,
              "#0d0887"
             ],
             [
              0.1111111111111111,
              "#46039f"
             ],
             [
              0.2222222222222222,
              "#7201a8"
             ],
             [
              0.3333333333333333,
              "#9c179e"
             ],
             [
              0.4444444444444444,
              "#bd3786"
             ],
             [
              0.5555555555555556,
              "#d8576b"
             ],
             [
              0.6666666666666666,
              "#ed7953"
             ],
             [
              0.7777777777777778,
              "#fb9f3a"
             ],
             [
              0.8888888888888888,
              "#fdca26"
             ],
             [
              1,
              "#f0f921"
             ]
            ],
            "type": "contour"
           }
          ],
          "contourcarpet": [
           {
            "colorbar": {
             "outlinewidth": 0,
             "ticks": ""
            },
            "type": "contourcarpet"
           }
          ],
          "heatmap": [
           {
            "colorbar": {
             "outlinewidth": 0,
             "ticks": ""
            },
            "colorscale": [
             [
              0,
              "#0d0887"
             ],
             [
              0.1111111111111111,
              "#46039f"
             ],
             [
              0.2222222222222222,
              "#7201a8"
             ],
             [
              0.3333333333333333,
              "#9c179e"
             ],
             [
              0.4444444444444444,
              "#bd3786"
             ],
             [
              0.5555555555555556,
              "#d8576b"
             ],
             [
              0.6666666666666666,
              "#ed7953"
             ],
             [
              0.7777777777777778,
              "#fb9f3a"
             ],
             [
              0.8888888888888888,
              "#fdca26"
             ],
             [
              1,
              "#f0f921"
             ]
            ],
            "type": "heatmap"
           }
          ],
          "heatmapgl": [
           {
            "colorbar": {
             "outlinewidth": 0,
             "ticks": ""
            },
            "colorscale": [
             [
              0,
              "#0d0887"
             ],
             [
              0.1111111111111111,
              "#46039f"
             ],
             [
              0.2222222222222222,
              "#7201a8"
             ],
             [
              0.3333333333333333,
              "#9c179e"
             ],
             [
              0.4444444444444444,
              "#bd3786"
             ],
             [
              0.5555555555555556,
              "#d8576b"
             ],
             [
              0.6666666666666666,
              "#ed7953"
             ],
             [
              0.7777777777777778,
              "#fb9f3a"
             ],
             [
              0.8888888888888888,
              "#fdca26"
             ],
             [
              1,
              "#f0f921"
             ]
            ],
            "type": "heatmapgl"
           }
          ],
          "histogram": [
           {
            "marker": {
             "colorbar": {
              "outlinewidth": 0,
              "ticks": ""
             }
            },
            "type": "histogram"
           }
          ],
          "histogram2d": [
           {
            "colorbar": {
             "outlinewidth": 0,
             "ticks": ""
            },
            "colorscale": [
             [
              0,
              "#0d0887"
             ],
             [
              0.1111111111111111,
              "#46039f"
             ],
             [
              0.2222222222222222,
              "#7201a8"
             ],
             [
              0.3333333333333333,
              "#9c179e"
             ],
             [
              0.4444444444444444,
              "#bd3786"
             ],
             [
              0.5555555555555556,
              "#d8576b"
             ],
             [
              0.6666666666666666,
              "#ed7953"
             ],
             [
              0.7777777777777778,
              "#fb9f3a"
             ],
             [
              0.8888888888888888,
              "#fdca26"
             ],
             [
              1,
              "#f0f921"
             ]
            ],
            "type": "histogram2d"
           }
          ],
          "histogram2dcontour": [
           {
            "colorbar": {
             "outlinewidth": 0,
             "ticks": ""
            },
            "colorscale": [
             [
              0,
              "#0d0887"
             ],
             [
              0.1111111111111111,
              "#46039f"
             ],
             [
              0.2222222222222222,
              "#7201a8"
             ],
             [
              0.3333333333333333,
              "#9c179e"
             ],
             [
              0.4444444444444444,
              "#bd3786"
             ],
             [
              0.5555555555555556,
              "#d8576b"
             ],
             [
              0.6666666666666666,
              "#ed7953"
             ],
             [
              0.7777777777777778,
              "#fb9f3a"
             ],
             [
              0.8888888888888888,
              "#fdca26"
             ],
             [
              1,
              "#f0f921"
             ]
            ],
            "type": "histogram2dcontour"
           }
          ],
          "mesh3d": [
           {
            "colorbar": {
             "outlinewidth": 0,
             "ticks": ""
            },
            "type": "mesh3d"
           }
          ],
          "parcoords": [
           {
            "line": {
             "colorbar": {
              "outlinewidth": 0,
              "ticks": ""
             }
            },
            "type": "parcoords"
           }
          ],
          "pie": [
           {
            "automargin": true,
            "type": "pie"
           }
          ],
          "scatter": [
           {
            "marker": {
             "colorbar": {
              "outlinewidth": 0,
              "ticks": ""
             }
            },
            "type": "scatter"
           }
          ],
          "scatter3d": [
           {
            "line": {
             "colorbar": {
              "outlinewidth": 0,
              "ticks": ""
             }
            },
            "marker": {
             "colorbar": {
              "outlinewidth": 0,
              "ticks": ""
             }
            },
            "type": "scatter3d"
           }
          ],
          "scattercarpet": [
           {
            "marker": {
             "colorbar": {
              "outlinewidth": 0,
              "ticks": ""
             }
            },
            "type": "scattercarpet"
           }
          ],
          "scattergeo": [
           {
            "marker": {
             "colorbar": {
              "outlinewidth": 0,
              "ticks": ""
             }
            },
            "type": "scattergeo"
           }
          ],
          "scattergl": [
           {
            "marker": {
             "colorbar": {
              "outlinewidth": 0,
              "ticks": ""
             }
            },
            "type": "scattergl"
           }
          ],
          "scattermapbox": [
           {
            "marker": {
             "colorbar": {
              "outlinewidth": 0,
              "ticks": ""
             }
            },
            "type": "scattermapbox"
           }
          ],
          "scatterpolar": [
           {
            "marker": {
             "colorbar": {
              "outlinewidth": 0,
              "ticks": ""
             }
            },
            "type": "scatterpolar"
           }
          ],
          "scatterpolargl": [
           {
            "marker": {
             "colorbar": {
              "outlinewidth": 0,
              "ticks": ""
             }
            },
            "type": "scatterpolargl"
           }
          ],
          "scatterternary": [
           {
            "marker": {
             "colorbar": {
              "outlinewidth": 0,
              "ticks": ""
             }
            },
            "type": "scatterternary"
           }
          ],
          "surface": [
           {
            "colorbar": {
             "outlinewidth": 0,
             "ticks": ""
            },
            "colorscale": [
             [
              0,
              "#0d0887"
             ],
             [
              0.1111111111111111,
              "#46039f"
             ],
             [
              0.2222222222222222,
              "#7201a8"
             ],
             [
              0.3333333333333333,
              "#9c179e"
             ],
             [
              0.4444444444444444,
              "#bd3786"
             ],
             [
              0.5555555555555556,
              "#d8576b"
             ],
             [
              0.6666666666666666,
              "#ed7953"
             ],
             [
              0.7777777777777778,
              "#fb9f3a"
             ],
             [
              0.8888888888888888,
              "#fdca26"
             ],
             [
              1,
              "#f0f921"
             ]
            ],
            "type": "surface"
           }
          ],
          "table": [
           {
            "cells": {
             "fill": {
              "color": "#EBF0F8"
             },
             "line": {
              "color": "white"
             }
            },
            "header": {
             "fill": {
              "color": "#C8D4E3"
             },
             "line": {
              "color": "white"
             }
            },
            "type": "table"
           }
          ]
         },
         "layout": {
          "annotationdefaults": {
           "arrowcolor": "#2a3f5f",
           "arrowhead": 0,
           "arrowwidth": 1
          },
          "autotypenumbers": "strict",
          "coloraxis": {
           "colorbar": {
            "outlinewidth": 0,
            "ticks": ""
           }
          },
          "colorscale": {
           "diverging": [
            [
             0,
             "#8e0152"
            ],
            [
             0.1,
             "#c51b7d"
            ],
            [
             0.2,
             "#de77ae"
            ],
            [
             0.3,
             "#f1b6da"
            ],
            [
             0.4,
             "#fde0ef"
            ],
            [
             0.5,
             "#f7f7f7"
            ],
            [
             0.6,
             "#e6f5d0"
            ],
            [
             0.7,
             "#b8e186"
            ],
            [
             0.8,
             "#7fbc41"
            ],
            [
             0.9,
             "#4d9221"
            ],
            [
             1,
             "#276419"
            ]
           ],
           "sequential": [
            [
             0,
             "#0d0887"
            ],
            [
             0.1111111111111111,
             "#46039f"
            ],
            [
             0.2222222222222222,
             "#7201a8"
            ],
            [
             0.3333333333333333,
             "#9c179e"
            ],
            [
             0.4444444444444444,
             "#bd3786"
            ],
            [
             0.5555555555555556,
             "#d8576b"
            ],
            [
             0.6666666666666666,
             "#ed7953"
            ],
            [
             0.7777777777777778,
             "#fb9f3a"
            ],
            [
             0.8888888888888888,
             "#fdca26"
            ],
            [
             1,
             "#f0f921"
            ]
           ],
           "sequentialminus": [
            [
             0,
             "#0d0887"
            ],
            [
             0.1111111111111111,
             "#46039f"
            ],
            [
             0.2222222222222222,
             "#7201a8"
            ],
            [
             0.3333333333333333,
             "#9c179e"
            ],
            [
             0.4444444444444444,
             "#bd3786"
            ],
            [
             0.5555555555555556,
             "#d8576b"
            ],
            [
             0.6666666666666666,
             "#ed7953"
            ],
            [
             0.7777777777777778,
             "#fb9f3a"
            ],
            [
             0.8888888888888888,
             "#fdca26"
            ],
            [
             1,
             "#f0f921"
            ]
           ]
          },
          "colorway": [
           "#636efa",
           "#EF553B",
           "#00cc96",
           "#ab63fa",
           "#FFA15A",
           "#19d3f3",
           "#FF6692",
           "#B6E880",
           "#FF97FF",
           "#FECB52"
          ],
          "font": {
           "color": "#2a3f5f"
          },
          "geo": {
           "bgcolor": "white",
           "lakecolor": "white",
           "landcolor": "#E5ECF6",
           "showlakes": true,
           "showland": true,
           "subunitcolor": "white"
          },
          "hoverlabel": {
           "align": "left"
          },
          "hovermode": "closest",
          "mapbox": {
           "style": "light"
          },
          "paper_bgcolor": "white",
          "plot_bgcolor": "#E5ECF6",
          "polar": {
           "angularaxis": {
            "gridcolor": "white",
            "linecolor": "white",
            "ticks": ""
           },
           "bgcolor": "#E5ECF6",
           "radialaxis": {
            "gridcolor": "white",
            "linecolor": "white",
            "ticks": ""
           }
          },
          "scene": {
           "xaxis": {
            "backgroundcolor": "#E5ECF6",
            "gridcolor": "white",
            "gridwidth": 2,
            "linecolor": "white",
            "showbackground": true,
            "ticks": "",
            "zerolinecolor": "white"
           },
           "yaxis": {
            "backgroundcolor": "#E5ECF6",
            "gridcolor": "white",
            "gridwidth": 2,
            "linecolor": "white",
            "showbackground": true,
            "ticks": "",
            "zerolinecolor": "white"
           },
           "zaxis": {
            "backgroundcolor": "#E5ECF6",
            "gridcolor": "white",
            "gridwidth": 2,
            "linecolor": "white",
            "showbackground": true,
            "ticks": "",
            "zerolinecolor": "white"
           }
          },
          "shapedefaults": {
           "line": {
            "color": "#2a3f5f"
           }
          },
          "ternary": {
           "aaxis": {
            "gridcolor": "white",
            "linecolor": "white",
            "ticks": ""
           },
           "baxis": {
            "gridcolor": "white",
            "linecolor": "white",
            "ticks": ""
           },
           "bgcolor": "#E5ECF6",
           "caxis": {
            "gridcolor": "white",
            "linecolor": "white",
            "ticks": ""
           }
          },
          "title": {
           "x": 0.05
          },
          "xaxis": {
           "automargin": true,
           "gridcolor": "white",
           "linecolor": "white",
           "ticks": "",
           "title": {
            "standoff": 15
           },
           "zerolinecolor": "white",
           "zerolinewidth": 2
          },
          "yaxis": {
           "automargin": true,
           "gridcolor": "white",
           "linecolor": "white",
           "ticks": "",
           "title": {
            "standoff": 15
           },
           "zerolinecolor": "white",
           "zerolinewidth": 2
          }
         }
        },
        "title": {
         "text": "Score Shift Amount vs. Total Games With Shift"
        },
        "xaxis": {
         "anchor": "y",
         "domain": [
          0,
          1
         ],
         "title": {
          "text": "Total Score Shift"
         }
        },
        "yaxis": {
         "anchor": "x",
         "domain": [
          0,
          1
         ],
         "title": {
          "text": "Total Games"
         }
        }
       }
      },
      "text/html": [
       "<div>                            <div id=\"84125ed4-1d82-4545-9588-d20bb28b1214\" class=\"plotly-graph-div\" style=\"height:525px; width:100%;\"></div>            <script type=\"text/javascript\">                require([\"plotly\"], function(Plotly) {                    window.PLOTLYENV=window.PLOTLYENV || {};                                    if (document.getElementById(\"84125ed4-1d82-4545-9588-d20bb28b1214\")) {                    Plotly.newPlot(                        \"84125ed4-1d82-4545-9588-d20bb28b1214\",                        [{\"alignmentgroup\": \"True\", \"hovertemplate\": \"Total Score Shift=%{x}<br>Total Games=%{y}<extra></extra>\", \"legendgroup\": \"\", \"marker\": {\"color\": \"#636efa\"}, \"name\": \"\", \"offsetgroup\": \"\", \"orientation\": \"v\", \"showlegend\": false, \"textposition\": \"auto\", \"type\": \"bar\", \"x\": [-9.5, -8.5, -7.5, -6.5, -6.0, -5.5, -5.0, -4.5, -4.0, -3.5, -3.0, -2.5, -2.0, -1.5, -1.0, -0.5, 0.0, 0.5, 1.0, 1.5, 2.0, 2.5, 3.0, 3.5, 4.0, 4.5, 5.0], \"xaxis\": \"x\", \"y\": [1, 1, 1, 1, 5, 3, 10, 8, 23, 32, 49, 87, 118, 198, 243, 277, 294, 226, 187, 156, 98, 70, 30, 13, 11, 4, 3], \"yaxis\": \"y\"}],                        {\"barmode\": \"relative\", \"legend\": {\"tracegroupgap\": 0}, \"template\": {\"data\": {\"bar\": [{\"error_x\": {\"color\": \"#2a3f5f\"}, \"error_y\": {\"color\": \"#2a3f5f\"}, \"marker\": {\"line\": {\"color\": \"#E5ECF6\", \"width\": 0.5}}, \"type\": \"bar\"}], \"barpolar\": [{\"marker\": {\"line\": {\"color\": \"#E5ECF6\", \"width\": 0.5}}, \"type\": \"barpolar\"}], \"carpet\": [{\"aaxis\": {\"endlinecolor\": \"#2a3f5f\", \"gridcolor\": \"white\", \"linecolor\": \"white\", \"minorgridcolor\": \"white\", \"startlinecolor\": \"#2a3f5f\"}, \"baxis\": {\"endlinecolor\": \"#2a3f5f\", \"gridcolor\": \"white\", \"linecolor\": \"white\", \"minorgridcolor\": \"white\", \"startlinecolor\": \"#2a3f5f\"}, \"type\": \"carpet\"}], \"choropleth\": [{\"colorbar\": {\"outlinewidth\": 0, \"ticks\": \"\"}, \"type\": \"choropleth\"}], \"contour\": [{\"colorbar\": {\"outlinewidth\": 0, \"ticks\": \"\"}, \"colorscale\": [[0.0, \"#0d0887\"], [0.1111111111111111, \"#46039f\"], [0.2222222222222222, \"#7201a8\"], [0.3333333333333333, \"#9c179e\"], [0.4444444444444444, \"#bd3786\"], [0.5555555555555556, \"#d8576b\"], [0.6666666666666666, \"#ed7953\"], [0.7777777777777778, \"#fb9f3a\"], [0.8888888888888888, \"#fdca26\"], [1.0, \"#f0f921\"]], \"type\": \"contour\"}], \"contourcarpet\": [{\"colorbar\": {\"outlinewidth\": 0, \"ticks\": \"\"}, \"type\": \"contourcarpet\"}], \"heatmap\": [{\"colorbar\": {\"outlinewidth\": 0, \"ticks\": \"\"}, \"colorscale\": [[0.0, \"#0d0887\"], [0.1111111111111111, \"#46039f\"], [0.2222222222222222, \"#7201a8\"], [0.3333333333333333, \"#9c179e\"], [0.4444444444444444, \"#bd3786\"], [0.5555555555555556, \"#d8576b\"], [0.6666666666666666, \"#ed7953\"], [0.7777777777777778, \"#fb9f3a\"], [0.8888888888888888, \"#fdca26\"], [1.0, \"#f0f921\"]], \"type\": \"heatmap\"}], \"heatmapgl\": [{\"colorbar\": {\"outlinewidth\": 0, \"ticks\": \"\"}, \"colorscale\": [[0.0, \"#0d0887\"], [0.1111111111111111, \"#46039f\"], [0.2222222222222222, \"#7201a8\"], [0.3333333333333333, \"#9c179e\"], [0.4444444444444444, \"#bd3786\"], [0.5555555555555556, \"#d8576b\"], [0.6666666666666666, \"#ed7953\"], [0.7777777777777778, \"#fb9f3a\"], [0.8888888888888888, \"#fdca26\"], [1.0, \"#f0f921\"]], \"type\": \"heatmapgl\"}], \"histogram\": [{\"marker\": {\"colorbar\": {\"outlinewidth\": 0, \"ticks\": \"\"}}, \"type\": \"histogram\"}], \"histogram2d\": [{\"colorbar\": {\"outlinewidth\": 0, \"ticks\": \"\"}, \"colorscale\": [[0.0, \"#0d0887\"], [0.1111111111111111, \"#46039f\"], [0.2222222222222222, \"#7201a8\"], [0.3333333333333333, \"#9c179e\"], [0.4444444444444444, \"#bd3786\"], [0.5555555555555556, \"#d8576b\"], [0.6666666666666666, \"#ed7953\"], [0.7777777777777778, \"#fb9f3a\"], [0.8888888888888888, \"#fdca26\"], [1.0, \"#f0f921\"]], \"type\": \"histogram2d\"}], \"histogram2dcontour\": [{\"colorbar\": {\"outlinewidth\": 0, \"ticks\": \"\"}, \"colorscale\": [[0.0, \"#0d0887\"], [0.1111111111111111, \"#46039f\"], [0.2222222222222222, \"#7201a8\"], [0.3333333333333333, \"#9c179e\"], [0.4444444444444444, \"#bd3786\"], [0.5555555555555556, \"#d8576b\"], [0.6666666666666666, \"#ed7953\"], [0.7777777777777778, \"#fb9f3a\"], [0.8888888888888888, \"#fdca26\"], [1.0, \"#f0f921\"]], \"type\": \"histogram2dcontour\"}], \"mesh3d\": [{\"colorbar\": {\"outlinewidth\": 0, \"ticks\": \"\"}, \"type\": \"mesh3d\"}], \"parcoords\": [{\"line\": {\"colorbar\": {\"outlinewidth\": 0, \"ticks\": \"\"}}, \"type\": \"parcoords\"}], \"pie\": [{\"automargin\": true, \"type\": \"pie\"}], \"scatter\": [{\"marker\": {\"colorbar\": {\"outlinewidth\": 0, \"ticks\": \"\"}}, \"type\": \"scatter\"}], \"scatter3d\": [{\"line\": {\"colorbar\": {\"outlinewidth\": 0, \"ticks\": \"\"}}, \"marker\": {\"colorbar\": {\"outlinewidth\": 0, \"ticks\": \"\"}}, \"type\": \"scatter3d\"}], \"scattercarpet\": [{\"marker\": {\"colorbar\": {\"outlinewidth\": 0, \"ticks\": \"\"}}, \"type\": \"scattercarpet\"}], \"scattergeo\": [{\"marker\": {\"colorbar\": {\"outlinewidth\": 0, \"ticks\": \"\"}}, \"type\": \"scattergeo\"}], \"scattergl\": [{\"marker\": {\"colorbar\": {\"outlinewidth\": 0, \"ticks\": \"\"}}, \"type\": \"scattergl\"}], \"scattermapbox\": [{\"marker\": {\"colorbar\": {\"outlinewidth\": 0, \"ticks\": \"\"}}, \"type\": \"scattermapbox\"}], \"scatterpolar\": [{\"marker\": {\"colorbar\": {\"outlinewidth\": 0, \"ticks\": \"\"}}, \"type\": \"scatterpolar\"}], \"scatterpolargl\": [{\"marker\": {\"colorbar\": {\"outlinewidth\": 0, \"ticks\": \"\"}}, \"type\": \"scatterpolargl\"}], \"scatterternary\": [{\"marker\": {\"colorbar\": {\"outlinewidth\": 0, \"ticks\": \"\"}}, \"type\": \"scatterternary\"}], \"surface\": [{\"colorbar\": {\"outlinewidth\": 0, \"ticks\": \"\"}, \"colorscale\": [[0.0, \"#0d0887\"], [0.1111111111111111, \"#46039f\"], [0.2222222222222222, \"#7201a8\"], [0.3333333333333333, \"#9c179e\"], [0.4444444444444444, \"#bd3786\"], [0.5555555555555556, \"#d8576b\"], [0.6666666666666666, \"#ed7953\"], [0.7777777777777778, \"#fb9f3a\"], [0.8888888888888888, \"#fdca26\"], [1.0, \"#f0f921\"]], \"type\": \"surface\"}], \"table\": [{\"cells\": {\"fill\": {\"color\": \"#EBF0F8\"}, \"line\": {\"color\": \"white\"}}, \"header\": {\"fill\": {\"color\": \"#C8D4E3\"}, \"line\": {\"color\": \"white\"}}, \"type\": \"table\"}]}, \"layout\": {\"annotationdefaults\": {\"arrowcolor\": \"#2a3f5f\", \"arrowhead\": 0, \"arrowwidth\": 1}, \"autotypenumbers\": \"strict\", \"coloraxis\": {\"colorbar\": {\"outlinewidth\": 0, \"ticks\": \"\"}}, \"colorscale\": {\"diverging\": [[0, \"#8e0152\"], [0.1, \"#c51b7d\"], [0.2, \"#de77ae\"], [0.3, \"#f1b6da\"], [0.4, \"#fde0ef\"], [0.5, \"#f7f7f7\"], [0.6, \"#e6f5d0\"], [0.7, \"#b8e186\"], [0.8, \"#7fbc41\"], [0.9, \"#4d9221\"], [1, \"#276419\"]], \"sequential\": [[0.0, \"#0d0887\"], [0.1111111111111111, \"#46039f\"], [0.2222222222222222, \"#7201a8\"], [0.3333333333333333, \"#9c179e\"], [0.4444444444444444, \"#bd3786\"], [0.5555555555555556, \"#d8576b\"], [0.6666666666666666, \"#ed7953\"], [0.7777777777777778, \"#fb9f3a\"], [0.8888888888888888, \"#fdca26\"], [1.0, \"#f0f921\"]], \"sequentialminus\": [[0.0, \"#0d0887\"], [0.1111111111111111, \"#46039f\"], [0.2222222222222222, \"#7201a8\"], [0.3333333333333333, \"#9c179e\"], [0.4444444444444444, \"#bd3786\"], [0.5555555555555556, \"#d8576b\"], [0.6666666666666666, \"#ed7953\"], [0.7777777777777778, \"#fb9f3a\"], [0.8888888888888888, \"#fdca26\"], [1.0, \"#f0f921\"]]}, \"colorway\": [\"#636efa\", \"#EF553B\", \"#00cc96\", \"#ab63fa\", \"#FFA15A\", \"#19d3f3\", \"#FF6692\", \"#B6E880\", \"#FF97FF\", \"#FECB52\"], \"font\": {\"color\": \"#2a3f5f\"}, \"geo\": {\"bgcolor\": \"white\", \"lakecolor\": \"white\", \"landcolor\": \"#E5ECF6\", \"showlakes\": true, \"showland\": true, \"subunitcolor\": \"white\"}, \"hoverlabel\": {\"align\": \"left\"}, \"hovermode\": \"closest\", \"mapbox\": {\"style\": \"light\"}, \"paper_bgcolor\": \"white\", \"plot_bgcolor\": \"#E5ECF6\", \"polar\": {\"angularaxis\": {\"gridcolor\": \"white\", \"linecolor\": \"white\", \"ticks\": \"\"}, \"bgcolor\": \"#E5ECF6\", \"radialaxis\": {\"gridcolor\": \"white\", \"linecolor\": \"white\", \"ticks\": \"\"}}, \"scene\": {\"xaxis\": {\"backgroundcolor\": \"#E5ECF6\", \"gridcolor\": \"white\", \"gridwidth\": 2, \"linecolor\": \"white\", \"showbackground\": true, \"ticks\": \"\", \"zerolinecolor\": \"white\"}, \"yaxis\": {\"backgroundcolor\": \"#E5ECF6\", \"gridcolor\": \"white\", \"gridwidth\": 2, \"linecolor\": \"white\", \"showbackground\": true, \"ticks\": \"\", \"zerolinecolor\": \"white\"}, \"zaxis\": {\"backgroundcolor\": \"#E5ECF6\", \"gridcolor\": \"white\", \"gridwidth\": 2, \"linecolor\": \"white\", \"showbackground\": true, \"ticks\": \"\", \"zerolinecolor\": \"white\"}}, \"shapedefaults\": {\"line\": {\"color\": \"#2a3f5f\"}}, \"ternary\": {\"aaxis\": {\"gridcolor\": \"white\", \"linecolor\": \"white\", \"ticks\": \"\"}, \"baxis\": {\"gridcolor\": \"white\", \"linecolor\": \"white\", \"ticks\": \"\"}, \"bgcolor\": \"#E5ECF6\", \"caxis\": {\"gridcolor\": \"white\", \"linecolor\": \"white\", \"ticks\": \"\"}}, \"title\": {\"x\": 0.05}, \"xaxis\": {\"automargin\": true, \"gridcolor\": \"white\", \"linecolor\": \"white\", \"ticks\": \"\", \"title\": {\"standoff\": 15}, \"zerolinecolor\": \"white\", \"zerolinewidth\": 2}, \"yaxis\": {\"automargin\": true, \"gridcolor\": \"white\", \"linecolor\": \"white\", \"ticks\": \"\", \"title\": {\"standoff\": 15}, \"zerolinecolor\": \"white\", \"zerolinewidth\": 2}}}, \"title\": {\"text\": \"Score Shift Amount vs. Total Games With Shift\"}, \"xaxis\": {\"anchor\": \"y\", \"domain\": [0.0, 1.0], \"title\": {\"text\": \"Total Score Shift\"}}, \"yaxis\": {\"anchor\": \"x\", \"domain\": [0.0, 1.0], \"title\": {\"text\": \"Total Games\"}}},                        {\"responsive\": true}                    ).then(function(){\n",
       "                            \n",
       "var gd = document.getElementById('84125ed4-1d82-4545-9588-d20bb28b1214');\n",
       "var x = new MutationObserver(function (mutations, observer) {{\n",
       "        var display = window.getComputedStyle(gd).display;\n",
       "        if (!display || display === 'none') {{\n",
       "            console.log([gd, 'removed!']);\n",
       "            Plotly.purge(gd);\n",
       "            observer.disconnect();\n",
       "        }}\n",
       "}});\n",
       "\n",
       "// Listen for the removal of the full notebook cells\n",
       "var notebookContainer = gd.closest('#notebook-container');\n",
       "if (notebookContainer) {{\n",
       "    x.observe(notebookContainer, {childList: true});\n",
       "}}\n",
       "\n",
       "// Listen for the clearing of the current output cell\n",
       "var outputEl = gd.closest('.output');\n",
       "if (outputEl) {{\n",
       "    x.observe(outputEl, {childList: true});\n",
       "}}\n",
       "\n",
       "                        })                };                });            </script>        </div>"
      ]
     },
     "metadata": {},
     "output_type": "display_data"
    }
   ],
   "source": [
    "fig = px.bar(shift_totals, x = 'Total Score Shift', y = 'Total Games', \n",
    "             title = 'Score Shift Amount vs. Total Games With Shift')\n",
    "fig.show()"
   ]
  },
  {
   "cell_type": "code",
   "execution_count": 123,
   "metadata": {},
   "outputs": [
    {
     "data": {
      "text/html": [
       "<div>\n",
       "<style scoped>\n",
       "    .dataframe tbody tr th:only-of-type {\n",
       "        vertical-align: middle;\n",
       "    }\n",
       "\n",
       "    .dataframe tbody tr th {\n",
       "        vertical-align: top;\n",
       "    }\n",
       "\n",
       "    .dataframe thead th {\n",
       "        text-align: right;\n",
       "    }\n",
       "</style>\n",
       "<table border=\"1\" class=\"dataframe\">\n",
       "  <thead>\n",
       "    <tr style=\"text-align: right;\">\n",
       "      <th></th>\n",
       "      <th>Date</th>\n",
       "      <th>Home Team</th>\n",
       "      <th>Away Team</th>\n",
       "      <th>Home Score</th>\n",
       "      <th>Away Score</th>\n",
       "      <th>Overtime?</th>\n",
       "      <th>Playoff Game?</th>\n",
       "      <th>Neutral Venue?</th>\n",
       "      <th>Total Score Open</th>\n",
       "      <th>Total Score Close</th>\n",
       "      <th>Total Score Over ML Open</th>\n",
       "      <th>Total Score Over ML Close</th>\n",
       "      <th>Total Score Under ML Open</th>\n",
       "      <th>Total Score Under ML Close</th>\n",
       "      <th>Total Score</th>\n",
       "      <th>Season</th>\n",
       "      <th>Open Over/Under Result</th>\n",
       "      <th>Closing Over/Under Result</th>\n",
       "      <th>Total Score Shift</th>\n",
       "    </tr>\n",
       "  </thead>\n",
       "  <tbody>\n",
       "    <tr>\n",
       "      <th>0</th>\n",
       "      <td>2022-01-17</td>\n",
       "      <td>Los Angeles Rams</td>\n",
       "      <td>Arizona Cardinals</td>\n",
       "      <td>34</td>\n",
       "      <td>11</td>\n",
       "      <td>False</td>\n",
       "      <td>True</td>\n",
       "      <td>False</td>\n",
       "      <td>50.5</td>\n",
       "      <td>49.0</td>\n",
       "      <td>-111.0</td>\n",
       "      <td>-111.0</td>\n",
       "      <td>-111.0</td>\n",
       "      <td>-111.0</td>\n",
       "      <td>45</td>\n",
       "      <td>2022</td>\n",
       "      <td>Under</td>\n",
       "      <td>Under</td>\n",
       "      <td>-1.5</td>\n",
       "    </tr>\n",
       "    <tr>\n",
       "      <th>1</th>\n",
       "      <td>2022-01-16</td>\n",
       "      <td>Kansas City Chiefs</td>\n",
       "      <td>Pittsburgh Steelers</td>\n",
       "      <td>42</td>\n",
       "      <td>21</td>\n",
       "      <td>False</td>\n",
       "      <td>True</td>\n",
       "      <td>False</td>\n",
       "      <td>46.5</td>\n",
       "      <td>47.0</td>\n",
       "      <td>-111.0</td>\n",
       "      <td>-111.0</td>\n",
       "      <td>-111.0</td>\n",
       "      <td>-111.0</td>\n",
       "      <td>63</td>\n",
       "      <td>2022</td>\n",
       "      <td>Over</td>\n",
       "      <td>Over</td>\n",
       "      <td>0.5</td>\n",
       "    </tr>\n",
       "    <tr>\n",
       "      <th>2</th>\n",
       "      <td>2022-01-16</td>\n",
       "      <td>Dallas Cowboys</td>\n",
       "      <td>San Francisco 49ers</td>\n",
       "      <td>17</td>\n",
       "      <td>23</td>\n",
       "      <td>False</td>\n",
       "      <td>True</td>\n",
       "      <td>False</td>\n",
       "      <td>50.5</td>\n",
       "      <td>51.0</td>\n",
       "      <td>-111.0</td>\n",
       "      <td>-111.0</td>\n",
       "      <td>-111.0</td>\n",
       "      <td>-111.0</td>\n",
       "      <td>40</td>\n",
       "      <td>2022</td>\n",
       "      <td>Under</td>\n",
       "      <td>Under</td>\n",
       "      <td>0.5</td>\n",
       "    </tr>\n",
       "    <tr>\n",
       "      <th>3</th>\n",
       "      <td>2022-01-16</td>\n",
       "      <td>Tampa Bay Buccaneers</td>\n",
       "      <td>Philadelphia Eagles</td>\n",
       "      <td>31</td>\n",
       "      <td>15</td>\n",
       "      <td>False</td>\n",
       "      <td>True</td>\n",
       "      <td>False</td>\n",
       "      <td>49.0</td>\n",
       "      <td>47.0</td>\n",
       "      <td>-111.0</td>\n",
       "      <td>-111.0</td>\n",
       "      <td>-111.0</td>\n",
       "      <td>-111.0</td>\n",
       "      <td>46</td>\n",
       "      <td>2022</td>\n",
       "      <td>Under</td>\n",
       "      <td>Under</td>\n",
       "      <td>-2.0</td>\n",
       "    </tr>\n",
       "    <tr>\n",
       "      <th>4</th>\n",
       "      <td>2022-01-15</td>\n",
       "      <td>Buffalo Bills</td>\n",
       "      <td>New England Patriots</td>\n",
       "      <td>47</td>\n",
       "      <td>17</td>\n",
       "      <td>False</td>\n",
       "      <td>True</td>\n",
       "      <td>False</td>\n",
       "      <td>43.5</td>\n",
       "      <td>43.0</td>\n",
       "      <td>-111.0</td>\n",
       "      <td>-111.0</td>\n",
       "      <td>-111.0</td>\n",
       "      <td>-111.0</td>\n",
       "      <td>64</td>\n",
       "      <td>2022</td>\n",
       "      <td>Over</td>\n",
       "      <td>Over</td>\n",
       "      <td>-0.5</td>\n",
       "    </tr>\n",
       "    <tr>\n",
       "      <th>...</th>\n",
       "      <td>...</td>\n",
       "      <td>...</td>\n",
       "      <td>...</td>\n",
       "      <td>...</td>\n",
       "      <td>...</td>\n",
       "      <td>...</td>\n",
       "      <td>...</td>\n",
       "      <td>...</td>\n",
       "      <td>...</td>\n",
       "      <td>...</td>\n",
       "      <td>...</td>\n",
       "      <td>...</td>\n",
       "      <td>...</td>\n",
       "      <td>...</td>\n",
       "      <td>...</td>\n",
       "      <td>...</td>\n",
       "      <td>...</td>\n",
       "      <td>...</td>\n",
       "      <td>...</td>\n",
       "    </tr>\n",
       "    <tr>\n",
       "      <th>2144</th>\n",
       "      <td>2014-09-07</td>\n",
       "      <td>New York Jets</td>\n",
       "      <td>Oakland Raiders</td>\n",
       "      <td>19</td>\n",
       "      <td>14</td>\n",
       "      <td>False</td>\n",
       "      <td>False</td>\n",
       "      <td>False</td>\n",
       "      <td>39.5</td>\n",
       "      <td>41.0</td>\n",
       "      <td>-109.0</td>\n",
       "      <td>-105.0</td>\n",
       "      <td>-101.0</td>\n",
       "      <td>-105.0</td>\n",
       "      <td>33</td>\n",
       "      <td>2014</td>\n",
       "      <td>Under</td>\n",
       "      <td>Under</td>\n",
       "      <td>1.5</td>\n",
       "    </tr>\n",
       "    <tr>\n",
       "      <th>2145</th>\n",
       "      <td>2014-09-07</td>\n",
       "      <td>Philadelphia Eagles</td>\n",
       "      <td>Jacksonville Jaguars</td>\n",
       "      <td>34</td>\n",
       "      <td>17</td>\n",
       "      <td>False</td>\n",
       "      <td>False</td>\n",
       "      <td>False</td>\n",
       "      <td>53.0</td>\n",
       "      <td>49.0</td>\n",
       "      <td>-105.0</td>\n",
       "      <td>-110.0</td>\n",
       "      <td>-105.0</td>\n",
       "      <td>100.0</td>\n",
       "      <td>51</td>\n",
       "      <td>2014</td>\n",
       "      <td>Under</td>\n",
       "      <td>Over</td>\n",
       "      <td>-4.0</td>\n",
       "    </tr>\n",
       "    <tr>\n",
       "      <th>2146</th>\n",
       "      <td>2014-09-07</td>\n",
       "      <td>Pittsburgh Steelers</td>\n",
       "      <td>Cleveland Browns</td>\n",
       "      <td>30</td>\n",
       "      <td>27</td>\n",
       "      <td>False</td>\n",
       "      <td>False</td>\n",
       "      <td>False</td>\n",
       "      <td>40.0</td>\n",
       "      <td>41.5</td>\n",
       "      <td>-117.0</td>\n",
       "      <td>-106.0</td>\n",
       "      <td>106.0</td>\n",
       "      <td>-104.0</td>\n",
       "      <td>57</td>\n",
       "      <td>2014</td>\n",
       "      <td>Over</td>\n",
       "      <td>Over</td>\n",
       "      <td>1.5</td>\n",
       "    </tr>\n",
       "    <tr>\n",
       "      <th>2147</th>\n",
       "      <td>2014-09-07</td>\n",
       "      <td>St. Louis Rams</td>\n",
       "      <td>Minnesota Vikings</td>\n",
       "      <td>6</td>\n",
       "      <td>34</td>\n",
       "      <td>False</td>\n",
       "      <td>False</td>\n",
       "      <td>False</td>\n",
       "      <td>44.0</td>\n",
       "      <td>43.5</td>\n",
       "      <td>-105.0</td>\n",
       "      <td>-114.0</td>\n",
       "      <td>-105.0</td>\n",
       "      <td>103.0</td>\n",
       "      <td>40</td>\n",
       "      <td>2014</td>\n",
       "      <td>Under</td>\n",
       "      <td>Under</td>\n",
       "      <td>-0.5</td>\n",
       "    </tr>\n",
       "    <tr>\n",
       "      <th>2148</th>\n",
       "      <td>2014-09-04</td>\n",
       "      <td>Seattle Seahawks</td>\n",
       "      <td>Green Bay Packers</td>\n",
       "      <td>36</td>\n",
       "      <td>16</td>\n",
       "      <td>False</td>\n",
       "      <td>False</td>\n",
       "      <td>False</td>\n",
       "      <td>46.0</td>\n",
       "      <td>46.5</td>\n",
       "      <td>-105.0</td>\n",
       "      <td>-102.0</td>\n",
       "      <td>-105.0</td>\n",
       "      <td>-108.0</td>\n",
       "      <td>52</td>\n",
       "      <td>2014</td>\n",
       "      <td>Over</td>\n",
       "      <td>Over</td>\n",
       "      <td>0.5</td>\n",
       "    </tr>\n",
       "  </tbody>\n",
       "</table>\n",
       "<p>2149 rows × 19 columns</p>\n",
       "</div>"
      ],
      "text/plain": [
       "           Date             Home Team             Away Team  Home Score  \\\n",
       "0    2022-01-17      Los Angeles Rams     Arizona Cardinals          34   \n",
       "1    2022-01-16    Kansas City Chiefs   Pittsburgh Steelers          42   \n",
       "2    2022-01-16        Dallas Cowboys   San Francisco 49ers          17   \n",
       "3    2022-01-16  Tampa Bay Buccaneers   Philadelphia Eagles          31   \n",
       "4    2022-01-15         Buffalo Bills  New England Patriots          47   \n",
       "...         ...                   ...                   ...         ...   \n",
       "2144 2014-09-07         New York Jets       Oakland Raiders          19   \n",
       "2145 2014-09-07   Philadelphia Eagles  Jacksonville Jaguars          34   \n",
       "2146 2014-09-07   Pittsburgh Steelers      Cleveland Browns          30   \n",
       "2147 2014-09-07        St. Louis Rams     Minnesota Vikings           6   \n",
       "2148 2014-09-04      Seattle Seahawks     Green Bay Packers          36   \n",
       "\n",
       "      Away Score  Overtime?  Playoff Game?  Neutral Venue?  Total Score Open  \\\n",
       "0             11      False           True           False              50.5   \n",
       "1             21      False           True           False              46.5   \n",
       "2             23      False           True           False              50.5   \n",
       "3             15      False           True           False              49.0   \n",
       "4             17      False           True           False              43.5   \n",
       "...          ...        ...            ...             ...               ...   \n",
       "2144          14      False          False           False              39.5   \n",
       "2145          17      False          False           False              53.0   \n",
       "2146          27      False          False           False              40.0   \n",
       "2147          34      False          False           False              44.0   \n",
       "2148          16      False          False           False              46.0   \n",
       "\n",
       "      Total Score Close  Total Score Over ML Open  Total Score Over ML Close  \\\n",
       "0                  49.0                    -111.0                     -111.0   \n",
       "1                  47.0                    -111.0                     -111.0   \n",
       "2                  51.0                    -111.0                     -111.0   \n",
       "3                  47.0                    -111.0                     -111.0   \n",
       "4                  43.0                    -111.0                     -111.0   \n",
       "...                 ...                       ...                        ...   \n",
       "2144               41.0                    -109.0                     -105.0   \n",
       "2145               49.0                    -105.0                     -110.0   \n",
       "2146               41.5                    -117.0                     -106.0   \n",
       "2147               43.5                    -105.0                     -114.0   \n",
       "2148               46.5                    -105.0                     -102.0   \n",
       "\n",
       "      Total Score Under ML Open  Total Score Under ML Close  Total Score  \\\n",
       "0                        -111.0                      -111.0           45   \n",
       "1                        -111.0                      -111.0           63   \n",
       "2                        -111.0                      -111.0           40   \n",
       "3                        -111.0                      -111.0           46   \n",
       "4                        -111.0                      -111.0           64   \n",
       "...                         ...                         ...          ...   \n",
       "2144                     -101.0                      -105.0           33   \n",
       "2145                     -105.0                       100.0           51   \n",
       "2146                      106.0                      -104.0           57   \n",
       "2147                     -105.0                       103.0           40   \n",
       "2148                     -105.0                      -108.0           52   \n",
       "\n",
       "      Season Open Over/Under Result Closing Over/Under Result  \\\n",
       "0       2022                  Under                     Under   \n",
       "1       2022                   Over                      Over   \n",
       "2       2022                  Under                     Under   \n",
       "3       2022                  Under                     Under   \n",
       "4       2022                   Over                      Over   \n",
       "...      ...                    ...                       ...   \n",
       "2144    2014                  Under                     Under   \n",
       "2145    2014                  Under                      Over   \n",
       "2146    2014                   Over                      Over   \n",
       "2147    2014                  Under                     Under   \n",
       "2148    2014                   Over                      Over   \n",
       "\n",
       "      Total Score Shift  \n",
       "0                  -1.5  \n",
       "1                   0.5  \n",
       "2                   0.5  \n",
       "3                  -2.0  \n",
       "4                  -0.5  \n",
       "...                 ...  \n",
       "2144                1.5  \n",
       "2145               -4.0  \n",
       "2146                1.5  \n",
       "2147               -0.5  \n",
       "2148                0.5  \n",
       "\n",
       "[2149 rows x 19 columns]"
      ]
     },
     "execution_count": 123,
     "metadata": {},
     "output_type": "execute_result"
    }
   ],
   "source": [
    "# Does the shift matter? And does the shift usually go in the correct direction?\n",
    "\n",
    "def shift_effect(game):\n",
    "    if game['Open Over/Under Result'] == game['Closing Over/Under Result']:\n",
    "        effect = 'No effect'\n",
    "        \n",
    "    elif game['Open Over/Under Result'] == 'Under' and game['Closing Over/Under Result'] == 'Over':\n",
    "        effect = 'Under to Over'\n",
    "        \n",
    "    else:\n",
    "        effect = 'Over to Under'\n",
    "        \n",
    "    return effect\n",
    "\n",
    "def shift_correctness(game):\n",
    "    if game['Total Score Shift'] >= 0 and game['Closing Over/Under Result']\n",
    "    return \n",
    "over_under"
   ]
  },
  {
   "cell_type": "code",
   "execution_count": null,
   "metadata": {},
   "outputs": [],
   "source": []
  }
 ],
 "metadata": {
  "kernelspec": {
   "display_name": "Python 3",
   "language": "python",
   "name": "python3"
  },
  "language_info": {
   "codemirror_mode": {
    "name": "ipython",
    "version": 3
   },
   "file_extension": ".py",
   "mimetype": "text/x-python",
   "name": "python",
   "nbconvert_exporter": "python",
   "pygments_lexer": "ipython3",
   "version": "3.8.3"
  }
 },
 "nbformat": 4,
 "nbformat_minor": 4
}
